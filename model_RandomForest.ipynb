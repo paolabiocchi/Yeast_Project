{
 "cells": [
  {
   "cell_type": "code",
   "execution_count": null,
   "metadata": {},
   "outputs": [],
   "source": [
    "import pandas as pd\n",
    "import numpy as np\n",
    "from sklearn.model_selection import GridSearchCV\n",
    "from sklearn.ensemble import RandomForestRegressor\n",
    "from sklearn.metrics import mean_squared_error, r2_score\n",
    "import matplotlib.pyplot as plt\n",
    "from save_and_compare_results import *\n",
    "import shap"
   ]
  },
  {
   "cell_type": "code",
   "execution_count": null,
   "metadata": {},
   "outputs": [],
   "source": [
    "X = pd.read_pickle(\"X_matrix_proteins_nb.pkl\")\n",
    "Y = pd.read_pickle(\"Y_matrix_proteins_nb.pkl\")"
   ]
  },
  {
   "cell_type": "code",
   "execution_count": null,
   "metadata": {},
   "outputs": [],
   "source": [
    "# Preprocess the data\n",
    "X = X.drop(columns=[\"Yeast_ID\"]).fillna(0)\n",
    "Y = Y.drop(columns=[\"Yeast_ID\"]).fillna(Y.drop(columns=[\"Yeast_ID\"]).mean())"
   ]
  },
  {
   "cell_type": "code",
   "execution_count": null,
   "metadata": {},
   "outputs": [],
   "source": [
    "param_grid = {\n",
    "    \"n_estimators\": [100, 200, 500],  \n",
    "    \"max_depth\": [10, 30, None],      \n",
    "    \"min_samples_split\": [2, 5, 10], \n",
    "    \"min_samples_leaf\": [1, 2, 4],  \n",
    "    \"max_features\": [\"sqrt\", \"log2\", None] \n",
    "}\n",
    "\n",
    "rf = RandomForestRegressor(random_state=42)\n",
    "\n",
    "grid_search = GridSearchCV(\n",
    "    estimator=rf,\n",
    "    param_grid=param_grid,\n",
    "    scoring=\"r2\",\n",
    "    cv=5,\n",
    "    n_jobs=-1,\n",
    "    verbose=2\n",
    ")"
   ]
  },
  {
   "cell_type": "code",
   "execution_count": null,
   "metadata": {},
   "outputs": [],
   "source": [
    "print(\"Training of Random Forest with hyperparameters tuning\")\n",
    "grid_search.fit(X, Y.values.ravel())"
   ]
  },
  {
   "cell_type": "code",
   "execution_count": null,
   "metadata": {},
   "outputs": [],
   "source": [
    "best_rf = grid_search.best_estimator_\n",
    "best_params = grid_search.best_params_\n",
    "print(\"\\nBest hyperparameters :\", best_params)"
   ]
  },
  {
   "cell_type": "code",
   "execution_count": null,
   "metadata": {},
   "outputs": [],
   "source": [
    "y_pred = best_rf.predict(X)\n",
    "r2 = r2_score(Y, y_pred)\n",
    "mse = mean_squared_error(Y, y_pred)\n",
    "print(f\"\\nR² Score: {r2:.4f}, Mean Squared Error: {mse:.4f}\")"
   ]
  },
  {
   "cell_type": "markdown",
   "metadata": {},
   "source": [
    "# Model features importance"
   ]
  },
  {
   "cell_type": "code",
   "execution_count": null,
   "metadata": {},
   "outputs": [],
   "source": [
    "# Save feature importance from RF\n",
    "print(\"Saving RF feature importances...\")\n",
    "save_feature_importance(\n",
    "    features=X.columns,\n",
    "    importance_scores=best_rf.feature_importances_,\n",
    "    method=\"model\",\n",
    "    model_name=\"RandomForest\"\n",
    ")\n",
    "\n",
    "# Display and plot the top 10 features\n",
    "print(\"Displaying top 10 features...\")\n",
    "feature_importances_df = pd.DataFrame({\n",
    "    \"Feature\": X.columns,\n",
    "    \"Importance\": best_rf.feature_importances_\n",
    "}).sort_values(by=\"Importance\", ascending=False)\n",
    "\n",
    "top_features = feature_importances_df.head(10)\n",
    "\n",
    "print(\"\\nTop 10 Features Impacting YPD Doubling Time:\")\n",
    "print(top_features)\n",
    "\n",
    "plt.figure(figsize=(10, 6))\n",
    "plt.barh(top_features[\"Feature\"], top_features[\"Importance\"], color=\"skyblue\")\n",
    "plt.xlabel(\"Coefficient Value\")\n",
    "plt.ylabel(\"Feature\")\n",
    "plt.title(\"Top 10 Features (RF)\")\n",
    "plt.gca().invert_yaxis()\n",
    "plt.show()"
   ]
  },
  {
   "cell_type": "markdown",
   "metadata": {},
   "source": [
    "# SHAP features importance"
   ]
  },
  {
   "cell_type": "code",
   "execution_count": null,
   "metadata": {},
   "outputs": [],
   "source": [
    "print(\"Calcul of SHAP values...\")\n",
    "explainer = shap.Explainer(best_rf, X)\n",
    "shap_values = explainer(X)\n",
    "shap_mean_importance = np.abs(shap_values.values).mean(axis=0)\n",
    "\n",
    "# Sauvegarder les importances SHAP\n",
    "print(\"Saving SHAP feature importances for Random Forest...\")\n",
    "save_feature_importance(\n",
    "    features=X.columns,\n",
    "    importance_scores=shap_mean_importance,\n",
    "    method=\"SHAP\",\n",
    "    model_name=\"RandomForest\"\n",
    ")\n",
    "\n",
    "# %%\n",
    "# Graphiques SHAP\n",
    "print(\"Generating SHAP summary plots for RF...\")\n",
    "shap.summary_plot(shap_values, X, plot_type=\"bar\")\n",
    "shap.summary_plot(shap_values, X)"
   ]
  }
 ],
 "metadata": {
  "kernelspec": {
   "display_name": "base",
   "language": "python",
   "name": "python3"
  },
  "language_info": {
   "name": "python",
   "version": "3.9.12"
  }
 },
 "nbformat": 4,
 "nbformat_minor": 2
}
