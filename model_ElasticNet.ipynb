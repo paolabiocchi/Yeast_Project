{
 "cells": [
  {
   "cell_type": "code",
   "execution_count": null,
   "metadata": {},
   "outputs": [],
   "source": [
    "import pandas as pd\n",
    "import numpy as np\n",
    "from sklearn.model_selection import train_test_split, GridSearchCV\n",
    "from sklearn.linear_model import ElasticNet\n",
    "from sklearn.metrics import mean_squared_error, r2_score\n",
    "import shap\n",
    "import matplotlib.pyplot as plt\n",
    "from save_and_compare_results import *"
   ]
  },
  {
   "cell_type": "code",
   "execution_count": 2,
   "metadata": {},
   "outputs": [],
   "source": [
    "# Charger les données prétraitées\n",
    "X = pd.read_pickle(\"X_matrix_proteins_nb.pkl\")\n",
    "Y = pd.read_pickle(\"Y_matrix_proteins_nb.pkl\")"
   ]
  },
  {
   "cell_type": "code",
   "execution_count": null,
   "metadata": {},
   "outputs": [
    {
     "name": "stdout",
     "output_type": "stream",
     "text": [
      "Prétraitement des données...\n"
     ]
    }
   ],
   "source": [
    "# Preprocess the data\n",
    "X = X.drop(columns=[\"Yeast_ID\"]).fillna(0)\n",
    "Y = Y.drop(columns=[\"Yeast_ID\"]).fillna(Y.drop(columns=[\"Yeast_ID\"]).mean())"
   ]
  },
  {
   "cell_type": "code",
   "execution_count": null,
   "metadata": {},
   "outputs": [],
   "source": [
    "# Define the hyperparameter grid\n",
    "param_grid = {\n",
    "    \"alpha\": [0.05, 0.1, 0.2],  # Regularization strength\n",
    "    \"l1_ratio\": [0.7, 0.9, 1.0],  # Mix between L1 (LASSO) and L2 (Ridge)\n",
    "}"
   ]
  },
  {
   "cell_type": "code",
   "execution_count": null,
   "metadata": {},
   "outputs": [],
   "source": [
    "# Initialize ElasticNet\n",
    "elastic_net = ElasticNet(max_iter=10000, random_state=42)\n",
    "\n",
    "# GridSearchCV\n",
    "print(\"Running hyperparameter tuning...\")\n",
    "grid_search = GridSearchCV(\n",
    "    estimator=elastic_net,\n",
    "    param_grid=param_grid,\n",
    "    cv=5,\n",
    "    scoring=\"r2\",\n",
    "    verbose=2,\n",
    "    n_jobs=-1\n",
    ")"
   ]
  },
  {
   "cell_type": "code",
   "execution_count": null,
   "metadata": {},
   "outputs": [],
   "source": [
    "# Fit to the data\n",
    "grid_search.fit(X, Y.values.ravel())\n",
    "\n",
    "# Get the best model and parameters\n",
    "best_elastic_net = grid_search.best_estimator_\n",
    "best_params = grid_search.best_params_\n",
    "print(\"\\nBest hyperparameters:\", best_params)"
   ]
  },
  {
   "cell_type": "code",
   "execution_count": null,
   "metadata": {},
   "outputs": [],
   "source": [
    "# Evaluate the best model\n",
    "y_pred = best_elastic_net.predict(X)\n",
    "r2 = r2_score(Y, y_pred)\n",
    "mse = mean_squared_error(Y, y_pred)\n",
    "print(f\"\\nR² Score: {r2:.4f}, Mean Squared Error: {mse:.4f}\")"
   ]
  },
  {
   "cell_type": "markdown",
   "metadata": {},
   "source": [
    "# Model features importance"
   ]
  },
  {
   "cell_type": "code",
   "execution_count": null,
   "metadata": {},
   "outputs": [],
   "source": [
    "# Save feature importance from ElasticNet\n",
    "print(\"Saving ElasticNet feature importances...\")\n",
    "save_feature_importance(\n",
    "    features=X.columns,\n",
    "    importance_scores=best_elastic_net.coef_,\n",
    "    method=\"model\",\n",
    "    model_name=\"ElasticNet\"\n",
    ")\n",
    "\n",
    "# Display and plot the top 10 features\n",
    "print(\"Displaying top 10 features...\")\n",
    "feature_importances_df = pd.DataFrame({\n",
    "    \"Feature\": X.columns,\n",
    "    \"Importance\": best_elastic_net.coef_\n",
    "}).sort_values(by=\"Importance\", ascending=False)\n",
    "\n",
    "top_features = feature_importances_df.head(10)\n",
    "\n",
    "print(\"\\nTop 10 Features Impacting YPD Doubling Time:\")\n",
    "print(top_features)\n",
    "\n",
    "plt.figure(figsize=(10, 6))\n",
    "plt.barh(top_features[\"Feature\"], top_features[\"Importance\"], color=\"skyblue\")\n",
    "plt.xlabel(\"Coefficient Value\")\n",
    "plt.ylabel(\"Feature\")\n",
    "plt.title(\"Top 10 Features (ElasticNet)\")\n",
    "plt.gca().invert_yaxis()\n",
    "plt.show()"
   ]
  },
  {
   "cell_type": "markdown",
   "metadata": {},
   "source": [
    "# SHAP features importance"
   ]
  },
  {
   "cell_type": "code",
   "execution_count": null,
   "metadata": {},
   "outputs": [],
   "source": [
    "# Create a SHAP explainer for ElasticNet\n",
    "explainer = shap.Explainer(best_elastic_net, X)\n",
    "\n",
    "# Calculate SHAP values\n",
    "print(\"Calculating SHAP values for ElasticNet...\")\n",
    "shap_values = explainer(X)\n",
    "\n",
    "# Save SHAP feature importance\n",
    "shap_mean_importance = np.abs(shap_values.values).mean(axis=0)\n",
    "\n",
    "print(\"Saving SHAP feature importances for ElasticNet...\")\n",
    "save_feature_importance(\n",
    "    features=X.columns,\n",
    "    importance_scores=shap_mean_importance,\n",
    "    method=\"SHAP\",\n",
    "    model_name=\"ElasticNet\"\n",
    ")\n",
    "\n",
    "# Generate SHAP summary plots\n",
    "print(\"Generating SHAP summary plots for ElasticNet...\")\n",
    "shap.summary_plot(shap_values, X, plot_type=\"bar\")\n",
    "shap.summary_plot(shap_values, X)"
   ]
  }
 ],
 "metadata": {
  "kernelspec": {
   "display_name": "base",
   "language": "python",
   "name": "python3"
  },
  "language_info": {
   "codemirror_mode": {
    "name": "ipython",
    "version": 3
   },
   "file_extension": ".py",
   "mimetype": "text/x-python",
   "name": "python",
   "nbconvert_exporter": "python",
   "pygments_lexer": "ipython3",
   "version": "3.9.12"
  }
 },
 "nbformat": 4,
 "nbformat_minor": 2
}
