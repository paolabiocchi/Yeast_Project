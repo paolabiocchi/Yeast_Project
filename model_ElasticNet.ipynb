{
 "cells": [
  {
   "cell_type": "code",
   "execution_count": 2,
   "metadata": {},
   "outputs": [],
   "source": [
    "import pandas as pd\n",
    "import numpy as np\n",
    "from sklearn.model_selection import train_test_split, GridSearchCV\n",
    "from sklearn.linear_model import ElasticNet\n",
    "from sklearn.metrics import mean_squared_error, r2_score\n",
    "import matplotlib.pyplot as plt"
   ]
  },
  {
   "cell_type": "code",
   "execution_count": 16,
   "metadata": {},
   "outputs": [],
   "source": [
    "# Charger les données prétraitées\n",
    "X = pd.read_pickle(\"X_matrix_proteins_nb.pkl\")\n",
    "Y = pd.read_pickle(\"Y_matrix_proteins_nb.pkl\")"
   ]
  },
  {
   "cell_type": "code",
   "execution_count": 17,
   "metadata": {},
   "outputs": [
    {
     "name": "stdout",
     "output_type": "stream",
     "text": [
      "Prétraitement des données...\n"
     ]
    }
   ],
   "source": [
    "print(\"Prétraitement des données...\")\n",
    "X = X.drop(columns=[\"Yeast_ID\"]).fillna(0)\n",
    "Y = Y.drop(columns=[\"Yeast_ID\"]).fillna(Y.drop(columns=[\"Yeast_ID\"]).mean())"
   ]
  },
  {
   "cell_type": "code",
   "execution_count": 18,
   "metadata": {},
   "outputs": [
    {
     "name": "stdout",
     "output_type": "stream",
     "text": [
      "Division des données en ensembles d'entraînement et de test...\n",
      "Dimensions de X_train : (594, 12542), X_test : (198, 12542)\n",
      "Dimensions de y_train : (594, 1), y_test : (198, 1)\n"
     ]
    }
   ],
   "source": [
    "# Diviser les données en ensembles d'entraînement et de test\n",
    "print(\"Division des données en ensembles d'entraînement et de test...\")\n",
    "X_train, X_test, y_train, y_test = train_test_split(X, Y, test_size=0.25, random_state=42, shuffle=True)\n",
    "\n",
    "print(f\"Dimensions de X_train : {X_train.shape}, X_test : {X_test.shape}\")\n",
    "print(f\"Dimensions de y_train : {y_train.shape}, y_test : {y_test.shape}\")"
   ]
  },
  {
   "cell_type": "code",
   "execution_count": 19,
   "metadata": {},
   "outputs": [],
   "source": [
    "# Définir une fonction pour entraîner ElasticNet\n",
    "def train_elasticnet(X_train, y_train, X_test, y_test):\n",
    "    \"\"\"\n",
    "    Entraîne un modèle ElasticNet et évalue ses performances.\n",
    "    \"\"\"\n",
    "    # Définir les hyperparamètres à rechercher\n",
    "    param_grid = {\n",
    "        \"alpha\": [0.05,0.1, 0.2, 0.5, 1.0], #, 5.0, 10.0],  # Paramètre de régularisation\n",
    "        \"l1_ratio\": [0.05, 0.1, 0.2,  0.5, 0.7], #, 0.9, 1.0],  # Ratio entre L1 (LASSO) et L2 (Ridge)\n",
    "    }\n",
    "\n",
    "    # Initialiser ElasticNet avec un nombre d'itérations maximal élevé\n",
    "    elastic_net = ElasticNet(max_iter=10000, random_state=42)\n",
    "\n",
    "    # Utiliser GridSearchCV pour trouver les meilleurs hyperparamètres\n",
    "    grid_search = GridSearchCV(estimator=elastic_net, param_grid=param_grid, cv=5, scoring=\"r2\", verbose=2, n_jobs=-1)\n",
    "    grid_search.fit(X_train, y_train.values.ravel())  # y_train.values.ravel() pour une sortie compatible avec ElasticNet\n",
    "\n",
    "    # Meilleur modèle trouvé\n",
    "    best_model = grid_search.best_estimator_\n",
    "\n",
    "    # Prédictions sur les ensembles d'entraînement et de test\n",
    "    y_train_pred = best_model.predict(X_train)\n",
    "    y_test_pred = best_model.predict(X_test)\n",
    "\n",
    "    # Évaluer les performances\n",
    "    train_r2 = r2_score(y_train, y_train_pred)\n",
    "    test_r2 = r2_score(y_test, y_test_pred)\n",
    "    train_mse = mean_squared_error(y_train, y_train_pred)\n",
    "    test_mse = mean_squared_error(y_test, y_test_pred)\n",
    "\n",
    "    print(\"\\nMeilleurs hyperparamètres :\", grid_search.best_params_)\n",
    "    print(\"R² Score (train):\", train_r2)\n",
    "    print(\"R² Score (test):\", test_r2)\n",
    "    print(\"Mean Squared Error (train):\", train_mse)\n",
    "    print(\"Mean Squared Error (test):\", test_mse)\n",
    "\n",
    "    return best_model, y_train_pred, y_test_pred"
   ]
  },
  {
   "cell_type": "code",
   "execution_count": 20,
   "metadata": {},
   "outputs": [
    {
     "name": "stdout",
     "output_type": "stream",
     "text": [
      "Entraînement du modèle ElasticNet...\n",
      "Fitting 5 folds for each of 25 candidates, totalling 125 fits\n"
     ]
    },
    {
     "name": "stderr",
     "output_type": "stream",
     "text": [
      "/Users/claradelandre/opt/anaconda3/lib/python3.9/site-packages/sklearn/linear_model/_coordinate_descent.py:647: ConvergenceWarning: Objective did not converge. You might want to increase the number of iterations, check the scale of the features or consider increasing regularisation. Duality gap: 2.603e-01, tolerance: 1.923e-03\n",
      "  model = cd_fast.enet_coordinate_descent(\n"
     ]
    },
    {
     "name": "stdout",
     "output_type": "stream",
     "text": [
      "[CV] END ..........................alpha=0.05, l1_ratio=0.05; total time= 1.3min\n"
     ]
    },
    {
     "name": "stderr",
     "output_type": "stream",
     "text": [
      "/Users/claradelandre/opt/anaconda3/lib/python3.9/site-packages/sklearn/linear_model/_coordinate_descent.py:647: ConvergenceWarning: Objective did not converge. You might want to increase the number of iterations, check the scale of the features or consider increasing regularisation. Duality gap: 7.634e-02, tolerance: 1.923e-03\n",
      "  model = cd_fast.enet_coordinate_descent(\n"
     ]
    },
    {
     "name": "stdout",
     "output_type": "stream",
     "text": [
      "[CV] END ...........................alpha=0.05, l1_ratio=0.1; total time= 1.6min\n"
     ]
    },
    {
     "name": "stderr",
     "output_type": "stream",
     "text": [
      "/Users/claradelandre/opt/anaconda3/lib/python3.9/site-packages/sklearn/linear_model/_coordinate_descent.py:647: ConvergenceWarning: Objective did not converge. You might want to increase the number of iterations, check the scale of the features or consider increasing regularisation. Duality gap: 1.652e-01, tolerance: 2.700e-03\n",
      "  model = cd_fast.enet_coordinate_descent(\n"
     ]
    },
    {
     "name": "stdout",
     "output_type": "stream",
     "text": [
      "[CV] END ..........................alpha=0.05, l1_ratio=0.05; total time= 1.9min\n"
     ]
    },
    {
     "name": "stderr",
     "output_type": "stream",
     "text": [
      "/Users/claradelandre/opt/anaconda3/lib/python3.9/site-packages/sklearn/linear_model/_coordinate_descent.py:647: ConvergenceWarning: Objective did not converge. You might want to increase the number of iterations, check the scale of the features or consider increasing regularisation. Duality gap: 2.724e-02, tolerance: 2.700e-03\n",
      "  model = cd_fast.enet_coordinate_descent(\n"
     ]
    },
    {
     "name": "stdout",
     "output_type": "stream",
     "text": [
      "[CV] END ...........................alpha=0.05, l1_ratio=0.1; total time= 2.0min\n"
     ]
    },
    {
     "name": "stderr",
     "output_type": "stream",
     "text": [
      "/Users/claradelandre/opt/anaconda3/lib/python3.9/site-packages/sklearn/linear_model/_coordinate_descent.py:647: ConvergenceWarning: Objective did not converge. You might want to increase the number of iterations, check the scale of the features or consider increasing regularisation. Duality gap: 6.774e-02, tolerance: 2.549e-03\n",
      "  model = cd_fast.enet_coordinate_descent(\n"
     ]
    },
    {
     "name": "stdout",
     "output_type": "stream",
     "text": [
      "[CV] END ...........................alpha=0.05, l1_ratio=0.1; total time= 2.0min\n"
     ]
    },
    {
     "name": "stderr",
     "output_type": "stream",
     "text": [
      "/Users/claradelandre/opt/anaconda3/lib/python3.9/site-packages/sklearn/linear_model/_coordinate_descent.py:647: ConvergenceWarning: Objective did not converge. You might want to increase the number of iterations, check the scale of the features or consider increasing regularisation. Duality gap: 2.631e-01, tolerance: 2.549e-03\n",
      "  model = cd_fast.enet_coordinate_descent(\n"
     ]
    },
    {
     "name": "stdout",
     "output_type": "stream",
     "text": [
      "[CV] END ..........................alpha=0.05, l1_ratio=0.05; total time= 2.0min\n"
     ]
    },
    {
     "name": "stderr",
     "output_type": "stream",
     "text": [
      "/Users/claradelandre/opt/anaconda3/lib/python3.9/site-packages/sklearn/linear_model/_coordinate_descent.py:647: ConvergenceWarning: Objective did not converge. You might want to increase the number of iterations, check the scale of the features or consider increasing regularisation. Duality gap: 2.229e-01, tolerance: 2.581e-03\n",
      "  model = cd_fast.enet_coordinate_descent(\n"
     ]
    },
    {
     "name": "stdout",
     "output_type": "stream",
     "text": [
      "[CV] END ..........................alpha=0.05, l1_ratio=0.05; total time= 2.1min\n"
     ]
    },
    {
     "name": "stderr",
     "output_type": "stream",
     "text": [
      "/Users/claradelandre/opt/anaconda3/lib/python3.9/site-packages/sklearn/linear_model/_coordinate_descent.py:647: ConvergenceWarning: Objective did not converge. You might want to increase the number of iterations, check the scale of the features or consider increasing regularisation. Duality gap: 1.630e-01, tolerance: 2.842e-03\n",
      "  model = cd_fast.enet_coordinate_descent(\n"
     ]
    },
    {
     "name": "stdout",
     "output_type": "stream",
     "text": [
      "[CV] END ..........................alpha=0.05, l1_ratio=0.05; total time= 2.2min\n",
      "[CV] END ...........................alpha=0.05, l1_ratio=0.5; total time=  14.8s\n",
      "[CV] END ...........................alpha=0.05, l1_ratio=0.5; total time=  16.5s\n",
      "[CV] END ...........................alpha=0.05, l1_ratio=0.2; total time=  47.6s\n",
      "[CV] END ...........................alpha=0.05, l1_ratio=0.5; total time=   7.7s\n",
      "[CV] END ...........................alpha=0.05, l1_ratio=0.5; total time=  18.5s\n",
      "[CV] END ...........................alpha=0.05, l1_ratio=0.7; total time=   5.8s\n",
      "[CV] END ...........................alpha=0.05, l1_ratio=0.5; total time=  24.2s\n"
     ]
    },
    {
     "name": "stderr",
     "output_type": "stream",
     "text": [
      "/Users/claradelandre/opt/anaconda3/lib/python3.9/site-packages/sklearn/linear_model/_coordinate_descent.py:647: ConvergenceWarning: Objective did not converge. You might want to increase the number of iterations, check the scale of the features or consider increasing regularisation. Duality gap: 9.710e-02, tolerance: 2.581e-03\n",
      "  model = cd_fast.enet_coordinate_descent(\n"
     ]
    },
    {
     "name": "stdout",
     "output_type": "stream",
     "text": [
      "[CV] END ...........................alpha=0.05, l1_ratio=0.1; total time= 2.0min\n",
      "[CV] END ...........................alpha=0.05, l1_ratio=0.2; total time= 1.3min\n",
      "[CV] END ...........................alpha=0.05, l1_ratio=0.7; total time=   5.4s\n",
      "[CV] END ...........................alpha=0.05, l1_ratio=0.7; total time=   3.9s\n",
      "[CV] END ...........................alpha=0.05, l1_ratio=0.2; total time= 1.4min\n",
      "[CV] END ...........................alpha=0.05, l1_ratio=0.7; total time=   6.2s\n",
      "[CV] END ...........................alpha=0.05, l1_ratio=0.7; total time=   7.0s\n",
      "[CV] END ...........................alpha=0.05, l1_ratio=0.2; total time= 1.3min\n",
      "[CV] END ...........................alpha=0.05, l1_ratio=0.2; total time= 1.5min\n"
     ]
    },
    {
     "name": "stderr",
     "output_type": "stream",
     "text": [
      "/Users/claradelandre/opt/anaconda3/lib/python3.9/site-packages/sklearn/linear_model/_coordinate_descent.py:647: ConvergenceWarning: Objective did not converge. You might want to increase the number of iterations, check the scale of the features or consider increasing regularisation. Duality gap: 1.873e-02, tolerance: 2.842e-03\n",
      "  model = cd_fast.enet_coordinate_descent(\n"
     ]
    },
    {
     "name": "stdout",
     "output_type": "stream",
     "text": [
      "[CV] END ...........................alpha=0.05, l1_ratio=0.1; total time= 2.3min\n",
      "[CV] END ............................alpha=0.1, l1_ratio=0.1; total time=  56.1s\n",
      "[CV] END ............................alpha=0.1, l1_ratio=0.1; total time= 1.5min\n"
     ]
    },
    {
     "name": "stderr",
     "output_type": "stream",
     "text": [
      "/Users/claradelandre/opt/anaconda3/lib/python3.9/site-packages/sklearn/linear_model/_coordinate_descent.py:647: ConvergenceWarning: Objective did not converge. You might want to increase the number of iterations, check the scale of the features or consider increasing regularisation. Duality gap: 4.460e-02, tolerance: 1.923e-03\n",
      "  model = cd_fast.enet_coordinate_descent(\n"
     ]
    },
    {
     "name": "stdout",
     "output_type": "stream",
     "text": [
      "[CV] END ...........................alpha=0.1, l1_ratio=0.05; total time= 1.6min\n",
      "[CV] END ............................alpha=0.1, l1_ratio=0.1; total time= 1.6min\n"
     ]
    },
    {
     "name": "stderr",
     "output_type": "stream",
     "text": [
      "/Users/claradelandre/opt/anaconda3/lib/python3.9/site-packages/sklearn/linear_model/_coordinate_descent.py:647: ConvergenceWarning: Objective did not converge. You might want to increase the number of iterations, check the scale of the features or consider increasing regularisation. Duality gap: 1.319e-01, tolerance: 2.549e-03\n",
      "  model = cd_fast.enet_coordinate_descent(\n"
     ]
    },
    {
     "name": "stdout",
     "output_type": "stream",
     "text": [
      "[CV] END ...........................alpha=0.1, l1_ratio=0.05; total time= 1.7min\n"
     ]
    },
    {
     "name": "stderr",
     "output_type": "stream",
     "text": [
      "/Users/claradelandre/opt/anaconda3/lib/python3.9/site-packages/sklearn/linear_model/_coordinate_descent.py:647: ConvergenceWarning: Objective did not converge. You might want to increase the number of iterations, check the scale of the features or consider increasing regularisation. Duality gap: 1.348e-01, tolerance: 2.581e-03\n",
      "  model = cd_fast.enet_coordinate_descent(\n"
     ]
    },
    {
     "name": "stdout",
     "output_type": "stream",
     "text": [
      "[CV] END ...........................alpha=0.1, l1_ratio=0.05; total time= 1.8min\n"
     ]
    },
    {
     "name": "stderr",
     "output_type": "stream",
     "text": [
      "/Users/claradelandre/opt/anaconda3/lib/python3.9/site-packages/sklearn/linear_model/_coordinate_descent.py:647: ConvergenceWarning: Objective did not converge. You might want to increase the number of iterations, check the scale of the features or consider increasing regularisation. Duality gap: 6.148e-02, tolerance: 2.700e-03\n",
      "  model = cd_fast.enet_coordinate_descent(\n"
     ]
    },
    {
     "name": "stdout",
     "output_type": "stream",
     "text": [
      "[CV] END ...........................alpha=0.1, l1_ratio=0.05; total time= 1.9min\n",
      "[CV] END ............................alpha=0.1, l1_ratio=0.2; total time=  12.9s\n",
      "[CV] END ............................alpha=0.1, l1_ratio=0.5; total time=   2.2s\n",
      "[CV] END ............................alpha=0.1, l1_ratio=0.5; total time=   2.0s\n",
      "[CV] END ............................alpha=0.1, l1_ratio=0.5; total time=   1.7s\n",
      "[CV] END ............................alpha=0.1, l1_ratio=0.5; total time=   2.1s\n",
      "[CV] END ............................alpha=0.1, l1_ratio=0.2; total time=  27.4s\n",
      "[CV] END ............................alpha=0.1, l1_ratio=0.7; total time=   1.3s\n",
      "[CV] END ............................alpha=0.1, l1_ratio=0.5; total time=   2.6s\n",
      "[CV] END ............................alpha=0.1, l1_ratio=0.7; total time=   1.5s\n",
      "[CV] END ............................alpha=0.1, l1_ratio=0.7; total time=   0.6s\n",
      "[CV] END ............................alpha=0.1, l1_ratio=0.7; total time=   1.2s\n",
      "[CV] END ............................alpha=0.1, l1_ratio=0.2; total time=  26.7s\n",
      "[CV] END ............................alpha=0.1, l1_ratio=0.7; total time=   1.7s\n"
     ]
    },
    {
     "name": "stderr",
     "output_type": "stream",
     "text": [
      "/Users/claradelandre/opt/anaconda3/lib/python3.9/site-packages/sklearn/linear_model/_coordinate_descent.py:647: ConvergenceWarning: Objective did not converge. You might want to increase the number of iterations, check the scale of the features or consider increasing regularisation. Duality gap: 1.147e-02, tolerance: 2.842e-03\n",
      "  model = cd_fast.enet_coordinate_descent(\n"
     ]
    },
    {
     "name": "stdout",
     "output_type": "stream",
     "text": [
      "[CV] END ...........................alpha=0.1, l1_ratio=0.05; total time= 2.2min\n",
      "[CV] END ............................alpha=0.1, l1_ratio=0.2; total time=  28.9s\n",
      "[CV] END ............................alpha=0.1, l1_ratio=0.2; total time=  33.4s\n",
      "[CV] END ............................alpha=0.2, l1_ratio=0.1; total time=  26.1s\n",
      "[CV] END ............................alpha=0.1, l1_ratio=0.1; total time= 1.3min\n",
      "[CV] END ............................alpha=0.1, l1_ratio=0.1; total time= 1.4min\n",
      "[CV] END ............................alpha=0.2, l1_ratio=0.1; total time=  12.6s\n",
      "[CV] END ...........................alpha=0.2, l1_ratio=0.05; total time= 1.0min\n",
      "[CV] END ............................alpha=0.2, l1_ratio=0.2; total time=   3.8s\n",
      "[CV] END ............................alpha=0.2, l1_ratio=0.2; total time=   3.7s\n",
      "[CV] END ............................alpha=0.2, l1_ratio=0.2; total time=   2.7s\n",
      "[CV] END ............................alpha=0.2, l1_ratio=0.1; total time=  30.3s\n",
      "[CV] END ............................alpha=0.2, l1_ratio=0.2; total time=   4.1s\n",
      "[CV] END ............................alpha=0.2, l1_ratio=0.1; total time=  29.4s\n",
      "[CV] END ............................alpha=0.2, l1_ratio=0.5; total time=   1.0s\n",
      "[CV] END ............................alpha=0.2, l1_ratio=0.2; total time=   4.4s\n",
      "[CV] END ............................alpha=0.2, l1_ratio=0.5; total time=   0.6s\n",
      "[CV] END ............................alpha=0.2, l1_ratio=0.5; total time=   0.5s\n",
      "[CV] END ............................alpha=0.2, l1_ratio=0.5; total time=   0.8s\n",
      "[CV] END ............................alpha=0.2, l1_ratio=0.7; total time=   0.6s\n",
      "[CV] END ............................alpha=0.2, l1_ratio=0.5; total time=   0.8s\n",
      "[CV] END ............................alpha=0.2, l1_ratio=0.7; total time=   0.6s\n",
      "[CV] END ............................alpha=0.2, l1_ratio=0.7; total time=   0.5s\n",
      "[CV] END ............................alpha=0.2, l1_ratio=0.7; total time=   0.5s\n",
      "[CV] END ............................alpha=0.2, l1_ratio=0.7; total time=   0.5s\n",
      "[CV] END ...........................alpha=0.5, l1_ratio=0.05; total time=   7.4s\n",
      "[CV] END ...........................alpha=0.2, l1_ratio=0.05; total time= 1.5min\n",
      "[CV] END ...........................alpha=0.5, l1_ratio=0.05; total time=  13.9s\n",
      "[CV] END ...........................alpha=0.2, l1_ratio=0.05; total time= 1.4min\n",
      "[CV] END ............................alpha=0.5, l1_ratio=0.1; total time=   2.1s\n",
      "[CV] END ............................alpha=0.5, l1_ratio=0.1; total time=   2.0s\n",
      "[CV] END ............................alpha=0.5, l1_ratio=0.1; total time=   1.5s\n",
      "[CV] END ...........................alpha=0.5, l1_ratio=0.05; total time=  17.7s\n",
      "[CV] END ...........................alpha=0.2, l1_ratio=0.05; total time= 1.6min\n",
      "[CV] END ............................alpha=0.2, l1_ratio=0.1; total time=  37.8s\n",
      "[CV] END ............................alpha=0.5, l1_ratio=0.2; total time=   0.9s\n",
      "[CV] END ............................alpha=0.5, l1_ratio=0.2; total time=   0.6s\n",
      "[CV] END ............................alpha=0.5, l1_ratio=0.2; total time=   0.6s\n",
      "[CV] END ............................alpha=0.5, l1_ratio=0.1; total time=   2.1s\n",
      "[CV] END ............................alpha=0.5, l1_ratio=0.5; total time=   0.4s\n",
      "[CV] END ............................alpha=0.5, l1_ratio=0.2; total time=   0.7s\n",
      "[CV] END ............................alpha=0.5, l1_ratio=0.5; total time=   0.6s\n",
      "[CV] END ............................alpha=0.5, l1_ratio=0.1; total time=   2.3s\n",
      "[CV] END ............................alpha=0.5, l1_ratio=0.2; total time=   0.8s\n",
      "[CV] END ............................alpha=0.5, l1_ratio=0.5; total time=   0.4s\n",
      "[CV] END ............................alpha=0.5, l1_ratio=0.5; total time=   0.4s\n",
      "[CV] END ...........................alpha=0.2, l1_ratio=0.05; total time= 1.5min\n",
      "[CV] END ............................alpha=0.5, l1_ratio=0.5; total time=   0.4s\n",
      "[CV] END ............................alpha=0.5, l1_ratio=0.7; total time=   0.3s\n",
      "[CV] END ............................alpha=0.5, l1_ratio=0.7; total time=   0.3s\n",
      "[CV] END ............................alpha=0.5, l1_ratio=0.7; total time=   0.3s\n",
      "[CV] END ............................alpha=0.5, l1_ratio=0.7; total time=   0.4s\n",
      "[CV] END ............................alpha=0.5, l1_ratio=0.7; total time=   0.9s\n",
      "[CV] END ...........................alpha=1.0, l1_ratio=0.05; total time=   1.5s\n",
      "[CV] END ............................alpha=1.0, l1_ratio=0.1; total time=   1.0s\n",
      "[CV] END ...........................alpha=1.0, l1_ratio=0.05; total time=   2.0s\n",
      "[CV] END ...........................alpha=1.0, l1_ratio=0.05; total time=   2.0s\n",
      "[CV] END ............................alpha=1.0, l1_ratio=0.1; total time=   0.5s\n",
      "[CV] END ...........................alpha=1.0, l1_ratio=0.05; total time=   2.0s\n",
      "[CV] END ............................alpha=1.0, l1_ratio=0.1; total time=   0.6s\n",
      "[CV] END ...........................alpha=1.0, l1_ratio=0.05; total time=   2.2s\n",
      "[CV] END ............................alpha=1.0, l1_ratio=0.1; total time=   0.6s\n",
      "[CV] END ............................alpha=1.0, l1_ratio=0.2; total time=   0.4s\n",
      "[CV] END ............................alpha=1.0, l1_ratio=0.2; total time=   0.4s\n",
      "[CV] END ............................alpha=1.0, l1_ratio=0.2; total time=   0.5s\n",
      "[CV] END ............................alpha=1.0, l1_ratio=0.1; total time=   0.7s\n",
      "[CV] END ............................alpha=1.0, l1_ratio=0.2; total time=   0.4s\n",
      "[CV] END ............................alpha=1.0, l1_ratio=0.2; total time=   0.4s\n",
      "[CV] END ............................alpha=1.0, l1_ratio=0.5; total time=   0.3s\n",
      "[CV] END ............................alpha=1.0, l1_ratio=0.5; total time=   0.4s\n",
      "[CV] END ............................alpha=1.0, l1_ratio=0.5; total time=   0.4s\n",
      "[CV] END ............................alpha=1.0, l1_ratio=0.7; total time=   0.3s\n",
      "[CV] END ............................alpha=1.0, l1_ratio=0.5; total time=   0.3s\n",
      "[CV] END ............................alpha=1.0, l1_ratio=0.7; total time=   0.3s\n",
      "[CV] END ............................alpha=1.0, l1_ratio=0.5; total time=   0.8s\n",
      "[CV] END ............................alpha=1.0, l1_ratio=0.7; total time=   0.3s\n",
      "[CV] END ............................alpha=1.0, l1_ratio=0.7; total time=   0.3s\n",
      "[CV] END ............................alpha=1.0, l1_ratio=0.7; total time=   0.3s\n",
      "[CV] END ...........................alpha=0.5, l1_ratio=0.05; total time=  16.2s\n",
      "[CV] END ...........................alpha=0.5, l1_ratio=0.05; total time=  13.5s\n",
      "\n",
      "Meilleurs hyperparamètres : {'alpha': 0.1, 'l1_ratio': 0.7}\n",
      "R² Score (train): 0.12313174486103562\n",
      "R² Score (test): -0.03605334682165817\n",
      "Mean Squared Error (train): 0.046510113135488265\n",
      "Mean Squared Error (test): 0.04175225491313498\n"
     ]
    }
   ],
   "source": [
    "# Entraîner ElasticNet \n",
    "print(\"Entraînement du modèle ElasticNet...\")\n",
    "best_model, y_train_pred, y_test_pred = train_elasticnet(X_train, y_train, X_test, y_test)"
   ]
  },
  {
   "cell_type": "code",
   "execution_count": 21,
   "metadata": {},
   "outputs": [
    {
     "name": "stdout",
     "output_type": "stream",
     "text": [
      "ElasticNet(alpha=0.1, l1_ratio=0.7, max_iter=10000, random_state=42)\n"
     ]
    }
   ],
   "source": [
    "print(best_model)"
   ]
  },
  {
   "cell_type": "code",
   "execution_count": 22,
   "metadata": {},
   "outputs": [
    {
     "data": {
      "image/png": "[encoded data removed]",
      "text/plain": [
       "<Figure size 720x432 with 1 Axes>"
      ]
     },
     "metadata": {
      "needs_background": "light"
     },
     "output_type": "display_data"
    }
   ],
   "source": [
    "# Visualiser les prédictions vs valeurs réelles\n",
    "plt.figure(figsize=(10, 6))\n",
    "plt.scatter(y_test, y_test_pred, color=\"blue\", label=\"Valeurs prédites\")\n",
    "plt.plot([y_test.min(), y_test.max()], [y_test.min(), y_test.max()], \"r--\", label=\"Valeurs réelles\")\n",
    "plt.xlabel(\"Valeurs réelles (y_test)\")\n",
    "plt.ylabel(\"Valeurs prédites (y_pred)\")\n",
    "plt.title(\"ElasticNet : Comparaison des valeurs réelles et prédites\")\n",
    "plt.legend()\n",
    "plt.grid()\n",
    "plt.show()"
   ]
  },
  {
   "cell_type": "code",
   "execution_count": 23,
   "metadata": {},
   "outputs": [
    {
     "name": "stdout",
     "output_type": "stream",
     "text": [
      "\n",
      "Affichage des coefficients importants...\n",
      "\n",
      "Top 10 des coefficients les plus importants :\n",
      "YCL014W      0.003542\n",
      "YDR483W      0.003139\n",
      "YDR420W      0.002293\n",
      "YOR384W      0.002007\n",
      "YCR067C      0.001172\n",
      "YPR115W      0.000862\n",
      "YGL255W      0.000854\n",
      "YHL045W      0.000823\n",
      "YJL056C      0.000782\n",
      "YLR154W-F    0.000388\n",
      "YPL158C      0.000353\n",
      "YLR454W      0.000339\n",
      "YEL025C      0.000319\n",
      "YMR219W      0.000140\n",
      "YMR265C      0.000095\n",
      "dtype: float64\n"
     ]
    }
   ],
   "source": [
    "# Afficher les coefficients importants\n",
    "print(\"\\nAffichage des coefficients importants...\")\n",
    "coefficients = pd.Series(best_model.coef_, index=X_train.columns)\n",
    "coefficients_sorted = coefficients.sort_values(ascending=False)\n",
    "top_features = coefficients_sorted.head(15)\n",
    "print(\"\\nTop 10 des coefficients les plus importants :\")\n",
    "print(top_features)"
   ]
  },
  {
   "cell_type": "code",
   "execution_count": 24,
   "metadata": {},
   "outputs": [
    {
     "data": {
      "image/png": "[encoded data removed]",
      "text/plain": [
       "<Figure size 720x432 with 1 Axes>"
      ]
     },
     "metadata": {
      "needs_background": "light"
     },
     "output_type": "display_data"
    }
   ],
   "source": [
    "# Visualiser les coefficients importants\n",
    "plt.figure(figsize=(10, 6))\n",
    "top_features.plot(kind=\"bar\", color=\"orange\")\n",
    "plt.title(\"Top 10 des coefficients les plus importants (ElasticNet)\")\n",
    "plt.xlabel(\"Caractéristiques\")\n",
    "plt.ylabel(\"Valeur du coefficient\")\n",
    "plt.grid()\n",
    "plt.show()"
   ]
  },
  {
   "cell_type": "code",
   "execution_count": null,
   "metadata": {},
   "outputs": [],
   "source": []
  }
 ],
 "metadata": {
  "kernelspec": {
   "display_name": "base",
   "language": "python",
   "name": "python3"
  },
  "language_info": {
   "codemirror_mode": {
    "name": "ipython",
    "version": 3
   },
   "file_extension": ".py",
   "mimetype": "text/x-python",
   "name": "python",
   "nbconvert_exporter": "python",
   "pygments_lexer": "ipython3",
   "version": "3.9.12"
  }
 },
 "nbformat": 4,
 "nbformat_minor": 2
}
