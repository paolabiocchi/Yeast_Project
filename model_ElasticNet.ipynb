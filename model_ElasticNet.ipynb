{
 "cells": [
  {
   "cell_type": "code",
   "execution_count": 2,
   "metadata": {},
   "outputs": [],
   "source": [
    "import pandas as pd\n",
    "import numpy as np\n",
    "from sklearn.model_selection import train_test_split, GridSearchCV\n",
    "from sklearn.linear_model import ElasticNet\n",
    "from sklearn.metrics import mean_squared_error, r2_score\n",
    "import matplotlib.pyplot as plt"
   ]
  },
  {
   "cell_type": "code",
   "execution_count": null,
   "metadata": {},
   "outputs": [],
   "source": [
    "# Charger les données prétraitées\n",
    "X = pd.read_csv(\"data/X_matrix_preprocessed.csv\")\n",
    "Y = pd.read_csv(\"data/Y_matrix_preprocessed.csv\")"
   ]
  },
  {
   "cell_type": "code",
   "execution_count": null,
   "metadata": {},
   "outputs": [],
   "source": [
    "# Diviser les données en ensembles d'entraînement et de test\n",
    "print(\"Division des données en ensembles d'entraînement et de test...\")\n",
    "X_train, X_test, y_train, y_test = train_test_split(X, Y, test_size=0.25, random_state=42)\n",
    "\n",
    "print(f\"Dimensions de X_train : {X_train.shape}, X_test : {X_test.shape}\")\n",
    "print(f\"Dimensions de y_train : {y_train.shape}, y_test : {y_test.shape}\")"
   ]
  },
  {
   "cell_type": "code",
   "execution_count": null,
   "metadata": {},
   "outputs": [],
   "source": [
    "# Définir une fonction pour entraîner ElasticNet\n",
    "def train_elasticnet(X_train, y_train, X_test, y_test):\n",
    "    \"\"\"\n",
    "    Entraîne un modèle ElasticNet et évalue ses performances.\n",
    "    \"\"\"\n",
    "    # Définir les hyperparamètres à rechercher\n",
    "    param_grid = {\n",
    "        \"alpha\": [0.1, 0.5, 1.0, 5.0, 10.0],  # Paramètre de régularisation\n",
    "        \"l1_ratio\": [0.1, 0.5, 0.7, 0.9, 1.0],  # Ratio entre L1 (LASSO) et L2 (Ridge)\n",
    "    }\n",
    "\n",
    "    # Initialiser ElasticNet avec un nombre d'itérations maximal élevé\n",
    "    elastic_net = ElasticNet(max_iter=10000, random_state=42)\n",
    "\n",
    "    # Utiliser GridSearchCV pour trouver les meilleurs hyperparamètres\n",
    "    grid_search = GridSearchCV(estimator=elastic_net, param_grid=param_grid, cv=5, scoring=\"r2\", verbose=2, n_jobs=-1)\n",
    "    grid_search.fit(X_train, y_train.values.ravel())  # y_train.values.ravel() pour une sortie compatible avec ElasticNet\n",
    "\n",
    "    # Meilleur modèle trouvé\n",
    "    best_model = grid_search.best_estimator_\n",
    "\n",
    "    # Prédictions sur les ensembles d'entraînement et de test\n",
    "    y_train_pred = best_model.predict(X_train)\n",
    "    y_test_pred = best_model.predict(X_test)\n",
    "\n",
    "    # Évaluer les performances\n",
    "    train_r2 = r2_score(y_train, y_train_pred)\n",
    "    test_r2 = r2_score(y_test, y_test_pred)\n",
    "    train_mse = mean_squared_error(y_train, y_train_pred)\n",
    "    test_mse = mean_squared_error(y_test, y_test_pred)\n",
    "\n",
    "    print(\"\\nMeilleurs hyperparamètres :\", grid_search.best_params_)\n",
    "    print(\"R² Score (train):\", train_r2)\n",
    "    print(\"R² Score (test):\", test_r2)\n",
    "    print(\"Mean Squared Error (train):\", train_mse)\n",
    "    print(\"Mean Squared Error (test):\", test_mse)\n",
    "\n",
    "    return best_model, y_train_pred, y_test_pred"
   ]
  },
  {
   "cell_type": "code",
   "execution_count": null,
   "metadata": {},
   "outputs": [],
   "source": [
    "# Entraîner ElasticNet\n",
    "print(\"Entraînement du modèle ElasticNet...\")\n",
    "best_model, y_train_pred, y_test_pred = train_elasticnet(X_train, y_train, X_test, y_test)"
   ]
  },
  {
   "cell_type": "code",
   "execution_count": null,
   "metadata": {},
   "outputs": [],
   "source": [
    "# Visualiser les prédictions vs valeurs réelles\n",
    "plt.figure(figsize=(10, 6))\n",
    "plt.scatter(y_test, y_test_pred, color=\"blue\", label=\"Valeurs prédites\")\n",
    "plt.plot([y_test.min(), y_test.max()], [y_test.min(), y_test.max()], \"r--\", label=\"Valeurs réelles\")\n",
    "plt.xlabel(\"Valeurs réelles (y_test)\")\n",
    "plt.ylabel(\"Valeurs prédites (y_pred)\")\n",
    "plt.title(\"ElasticNet : Comparaison des valeurs réelles et prédites\")\n",
    "plt.legend()\n",
    "plt.grid()\n",
    "plt.show()"
   ]
  },
  {
   "cell_type": "code",
   "execution_count": null,
   "metadata": {},
   "outputs": [],
   "source": [
    "# Afficher les coefficients importants\n",
    "print(\"\\nAffichage des coefficients importants...\")\n",
    "coefficients = pd.Series(best_model.coef_, index=X_train.columns)\n",
    "coefficients_sorted = coefficients.sort_values(ascending=False)\n",
    "top_features = coefficients_sorted.head(10)\n",
    "print(\"\\nTop 10 des coefficients les plus importants :\")\n",
    "print(top_features)"
   ]
  },
  {
   "cell_type": "code",
   "execution_count": null,
   "metadata": {},
   "outputs": [],
   "source": [
    "# Visualiser les coefficients importants\n",
    "plt.figure(figsize=(10, 6))\n",
    "top_features.plot(kind=\"bar\", color=\"orange\")\n",
    "plt.title(\"Top 10 des coefficients les plus importants (ElasticNet)\")\n",
    "plt.xlabel(\"Caractéristiques\")\n",
    "plt.ylabel(\"Valeur du coefficient\")\n",
    "plt.grid()\n",
    "plt.show()"
   ]
  },
  {
   "cell_type": "code",
   "execution_count": null,
   "metadata": {},
   "outputs": [],
   "source": []
  }
 ],
 "metadata": {
  "kernelspec": {
   "display_name": "base",
   "language": "python",
   "name": "python3"
  },
  "language_info": {
   "codemirror_mode": {
    "name": "ipython",
    "version": 3
   },
   "file_extension": ".py",
   "mimetype": "text/x-python",
   "name": "python",
   "nbconvert_exporter": "python",
   "pygments_lexer": "ipython3",
   "version": "3.9.12"
  }
 },
 "nbformat": 4,
 "nbformat_minor": 2
}
