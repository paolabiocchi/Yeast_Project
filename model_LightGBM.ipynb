{
 "cells": [
  {
   "cell_type": "code",
   "execution_count": 2,
   "metadata": {},
   "outputs": [],
   "source": [
    "import pandas as pd\n",
    "import numpy as np\n",
    "from sklearn.model_selection import train_test_split, GridSearchCV\n",
    "from lightgbm import LGBMRegressor\n",
    "from sklearn.metrics import mean_squared_error, r2_score\n",
    "import matplotlib.pyplot as plt"
   ]
  },
  {
   "cell_type": "code",
   "execution_count": null,
   "metadata": {},
   "outputs": [],
   "source": [
    "# Charger les données prétraitées\n",
    "X = pd.read_csv(\"dataset_preprocessed_X.csv\")\n",
    "Y = pd.read_csv(\"dataset_preprocessed_Y.csv\")"
   ]
  },
  {
   "cell_type": "code",
   "execution_count": null,
   "metadata": {},
   "outputs": [],
   "source": [
    "# Diviser les données en ensembles d'entraînement et de test\n",
    "print(\"Division des données en ensembles d'entraînement et de test...\")\n",
    "X_train, X_test, y_train, y_test = train_test_split(X, Y, test_size=0.25, random_state=42)\n",
    "\n",
    "print(f\"Dimensions de X_train : {X_train.shape}, X_test : {X_test.shape}\")\n",
    "print(f\"Dimensions de y_train : {y_train.shape}, y_test : {y_test.shape}\")"
   ]
  },
  {
   "cell_type": "code",
   "execution_count": null,
   "metadata": {},
   "outputs": [],
   "source": [
    "def train_lightgbm(X_train, y_train, X_test, y_test):\n",
    "    \"\"\"\n",
    "    Entraîne un modèle LightGBM et évalue ses performances.\n",
    "    \"\"\"\n",
    "    # Définir les hyperparamètres à rechercher\n",
    "    param_distributions = {\n",
    "        \"learning_rate\": np.logspace(-3, 0, 5),  # De 0.001 à 1\n",
    "        \"n_estimators\": [50, 100, 200, 500],\n",
    "        \"num_leaves\": [31, 50, 100, 150],\n",
    "        \"max_depth\": [-1, 10, 20, 30],\n",
    "        \"subsample\": [0.7, 0.8, 0.9, 1.0],\n",
    "        \"colsample_bytree\": [0.7, 0.8, 0.9, 1.0],\n",
    "        \"reg_alpha\": [0.0, 0.1, 1.0],\n",
    "        \"reg_lambda\": [0.0, 0.1, 1.0]\n",
    "    }\n",
    "\n",
    "    # Initialiser LightGBM\n",
    "    lgbm = LGBMRegressor(random_state=42)\n",
    "\n",
    "    # Utiliser RandomizedSearchCV pour rechercher les meilleurs hyperparamètres\n",
    "    random_search = RandomizedSearchCV(\n",
    "        estimator=lgbm,\n",
    "        param_distributions=param_distributions,\n",
    "        n_iter=100,\n",
    "        cv=5,\n",
    "        scoring=\"r2\",\n",
    "        verbose=2,\n",
    "        n_jobs=-1,\n",
    "        random_state=42\n",
    "    )\n",
    "    random_search.fit(X_train, y_train.values.ravel())  # y_train.values.ravel() pour une sortie compatible avec LightGBM\n",
    "\n",
    "    # Meilleur modèle trouvé\n",
    "    best_model = random_search.best_estimator_\n",
    "\n",
    "    # Prédictions sur les ensembles d'entraînement et de test\n",
    "    y_train_pred = best_model.predict(X_train)\n",
    "    y_test_pred = best_model.predict(X_test)\n",
    "\n",
    "    # Évaluer les performances\n",
    "    train_r2 = r2_score(y_train, y_train_pred)\n",
    "    test_r2 = r2_score(y_test, y_test_pred)\n",
    "    train_mse = mean_squared_error(y_train, y_train_pred)\n",
    "    test_mse = mean_squared_error(y_test, y_test_pred)\n",
    "\n",
    "    print(\"\\nMeilleurs hyperparamètres :\", random_search.best_params_)\n",
    "    print(\"R² Score (train):\", train_r2)\n",
    "    print(\"R² Score (test):\", test_r2)\n",
    "    print(\"Mean Squared Error (train):\", train_mse)\n",
    "    print(\"Mean Squared Error (test):\", test_mse)\n",
    "\n",
    "    return best_model, y_train_pred, y_test_pred\n"
   ]
  },
  {
   "cell_type": "code",
   "execution_count": null,
   "metadata": {},
   "outputs": [],
   "source": [
    "# Entraîner LightGBM\n",
    "print(\"Entraînement du modèle LightGBM...\")\n",
    "best_model, y_train_pred, y_test_pred = train_lightgbm(X_train, y_train, X_test, y_test)"
   ]
  },
  {
   "cell_type": "code",
   "execution_count": null,
   "metadata": {},
   "outputs": [],
   "source": [
    "def plot_results(y_test, y_test_pred, title=\"Résultats LightGBM\"):\n",
    "    # Graphique des valeurs prédites vs réelles\n",
    "    plt.figure(figsize=(10, 6))\n",
    "    plt.scatter(y_test, y_test_pred, alpha=0.7, label=\"Prédictions\")\n",
    "    plt.plot([y_test.min(), y_test.max()], [y_test.min(), y_test.max()], 'r--', label=\"Idéal\")\n",
    "    plt.xlabel(\"Valeurs réelles (y_test)\")\n",
    "    plt.ylabel(\"Valeurs prédites (y_pred)\")\n",
    "    plt.title(f\"Comparaison entre les valeurs réelles et prédites ({title})\")\n",
    "    plt.legend()\n",
    "    plt.grid()\n",
    "    plt.show()\n",
    "\n",
    "    # Graphique des résidus\n",
    "    residuals = y_test.values.ravel() - y_test_pred\n",
    "    plt.figure(figsize=(10, 6))\n",
    "    plt.scatter(y_test_pred, residuals, alpha=0.7, color=\"orange\")\n",
    "    plt.axhline(y=0, color=\"r\", linestyle=\"--\", label=\"Résidus = 0\")\n",
    "    plt.xlabel(\"Valeurs prédites (y_pred)\")\n",
    "    plt.ylabel(\"Résidus\")\n",
    "    plt.title(f\"Graphique des résidus ({title})\")\n",
    "    plt.legend()\n",
    "    plt.grid()\n",
    "    plt.show()"
   ]
  },
  {
   "cell_type": "code",
   "execution_count": null,
   "metadata": {},
   "outputs": [],
   "source": [
    "# Visualiser les métriques\n",
    "plot_results(y_test, y_test_pred, title=\"LightGBM\")"
   ]
  },
  {
   "cell_type": "code",
   "execution_count": null,
   "metadata": {},
   "outputs": [],
   "source": [
    "# Affichage des scores R² pour chaque cible (s'il y a plusieurs cibles)\n",
    "if y_test.shape[1] > 1:\n",
    "    r2_scores = [r2_score(y_test.iloc[:, i], y_test_pred[:, i]) for i in range(y_test.shape[1])]\n",
    "    plt.figure(figsize=(10, 6))\n",
    "    plt.bar(range(len(r2_scores)), r2_scores)\n",
    "    plt.xlabel(\"Cibles\")\n",
    "    plt.ylabel(\"R² Score\")\n",
    "    plt.title(\"R² Scores pour chaque cible\")\n",
    "    plt.show()"
   ]
  }
 ],
 "metadata": {
  "kernelspec": {
   "display_name": "base",
   "language": "python",
   "name": "python3"
  },
  "language_info": {
   "codemirror_mode": {
    "name": "ipython",
    "version": 3
   },
   "file_extension": ".py",
   "mimetype": "text/x-python",
   "name": "python",
   "nbconvert_exporter": "python",
   "pygments_lexer": "ipython3",
   "version": "3.9.12"
  }
 },
 "nbformat": 4,
 "nbformat_minor": 2
}
