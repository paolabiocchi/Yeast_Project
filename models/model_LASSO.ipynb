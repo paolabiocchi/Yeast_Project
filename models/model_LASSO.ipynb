{
 "cells": [
  {
   "cell_type": "code",
   "execution_count": null,
   "metadata": {},
   "outputs": [],
   "source": [
    "import pandas as pd\n",
    "import numpy as np\n",
    "import sys\n",
    "import os\n",
    "from sklearn.linear_model import LassoCV\n",
    "import json\n",
    "from sklearn.metrics import mean_squared_error, r2_score\n",
    "import matplotlib.pyplot as plt\n",
    "\n",
    "# Define the current directory if __file__ is not available\n",
    "current_dir = os.getcwd()  # Gets the current working directory\n",
    "parent_dir = os.path.abspath(os.path.join(current_dir, '..'))  # Moves one level up\n",
    "\n",
    "# Add the parent directory to the Python path\n",
    "sys.path.insert(0, parent_dir)\n",
    "\n",
    "from preprocessing import *\n",
    "from save_and_compare_results import *\n",
    "\n"
   ]
  },
  {
   "cell_type": "code",
   "execution_count": null,
   "metadata": {},
   "outputs": [],
   "source": [
    "# Define the path to the parent directory\n",
    "data_dir = os.path.abspath(os.path.join(os.getcwd(), '..'))  # Move one level up\n",
    "\n",
    "# Charger les fichiers\n",
    "X_file = os.path.join(data_dir, \"data/X_matrix.csv\")\n",
    "Y_file = os.path.join(data_dir, \"data/Y_matrix.csv\")\n",
    "\n",
    "print(\"Chargement des données...\")\n",
    "X = pd.read_csv(X_file)\n",
    "Y = pd.read_csv(Y_file)"
   ]
  },
  {
   "cell_type": "code",
   "execution_count": null,
   "metadata": {},
   "outputs": [],
   "source": [
    "X = X.drop(columns=[\"Yeast_ID\"]).fillna(0)\n",
    "Y = Y.drop(columns=[\"Yeast_ID\"]).fillna(Y.drop(columns=[\"Yeast_ID\"]).mean())\n",
    "\n",
    "X_pre, Y_pre = preprocessed_data(X, Y)"
   ]
  },
  {
   "cell_type": "code",
   "execution_count": null,
   "metadata": {},
   "outputs": [],
   "source": [
    "# Division des données en ensembles d'entraînement et de test\n",
    "print(\"Division des données en ensembles d'entraînement et de test...\")\n",
    "X_train, X_test, y_train, y_test = train_test_split(X_pre, Y_pre, test_size=0.2, random_state=42)\n",
    "\n",
    "# Affichage des dimensions des ensembles divisés\n",
    "print(f\"Dimensions de X_train : {X_train.shape}, X_test : {X_test.shape}\")\n",
    "print(f\"Dimensions de y_train : {y_train.shape}, y_test : {y_test.shape}\")"
   ]
  },
  {
   "cell_type": "code",
   "execution_count": null,
   "metadata": {},
   "outputs": [],
   "source": [
    "# Hyperparameter tuning using LassoCV\n",
    "lasso_cv = LassoCV(\n",
    "    alphas=np.logspace(-4, 1, 50),  # Search over a range of alpha values\n",
    "    cv=5,                           # 5-fold cross-validation\n",
    "    random_state=42\n",
    ")"
   ]
  },
  {
   "cell_type": "code",
   "execution_count": null,
   "metadata": {},
   "outputs": [],
   "source": [
    "# Fit LassoCV to the training data\n",
    "lasso_cv.fit(X_train, y_train)"
   ]
  },
  {
   "cell_type": "code",
   "execution_count": null,
   "metadata": {},
   "outputs": [],
   "source": [
    "# Best alpha value\n",
    "best_alpha = lasso_cv.alpha_\n",
    "print(f\"Optimal Alpha: {best_alpha}\")"
   ]
  },
  {
   "cell_type": "code",
   "execution_count": null,
   "metadata": {},
   "outputs": [],
   "source": [
    "# Evaluate model performance on validation set\n",
    "y_pred = lasso_cv.predict(X_test)"
   ]
  },
  {
   "cell_type": "code",
   "execution_count": null,
   "metadata": {},
   "outputs": [],
   "source": [
    "# Sauvegarder les résultats\n",
    "pd.DataFrame(y_pred, index=y_test.index, columns=Y_pre.columns).to_csv('results/y_test_predicted_LASSO.csv')\n",
    "pd.DataFrame(y_test, index=y_test.index, columns=Y_pre.columns).to_csv('results/y_test_true_LASSO.csv')"
   ]
  },
  {
   "cell_type": "code",
   "execution_count": null,
   "metadata": {},
   "outputs": [],
   "source": [
    "# Calcul des métriques\n",
    "mse = mean_squared_error(y_test, y_pred)\n",
    "r2 = r2_score(y_test, y_pred)\n",
    "print(f\"Mean Squared Error (MSE): {mse:.6f}\")\n",
    "print(f\"R² Score: {r2:.6f}\")"
   ]
  },
  {
   "cell_type": "code",
   "execution_count": null,
   "metadata": {},
   "outputs": [],
   "source": [
    "# Save feature importances\n",
    "coefficients_df = pd.DataFrame(\n",
    "    lasso_cv.coef_.reshape(1, -1),  # Ensure coefficients are a row vector\n",
    "    columns=X_train.columns  # Feature names\n",
    ")\n",
    "coefficients_df.to_csv('results/LASSO_feature_importances.csv', index=False)"
   ]
  },
  {
   "cell_type": "code",
   "execution_count": null,
   "metadata": {},
   "outputs": [],
   "source": [
    "# Visualisation des résultats\n",
    "print(\"Affichage des résultats...\")\n",
    "top_features = coefficients_df.abs().mean(axis=0).sort_values(ascending=False).head(10)\n",
    "print(top_features)\n",
    "plt.figure(figsize=(10, 6))\n",
    "plt.barh(top_features.index, top_features.values, color=\"skyblue\")\n",
    "plt.xlabel(\"Importance moyenne des coefficients absolus\")\n",
    "plt.ylabel(\"Mutation / Variation\")\n",
    "plt.title(\"Top 10 Mutations et CNVs Impactant le YPD Doubling Time\")\n",
    "plt.gca().invert_yaxis()\n",
    "plt.show()"
   ]
  },
  {
   "cell_type": "code",
   "execution_count": null,
   "metadata": {},
   "outputs": [],
   "source": [
    "# Enregistrement des métadonnées\n",
    "with open(f'results/LASSO_model_metadata.json', 'w+') as f:\n",
    "    metadata = {\n",
    "        'best_alpha': best_alpha,\n",
    "        'mse': mse,\n",
    "        'r2_score': r2,\n",
    "        'training_samples': len(X_train),\n",
    "        'testing_samples': len(X_test)\n",
    "    }\n",
    "    json.dump(metadata, f)\n",
    "print(\"Les métadonnées du modèle ont été sauvegardées.\")"
   ]
  }
 ],
 "metadata": {
  "kernelspec": {
   "display_name": "ml",
   "language": "python",
   "name": "python3"
  },
  "language_info": {
   "codemirror_mode": {
    "name": "ipython",
    "version": 3
   },
   "file_extension": ".py",
   "mimetype": "text/x-python",
   "name": "python",
   "nbconvert_exporter": "python",
   "pygments_lexer": "ipython3",
   "version": "3.12.4"
  }
 },
 "nbformat": 4,
 "nbformat_minor": 2
}
