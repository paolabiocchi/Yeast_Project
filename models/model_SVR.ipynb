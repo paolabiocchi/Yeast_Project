{
 "cells": [
  {
   "cell_type": "code",
   "execution_count": null,
   "metadata": {},
   "outputs": [],
   "source": [
    "import os\n",
    "import sys\n",
    "import pandas as pd\n",
    "import numpy as np\n",
    "from sklearn.svm import SVR\n",
    "from sklearn.model_selection import RandomizedSearchCV\n",
    "from sklearn.metrics import mean_squared_error, r2_score\n",
    "from sklearn.inspection import permutation_importance\n",
    "from scipy.stats import loguniform\n",
    "import matplotlib.pyplot as plt\n",
    "import shap\n",
    "\n",
    "# Define the current directory if __file__ is not available\n",
    "current_dir = os.getcwd()  # Gets the current working directory\n",
    "parent_dir = os.path.abspath(os.path.join(current_dir, '..'))  # Moves one level up\n",
    "\n",
    "# Add the parent directory to the Python path\n",
    "sys.path.insert(0, parent_dir)\n",
    "\n",
    "from save_and_compare_results import *\n"
   ]
  },
  {
   "cell_type": "code",
   "execution_count": null,
   "metadata": {},
   "outputs": [],
   "source": [
    "# Define the path to the parent directory\n",
    "data_dir = os.path.abspath(os.path.join(os.getcwd(), '..'))  # Move one level up"
   ]
  },
  {
   "cell_type": "markdown",
   "metadata": {},
   "source": [
    "# 1. Choose the phenotype"
   ]
  },
  {
   "cell_type": "code",
   "execution_count": null,
   "metadata": {},
   "outputs": [],
   "source": [
    "phenotype = \"YPD_doublingtime\"\n",
    "#phenotype = \"YPDCUSO410MM_40h\""
   ]
  },
  {
   "cell_type": "markdown",
   "metadata": {},
   "source": [
    "# 2. Preprocess the data"
   ]
  },
  {
   "cell_type": "code",
   "execution_count": null,
   "metadata": {},
   "outputs": [],
   "source": [
    "X = pd.read_pickle(os.path.join(data_dir, f\"data/X_matrix_proteins_nb_{phenotype}.pkl\"))\n",
    "Y = pd.read_pickle(os.path.join(data_dir, f\"data/Y_matrix_proteins_nb_{phenotype}.pkl\"))\n",
    "\n",
    "# Preprocess the data\n",
    "X = X.drop(columns=[\"Yeast_ID\"]).fillna(0)\n",
    "Y = Y.drop(columns=[\"Yeast_ID\"]).fillna(Y.drop(columns=[\"Yeast_ID\"]).mean())"
   ]
  },
  {
   "cell_type": "markdown",
   "metadata": {},
   "source": [
    "# 3. Run the model"
   ]
  },
  {
   "cell_type": "code",
   "execution_count": null,
   "metadata": {},
   "outputs": [],
   "source": [
    "param_distributions = {\n",
    "    \"C\": loguniform(1e-3, 1e3),\n",
    "    \"epsilon\": loguniform(1e-3, 1),\n",
    "    \"gamma\": [\"scale\", \"auto\"],\n",
    "    \"kernel\": [\"linear\", \"rbf\"]\n",
    "}\n",
    "\n",
    "svr = SVR()\n",
    "random_search = RandomizedSearchCV(\n",
    "    estimator=svr, \n",
    "    param_distributions=param_distributions,\n",
    "    n_iter=50, \n",
    "    cv=3,\n",
    "    verbose=1,\n",
    "    random_state=42,\n",
    "    n_jobs=-1\n",
    ") \n",
    "\n",
    "random_search.fit(X, Y)"
   ]
  },
  {
   "cell_type": "code",
   "execution_count": null,
   "metadata": {},
   "outputs": [],
   "source": [
    "# Get the best model and parameters\n",
    "best_svr = random_search.best_estimator_\n",
    "best_params = random_search.best_params_\n",
    "print(\"\\nBest hyperparameters:\", best_params)"
   ]
  },
  {
   "cell_type": "code",
   "execution_count": null,
   "metadata": {},
   "outputs": [],
   "source": [
    "# Evaluate the best model\n",
    "y_pred = best_svr.predict(X)\n",
    "r2 = r2_score(Y, y_pred)\n",
    "mse = mean_squared_error(Y, y_pred)\n",
    "print(f\"\\nR² Score: {r2:.4f}, Mean Squared Error: {mse:.4f}\")"
   ]
  },
  {
   "cell_type": "markdown",
   "metadata": {},
   "source": [
    "With number :  \n",
    "best hyperparameters: {'C': 0.21481457181982688, 'epsilon': 0.0065169906111771725, 'gamma': 'scale', 'kernel': 'rbf'}  \n",
    "R² Score: 0.2517, Mean Squared Error: 0.0375  "
   ]
  },
  {
   "cell_type": "markdown",
   "metadata": {},
   "source": [
    "# 4. Model features importance"
   ]
  },
  {
   "cell_type": "code",
   "execution_count": 8,
   "metadata": {},
   "outputs": [],
   "source": [
    "if best_params[\"kernel\"] == \"linear\":\n",
    "    print(\"Calculating feature importance for linear kernel...\")\n",
    "    \n",
    "    # Feature importance is directly derived from the coefficients\n",
    "    feature_importances = np.abs(best_svr.coef_[0])\n",
    "    \n",
    "    # Save and visualize feature importance\n",
    "    save_feature_importance(\n",
    "        features=X.columns,\n",
    "        importance_scores=feature_importances,\n",
    "        method=\"Coefficients\",\n",
    "        model_name=\"SVR\"\n",
    "    )\n",
    "    \n",
    "    # Display and plot top features\n",
    "    feature_importances_df = pd.DataFrame({\n",
    "        \"Feature\": X.columns,\n",
    "        \"Importance\": feature_importances\n",
    "    }).sort_values(by=\"Importance\", ascending=False)\n",
    "    \n",
    "    top_features = feature_importances_df.head(10)\n",
    "    print(\"\\nTop 10 Features (Linear Kernel):\")\n",
    "    print(top_features)\n",
    "    \n",
    "    plt.figure(figsize=(10, 6))\n",
    "    plt.barh(top_features[\"Feature\"], top_features[\"Importance\"], color=\"skyblue\")\n",
    "    plt.xlabel(\"Coefficient Magnitude\")\n",
    "    plt.ylabel(\"Feature\")\n",
    "    plt.title(\"Top 10 Features Impacting YPD Doubling Time (Linear Kernel)\")\n",
    "    plt.gca().invert_yaxis()\n",
    "    plt.show()"
   ]
  },
  {
   "cell_type": "code",
   "execution_count": null,
   "metadata": {},
   "outputs": [],
   "source": [
    "print(\"Displaying the 10 most important features...\")\n",
    "\n",
    "# Create a DataFrame with feature names and their importance scores\n",
    "feature_importances_df = pd.DataFrame({\n",
    "    \"Feature\": X.columns,\n",
    "    \"Importance\": best_svr.feature_importances_\n",
    "}).sort_values(by=\"Importance\", ascending=False)\n",
    "\n",
    "# Select the top 10 most important features\n",
    "top_mutations = feature_importances_df.head(10)\n",
    "\n",
    "# Display the top 10 features in the console\n",
    "print(\"\\nTop mutations impacting YPD doubling time:\")\n",
    "print(top_mutations)\n",
    "\n",
    "# Plot the top 10 features with their importance scores\n",
    "plt.figure(figsize=(10, 6))\n",
    "plt.barh(top_mutations[\"Feature\"], top_mutations[\"Importance\"], color=\"skyblue\")\n",
    "plt.xlabel(\"Importance\")\n",
    "plt.ylabel(\"Mutation\")\n",
    "plt.title(\"Top 10 Mutations Impacting YPD Doubling Time\")\n",
    "plt.gca().invert_yaxis()\n",
    "plt.show()"
   ]
  },
  {
   "cell_type": "markdown",
   "metadata": {},
   "source": [
    "# 5. SHAP features importance"
   ]
  },
  {
   "cell_type": "code",
   "execution_count": null,
   "metadata": {},
   "outputs": [],
   "source": [
    "print(\"Calculating SHAP values for SVR...\")\n",
    "explainer = shap.KernelExplainer(best_svr.predict, X)\n",
    "\n",
    "# Calculate SHAP values\n",
    "shap_values = explainer.shap_values(X, nsamples=100)\n",
    "\n",
    "# Compute mean absolute SHAP values for feature importance\n",
    "shap_mean_importance = np.abs(shap_values).mean(axis=0)\n",
    "\n",
    "# Save SHAP feature importance\n",
    "save_feature_importance(\n",
    "    features=X.columns,\n",
    "    importance_scores=shap_mean_importance,\n",
    "    method=\"SHAP\",\n",
    "    model_name=\"SVR\"\n",
    ")\n",
    "\n",
    "# Display and plot SHAP importance\n",
    "feature_importances_df = pd.DataFrame({\n",
    "    \"Feature\": X.columns,\n",
    "    \"Importance\": shap_mean_importance\n",
    "}).sort_values(by=\"Importance\", ascending=False)\n",
    "\n",
    "top_features = feature_importances_df.head(10)\n",
    "print(\"\\nTop 10 Features (SHAP):\")\n",
    "print(top_features)\n",
    "\n",
    "plt.figure(figsize=(10, 6))\n",
    "plt.barh(top_features[\"Feature\"], top_features[\"Importance\"], color=\"skyblue\")\n",
    "plt.xlabel(\"SHAP Value (Mean Absolute Importance)\")\n",
    "plt.ylabel(\"Feature\")\n",
    "plt.title(\"Top 10 Features Impacting YPD Doubling Time (SHAP)\")\n",
    "plt.gca().invert_yaxis()\n",
    "plt.show()"
   ]
  },
  {
   "cell_type": "code",
   "execution_count": null,
   "metadata": {},
   "outputs": [],
   "source": [
    "print(\"Generating SHAP plots...\")\n",
    "shap.summary_plot(shap_values, X, plot_type=\"bar\")\n",
    "shap.summary_plot(shap_values, X)"
   ]
  },
  {
   "cell_type": "markdown",
   "metadata": {},
   "source": [
    "# 6. Permutation Importance"
   ]
  },
  {
   "cell_type": "code",
   "execution_count": null,
   "metadata": {},
   "outputs": [],
   "source": [
    "print(\"Calculating permutation importance...\")\n",
    "perm_importance = permutation_importance(best_svr, X, Y.values.ravel(), n_repeats=10, random_state=42, scoring=\"r2\")\n",
    "feature_importances = perm_importance.importances_mean\n",
    "\n",
    "# Save and visualize permutation importance\n",
    "save_feature_importance(\n",
    "    features=X.columns,\n",
    "    importance_scores=feature_importances,\n",
    "    method=\"Permutation\",\n",
    "    model_name=\"SVR\"\n",
    ")\n",
    "\n",
    "# Display and plot permutation importance\n",
    "feature_importances_df = pd.DataFrame({\n",
    "    \"Feature\": X.columns,\n",
    "    \"Importance\": feature_importances\n",
    "}).sort_values(by=\"Importance\", ascending=False)\n",
    "\n",
    "top_features = feature_importances_df.head(10)\n",
    "print(\"\\nTop 10 Features (Permutation Importance):\")\n",
    "print(top_features)\n",
    "\n",
    "plt.figure(figsize=(10, 6))\n",
    "plt.barh(top_features[\"Feature\"], top_features[\"Importance\"], color=\"skyblue\")\n",
    "plt.xlabel(\"Permutation Importance (Mean)\")\n",
    "plt.ylabel(\"Feature\")\n",
    "plt.title(\"Top 10 Features Impacting YPD Doubling Time (Permutation Importance)\")\n",
    "plt.gca().invert_yaxis()\n",
    "plt.show()"
   ]
  }
 ],
 "metadata": {
  "kernelspec": {
   "display_name": "base",
   "language": "python",
   "name": "python3"
  },
  "language_info": {
   "codemirror_mode": {
    "name": "ipython",
    "version": 3
   },
   "file_extension": ".py",
   "mimetype": "text/x-python",
   "name": "python",
   "nbconvert_exporter": "python",
   "pygments_lexer": "ipython3",
   "version": "3.9.12"
  }
 },
 "nbformat": 4,
 "nbformat_minor": 2
}
