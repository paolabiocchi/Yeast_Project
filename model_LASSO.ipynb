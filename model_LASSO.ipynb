{
 "cells": [
  {
   "cell_type": "code",
   "execution_count": 1,
   "metadata": {},
   "outputs": [],
   "source": [
    "import pandas as pd\n",
    "import numpy as np\n",
    "from sklearn.preprocessing import StandardScaler\n",
    "from sklearn.model_selection import ShuffleSplit, GridSearchCV\n",
    "from sklearn.linear_model import MultiTaskLasso\n",
    "import json\n",
    "from sklearn.metrics import mean_squared_error, r2_score\n",
    "import matplotlib.pyplot as plt\n",
    "from preprocessing import *"
   ]
  },
  {
   "cell_type": "code",
   "execution_count": null,
   "metadata": {},
   "outputs": [],
   "source": [
    "# Charger les fichiers\n",
    "X_file = \"data/X_matrix.csv\"\n",
    "Y_file = \"data/Y_matrix.csv\"\n",
    "\n",
    "print(\"Chargement des données...\")\n",
    "X = pd.read_csv(X_file)\n",
    "Y = pd.read_csv(Y_file)"
   ]
  },
  {
   "cell_type": "code",
   "execution_count": null,
   "metadata": {},
   "outputs": [],
   "source": [
    "X = X.drop(columns=[\"Yeast_ID\"]).fillna(0)\n",
    "Y = Y.drop(columns=[\"Yeast_ID\"]).fillna(Y.drop(columns=[\"Yeast_ID\"]).mean())\n",
    "\n",
    "X_pre, Y_pre = preprocessed_data(X, Y)"
   ]
  },
  {
   "cell_type": "code",
   "execution_count": null,
   "metadata": {},
   "outputs": [],
   "source": [
    "# Division des données en ensembles d'entraînement et de test\n",
    "print(\"Division des données en ensembles d'entraînement et de test...\")\n",
    "sss = ShuffleSplit(n_splits=1, test_size=0.25, random_state=42)\n",
    "train_index, test_index = next(sss.split(X_pre, Y_pre))\n",
    "\n",
    "X_train, X_test = X_pre.iloc[train_index, :], X_pre.iloc[test_index, :]\n",
    "y_train, y_test = Y_pre.iloc[train_index, :], Y_pre.iloc[test_index, :]\n",
    "\n",
    "# Affichage des dimensions des ensembles divisés\n",
    "print(f\"Dimensions de X_train : {X_train.shape}, X_test : {X_test.shape}\")\n",
    "print(f\"Dimensions de y_train : {y_train.shape}, y_test : {y_test.shape}\")"
   ]
  },
  {
   "cell_type": "code",
   "execution_count": null,
   "metadata": {},
   "outputs": [],
   "source": [
    "# Définir les paramètres pour la recherche sur grille\n",
    "print(\"Définition des paramètres pour GridSearch...\")\n",
    "lasso = MultiTaskLasso(random_state=42, max_iter=10000)\n",
    "tuned_parameters = {'alpha': [0.1, 0.5, 0.75, 1.0, 2.0, 5.0]}  # Valeurs pour la régularisation"
   ]
  },
  {
   "cell_type": "code",
   "execution_count": null,
   "metadata": {},
   "outputs": [],
   "source": [
    "# Lancer GridSearch avec validation croisée\n",
    "print(\"Lancement de la recherche sur grille avec validation croisée...\")\n",
    "grid_search = GridSearchCV(lasso, tuned_parameters, cv=3, scoring='r2', n_jobs=-1)\n",
    "grid_search.fit(X_train, y_train)\n"
   ]
  },
  {
   "cell_type": "code",
   "execution_count": null,
   "metadata": {},
   "outputs": [],
   "source": [
    "# Entraînement final avec le meilleur alpha\n",
    "best_alpha = grid_search.best_params_['alpha']\n",
    "print(f\"Meilleur paramètre alpha: {best_alpha}\")\n",
    "final_model = MultiTaskLasso(alpha=best_alpha, random_state=42, max_iter=10000)\n",
    "final_model.fit(X_train, y_train)"
   ]
  },
  {
   "cell_type": "code",
   "execution_count": null,
   "metadata": {},
   "outputs": [],
   "source": [
    "# Prédictions\n",
    "print(\"Prédictions sur les données de test...\")\n",
    "y_pred = final_model.predict(X_test)"
   ]
  },
  {
   "cell_type": "code",
   "execution_count": null,
   "metadata": {},
   "outputs": [],
   "source": [
    "# Sauvegarder les résultats\n",
    "pd.DataFrame(y_pred, index=Y.iloc[test_index, :].index, columns=Y.columns).to_csv('results/y_test_predicted_LASSO.csv')\n",
    "pd.DataFrame(y_test, index=Y.iloc[test_index, :].index, columns=Y.columns).to_csv('results/y_test_true_LASSO.csv')"
   ]
  },
  {
   "cell_type": "code",
   "execution_count": null,
   "metadata": {},
   "outputs": [],
   "source": [
    "# Calcul des métriques\n",
    "mse = mean_squared_error(y_test, y_pred)\n",
    "r2 = r2_score(y_test, y_pred)\n",
    "print(f\"Mean Squared Error (MSE): {mse:.6f}\")\n",
    "print(f\"R² Score: {r2:.6f}\")"
   ]
  },
  {
   "cell_type": "code",
   "execution_count": null,
   "metadata": {},
   "outputs": [],
   "source": [
    "# Sauvegarder les coefficients\n",
    "coefficients_df = pd.DataFrame(final_model.coef_, index=Y_pre.columns, columns=X_pre.columns)\n",
    "coefficients_df.to_csv('results/LASSO_feature_importances.csv')"
   ]
  },
  {
   "cell_type": "code",
   "execution_count": null,
   "metadata": {},
   "outputs": [],
   "source": [
    "# Visualisation des résultats\n",
    "print(\"Affichage des résultats...\")\n",
    "top_features = coefficients_df.abs().mean(axis=0).sort_values(ascending=False).head(10)\n",
    "plt.figure(figsize=(10, 6))\n",
    "plt.barh(top_features.index, top_features.values, color=\"skyblue\")\n",
    "plt.xlabel(\"Importance moyenne des coefficients absolus\")\n",
    "plt.ylabel(\"Mutation / Variation\")\n",
    "plt.title(\"Top 10 Mutations et CNVs Impactant le YPD Doubling Time\")\n",
    "plt.gca().invert_yaxis()\n",
    "plt.show()"
   ]
  },
  {
   "cell_type": "code",
   "execution_count": null,
   "metadata": {},
   "outputs": [],
   "source": [
    "# Enregistrement des métadonnées\n",
    "with open(f'results/LASSO_model_metadata.json', 'w+') as f:\n",
    "    metadata = {\n",
    "        'best_alpha': best_alpha,\n",
    "        'mse': mse,\n",
    "        'r2_score': r2,\n",
    "        'training_samples': len(X_train),\n",
    "        'testing_samples': len(X_test)\n",
    "    }\n",
    "    json.dump(metadata, f)\n",
    "print(\"Les métadonnées du modèle ont été sauvegardées.\")"
   ]
  }
 ],
 "metadata": {
  "kernelspec": {
   "display_name": "ml",
   "language": "python",
   "name": "python3"
  },
  "language_info": {
   "codemirror_mode": {
    "name": "ipython",
    "version": 3
   },
   "file_extension": ".py",
   "mimetype": "text/x-python",
   "name": "python",
   "nbconvert_exporter": "python",
   "pygments_lexer": "ipython3",
   "version": "3.12.4"
  }
 },
 "nbformat": 4,
 "nbformat_minor": 2
}
