{
 "cells": [
  {
   "cell_type": "code",
   "execution_count": 3,
   "metadata": {},
   "outputs": [],
   "source": [
    "import os\n",
    "import re\n",
    "import pandas as pd\n",
    "from sklearn.feature_extraction.text import TfidfVectorizer\n",
    "from collections import Counter\n",
    "import dask.dataframe as dd"
   ]
  },
  {
   "cell_type": "code",
   "execution_count": 4,
   "metadata": {},
   "outputs": [
    {
     "name": "stdout",
     "output_type": "stream",
     "text": [
      "Final matrix with mutation counts saved at X_matrix_proteins_and_cnvs_count.csv. Dimensions: (1011, 12542)\n"
     ]
    }
   ],
   "source": [
    "# Load the mutation dataset\n",
    "mutations_path = \"data/mutations_dataset.csv\"\n",
    "mutations_df = pd.read_csv(mutations_path)\n",
    "\n",
    "# Create a mutation count matrix\n",
    "mutation_matrix = (\n",
    "    mutations_df\n",
    "    .groupby(['Yeast_ID', 'Protein_ID'])['Position']  # Group by Yeast_ID and Protein_ID\n",
    "    .count()  # Count the number of mutations for each (Yeast_ID, Protein_ID)\n",
    "    .unstack(fill_value=0)  # Pivot the table to get a matrix\n",
    ")\n",
    "\n",
    "# Load the CNV dataset\n",
    "cnv_path = \"data/genesMatrix_CopyNumber.tab\"\n",
    "cnv_df = pd.read_csv(cnv_path, sep=\"\\t\", index_col=0).T  # Transpose the CNV data\n",
    "cnv_df.index.name = \"Yeast_ID\"\n",
    "cnv_df.reset_index(inplace=True)\n",
    "\n",
    "# Extract the real protein IDs in the CNV dataset\n",
    "pattern_case1 = r'Y[A-Z]{2}\\d{3}[A-Z]'  # Case 1 pattern\n",
    "pattern_case2 = r'Y[A-Z]{2}\\d{3}[A-Z]\\.[A-Z]'  # Case 2 pattern\n",
    "def extract_real_name(name):\n",
    "    import re\n",
    "    match_case2 = re.search(pattern_case2, name)\n",
    "    if match_case2:\n",
    "        return match_case2.group().replace('.', '-')\n",
    "    match_case1 = re.search(pattern_case1, name)\n",
    "    if match_case1:\n",
    "        return match_case1.group()\n",
    "    return None\n",
    "cnv_df['Yeast_ID'] = cnv_df['Yeast_ID'].apply(extract_real_name)\n",
    "cnv_df = cnv_df.dropna(subset=['Yeast_ID']).reset_index(drop=True)  # Remove invalid rows\n",
    "\n",
    "# Transpose CNV data back after processing Standard_name\n",
    "cnv_matrix = cnv_df.set_index('Yeast_ID').T  # Transpose for Yeast_ID rows\n",
    "cnv_matrix.index.name = 'Yeast_ID'\n",
    "\n",
    "# Merge mutation count matrix and CNV matrix\n",
    "final_matrix = mutation_matrix.merge(\n",
    "    cnv_matrix,\n",
    "    left_index=True,\n",
    "    right_index=True,\n",
    "    how='left',\n",
    "    suffixes=('', '_CNV')  # Append '_CNV' to CNV columns\n",
    ")\n",
    "\n",
    "# Fill missing values in CNV columns with median\n",
    "cnv_columns = [col for col in final_matrix.columns if col.startswith(\"CNV_\")]\n",
    "final_matrix[cnv_columns] = final_matrix[cnv_columns].fillna(final_matrix[cnv_columns].median())\n",
    "\n",
    "# Save the final matrix to a CSV file\n",
    "output_path = \"X_matrix_proteins_and_cnvs_count.csv\"\n",
    "final_matrix.to_csv(output_path, index=True)\n",
    "\n",
    "print(f\"Final matrix with mutation counts saved at {output_path}. Dimensions: {final_matrix.shape}\")"
   ]
  },
  {
   "cell_type": "code",
   "execution_count": 6,
   "metadata": {},
   "outputs": [
    {
     "name": "stdout",
     "output_type": "stream",
     "text": [
      "Tous les IDs de Y sont présents dans X.\n",
      "IDs présents dans X mais absents dans Y : {'AVH', 'SACE_YBP', 'CLS', 'SACE_YBL', 'SACE_YCL', 'SACE_YBS', 'CHP', 'SACE_YDO', 'ARI', 'SACE_YBG', 'CGE', 'CKN', 'SACE_YDC', 'BFL', 'SACE_YCT', 'CLD', 'SACE_GAS', 'BTG', 'SACE_YCC', 'CHI', 'BKS', 'BEF', 'ABH', 'AIG', 'SACE_YBR', 'CLI', 'ABK', 'CHL', 'SACE_YBT', 'SACE_YBQ', 'SACE_YAC', 'CII', 'AGB', 'SACE_YDK', 'AII', 'SACE_YCI', 'SACE_YCB', 'AIR', 'SACE_MAB', 'CLL', 'BHK', 'BGA', 'CGG', 'CHG', 'BRA', 'BHF', 'BRG', 'SACE_YBO', 'SACE_YAY', 'CGV', 'AHQ', 'SACE_YBW', 'CGR', 'SACE_YDL', 'SACE_YAQ', 'BQT', 'AER', 'ARK', 'CGQ', 'CGT', 'AMS', 'CGL', 'SACE_YCF', 'SACE_YBU', 'SACE_YBB', 'AHF', 'SACE_YDB', 'CHD', 'BKR', 'SACE_YCQ', 'SACE_YCM', 'BDC', 'BRE', 'CHN', 'SACE_YAT', 'BKD', 'CQB', 'ABG', 'ALV', 'SACE_YCG', 'SACE_YAN', 'CFN', 'SACE_YCY', 'APV', 'CGS', 'SACE_GAL', 'AIK', 'CKE', 'BFA', 'CGP', 'SACE_YBZ', 'CHM', 'SACE_MAA', 'SACE_YAX', 'CLT', 'SACE_YBE', 'SACE_YCP', 'ASL', 'CKA', 'AFA', 'BRF', 'SACE_YBF', 'BIL', 'APP', 'SACE_YBJ', 'AFS', 'BHC', 'CQP', 'CHA', 'BRC', 'SACE_YBX', 'CIT', 'SACE_YDE', 'BRB', 'SACE_YAU', 'SACE_YDM', 'SACE_YAK', 'SACE_YBY', 'AAA', 'SACE_YBV', 'SACE_MAL', 'BRQ', 'SACE_YDI', 'SACE_YAP', 'SACE_YCK', 'CCI', 'SACE_YAB', 'SACE_YBM', 'AEK', 'BLF', 'SACE_YBA', 'ASM', 'AES', 'SACE_YDA', 'CEE', 'SACE_YDF', 'APS', 'CKM', 'SACE_YCX', 'CHB', 'SACE_YAV', 'AFM', 'AKB', 'AMT', 'CFI', 'AIM', 'SACE_YCW', 'SACE_YCA', 'CPI', 'SACE_YAG', 'SACE_YDJ', 'SACE_YAF', 'SACE_YDD', 'ALG', 'SACE_YAD', 'AKC', 'CFQ', 'SACE_YCU', 'SACE_YBH', 'SACE_YCS', 'AQN', 'SACE_YCN', 'SACE_GAV', 'SACE_YCE', 'CML', 'SACE_YAW', 'BQS', 'SACE_YBK', 'CLN', 'SACE_YBN', 'AGF', 'AGL', 'SACE_YAL', 'ADE', 'SACE_YDN', 'CHK', 'CQQ', 'SACE_YAE', 'AMM', 'SACE_YAM', 'SACE_YAZ', 'SACE_GAP', 'AQI', 'ABS', 'BRV', 'BDP', 'SACE_YCZ', 'ACB', 'ATA', 'SACE_YDG', 'SACE_YCR', 'CIS', 'CHH', 'CKD', 'SACE_YAA', 'BSB', 'SACE_YCH', 'ACG', 'BEG', 'AIL', 'ANG', 'SACE_YCD', 'CLM', 'ABB', 'SACE_GAT', 'AIQ', 'SACE_YCJ', 'CHQ', 'SACE_YDH', 'BGL', 'CKC', 'SACE_YCO', 'SACE_YAR', 'ASD', 'CRL', 'SACE_YCV', 'BHT', 'AKP', 'BRD'}\n",
      "Les IDs sont alignés entre X et Y.\n"
     ]
    }
   ],
   "source": [
    "import pandas as pd\n",
    "\n",
    "# Charger les matrices\n",
    "X_path = \"X_matrix_proteins_and_cnvs_count.csv\"  # Chemin vers la matrice X\n",
    "Y_path = \"data/Y_matrix.csv\"  # Chemin vers la matrice Y\n",
    "\n",
    "X = pd.read_csv(X_path)\n",
    "Y = pd.read_csv(Y_path)\n",
    "\n",
    "# Vérifier la correspondance des Yeast_ID\n",
    "X_ids = set(X['Yeast_ID'])\n",
    "Y_ids = set(Y['Yeast_ID'])\n",
    "\n",
    "# Identifiez les IDs manquants\n",
    "missing_in_X = Y_ids - X_ids\n",
    "missing_in_Y = X_ids - Y_ids\n",
    "\n",
    "if missing_in_X:\n",
    "    print(f\"IDs présents dans Y mais absents dans X : {missing_in_X}\")\n",
    "else:\n",
    "    print(\"Tous les IDs de Y sont présents dans X.\")\n",
    "\n",
    "if missing_in_Y:\n",
    "    print(f\"IDs présents dans X mais absents dans Y : {missing_in_Y}\")\n",
    "else:\n",
    "    print(\"Tous les IDs de X sont présents dans Y.\")\n",
    "\n",
    "# Aligner les matrices sur les Yeast_ID communs\n",
    "common_ids = X_ids & Y_ids\n",
    "\n",
    "# Filtrer X et Y pour ne garder que les IDs communs\n",
    "X_aligned = X[X['Yeast_ID'].isin(common_ids)].sort_values(by=\"Yeast_ID\")\n",
    "Y_aligned = Y[Y['Yeast_ID'].isin(common_ids)].sort_values(by=\"Yeast_ID\")\n",
    "\n",
    "# Vérifier que l'ordre des IDs correspond\n",
    "if list(X_aligned['Yeast_ID']) == list(Y_aligned['Yeast_ID']):\n",
    "    print(\"Les IDs sont alignés entre X et Y.\")\n",
    "else:\n",
    "    print(\"Les IDs ne sont pas dans le même ordre, veuillez vérifier.\")\n",
    "\n",
    "# Sauvegarder les matrices alignées si besoin\n",
    "X_aligned.to_csv(\"X_matrix_aligned.csv\", index=False)\n",
    "Y_aligned.to_csv(\"Y_matrix_aligned.csv\", index=False)"
   ]
  },
  {
   "cell_type": "code",
   "execution_count": 7,
   "metadata": {},
   "outputs": [
    {
     "name": "stdout",
     "output_type": "stream",
     "text": [
      "Les matrices X et Y ont été mélangées et sauvegardées avec succès.\n",
      "Dimensions de X_shuffled : (792, 12543)\n",
      "Dimensions de Y_shuffled : (792, 2)\n"
     ]
    }
   ],
   "source": [
    "import pandas as pd\n",
    "\n",
    "# Charger les matrices alignées\n",
    "X_path =  \"X_matrix_aligned.csv\"  # Chemin vers la matrice X filtrée\n",
    "Y_path = \"data/Y_matrix.csv\"  # Chemin vers la matrice Y\n",
    "\n",
    "X = pd.read_csv(X_path)\n",
    "Y = pd.read_csv(Y_path)\n",
    "\n",
    "# Filtrer Y pour ne garder que les IDs communs\n",
    "common_ids = set(X['Yeast_ID']) & set(Y['Yeast_ID'])\n",
    "Y_filtered = Y[Y['Yeast_ID'].isin(common_ids)].sort_values(by=\"Yeast_ID\")\n",
    "\n",
    "# Vérifier que les IDs sont bien alignés\n",
    "if list(X['Yeast_ID']) != list(Y_filtered['Yeast_ID']):\n",
    "    raise ValueError(\"Les Yeast_ID ne sont pas alignés entre X et Y. Vérifiez vos données.\")\n",
    "\n",
    "# Mélanger les indices aléatoirement tout en maintenant l'alignement\n",
    "shuffled_indices = X.sample(frac=1, random_state=42).index\n",
    "\n",
    "X_shuffled = X.loc[shuffled_indices].reset_index(drop=True)\n",
    "Y_shuffled = Y_filtered.loc[shuffled_indices].reset_index(drop=True)\n",
    "\n",
    "# Sauvegarder les nouvelles matrices mélangées\n",
    "X_shuffled.to_csv(\"X_matrix_proteins_nb.csv\", index=False)\n",
    "Y_shuffled.to_csv(\"Y_matrix_proteins_nb.csv\", index=False)\n",
    "\n",
    "print(f\"Les matrices X et Y ont été mélangées et sauvegardées avec succès.\")\n",
    "print(f\"Dimensions de X_shuffled : {X_shuffled.shape}\")\n",
    "print(f\"Dimensions de Y_shuffled : {Y_shuffled.shape}\")"
   ]
  },
  {
   "cell_type": "code",
   "execution_count": 8,
   "metadata": {},
   "outputs": [],
   "source": [
    "# Sauvegarder les nouvelles matrices mélangées\n",
    "X_shuffled.to_pickle(\"X_matrix_proteins_nb.pkl\")\n",
    "Y_shuffled.to_pickle(\"Y_matrix_proteins_nb.pkl\")"
   ]
  },
  {
   "cell_type": "code",
   "execution_count": null,
   "metadata": {},
   "outputs": [],
   "source": []
  }
 ],
 "metadata": {
  "kernelspec": {
   "display_name": "base",
   "language": "python",
   "name": "python3"
  },
  "language_info": {
   "codemirror_mode": {
    "name": "ipython",
    "version": 3
   },
   "file_extension": ".py",
   "mimetype": "text/x-python",
   "name": "python",
   "nbconvert_exporter": "python",
   "pygments_lexer": "ipython3",
   "version": "3.9.12"
  }
 },
 "nbformat": 4,
 "nbformat_minor": 2
}
