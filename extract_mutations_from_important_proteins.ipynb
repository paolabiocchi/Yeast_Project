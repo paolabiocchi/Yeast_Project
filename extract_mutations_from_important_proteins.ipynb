{
 "cells": [
  {
   "cell_type": "code",
   "execution_count": 3,
   "metadata": {},
   "outputs": [],
   "source": [
    "import pandas as pd"
   ]
  },
  {
   "cell_type": "code",
   "execution_count": 4,
   "metadata": {},
   "outputs": [],
   "source": [
    "x_matrix_path = \"data/X_matrix_YPD_doublingtime.pkl\"  \n",
    "important_proteins_path = \"results/combined_importance_ranking.csv\" \n",
    "\n",
    "X_matrix = pd.read_pickle(x_matrix_path)\n",
    "important_proteins = pd.read_csv(important_proteins_path)"
   ]
  },
  {
   "cell_type": "code",
   "execution_count": 7,
   "metadata": {},
   "outputs": [
    {
     "name": "stderr",
     "output_type": "stream",
     "text": [
      "/var/folders/nn/tpsnq6nx5wxd6cbmzlz85b3m0000gn/T/ipykernel_13377/1269087072.py:22: SettingWithCopyWarning: \n",
      "A value is trying to be set on a copy of a slice from a DataFrame\n",
      "\n",
      "See the caveats in the documentation: https://pandas.pydata.org/pandas-docs/stable/user_guide/indexing.html#returning-a-view-versus-a-copy\n",
      "  X_matrix_restricted.rename(columns=cnv_renamed_columns, inplace=True)\n"
     ]
    }
   ],
   "source": [
    "# Extract the list of important features from the combined importance file\n",
    "important_features = important_proteins['Feature_ID'].tolist()\n",
    "\n",
    "# Prepare a set of features to match against\n",
    "important_proteins_set = set(important_features)\n",
    "important_cnv_set = {feature.replace(\"_CNV\", \"\") for feature in important_features if \"_CNV\" in feature}\n",
    "\n",
    "# Filter the columns from X_matrix\n",
    "filtered_columns = ['Yeast_ID'] + [\n",
    "    col for col in X_matrix.columns\n",
    "    if col in important_proteins_set or col.split('_')[0] in important_cnv_set\n",
    "]\n",
    "\n",
    "# Create the restricted X_matrix\n",
    "X_matrix_restricted = X_matrix[filtered_columns]\n",
    "\n",
    "# Rename CNV columns to include \"_CNV\" where necessary\n",
    "cnv_renamed_columns = {\n",
    "    col: f\"{col}_CNV\" for col in X_matrix_restricted.columns\n",
    "    if col in important_cnv_set\n",
    "}\n",
    "X_matrix_restricted.rename(columns=cnv_renamed_columns, inplace=True)\n",
    "\n",
    "# Save the restricted X_matrix to CSV and Pickle\n",
    "X_matrix_restricted.to_csv(\"data/X_matrix__YPD_doublingtime_restricted.csv\", index=False)\n",
    "X_matrix_restricted.to_pickle(\"data/X_matrix__YPD_doublingtime_restricted.pkl\")"
   ]
  },
  {
   "cell_type": "code",
   "execution_count": 8,
   "metadata": {},
   "outputs": [
    {
     "data": {
      "text/plain": [
       "(792, 4262)"
      ]
     },
     "execution_count": 8,
     "metadata": {},
     "output_type": "execute_result"
    }
   ],
   "source": [
    "X_matrix_restricted.shape"
   ]
  }
 ],
 "metadata": {
  "kernelspec": {
   "display_name": "base",
   "language": "python",
   "name": "python3"
  },
  "language_info": {
   "codemirror_mode": {
    "name": "ipython",
    "version": 3
   },
   "file_extension": ".py",
   "mimetype": "text/x-python",
   "name": "python",
   "nbconvert_exporter": "python",
   "pygments_lexer": "ipython3",
   "version": "3.9.12"
  }
 },
 "nbformat": 4,
 "nbformat_minor": 2
}
