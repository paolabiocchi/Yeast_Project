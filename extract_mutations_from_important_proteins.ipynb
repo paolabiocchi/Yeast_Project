{
 "cells": [
  {
   "cell_type": "code",
   "execution_count": 10,
   "metadata": {},
   "outputs": [],
   "source": [
    "import pandas as pd"
   ]
  },
  {
   "cell_type": "code",
   "execution_count": 11,
   "metadata": {},
   "outputs": [],
   "source": [
    "x_matrix_path = \"data/X_matrix_YPD_doublingtime.pkl\"  \n",
    "important_proteins_path = \"results/combined_importance_ranking.csv\" \n",
    "\n",
    "X_matrix = pd.read_pickle(x_matrix_path)\n",
    "important_proteins = pd.read_csv(important_proteins_path)"
   ]
  },
  {
   "cell_type": "code",
   "execution_count": 12,
   "metadata": {},
   "outputs": [],
   "source": [
    "columns = X_matrix.columns\n",
    "\n",
    "# Fonction pour ajouter le suffixe _CNV si le nom n'est pas au format Protein_ID_index_AA_AA\n",
    "def transform_protein_name(protein_name):\n",
    "    # Si le nom ne contient pas \"index\" ou une mutation AA_AA, c'est probablement un CNV\n",
    "    if \"_\" not in protein_name:  # Vérifie si le format est simple, e.g., \"YHL048C\"\n",
    "        return f\"{protein_name}_CNV\"\n",
    "    return protein_name\n",
    "\n",
    "# Appliquer la transformation sur les noms des colonnes\n",
    "new_columns = [transform_protein_name(col) for col in columns]\n",
    "\n",
    "X_matrix.columns = new_columns"
   ]
  },
  {
   "cell_type": "code",
   "execution_count": 13,
   "metadata": {},
   "outputs": [],
   "source": [
    "# Extraire les noms des protéines importantes\n",
    "important_features = important_proteins['Feature_ID'].tolist()\n",
    "\n",
    "# Extraire les colonnes correspondantes dans X_matrix\n",
    "# Conserver également la colonne 'Yeast_ID'\n",
    "filtered_columns = ['Yeast_ID'] + [col for col in X_matrix.columns if any(protein in col for protein in important_features)]\n",
    "\n",
    "# Créer un nouveau DataFrame restreint\n",
    "X_matrix_restricted = X_matrix[filtered_columns]\n",
    "\n",
    "# Sauvegarder le nouveau fichier\n",
    "X_matrix_restricted.to_csv(\"data/X_matrix__YPD_doublingtime_restricted.csv\", index=False)\n",
    "X_matrix_restricted.to_pickle(\"data/X_matrix__YPD_doublingtime_restricted.pkl\")\n"
   ]
  },
  {
   "cell_type": "code",
   "execution_count": 14,
   "metadata": {},
   "outputs": [
    {
     "data": {
      "text/plain": [
       "(792, 16504)"
      ]
     },
     "execution_count": 14,
     "metadata": {},
     "output_type": "execute_result"
    }
   ],
   "source": [
    "X_matrix_restricted.shape"
   ]
  },
  {
   "cell_type": "code",
   "execution_count": null,
   "metadata": {},
   "outputs": [],
   "source": []
  }
 ],
 "metadata": {
  "kernelspec": {
   "display_name": "base",
   "language": "python",
   "name": "python3"
  },
  "language_info": {
   "codemirror_mode": {
    "name": "ipython",
    "version": 3
   },
   "file_extension": ".py",
   "mimetype": "text/x-python",
   "name": "python",
   "nbconvert_exporter": "python",
   "pygments_lexer": "ipython3",
   "version": "3.9.12"
  }
 },
 "nbformat": 4,
 "nbformat_minor": 2
}
