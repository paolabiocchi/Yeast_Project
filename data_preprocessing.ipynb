{
 "cells": [
  {
   "cell_type": "code",
   "execution_count": 2,
   "metadata": {},
   "outputs": [],
   "source": [
    "import pandas as pd\n",
    "import numpy as np\n",
    "import re\n",
    "from sklearn.ensemble import RandomForestRegressor\n",
    "from sklearn.model_selection import train_test_split\n",
    "from sklearn.preprocessing import StandardScaler\n",
    "from sklearn.metrics import mean_squared_error\n",
    "from sklearn.decomposition import PCA\n",
    "from sklearn.feature_extraction.text import TfidfVectorizer\n",
    "from scipy.sparse import csr_matrix\n",
    "from sklearn.feature_selection import VarianceThreshold\n",
    "from sklearn.decomposition import TruncatedSVD\n",
    "import dask.dataframe as dd\n",
    "from sklearn.preprocessing import MinMaxScaler"
   ]
  },
  {
   "cell_type": "code",
   "execution_count": null,
   "metadata": {},
   "outputs": [
    {
     "name": "stdout",
     "output_type": "stream",
     "text": [
      "csv read complete\n",
      "Are the first columns the same? True\n"
     ]
    }
   ],
   "source": [
    "# preprocess de clara tar l'époque\n",
    "\n",
    "# Charger les datasets\n",
    "cnv_data = pd.read_csv(\"copy_number_variation_dataset.csv\")\n",
    "proteome_data = pd.read_csv(\"proteome_dataset.csv\")\n",
    "phenotype_data = pd.read_csv(\"phenotype_dataset.csv\")\n",
    "\n",
    "# y prends la forme : yeast ID, doubling_time\n",
    "\n",
    "\n",
    "# Joindre les datasets : Copy Number Variations et Proteome\n",
    "# Fusion basée sur le `Standard_name` ou une autre clé partagée\n",
    "merged_data = cnv_data.set_index(\"Standard_name\").join(proteome_data.set_index(\"Protein_ID\"), how=\"inner\")\n",
    "merged_data = merged_data.reset_index()\n",
    "\n",
    "# Ajouter la cible (YPD_doublingtime) à partir du fichier de phénotypes\n",
    "merged_data = merged_data.merge(\n",
    "    phenotype_data[[\"Standard_name\", \"YPD_doublingtime\"]], \n",
    "    left_on=\"index\", \n",
    "    right_on=\"Standard_name\", \n",
    "    how=\"inner\"\n",
    ")\n",
    "\n",
    "# Supprimer les colonnes inutiles\n",
    "merged_data = merged_data.drop(columns=[\"Standard_name\", \"index\"])\n",
    "\n",
    "# Prétraitement des données\n",
    "# 1. CNV - Normalisation\n",
    "cnv_features = merged_data.iloc[:, :-2]  # Toutes les colonnes sauf la séquence et YPD_doublingtime\n",
    "scaler = StandardScaler()\n",
    "cnv_normalized = scaler.fit_transform(cnv_features)\n",
    "\n",
    "# 2. Proteome - TF-IDF pour encoder les séquences protéiques\n",
    "vectorizer = TfidfVectorizer(analyzer=\"char\", ngram_range=(3, 3))  # Tri-grammes pour motifs locaux\n",
    "proteome_encoded = vectorizer.fit_transform(merged_data[\"Sequence\"])\n",
    "\n",
    "# Réduction de dimension avec PCA (pour limiter la taille des données après TF-IDF)\n",
    "pca = PCA(n_components=50)\n",
    "proteome_reduced = pca.fit_transform(proteome_encoded.toarray())\n",
    "\n",
    "# Combiner CNV normalisé et protéome réduit\n",
    "final_data = pd.DataFrame(cnv_normalized).join(pd.DataFrame(proteome_reduced))\n",
    "\n",
    "# Ajouter la cible (YPD_doublingtime)\n",
    "#final_data[\"YPD_doublingtime\"] = merged_data[\"YPD_doublingtime\"]\n",
    "\n",
    "# Séparation en ensembles d'entraînement et de test\n",
    "X = final_data.drop(columns=[\"YPD_doublingtime\"])\n",
    "y = final_data[\"YPD_doublingtime\"]\n",
    "\n",
    "X_train, X_test, y_train, y_test = train_test_split(X, y, test_size=0.2, random_state=42)\n",
    "\n"
   ]
  },
  {
   "cell_type": "code",
   "execution_count": null,
   "metadata": {},
   "outputs": [],
   "source": [
    "#preprocess coco\n",
    "from scipy.sparse import csr_matrix\n",
    "from sklearn.feature_selection import VarianceThreshold\n",
    "from sklearn.decomposition import TruncatedSVD\n",
    "import dask.dataframe as dd\n",
    "\n",
    "X = pd.read_csv(\"data/X_matrix.csv\")\n",
    "y = pd.read_csv(\"data/y_phenotype.csv\")\n",
    "\n",
    "# 1. Convert the mutation matrix to sparse representation\n",
    "print(\"Converting to sparse matrix...\")\n",
    "sparse_mutation_matrix = csr_matrix(X.iloc[:, 1:].values)\n",
    "\n",
    "# 2. Dimensionality Reduction\n",
    "# a. Low-Variance Filter\n",
    "print(\"Applying low-variance filter...\")\n",
    "variance_threshold = 0.01\n",
    "selector = VarianceThreshold(threshold=variance_threshold)\n",
    "reduced_sparse_matrix = selector.fit_transform(sparse_mutation_matrix)\n",
    "selected_features = selector.get_support(indices=True)\n",
    "\n",
    "# b. Truncated SVD (for further reduction)\n",
    "print(\"Applying PCA using Truncated SVD...\")\n",
    "n_components = 9  # Adjust based on the desired dimensionality\n",
    "svd = TruncatedSVD(n_components=n_components, random_state=42)\n",
    "reduced_matrix_pca = svd.fit_transform(reduced_sparse_matrix)\n",
    "\n",
    "# 3. Convert Reduced Matrix Back to DataFrame\n",
    "print(\"Converting reduced matrix back to DataFrame...\")\n",
    "reduced_df = pd.DataFrame(\n",
    "    reduced_matrix_pca, \n",
    "    columns=[f'PC_{i}' for i in range(reduced_matrix_pca.shape[1])]\n",
    ")\n",
    "reduced_df.insert(0, 'Yeast_ID', X['Yeast_ID'])\n",
    "\n",
    "# 4. Normalize Data\n",
    "print(\"Normalizing data...\")\n",
    "reduced_df.iloc[:, 1:] = (reduced_df.iloc[:, 1:] - reduced_df.iloc[:, 1:].mean()) / reduced_df.iloc[:, 1:].std()\n",
    "\n",
    "# 5. Save Intermediate Results\n",
    "print(\"Saving to file...\")\n",
    "reduced_df.to_parquet('reduced_mutation_matrix.parquet')\n",
    "\n",
    "# 6. Use Dask for Further Processing (if needed)\n",
    "print(\"Processing in batches using Dask...\")\n",
    "dask_df = dd.read_parquet('reduced_mutation_matrix.parquet')\n",
    "\n",
    "# Handle missing data: Fill NaN with 0 (or another value)\n",
    "processed_dask_df = dask_df.fillna(0)  # Adjust fill value as needed\n",
    "\n",
    "# Compute and Save Final Dataset\n",
    "final_df = processed_dask_df.compute()\n",
    "final_df.to_parquet('final_mutation_matrix.parquet')\n",
    "\n",
    "print(\"Preprocessing complete.\")\n",
    "\n",
    "X_train, X_test, y_train, y_test = train_test_split(final_df.iloc[:, 1:] , y.iloc[:,1], test_size=0.2, random_state=42)\n"
   ]
  },
  {
   "cell_type": "code",
   "execution_count": 18,
   "metadata": {},
   "outputs": [
    {
     "name": "stdout",
     "output_type": "stream",
     "text": [
      "Mean Squared Error: 0.005929892617593614\n",
      "Top 10 Feature Importances:\n",
      "Feature 2: 0.5384615384615384\n",
      "Feature 1: 0.46153846153846156\n",
      "Feature 0: 0.0\n"
     ]
    }
   ],
   "source": [
    "# Modèle : Random Forest\n",
    "model = RandomForestRegressor(n_estimators=100, random_state=42)\n",
    "model.fit(X_train, y_train)\n",
    "\n",
    "# Évaluation\n",
    "y_pred = model.predict(X_test)\n",
    "mse = mean_squared_error(y_test, y_pred)\n",
    "print(f\"Mean Squared Error: {mse}\")\n",
    "\n",
    "# Importance des caractéristiques pour les variations causatives\n",
    "feature_importances = model.feature_importances_\n",
    "sorted_indices = feature_importances.argsort()[::-1]\n",
    "print(\"Top 10 Feature Importances:\")\n",
    "for idx in sorted_indices[:10]:\n",
    "    print(f\"Feature {idx}: {feature_importances[idx]}\")"
   ]
  },
  {
   "cell_type": "markdown",
   "metadata": {},
   "source": [
    "phenotype avec juste les YPD doubling time, yeast ID et tri par ordre alphabetique : je mets kla valeur mpyenne quand on a aps d'infos\n"
   ]
  },
  {
   "cell_type": "code",
   "execution_count": 8,
   "metadata": {},
   "outputs": [
    {
     "name": "stdout",
     "output_type": "stream",
     "text": [
      "Fichier trié et avec imputation des valeurs manquantes enregistré sous : data/filtered_phenotype_dataset.csv\n"
     ]
    }
   ],
   "source": [
    "# Charger le fichier, remplir les valeurs manquantes et trier les Yeast_ID\n",
    "file_path = \"data/filtered_phenotype_dataset.csv\"\n",
    "data = pd.read_csv(file_path)\n",
    "\n",
    "data[\"YPD_doublingtime\"] = data[\"YPD_doublingtime\"].fillna(data[\"YPD_doublingtime\"].mean())\n",
    "data = data.sort_values(by=\"Yeast_ID\").reset_index(drop=True)\n",
    "\n",
    "# Sauvegarder le fichier mis à jour\n",
    "data.to_csv(file_path, index=False)\n",
    "print(f\"Fichier trié et avec imputation des valeurs manquantes enregistré sous : {file_path}\")"
   ]
  },
  {
   "cell_type": "code",
   "execution_count": null,
   "metadata": {},
   "outputs": [],
   "source": []
  }
 ],
 "metadata": {
  "kernelspec": {
   "display_name": "ml",
   "language": "python",
   "name": "python3"
  },
  "language_info": {
   "codemirror_mode": {
    "name": "ipython",
    "version": 3
   },
   "file_extension": ".py",
   "mimetype": "text/x-python",
   "name": "python",
   "nbconvert_exporter": "python",
   "pygments_lexer": "ipython3",
   "version": "3.12.4"
  }
 },
 "nbformat": 4,
 "nbformat_minor": 2
}
