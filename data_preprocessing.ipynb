{
 "cells": [
  {
   "cell_type": "code",
   "execution_count": 14,
   "metadata": {},
   "outputs": [],
   "source": [
    "import pandas as pd\n",
    "import re\n",
    "from sklearn.ensemble import RandomForestRegressor\n",
    "from sklearn.model_selection import train_test_split\n",
    "from sklearn.preprocessing import StandardScaler\n",
    "from sklearn.metrics import mean_squared_error\n",
    "from sklearn.decomposition import PCA\n",
    "from sklearn.feature_extraction.text import TfidfVectorizer"
   ]
  },
  {
   "cell_type": "code",
   "execution_count": 23,
   "metadata": {},
   "outputs": [],
   "source": [
    "def create_mutation_matrix(df):\n",
    "    # Create mutation labels\n",
    "    df['Mutation_Label'] = df['Protein_ID'] + '_' + df['Position'].astype(str) + '_' + df['Reference_AA'] + '->' + df['Mutated_AA']\n",
    "    \n",
    "    # Drop duplicates to ensure each mutation appears only once\n",
    "    df = df.drop_duplicates(subset=['Yeast_ID', 'Mutation_Label'])\n",
    "    \n",
    "    # Pivot the data to create a matrix, use Yeast_ID as index and Mutation_Label as columns\n",
    "    mutation_matrix = df.pivot(index='Yeast_ID', \n",
    "                               columns='Mutation_Label', \n",
    "                               values='Mutation_Label')\n",
    "    \n",
    "    # Fill missing values with 0 and set the presence of mutation to 1\n",
    "    mutation_matrix = mutation_matrix.notnull().astype(int)\n",
    "    \n",
    "    # Reset index to include Yeast_ID as a column\n",
    "    mutation_matrix.reset_index(inplace=True)\n",
    "    \n",
    "    return mutation_matrix\n",
    "\n",
    "\n",
    "dtype_dict = {\n",
    "    'Yeast_ID': str,          # Yeast_ID might be a string\n",
    "    'Protein_ID': str,        # Protein_ID might be a string\n",
    "    'Position': str,          # Position might be an int\n",
    "    'Reference_AA': str,      # Reference_AA might be a string\n",
    "    'Mutated_AA': str,        # Mutated_AA might be a string\n",
    "    'CNV': float,             # CNV might be a float (can also be NaN)\n",
    "}\n",
    "\n",
    "#mutations_data = pd.read_csv(\"data/merged_mutations_dataset.csv\", dtype=dtype_dict)\n",
    "\n",
    "mutations_data = pd.DataFrame({\n",
    "    'Yeast_ID': ['APR', 'APR', 'APL', 'APL', 'BAH', 'BAH'],\n",
    "    'Protein_ID': ['YIL109C', 'YKL096W-A', 'YIL109C', 'YKL096W-A', 'YDR343C', 'YDR343C'],\n",
    "    'Position': [10, 12, 5, 6, 20, 21],\n",
    "    'Reference_AA': ['A', 'T', 'G', 'C', 'A', 'T'],\n",
    "    'Mutated_AA': ['G', 'A', 'C', 'A', 'G', 'C'],\n",
    "})\n",
    "mutation_matrix = create_mutation_matrix(mutations_data)\n"
   ]
  },
  {
   "cell_type": "code",
   "execution_count": 24,
   "metadata": {},
   "outputs": [
    {
     "name": "stdout",
     "output_type": "stream",
     "text": [
      "Extend mutations dataset saved to data/extend_mutations_dataset.csv\n"
     ]
    }
   ],
   "source": [
    "extend_mutations_output_path = \"data/extend_mutations_dataset.csv\"\n",
    "mutation_matrix.to_csv(extend_mutations_output_path, index=False)\n",
    "print(f\"Extend mutations dataset saved to {extend_mutations_output_path}\")"
   ]
  },
  {
   "cell_type": "code",
   "execution_count": null,
   "metadata": {},
   "outputs": [],
   "source": [
    "cnv_data = pd.read_csv(\"data/copy_number_variation_dataset.csv\")\n",
    "mutation_matrix = pd.read_csv(\"data/extend_mutations_dataset.csv\")\n",
    "\n",
    "# Extraire uniquement le nom de la protéine dans copy_number_variation_dataset\n",
    "def extract_protein_id(standard_name):\n",
    "    match = re.match(r\".+\\.(Y[A-Z0-9]+)(?:_.*)?\", standard_name)\n",
    "    return match.group(1) if match else None\n",
    "\n",
    "cnv_data['Standard_name'] = cnv_data['Standard_name'].apply(extract_protein_id)\n",
    "\n",
    "# Step 1: Extract the protein names from the mutation_matrix columns\n",
    "protein_columns = [col.split('_')[0] for col in mutation_matrix.columns if col != 'Yeast_ID']\n",
    "unique_proteins = set(protein_columns)\n",
    "\n",
    "# Step 2: Filter the rows of 'data' to include only proteins in the mutation_matrix\n",
    "filtered_data = cnv_data[cnv_data['Standard_name'].isin(unique_proteins)]\n",
    "\n",
    "# Step 3: Identify missing proteins and calculate their median values for each yeast ID\n",
    "missing_proteins = unique_proteins - set(filtered_data['Standard_name'])\n",
    "median_values = filtered_data.set_index('Standard_name').median(axis=0)\n",
    "\n",
    "# Step 4: Add rows for missing proteins with median values\n",
    "for protein in missing_proteins:\n",
    "    new_row = pd.DataFrame({protein: median_values}).transpose().reset_index()\n",
    "    new_row.columns = ['Standard_name'] + list(median_values.index)\n",
    "    filtered_data = pd.concat([filtered_data, new_row], ignore_index=True)\n",
    "\n",
    "# Step 5: Transpose the filtered data\n",
    "filtered_data_transposed = filtered_data.set_index('Standard_name').transpose()\n",
    "\n",
    "# Step 6: Rename the first column to Yeast_ID\n",
    "filtered_data_transposed.rename(columns={'index': 'Yeast_ID'}, inplace=True)\n",
    "\n",
    "# Step 7: Reset the index in the mutation_matrix\n",
    "mutation_matrix = mutation_matrix.reset_index(drop=True)\n",
    "\n",
    "# Step 8: Merge the mutation_matrix with the transposed filtered data on Yeast_ID\n",
    "combined_matrix = pd.merge(\n",
    "    mutation_matrix, \n",
    "    filtered_data_transposed, \n",
    "    left_on='Yeast_ID', \n",
    "    right_index=True\n",
    ")"
   ]
  },
  {
   "cell_type": "code",
   "execution_count": 34,
   "metadata": {},
   "outputs": [
    {
     "name": "stdout",
     "output_type": "stream",
     "text": [
      "Combined_matrix X saved to data/combined_matrix.csv\n"
     ]
    }
   ],
   "source": [
    "combined_matrix_output_path = \"data/combined_matrix.csv\"\n",
    "combined_matrix.to_csv(combined_matrix_output_path, index=False)\n",
    "print(f\"Combined_matrix X saved to {combined_matrix_output_path}\")"
   ]
  },
  {
   "cell_type": "code",
   "execution_count": 36,
   "metadata": {},
   "outputs": [],
   "source": [
    "phenotype_data = pd.read_csv(\"data/phenotype_dataset.csv\")\n",
    "phenotype_data = phenotype_data.rename(columns={'Standard_name': 'Yeast_ID'})\n",
    "columns_of_interest = ['Yeast_ID', 'YPD_doublingtime']\n",
    "filtered_phenotype = phenotype_data[columns_of_interest]\n",
    "ordered_phenotype = filtered_phenotype.set_index('Yeast_ID').reindex(combined_matrix['Yeast_ID']).reset_index()"
   ]
  },
  {
   "cell_type": "code",
   "execution_count": 37,
   "metadata": {},
   "outputs": [
    {
     "name": "stdout",
     "output_type": "stream",
     "text": [
      "Ordered phenotype saved to data/ordered_phenotype_dataset.csv\n"
     ]
    }
   ],
   "source": [
    "ordered_phenotype_output_path = \"data/ordered_phenotype_dataset.csv\"\n",
    "ordered_phenotype.to_csv(ordered_phenotype_output_path, index=False)\n",
    "print(f\"Ordered phenotype saved to {ordered_phenotype_output_path}\")"
   ]
  },
  {
   "cell_type": "code",
   "execution_count": null,
   "metadata": {},
   "outputs": [
    {
     "ename": "NameError",
     "evalue": "name 'pd' is not defined",
     "output_type": "error",
     "traceback": [
      "\u001b[0;31m---------------------------------------------------------------------------\u001b[0m",
      "\u001b[0;31mNameError\u001b[0m                                 Traceback (most recent call last)",
      "Cell \u001b[0;32mIn[1], line 2\u001b[0m\n\u001b[1;32m      1\u001b[0m \u001b[38;5;66;03m# Charger les datasets\u001b[39;00m\n\u001b[0;32m----> 2\u001b[0m cnv_data \u001b[38;5;241m=\u001b[39m \u001b[43mpd\u001b[49m\u001b[38;5;241m.\u001b[39mread_csv(\u001b[38;5;124m\"\u001b[39m\u001b[38;5;124mcopy_number_variation_dataset.csv\u001b[39m\u001b[38;5;124m\"\u001b[39m)\n\u001b[1;32m      3\u001b[0m proteome_data \u001b[38;5;241m=\u001b[39m pd\u001b[38;5;241m.\u001b[39mread_csv(\u001b[38;5;124m\"\u001b[39m\u001b[38;5;124mproteome_dataset.csv\u001b[39m\u001b[38;5;124m\"\u001b[39m)\n\u001b[1;32m      4\u001b[0m phenotype_data \u001b[38;5;241m=\u001b[39m pd\u001b[38;5;241m.\u001b[39mread_csv(\u001b[38;5;124m\"\u001b[39m\u001b[38;5;124mphenotype_dataset.csv\u001b[39m\u001b[38;5;124m\"\u001b[39m)\n",
      "\u001b[0;31mNameError\u001b[0m: name 'pd' is not defined"
     ]
    }
   ],
   "source": [
    "\n",
    "# Charger les datasets\n",
    "cnv_data = pd.read_csv(\"copy_number_variation_dataset.csv\")\n",
    "proteome_data = pd.read_csv(\"proteome_dataset.csv\")\n",
    "phenotype_data = pd.read_csv(\"phenotype_dataset.csv\")\n",
    "\n",
    "# Joindre les datasets : Copy Number Variations et Proteome\n",
    "# Fusion basée sur le `Standard_name` ou une autre clé partagée\n",
    "merged_data = cnv_data.set_index(\"Standard_name\").join(proteome_data.set_index(\"Protein_ID\"), how=\"inner\")\n",
    "merged_data = merged_data.reset_index()\n",
    "\n",
    "# Ajouter la cible (YPD_doublingtime) à partir du fichier de phénotypes\n",
    "merged_data = merged_data.merge(\n",
    "    phenotype_data[[\"Standard_name\", \"YPD_doublingtime\"]], \n",
    "    left_on=\"index\", \n",
    "    right_on=\"Standard_name\", \n",
    "    how=\"inner\"\n",
    ")\n",
    "\n",
    "# Supprimer les colonnes inutiles\n",
    "merged_data = merged_data.drop(columns=[\"Standard_name\", \"index\"])\n",
    "\n",
    "# Prétraitement des données\n",
    "# 1. CNV - Normalisation\n",
    "cnv_features = merged_data.iloc[:, :-2]  # Toutes les colonnes sauf la séquence et YPD_doublingtime\n",
    "scaler = StandardScaler()\n",
    "cnv_normalized = scaler.fit_transform(cnv_features)\n",
    "\n",
    "# 2. Proteome - TF-IDF pour encoder les séquences protéiques\n",
    "vectorizer = TfidfVectorizer(analyzer=\"char\", ngram_range=(3, 3))  # Tri-grammes pour motifs locaux\n",
    "proteome_encoded = vectorizer.fit_transform(merged_data[\"Sequence\"])\n",
    "\n",
    "# Réduction de dimension avec PCA (pour limiter la taille des données après TF-IDF)\n",
    "pca = PCA(n_components=50)\n",
    "proteome_reduced = pca.fit_transform(proteome_encoded.toarray())\n",
    "\n",
    "# Combiner CNV normalisé et protéome réduit\n",
    "final_data = pd.DataFrame(cnv_normalized).join(pd.DataFrame(proteome_reduced))\n",
    "\n",
    "# Ajouter la cible (YPD_doublingtime)\n",
    "final_data[\"YPD_doublingtime\"] = merged_data[\"YPD_doublingtime\"]\n",
    "\n",
    "# Séparation en ensembles d'entraînement et de test\n",
    "X = final_data.drop(columns=[\"YPD_doublingtime\"])\n",
    "y = final_data[\"YPD_doublingtime\"]\n",
    "\n",
    "X_train, X_test, y_train, y_test = train_test_split(X, y, test_size=0.2, random_state=42)\n"
   ]
  },
  {
   "cell_type": "code",
   "execution_count": 2,
   "metadata": {},
   "outputs": [
    {
     "ename": "NameError",
     "evalue": "name 'RandomForestRegressor' is not defined",
     "output_type": "error",
     "traceback": [
      "\u001b[0;31m---------------------------------------------------------------------------\u001b[0m",
      "\u001b[0;31mNameError\u001b[0m                                 Traceback (most recent call last)",
      "Cell \u001b[0;32mIn[2], line 2\u001b[0m\n\u001b[1;32m      1\u001b[0m \u001b[38;5;66;03m# Modèle : Random Forest\u001b[39;00m\n\u001b[0;32m----> 2\u001b[0m model \u001b[38;5;241m=\u001b[39m \u001b[43mRandomForestRegressor\u001b[49m(n_estimators\u001b[38;5;241m=\u001b[39m\u001b[38;5;241m100\u001b[39m, random_state\u001b[38;5;241m=\u001b[39m\u001b[38;5;241m42\u001b[39m)\n\u001b[1;32m      3\u001b[0m model\u001b[38;5;241m.\u001b[39mfit(X_train, y_train)\n\u001b[1;32m      5\u001b[0m \u001b[38;5;66;03m# Évaluation\u001b[39;00m\n",
      "\u001b[0;31mNameError\u001b[0m: name 'RandomForestRegressor' is not defined"
     ]
    }
   ],
   "source": [
    "# Modèle : Random Forest\n",
    "model = RandomForestRegressor(n_estimators=100, random_state=42)\n",
    "model.fit(X_train, y_train)\n",
    "\n",
    "# Évaluation\n",
    "y_pred = model.predict(X_test)\n",
    "mse = mean_squared_error(y_test, y_pred)\n",
    "print(f\"Mean Squared Error: {mse}\")\n",
    "\n",
    "# Importance des caractéristiques pour les variations causatives\n",
    "feature_importances = model.feature_importances_\n",
    "sorted_indices = feature_importances.argsort()[::-1]\n",
    "print(\"Top 10 Feature Importances:\")\n",
    "for idx in sorted_indices[:10]:\n",
    "    print(f\"Feature {idx}: {feature_importances[idx]}\")"
   ]
  },
  {
   "cell_type": "code",
   "execution_count": null,
   "metadata": {},
   "outputs": [],
   "source": []
  }
 ],
 "metadata": {
  "kernelspec": {
   "display_name": "ml",
   "language": "python",
   "name": "python3"
  },
  "language_info": {
   "codemirror_mode": {
    "name": "ipython",
    "version": 3
   },
   "file_extension": ".py",
   "mimetype": "text/x-python",
   "name": "python",
   "nbconvert_exporter": "python",
   "pygments_lexer": "ipython3",
   "version": "3.12.4"
  }
 },
 "nbformat": 4,
 "nbformat_minor": 2
}
