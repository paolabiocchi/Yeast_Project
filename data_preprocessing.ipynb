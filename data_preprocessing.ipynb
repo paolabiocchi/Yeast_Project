{
 "cells": [
  {
   "cell_type": "code",
   "execution_count": 3,
   "metadata": {},
   "outputs": [],
   "source": [
    "import pandas as pd\n",
    "import re\n",
    "from sklearn.ensemble import RandomForestRegressor\n",
    "from sklearn.model_selection import train_test_split\n",
    "from sklearn.preprocessing import StandardScaler\n",
    "from sklearn.metrics import mean_squared_error\n",
    "from sklearn.decomposition import PCA\n",
    "from sklearn.feature_extraction.text import TfidfVectorizer"
   ]
  },
  {
   "cell_type": "markdown",
   "metadata": {},
   "source": [
    "idées de coco:\n",
    "- on pourrait supprimer les yeasts qui ont les même mutations exactement (mais je sais pas si ça existe)\n",
    "- si on supprime les features corrélées, c'est bien pour prédire \"y\" mais pour comprendre à quoi \"y\" est dû, c'est pas top non? Ex: si deux mutations sont corrélées (très liées), pour la compréhension de \"on arrive à ce phénotype y si...\", ce sera \"si on a les deux mutations\", mais si on en tej une, on aura \"on arrive à ce phénotype y si : la yeast exprime la mutation (celle qu'on a pas tej)\""
   ]
  },
  {
   "cell_type": "code",
   "execution_count": null,
   "metadata": {},
   "outputs": [
    {
     "ename": "NameError",
     "evalue": "name 'pd' is not defined",
     "output_type": "error",
     "traceback": [
      "\u001b[0;31m---------------------------------------------------------------------------\u001b[0m",
      "\u001b[0;31mNameError\u001b[0m                                 Traceback (most recent call last)",
      "Cell \u001b[0;32mIn[1], line 2\u001b[0m\n\u001b[1;32m      1\u001b[0m \u001b[38;5;66;03m# Charger les datasets\u001b[39;00m\n\u001b[0;32m----> 2\u001b[0m cnv_data \u001b[38;5;241m=\u001b[39m \u001b[43mpd\u001b[49m\u001b[38;5;241m.\u001b[39mread_csv(\u001b[38;5;124m\"\u001b[39m\u001b[38;5;124mcopy_number_variation_dataset.csv\u001b[39m\u001b[38;5;124m\"\u001b[39m)\n\u001b[1;32m      3\u001b[0m proteome_data \u001b[38;5;241m=\u001b[39m pd\u001b[38;5;241m.\u001b[39mread_csv(\u001b[38;5;124m\"\u001b[39m\u001b[38;5;124mproteome_dataset.csv\u001b[39m\u001b[38;5;124m\"\u001b[39m)\n\u001b[1;32m      4\u001b[0m phenotype_data \u001b[38;5;241m=\u001b[39m pd\u001b[38;5;241m.\u001b[39mread_csv(\u001b[38;5;124m\"\u001b[39m\u001b[38;5;124mphenotype_dataset.csv\u001b[39m\u001b[38;5;124m\"\u001b[39m)\n",
      "\u001b[0;31mNameError\u001b[0m: name 'pd' is not defined"
     ]
    }
   ],
   "source": [
    "# Charger les datasets\n",
    "cnv_data = pd.read_csv(\"copy_number_variation_dataset.csv\")\n",
    "proteome_data = pd.read_csv(\"proteome_dataset.csv\")\n",
    "phenotype_data = pd.read_csv(\"phenotype_dataset.csv\")\n",
    "\n",
    "# Joindre les datasets : Copy Number Variations et Proteome\n",
    "# Fusion basée sur le `Standard_name` ou une autre clé partagée\n",
    "merged_data = cnv_data.set_index(\"Standard_name\").join(proteome_data.set_index(\"Protein_ID\"), how=\"inner\")\n",
    "merged_data = merged_data.reset_index()\n",
    "\n",
    "# Ajouter la cible (YPD_doublingtime) à partir du fichier de phénotypes\n",
    "merged_data = merged_data.merge(\n",
    "    phenotype_data[[\"Standard_name\", \"YPD_doublingtime\"]], \n",
    "    left_on=\"index\", \n",
    "    right_on=\"Standard_name\", \n",
    "    how=\"inner\"\n",
    ")\n",
    "\n",
    "# Supprimer les colonnes inutiles\n",
    "merged_data = merged_data.drop(columns=[\"Standard_name\", \"index\"])\n",
    "\n",
    "# Prétraitement des données\n",
    "# 1. CNV - Normalisation\n",
    "cnv_features = merged_data.iloc[:, :-2]  # Toutes les colonnes sauf la séquence et YPD_doublingtime\n",
    "scaler = StandardScaler()\n",
    "cnv_normalized = scaler.fit_transform(cnv_features)\n",
    "\n",
    "# 2. Proteome - TF-IDF pour encoder les séquences protéiques\n",
    "vectorizer = TfidfVectorizer(analyzer=\"char\", ngram_range=(3, 3))  # Tri-grammes pour motifs locaux\n",
    "proteome_encoded = vectorizer.fit_transform(merged_data[\"Sequence\"])\n",
    "\n",
    "# Réduction de dimension avec PCA (pour limiter la taille des données après TF-IDF)\n",
    "pca = PCA(n_components=50)\n",
    "proteome_reduced = pca.fit_transform(proteome_encoded.toarray())\n",
    "\n",
    "# Combiner CNV normalisé et protéome réduit\n",
    "final_data = pd.DataFrame(cnv_normalized).join(pd.DataFrame(proteome_reduced))\n",
    "\n",
    "# Ajouter la cible (YPD_doublingtime)\n",
    "#final_data[\"YPD_doublingtime\"] = merged_data[\"YPD_doublingtime\"]\n",
    "\n",
    "# Séparation en ensembles d'entraînement et de test\n",
    "X = final_data.drop(columns=[\"YPD_doublingtime\"])\n",
    "y = final_data[\"YPD_doublingtime\"]\n",
    "\n",
    "X_train, X_test, y_train, y_test = train_test_split(X, y, test_size=0.2, random_state=42)\n"
   ]
  },
  {
   "cell_type": "code",
   "execution_count": null,
   "metadata": {},
   "outputs": [
    {
     "name": "stdout",
     "output_type": "stream",
     "text": [
      "Converting to sparse matrix...\n",
      "Applying low-variance filter...\n",
      "Applying PCA using Truncated SVD...\n",
      "Converting reduced matrix back to DataFrame...\n",
      "Normalizing data...\n",
      "Saving to file...\n",
      "Processing in batches using Dask...\n",
      "Dask DataFrame Structure:\n",
      "              Yeast_ID     PC_0     PC_1     PC_2\n",
      "npartitions=1                                    \n",
      "                string  float64  float64  float64\n",
      "                   ...      ...      ...      ...\n",
      "Dask Name: read_parquet, 1 expression\n",
      "Expr=ReadParquetFSSpec(a1a3beb)\n",
      "Preprocessing complete.\n"
     ]
    }
   ],
   "source": [
    "#preprocess coco\n",
    "from scipy.sparse import csr_matrix\n",
    "from sklearn.feature_selection import VarianceThreshold\n",
    "from sklearn.decomposition import TruncatedSVD\n",
    "import dask.dataframe as dd\n",
    "\n",
    "X = pd.read_csv(\"data/X_matrix.csv\")\n",
    "ordered_phenotype = pd.read_csv(\"data/ordered_phenotype_dataset.csv\")\n",
    "y = ordered_phenotype[\"YPD_doublingtime\"]\n",
    "\n",
    "# 1. Convert the mutation matrix to sparse representation\n",
    "print(\"Converting to sparse matrix...\")\n",
    "sparse_mutation_matrix = csr_matrix(X.iloc[:, 1:].values)\n",
    "\n",
    "# 2. Dimensionality Reduction\n",
    "# a. Low-Variance Filter\n",
    "print(\"Applying low-variance filter...\")\n",
    "variance_threshold = 0.01\n",
    "selector = VarianceThreshold(threshold=variance_threshold)\n",
    "reduced_sparse_matrix = selector.fit_transform(sparse_mutation_matrix)\n",
    "selected_features = selector.get_support(indices=True)\n",
    "\n",
    "# b. Truncated SVD (for further reduction)\n",
    "print(\"Applying PCA using Truncated SVD...\")\n",
    "n_components = 9  # Adjust based on the desired dimensionality\n",
    "svd = TruncatedSVD(n_components=n_components, random_state=42)\n",
    "reduced_matrix_pca = svd.fit_transform(reduced_sparse_matrix)\n",
    "\n",
    "# 3. Convert Reduced Matrix Back to DataFrame\n",
    "print(\"Converting reduced matrix back to DataFrame...\")\n",
    "reduced_df = pd.DataFrame(\n",
    "    reduced_matrix_pca, \n",
    "    columns=[f'PC_{i}' for i in range(reduced_matrix_pca.shape[1])]\n",
    ")\n",
    "reduced_df.insert(0, 'Yeast_ID', X['Yeast_ID'])\n",
    "\n",
    "# 4. Normalize Data\n",
    "print(\"Normalizing data...\")\n",
    "reduced_df.iloc[:, 1:] = (reduced_df.iloc[:, 1:] - reduced_df.iloc[:, 1:].mean()) / reduced_df.iloc[:, 1:].std()\n",
    "\n",
    "# 5. Save Intermediate Results\n",
    "print(\"Saving to file...\")\n",
    "reduced_df.to_parquet('reduced_mutation_matrix.parquet')\n",
    "\n",
    "# 6. Use Dask for Further Processing (if needed)\n",
    "print(\"Processing in batches using Dask...\")\n",
    "dask_df = dd.read_parquet('reduced_mutation_matrix.parquet')\n",
    "\n",
    "# Handle missing data: Fill NaN with 0 (or another value)\n",
    "processed_dask_df = dask_df.fillna(0)  # Adjust fill value as needed\n",
    "\n",
    "# Compute and Save Final Dataset\n",
    "final_df = processed_dask_df.compute()\n",
    "final_df.to_parquet('final_mutation_matrix.parquet')\n",
    "\n",
    "print(\"Preprocessing complete.\")\n",
    "\n",
    "X_train, X_test, y_train, y_test = train_test_split(final_df, y, test_size=0.2, random_state=42)\n"
   ]
  },
  {
   "cell_type": "code",
   "execution_count": 2,
   "metadata": {},
   "outputs": [
    {
     "ename": "NameError",
     "evalue": "name 'RandomForestRegressor' is not defined",
     "output_type": "error",
     "traceback": [
      "\u001b[0;31m---------------------------------------------------------------------------\u001b[0m",
      "\u001b[0;31mNameError\u001b[0m                                 Traceback (most recent call last)",
      "Cell \u001b[0;32mIn[2], line 2\u001b[0m\n\u001b[1;32m      1\u001b[0m \u001b[38;5;66;03m# Modèle : Random Forest\u001b[39;00m\n\u001b[0;32m----> 2\u001b[0m model \u001b[38;5;241m=\u001b[39m \u001b[43mRandomForestRegressor\u001b[49m(n_estimators\u001b[38;5;241m=\u001b[39m\u001b[38;5;241m100\u001b[39m, random_state\u001b[38;5;241m=\u001b[39m\u001b[38;5;241m42\u001b[39m)\n\u001b[1;32m      3\u001b[0m model\u001b[38;5;241m.\u001b[39mfit(X_train, y_train)\n\u001b[1;32m      5\u001b[0m \u001b[38;5;66;03m# Évaluation\u001b[39;00m\n",
      "\u001b[0;31mNameError\u001b[0m: name 'RandomForestRegressor' is not defined"
     ]
    }
   ],
   "source": [
    "# Modèle : Random Forest\n",
    "model = RandomForestRegressor(n_estimators=100, random_state=42)\n",
    "model.fit(X_train, y_train)\n",
    "\n",
    "# Évaluation\n",
    "y_pred = model.predict(X_test)\n",
    "mse = mean_squared_error(y_test, y_pred)\n",
    "print(f\"Mean Squared Error: {mse}\")\n",
    "\n",
    "# Importance des caractéristiques pour les variations causatives\n",
    "feature_importances = model.feature_importances_\n",
    "sorted_indices = feature_importances.argsort()[::-1]\n",
    "print(\"Top 10 Feature Importances:\")\n",
    "for idx in sorted_indices[:10]:\n",
    "    print(f\"Feature {idx}: {feature_importances[idx]}\")"
   ]
  },
  {
   "cell_type": "code",
   "execution_count": null,
   "metadata": {},
   "outputs": [],
   "source": []
  }
 ],
 "metadata": {
  "kernelspec": {
   "display_name": "ml",
   "language": "python",
   "name": "python3"
  },
  "language_info": {
   "codemirror_mode": {
    "name": "ipython",
    "version": 3
   },
   "file_extension": ".py",
   "mimetype": "text/x-python",
   "name": "python",
   "nbconvert_exporter": "python",
   "pygments_lexer": "ipython3",
   "version": "3.12.4"
  }
 },
 "nbformat": 4,
 "nbformat_minor": 2
}
