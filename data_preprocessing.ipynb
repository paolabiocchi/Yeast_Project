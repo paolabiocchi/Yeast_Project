{
 "cells": [
  {
   "cell_type": "code",
   "execution_count": null,
   "metadata": {},
   "outputs": [],
   "source": [
    "import pandas as pd\n",
    "from sklearn.ensemble import RandomForestRegressor\n",
    "from sklearn.model_selection import train_test_split\n",
    "from sklearn.preprocessing import StandardScaler\n",
    "from sklearn.metrics import mean_squared_error\n",
    "from sklearn.decomposition import PCA\n",
    "from sklearn.feature_extraction.text import TfidfVectorizer"
   ]
  },
  {
   "cell_type": "code",
   "execution_count": 1,
   "metadata": {},
   "outputs": [
    {
     "ename": "NameError",
     "evalue": "name 'pd' is not defined",
     "output_type": "error",
     "traceback": [
      "\u001b[0;31m---------------------------------------------------------------------------\u001b[0m",
      "\u001b[0;31mNameError\u001b[0m                                 Traceback (most recent call last)",
      "Cell \u001b[0;32mIn[1], line 2\u001b[0m\n\u001b[1;32m      1\u001b[0m \u001b[38;5;66;03m# Charger les datasets\u001b[39;00m\n\u001b[0;32m----> 2\u001b[0m cnv_data \u001b[38;5;241m=\u001b[39m \u001b[43mpd\u001b[49m\u001b[38;5;241m.\u001b[39mread_csv(\u001b[38;5;124m\"\u001b[39m\u001b[38;5;124mcopy_number_variation_dataset.csv\u001b[39m\u001b[38;5;124m\"\u001b[39m)\n\u001b[1;32m      3\u001b[0m proteome_data \u001b[38;5;241m=\u001b[39m pd\u001b[38;5;241m.\u001b[39mread_csv(\u001b[38;5;124m\"\u001b[39m\u001b[38;5;124mproteome_dataset.csv\u001b[39m\u001b[38;5;124m\"\u001b[39m)\n\u001b[1;32m      4\u001b[0m phenotype_data \u001b[38;5;241m=\u001b[39m pd\u001b[38;5;241m.\u001b[39mread_csv(\u001b[38;5;124m\"\u001b[39m\u001b[38;5;124mphenotype_dataset.csv\u001b[39m\u001b[38;5;124m\"\u001b[39m)\n",
      "\u001b[0;31mNameError\u001b[0m: name 'pd' is not defined"
     ]
    }
   ],
   "source": [
    "\n",
    "# Charger les datasets\n",
    "cnv_data = pd.read_csv(\"copy_number_variation_dataset.csv\")\n",
    "proteome_data = pd.read_csv(\"proteome_dataset.csv\")\n",
    "phenotype_data = pd.read_csv(\"phenotype_dataset.csv\")\n",
    "\n",
    "# Joindre les datasets : Copy Number Variations et Proteome\n",
    "# Fusion basée sur le `Standard_name` ou une autre clé partagée\n",
    "merged_data = cnv_data.set_index(\"Standard_name\").join(proteome_data.set_index(\"Protein_ID\"), how=\"inner\")\n",
    "merged_data = merged_data.reset_index()\n",
    "\n",
    "# Ajouter la cible (YPD_doublingtime) à partir du fichier de phénotypes\n",
    "merged_data = merged_data.merge(\n",
    "    phenotype_data[[\"Standard_name\", \"YPD_doublingtime\"]], \n",
    "    left_on=\"index\", \n",
    "    right_on=\"Standard_name\", \n",
    "    how=\"inner\"\n",
    ")\n",
    "\n",
    "# Supprimer les colonnes inutiles\n",
    "merged_data = merged_data.drop(columns=[\"Standard_name\", \"index\"])\n",
    "\n",
    "# Prétraitement des données\n",
    "# 1. CNV - Normalisation\n",
    "cnv_features = merged_data.iloc[:, :-2]  # Toutes les colonnes sauf la séquence et YPD_doublingtime\n",
    "scaler = StandardScaler()\n",
    "cnv_normalized = scaler.fit_transform(cnv_features)\n",
    "\n",
    "# 2. Proteome - TF-IDF pour encoder les séquences protéiques\n",
    "vectorizer = TfidfVectorizer(analyzer=\"char\", ngram_range=(3, 3))  # Tri-grammes pour motifs locaux\n",
    "proteome_encoded = vectorizer.fit_transform(merged_data[\"Sequence\"])\n",
    "\n",
    "# Réduction de dimension avec PCA (pour limiter la taille des données après TF-IDF)\n",
    "pca = PCA(n_components=50)\n",
    "proteome_reduced = pca.fit_transform(proteome_encoded.toarray())\n",
    "\n",
    "# Combiner CNV normalisé et protéome réduit\n",
    "final_data = pd.DataFrame(cnv_normalized).join(pd.DataFrame(proteome_reduced))\n",
    "\n",
    "# Ajouter la cible (YPD_doublingtime)\n",
    "final_data[\"YPD_doublingtime\"] = merged_data[\"YPD_doublingtime\"]\n",
    "\n",
    "# Séparation en ensembles d'entraînement et de test\n",
    "X = final_data.drop(columns=[\"YPD_doublingtime\"])\n",
    "y = final_data[\"YPD_doublingtime\"]\n",
    "\n",
    "X_train, X_test, y_train, y_test = train_test_split(X, y, test_size=0.2, random_state=42)\n"
   ]
  },
  {
   "cell_type": "code",
   "execution_count": 2,
   "metadata": {},
   "outputs": [
    {
     "ename": "NameError",
     "evalue": "name 'RandomForestRegressor' is not defined",
     "output_type": "error",
     "traceback": [
      "\u001b[0;31m---------------------------------------------------------------------------\u001b[0m",
      "\u001b[0;31mNameError\u001b[0m                                 Traceback (most recent call last)",
      "Cell \u001b[0;32mIn[2], line 2\u001b[0m\n\u001b[1;32m      1\u001b[0m \u001b[38;5;66;03m# Modèle : Random Forest\u001b[39;00m\n\u001b[0;32m----> 2\u001b[0m model \u001b[38;5;241m=\u001b[39m \u001b[43mRandomForestRegressor\u001b[49m(n_estimators\u001b[38;5;241m=\u001b[39m\u001b[38;5;241m100\u001b[39m, random_state\u001b[38;5;241m=\u001b[39m\u001b[38;5;241m42\u001b[39m)\n\u001b[1;32m      3\u001b[0m model\u001b[38;5;241m.\u001b[39mfit(X_train, y_train)\n\u001b[1;32m      5\u001b[0m \u001b[38;5;66;03m# Évaluation\u001b[39;00m\n",
      "\u001b[0;31mNameError\u001b[0m: name 'RandomForestRegressor' is not defined"
     ]
    }
   ],
   "source": [
    "# Modèle : Random Forest\n",
    "model = RandomForestRegressor(n_estimators=100, random_state=42)\n",
    "model.fit(X_train, y_train)\n",
    "\n",
    "# Évaluation\n",
    "y_pred = model.predict(X_test)\n",
    "mse = mean_squared_error(y_test, y_pred)\n",
    "print(f\"Mean Squared Error: {mse}\")\n",
    "\n",
    "# Importance des caractéristiques pour les variations causatives\n",
    "feature_importances = model.feature_importances_\n",
    "sorted_indices = feature_importances.argsort()[::-1]\n",
    "print(\"Top 10 Feature Importances:\")\n",
    "for idx in sorted_indices[:10]:\n",
    "    print(f\"Feature {idx}: {feature_importances[idx]}\")"
   ]
  },
  {
   "cell_type": "code",
   "execution_count": null,
   "metadata": {},
   "outputs": [],
   "source": []
  }
 ],
 "metadata": {
  "kernelspec": {
   "display_name": "env_ml",
   "language": "python",
   "name": "python3"
  },
  "language_info": {
   "codemirror_mode": {
    "name": "ipython",
    "version": 3
   },
   "file_extension": ".py",
   "mimetype": "text/x-python",
   "name": "python",
   "nbconvert_exporter": "python",
   "pygments_lexer": "ipython3",
   "version": "3.12.4"
  }
 },
 "nbformat": 4,
 "nbformat_minor": 2
}
