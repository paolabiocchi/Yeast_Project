{
 "cells": [
  {
   "cell_type": "code",
   "execution_count": null,
   "metadata": {},
   "outputs": [],
   "source": [
    "import pandas as pd\n",
    "import numpy as np\n",
    "from sklearn.svm import SVR\n",
    "from sklearn.model_selection import train_test_split, RandomizedSearchCV\n",
    "from sklearn.preprocessing import StandardScaler\n",
    "from sklearn.multioutput import MultiOutputRegressor\n",
    "from sklearn.metrics import mean_squared_error, r2_score\n",
    "from scipy.stats import loguniform\n",
    "import matplotlib.pyplot as plt\n",
    "from preprocessing import *\n",
    "from save_and_compare_results import *\n",
    "import shap"
   ]
  },
  {
   "cell_type": "code",
   "execution_count": null,
   "metadata": {},
   "outputs": [],
   "source": [
    "X = pd.read_pickle(\"X_matrix_proteins_nb.pkl\")\n",
    "Y = pd.read_pickle(\"Y_matrix_proteins_nb.pkl\")\n",
    "\n",
    "# Preprocess the data\n",
    "X = X.drop(columns=[\"Yeast_ID\"]).fillna(0)\n",
    "Y = Y.drop(columns=[\"Yeast_ID\"]).fillna(Y.drop(columns=[\"Yeast_ID\"]).mean())"
   ]
  },
  {
   "cell_type": "code",
   "execution_count": null,
   "metadata": {},
   "outputs": [],
   "source": [
    "param_distributions = {\n",
    "    \"C\": loguniform(1e-3, 1e3),\n",
    "    \"epsilon\": loguniform(1e-3, 1),\n",
    "    \"gamma\": [\"scale\", \"auto\"],\n",
    "    \"kernel\": [\"linear\", \"rbf\"]\n",
    "}\n",
    "\n",
    "svr = SVR()\n",
    "multi_svr = MultiOutputRegressor(RandomizedSearchCV(\n",
    "    estimator=svr,\n",
    "    param_distributions=param_distributions,\n",
    "    n_iter=50, \n",
    "    cv=3,\n",
    "    verbose=1,\n",
    "    random_state=42,\n",
    "    n_jobs=-1\n",
    "))\n",
    "\n",
    "multi_svr.fit(X, Y)"
   ]
  },
  {
   "cell_type": "code",
   "execution_count": null,
   "metadata": {},
   "outputs": [],
   "source": [
    "best_model = multi_svr.best_estimator_\n",
    "best_params = multi_svr.best_params_\n",
    "print(\"\\nBest hyperparameters :\", best_params)"
   ]
  },
  {
   "cell_type": "code",
   "execution_count": null,
   "metadata": {},
   "outputs": [],
   "source": [
    "y_pred = best_model.predict(X)\n",
    "r2 = r2_score(Y, y_pred)\n",
    "mse = mean_squared_error(Y, y_pred)\n",
    "print(f\"\\nR² Score: {r2:.4f}, Mean Squared Error: {mse:.4f}\")"
   ]
  },
  {
   "cell_type": "markdown",
   "metadata": {},
   "source": [
    "# Model features importance"
   ]
  },
  {
   "cell_type": "code",
   "execution_count": null,
   "metadata": {},
   "outputs": [],
   "source": [
    "# Save feature importance from SVM\n",
    "print(\"Saving SVM feature importances...\")\n",
    "save_feature_importance(\n",
    "    features=X.columns,\n",
    "    importance_scores=best_model.feature_importances_,\n",
    "    method=\"model\",\n",
    "    model_name=\"SVM\"\n",
    ")\n",
    "\n",
    "# Display and plot the top 10 features\n",
    "print(\"Displaying top 10 features...\")\n",
    "feature_importances_df = pd.DataFrame({\n",
    "    \"Feature\": X.columns,\n",
    "    \"Importance\": best_model.feature_importances_\n",
    "}).sort_values(by=\"Importance\", ascending=False)\n",
    "\n",
    "top_features = feature_importances_df.head(10)\n",
    "\n",
    "print(\"\\nTop 10 Features Impacting YPD Doubling Time:\")\n",
    "print(top_features)\n",
    "\n",
    "plt.figure(figsize=(10, 6))\n",
    "plt.barh(top_features[\"Feature\"], top_features[\"Importance\"], color=\"skyblue\")\n",
    "plt.xlabel(\"Coefficient Value\")\n",
    "plt.ylabel(\"Feature\")\n",
    "plt.title(\"Top 10 Features (RF)\")\n",
    "plt.gca().invert_yaxis()\n",
    "plt.show()"
   ]
  },
  {
   "cell_type": "markdown",
   "metadata": {},
   "source": [
    "# SHAP features importance"
   ]
  },
  {
   "cell_type": "code",
   "execution_count": null,
   "metadata": {},
   "outputs": [],
   "source": [
    "print(\"Calcul of SHAP values...\")\n",
    "explainer = shap.Explainer(best_model, X)\n",
    "shap_values = explainer(X)\n",
    "shap_mean_importance = np.abs(shap_values.values).mean(axis=0)\n",
    "\n",
    "# Sauvegarder les importances SHAP\n",
    "print(\"Saving SHAP feature importances for SVM...\")\n",
    "save_feature_importance(\n",
    "    features=X.columns,\n",
    "    importance_scores=shap_mean_importance,\n",
    "    method=\"SHAP\",\n",
    "    model_name=\"SVM\"\n",
    ")\n",
    "\n",
    "# %%\n",
    "# Graphiques SHAP\n",
    "print(\"Generating SHAP summary plots for RF...\")\n",
    "shap.summary_plot(shap_values, X, plot_type=\"bar\")\n",
    "shap.summary_plot(shap_values, X)"
   ]
  }
 ],
 "metadata": {
  "kernelspec": {
   "display_name": "base",
   "language": "python",
   "name": "python3"
  },
  "language_info": {
   "codemirror_mode": {
    "name": "ipython",
    "version": 3
   },
   "file_extension": ".py",
   "mimetype": "text/x-python",
   "name": "python",
   "nbconvert_exporter": "python",
   "pygments_lexer": "ipython3",
   "version": "3.9.12"
  }
 },
 "nbformat": 4,
 "nbformat_minor": 2
}
