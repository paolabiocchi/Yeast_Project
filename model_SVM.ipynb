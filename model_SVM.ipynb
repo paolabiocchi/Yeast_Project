{
 "cells": [
  {
   "cell_type": "code",
   "execution_count": null,
   "metadata": {},
   "outputs": [],
   "source": [
    "import pandas as pd\n",
    "import numpy as np\n",
    "from sklearn.svm import SVR\n",
    "from sklearn.model_selection import train_test_split, RandomizedSearchCV\n",
    "from sklearn.preprocessing import StandardScaler\n",
    "from sklearn.multioutput import MultiOutputRegressor\n",
    "from sklearn.metrics import mean_squared_error, r2_score\n",
    "from scipy.stats import loguniform\n",
    "import matplotlib.pyplot as plt\n",
    "from preprocessing import *"
   ]
  },
  {
   "cell_type": "code",
   "execution_count": null,
   "metadata": {},
   "outputs": [],
   "source": [
    "X_file = \"data/X_matrix.csv\"\n",
    "Y_file = \"data/Y_matrix.csv\"\n",
    "\n",
    "print(\"Chargement des données...\")\n",
    "X = pd.read_csv(X_file)\n",
    "Y = pd.read_csv(Y_file)"
   ]
  },
  {
   "cell_type": "code",
   "execution_count": null,
   "metadata": {},
   "outputs": [],
   "source": [
    "# Préparer les données\n",
    "# Vérifier et supprimer les colonnes inutiles comme 'Yeast_ID'\n",
    "if \"Yeast_ID\" in X.columns:\n",
    "    X = X.drop(columns=[\"Yeast_ID\"])\n",
    "if \"Yeast_ID\" in Y.columns:\n",
    "    Y = Y.drop(columns=[\"Yeast_ID\"])\n",
    "\n",
    "X, Y = preprocessed_data(X, Y)"
   ]
  },
  {
   "cell_type": "code",
   "execution_count": null,
   "metadata": {},
   "outputs": [],
   "source": [
    "print(f\"Dimensions après prétraitement : X={X_pre.shape}, Y={Y_pre.shape}\")\n",
    "\n",
    "# Aperçu des données après prétraitement\n",
    "print(\"Aperçu des premières lignes des données après prétraitement :\")\n",
    "print(X_pre.head())\n",
    "print(Y_pre.head())"
   ]
  },
  {
   "cell_type": "code",
   "execution_count": null,
   "metadata": {},
   "outputs": [],
   "source": [
    "# Diviser les données en ensembles d'entraînement et de test\n",
    "print(\"Division des données en ensembles d'entraînement et de test...\")\n",
    "X_train, X_test, y_train, y_test = train_test_split(X, Y, test_size=0.25, random_state=42)\n",
    "\n",
    "# Affichage des dimensions des ensembles divisés\n",
    "print(f\"Dimensions de X_train : {X_train.shape}, X_test : {X_test.shape}\")\n",
    "print(f\"Dimensions de y_train : {y_train.shape}, y_test : {y_test.shape}\")"
   ]
  },
  {
   "cell_type": "code",
   "execution_count": null,
   "metadata": {},
   "outputs": [],
   "source": [
    "# Définir les distributions pour RandomizedSearchCV\n",
    "param_distributions = {\n",
    "    \"C\": loguniform(1e-3, 1e3),\n",
    "    \"epsilon\": loguniform(1e-3, 1),\n",
    "    \"gamma\": [\"scale\", \"auto\"],\n",
    "    \"kernel\": [\"linear\", \"rbf\"]\n",
    "}"
   ]
  },
  {
   "cell_type": "code",
   "execution_count": null,
   "metadata": {},
   "outputs": [],
   "source": [
    "# Configurer et entraîner le modèle multitâche\n",
    "print(\"Optimisation des hyperparamètres avec RandomizedSearchCV...\")\n",
    "svr = SVR()\n",
    "multi_svr = MultiOutputRegressor(RandomizedSearchCV(\n",
    "    estimator=svr,\n",
    "    param_distributions=param_distributions,\n",
    "    n_iter=50,  # Nombre d'itérations pour RandomizedSearchCV\n",
    "    cv=3,\n",
    "    verbose=1,\n",
    "    random_state=42,\n",
    "    n_jobs=-1\n",
    "))\n",
    "\n",
    "multi_svr.fit(X_train, y_train)"
   ]
  },
  {
   "cell_type": "code",
   "execution_count": null,
   "metadata": {},
   "outputs": [],
   "source": [
    "# Prédictions\n",
    "print(\"Prédictions sur l'ensemble de test...\")\n",
    "y_pred = multi_svr.predict(X_test)"
   ]
  },
  {
   "cell_type": "code",
   "execution_count": null,
   "metadata": {},
   "outputs": [],
   "source": [
    "# Sauvegarde des résultats\n",
    "y_test_pred_df = pd.DataFrame(y_pred, index=y_test.index, columns=Y.columns)\n",
    "y_test_pred_df.to_csv('results/y_test_predicted_multitarget_GBM.csv')"
   ]
  },
  {
   "cell_type": "code",
   "execution_count": null,
   "metadata": {},
   "outputs": [],
   "source": [
    "# Calcul des métriques\n",
    "mse = mean_squared_error(y_test, y_pred)\n",
    "r2 = r2_score(y_test, y_pred)\n",
    "print(f\"Mean Squared Error (MSE): {mse}\")\n",
    "print(f\"R² Score: {r2}\")"
   ]
  },
  {
   "cell_type": "code",
   "execution_count": null,
   "metadata": {},
   "outputs": [],
   "source": [
    "# Afficher les hyperparamètres optimaux\n",
    "print(\"Hyperparamètres optimaux pour chaque tâche :\")\n",
    "for i, estimator in enumerate(multi_svr.estimators_):\n",
    "    print(f\"Tâche {i + 1}: {estimator.best_params_}\")\n"
   ]
  },
  {
   "cell_type": "code",
   "execution_count": null,
   "metadata": {},
   "outputs": [],
   "source": [
    "for i in range(y_test.shape[1]):\n",
    "    plt.figure(figsize=(8, 6))\n",
    "    plt.scatter(y_test.iloc[:, i], y_pred[:, i], alpha=0.7)\n",
    "    plt.plot([y_test.iloc[:, i].min(), y_test.iloc[:, i].max()],\n",
    "             [y_test.iloc[:, i].min(), y_test.iloc[:, i].max()],\n",
    "             \"r--\", lw=2)\n",
    "    plt.title(f\"Résultats de la tâche {i + 1}\")\n",
    "    plt.xlabel(\"Valeurs réelles\")\n",
    "    plt.ylabel(\"Valeurs prédites\")\n",
    "    plt.show()"
   ]
  }
 ],
 "metadata": {
  "kernelspec": {
   "display_name": "base",
   "language": "python",
   "name": "python3"
  },
  "language_info": {
   "name": "python",
   "version": "3.9.12"
  }
 },
 "nbformat": 4,
 "nbformat_minor": 2
}
