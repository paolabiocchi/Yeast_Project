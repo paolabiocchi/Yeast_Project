{
 "cells": [
  {
   "cell_type": "code",
   "execution_count": null,
   "metadata": {},
   "outputs": [],
   "source": [
    "import dask.dataframe as dd\n",
    "import pandas as pd\n",
    "from sklearn.ensemble import RandomForestRegressor\n",
    "from sklearn.model_selection import train_test_split\n",
    "from sklearn.metrics import mean_squared_error, r2_score\n",
    "import matplotlib.pyplot as plt\n"
   ]
  },
  {
   "cell_type": "code",
   "execution_count": null,
   "metadata": {},
   "outputs": [],
   "source": [
    "# Charger les fichiers\n",
    "mutations_file = \"data/extend_mutations_dataset.csv\"  # Fichier contenant les mutations\n",
    "phenotype_file = \"data/filtered_phenotype_dataset.csv\"  # Fichier contenant les YPD doubling times\n",
    "\n",
    "\n",
    "# Charger les données avec Dask\n",
    "print(\"Chargement des fichiers...\")\n",
    "mutations_df = dd.read_csv(mutations_file)\n",
    "phenotype_df = pd.read_csv(phenotype_file)"
   ]
  },
  {
   "cell_type": "code",
   "execution_count": null,
   "metadata": {},
   "outputs": [],
   "source": [
    "# Vérifier l'ordre des Yeast_ID\n",
    "if not all(mutations_df[\"Yeast_ID\"] == phenotype_df[\"Yeast_ID\"]):\n",
    "    raise ValueError(\"L'ordre des Yeast_ID ne correspond pas entre les deux fichiers.\")"
   ]
  },
  {
   "cell_type": "code",
   "execution_count": null,
   "metadata": {},
   "outputs": [],
   "source": [
    "# Préparer les données\n",
    "X = mutations_df.drop(columns=[\"Yeast_ID\"])\n",
    "y = phenotype_df[\"YPD_doublingtime\"]\n",
    "\n",
    "# Gérer les valeurs manquantes dans y\n",
    "y.fillna(y.mean(), inplace=True)"
   ]
  },
  {
   "cell_type": "code",
   "execution_count": null,
   "metadata": {},
   "outputs": [],
   "source": [
    "# Diviser les données en ensemble d'entraînement et de test\n",
    "X_train, X_test, y_train, y_test = train_test_split(X, y, test_size=0.2, random_state=42)"
   ]
  },
  {
   "cell_type": "code",
   "execution_count": null,
   "metadata": {},
   "outputs": [],
   "source": [
    "\n",
    "\n",
    "# Modèle : Random Forest Regressor\n",
    "model = RandomForestRegressor(random_state=42, n_estimators=100)\n",
    "model.fit(X_train, y_train)\n",
    "\n",
    "# Prédictions\n",
    "y_pred = model.predict(X_test)\n",
    "\n",
    "# Évaluer le modèle\n",
    "mse = mean_squared_error(y_test, y_pred)\n",
    "r2 = r2_score(y_test, y_pred)\n",
    "print(f\"Mean Squared Error: {mse}\")\n",
    "print(f\"R² Score: {r2}\")\n",
    "\n",
    "# Importance des caractéristiques\n",
    "feature_importances = pd.DataFrame({\n",
    "    \"Feature\": X.columns,\n",
    "    \"Importance\": model.feature_importances_\n",
    "}).sort_values(by=\"Importance\", ascending=False)\n"
   ]
  },
  {
   "cell_type": "code",
   "execution_count": null,
   "metadata": {},
   "outputs": [],
   "source": [
    "# Afficher les mutations les plus importantes\n",
    "top_mutations = feature_importances.head(10)\n",
    "print(\"\\nMutations ayant le plus d'impact sur le YPD doubling time :\")\n",
    "print(top_mutations)\n",
    "\n",
    "# Visualisation\n",
    "plt.figure(figsize=(10, 6))\n",
    "plt.barh(top_mutations[\"Feature\"], top_mutations[\"Importance\"], color=\"skyblue\")\n",
    "plt.xlabel(\"Importance\")\n",
    "plt.ylabel(\"Mutation\")\n",
    "plt.title(\"Top 10 Mutations Impacting YPD Doubling Time\")\n",
    "plt.gca().invert_yaxis()\n",
    "plt.show()"
   ]
  },
  {
   "cell_type": "code",
   "execution_count": null,
   "metadata": {},
   "outputs": [],
   "source": []
  },
  {
   "cell_type": "code",
   "execution_count": null,
   "metadata": {},
   "outputs": [],
   "source": [
    "# Vérifier l'ordre des Yeast_ID (en mémoire uniquement pour la vérification)\n",
    "print(\"Vérification de l'ordre des Yeast_ID...\")\n",
    "if not all(mutations_df[\"Yeast_ID\"].compute() == phenotype_df[\"Yeast_ID\"]):\n",
    "    raise ValueError(\"L'ordre des Yeast_ID ne correspond pas entre les deux fichiers.\")\n",
    "\n",
    "# Préparer les données\n",
    "print(\"Préparation des données...\")\n",
    "X = mutations_df.drop(columns=[\"Yeast_ID\"]).fillna(0)  # Gérer les valeurs manquantes dans X\n",
    "y = phenotype_df[\"YPD_doublingtime\"].fillna(phenotype_df[\"YPD_doublingtime\"].mean())  # Gérer les valeurs manquantes dans y\n",
    "\n",
    "# Convertir en Pandas DataFrame pour la modélisation\n",
    "print(\"Conversion en DataFrame Pandas...\")\n",
    "X = X.compute()\n",
    "y = y.values\n",
    "\n",
    "# Diviser les données en ensemble d'entraînement et de test\n",
    "print(\"Division des données en ensemble d'entraînement et de test...\")\n",
    "X_train, X_test, y_train, y_test = train_test_split(X, y, test_size=0.2, random_state=42)\n",
    "\n",
    "# Entraîner un modèle Random Forest\n",
    "print(\"Entraînement du modèle Random Forest...\")\n",
    "model = RandomForestRegressor(random_state=42, n_estimators=100)\n",
    "model.fit(X_train, y_train)\n",
    "\n",
    "# Prédictions\n",
    "print(\"Évaluation du modèle...\")\n",
    "y_pred = model.predict(X_test)\n",
    "\n",
    "# Calcul des métriques\n",
    "mse = mean_squared_error(y_test, y_pred)\n",
    "r2 = r2_score(y_test, y_pred)\n",
    "print(f\"Mean Squared Error: {mse}\")\n",
    "print(f\"R² Score: {r2}\")\n",
    "\n",
    "# Importance des caractéristiques\n",
    "print(\"Calcul de l'importance des caractéristiques...\")\n",
    "feature_importances = pd.DataFrame({\n",
    "    \"Feature\": X.columns,\n",
    "    \"Importance\": model.feature_importances_\n",
    "}).sort_values(by=\"Importance\", ascending=False)\n",
    "\n",
    "# Afficher les mutations les plus importantes\n",
    "top_mutations = feature_importances.head(10)\n",
    "print(\"\\nMutations ayant le plus d'impact sur le YPD doubling time :\")\n",
    "print(top_mutations)\n",
    "\n",
    "# Visualisation\n",
    "print(\"Affichage des résultats...\")\n",
    "plt.figure(figsize=(10, 6))\n",
    "plt.barh(top_mutations[\"Feature\"], top_mutations[\"Importance\"], color=\"skyblue\")\n",
    "plt.xlabel(\"Importance\")\n",
    "plt.ylabel(\"Mutation\")\n",
    "plt.title(\"Top 10 Mutations Impacting YPD Doubling Time\")\n",
    "plt.gca().invert_yaxis()\n",
    "plt.show()"
   ]
  }
 ],
 "metadata": {
  "kernelspec": {
   "display_name": "base",
   "language": "python",
   "name": "python3"
  },
  "language_info": {
   "codemirror_mode": {
    "name": "ipython",
    "version": 3
   },
   "file_extension": ".py",
   "mimetype": "text/x-python",
   "name": "python",
   "nbconvert_exporter": "python",
   "pygments_lexer": "ipython3",
   "version": "3.9.12"
  }
 },
 "nbformat": 4,
 "nbformat_minor": 2
}
