{
 "cells": [
  {
   "cell_type": "code",
   "execution_count": 1,
   "metadata": {},
   "outputs": [],
   "source": [
    "import dask.dataframe as dd\n",
    "import pandas as pd\n",
    "from sklearn.ensemble import RandomForestRegressor\n",
    "from sklearn.model_selection import train_test_split\n",
    "from sklearn.metrics import mean_squared_error, r2_score\n",
    "from sklearn.model_selection import cross_val_score, KFold\n",
    "from xgboost import XGBRegressor\n",
    "import matplotlib.pyplot as plt\n",
    "#from data_preprocessing_pao import *"
   ]
  },
  {
   "cell_type": "code",
   "execution_count": null,
   "metadata": {},
   "outputs": [
    {
     "name": "stdout",
     "output_type": "stream",
     "text": [
      "Loading the data...\n"
     ]
    },
    {
     "ename": "FileNotFoundError",
     "evalue": "[Errno 2] No such file or directory: 'data/y_phenotype.csv'",
     "output_type": "error",
     "traceback": [
      "\u001b[0;31m---------------------------------------------------------------------------\u001b[0m",
      "\u001b[0;31mFileNotFoundError\u001b[0m                         Traceback (most recent call last)",
      "Input \u001b[0;32mIn [2]\u001b[0m, in \u001b[0;36m<cell line: 6>\u001b[0;34m()\u001b[0m\n\u001b[1;32m      4\u001b[0m \u001b[38;5;28mprint\u001b[39m(\u001b[38;5;124m\"\u001b[39m\u001b[38;5;124mLoading the data...\u001b[39m\u001b[38;5;124m\"\u001b[39m)\n\u001b[1;32m      5\u001b[0m X \u001b[38;5;241m=\u001b[39m pd\u001b[38;5;241m.\u001b[39mread_csv(X_file)\n\u001b[0;32m----> 6\u001b[0m Y \u001b[38;5;241m=\u001b[39m \u001b[43mpd\u001b[49m\u001b[38;5;241;43m.\u001b[39;49m\u001b[43mread_csv\u001b[49m\u001b[43m(\u001b[49m\u001b[43mY_file\u001b[49m\u001b[43m)\u001b[49m\n",
      "File \u001b[0;32m~/opt/anaconda3/lib/python3.9/site-packages/pandas/util/_decorators.py:311\u001b[0m, in \u001b[0;36mdeprecate_nonkeyword_arguments.<locals>.decorate.<locals>.wrapper\u001b[0;34m(*args, **kwargs)\u001b[0m\n\u001b[1;32m    305\u001b[0m \u001b[38;5;28;01mif\u001b[39;00m \u001b[38;5;28mlen\u001b[39m(args) \u001b[38;5;241m>\u001b[39m num_allow_args:\n\u001b[1;32m    306\u001b[0m     warnings\u001b[38;5;241m.\u001b[39mwarn(\n\u001b[1;32m    307\u001b[0m         msg\u001b[38;5;241m.\u001b[39mformat(arguments\u001b[38;5;241m=\u001b[39marguments),\n\u001b[1;32m    308\u001b[0m         \u001b[38;5;167;01mFutureWarning\u001b[39;00m,\n\u001b[1;32m    309\u001b[0m         stacklevel\u001b[38;5;241m=\u001b[39mstacklevel,\n\u001b[1;32m    310\u001b[0m     )\n\u001b[0;32m--> 311\u001b[0m \u001b[38;5;28;01mreturn\u001b[39;00m \u001b[43mfunc\u001b[49m\u001b[43m(\u001b[49m\u001b[38;5;241;43m*\u001b[39;49m\u001b[43margs\u001b[49m\u001b[43m,\u001b[49m\u001b[43m \u001b[49m\u001b[38;5;241;43m*\u001b[39;49m\u001b[38;5;241;43m*\u001b[39;49m\u001b[43mkwargs\u001b[49m\u001b[43m)\u001b[49m\n",
      "File \u001b[0;32m~/opt/anaconda3/lib/python3.9/site-packages/pandas/io/parsers/readers.py:680\u001b[0m, in \u001b[0;36mread_csv\u001b[0;34m(filepath_or_buffer, sep, delimiter, header, names, index_col, usecols, squeeze, prefix, mangle_dupe_cols, dtype, engine, converters, true_values, false_values, skipinitialspace, skiprows, skipfooter, nrows, na_values, keep_default_na, na_filter, verbose, skip_blank_lines, parse_dates, infer_datetime_format, keep_date_col, date_parser, dayfirst, cache_dates, iterator, chunksize, compression, thousands, decimal, lineterminator, quotechar, quoting, doublequote, escapechar, comment, encoding, encoding_errors, dialect, error_bad_lines, warn_bad_lines, on_bad_lines, delim_whitespace, low_memory, memory_map, float_precision, storage_options)\u001b[0m\n\u001b[1;32m    665\u001b[0m kwds_defaults \u001b[38;5;241m=\u001b[39m _refine_defaults_read(\n\u001b[1;32m    666\u001b[0m     dialect,\n\u001b[1;32m    667\u001b[0m     delimiter,\n\u001b[0;32m   (...)\u001b[0m\n\u001b[1;32m    676\u001b[0m     defaults\u001b[38;5;241m=\u001b[39m{\u001b[38;5;124m\"\u001b[39m\u001b[38;5;124mdelimiter\u001b[39m\u001b[38;5;124m\"\u001b[39m: \u001b[38;5;124m\"\u001b[39m\u001b[38;5;124m,\u001b[39m\u001b[38;5;124m\"\u001b[39m},\n\u001b[1;32m    677\u001b[0m )\n\u001b[1;32m    678\u001b[0m kwds\u001b[38;5;241m.\u001b[39mupdate(kwds_defaults)\n\u001b[0;32m--> 680\u001b[0m \u001b[38;5;28;01mreturn\u001b[39;00m \u001b[43m_read\u001b[49m\u001b[43m(\u001b[49m\u001b[43mfilepath_or_buffer\u001b[49m\u001b[43m,\u001b[49m\u001b[43m \u001b[49m\u001b[43mkwds\u001b[49m\u001b[43m)\u001b[49m\n",
      "File \u001b[0;32m~/opt/anaconda3/lib/python3.9/site-packages/pandas/io/parsers/readers.py:575\u001b[0m, in \u001b[0;36m_read\u001b[0;34m(filepath_or_buffer, kwds)\u001b[0m\n\u001b[1;32m    572\u001b[0m _validate_names(kwds\u001b[38;5;241m.\u001b[39mget(\u001b[38;5;124m\"\u001b[39m\u001b[38;5;124mnames\u001b[39m\u001b[38;5;124m\"\u001b[39m, \u001b[38;5;28;01mNone\u001b[39;00m))\n\u001b[1;32m    574\u001b[0m \u001b[38;5;66;03m# Create the parser.\u001b[39;00m\n\u001b[0;32m--> 575\u001b[0m parser \u001b[38;5;241m=\u001b[39m \u001b[43mTextFileReader\u001b[49m\u001b[43m(\u001b[49m\u001b[43mfilepath_or_buffer\u001b[49m\u001b[43m,\u001b[49m\u001b[43m \u001b[49m\u001b[38;5;241;43m*\u001b[39;49m\u001b[38;5;241;43m*\u001b[39;49m\u001b[43mkwds\u001b[49m\u001b[43m)\u001b[49m\n\u001b[1;32m    577\u001b[0m \u001b[38;5;28;01mif\u001b[39;00m chunksize \u001b[38;5;129;01mor\u001b[39;00m iterator:\n\u001b[1;32m    578\u001b[0m     \u001b[38;5;28;01mreturn\u001b[39;00m parser\n",
      "File \u001b[0;32m~/opt/anaconda3/lib/python3.9/site-packages/pandas/io/parsers/readers.py:933\u001b[0m, in \u001b[0;36mTextFileReader.__init__\u001b[0;34m(self, f, engine, **kwds)\u001b[0m\n\u001b[1;32m    930\u001b[0m     \u001b[38;5;28mself\u001b[39m\u001b[38;5;241m.\u001b[39moptions[\u001b[38;5;124m\"\u001b[39m\u001b[38;5;124mhas_index_names\u001b[39m\u001b[38;5;124m\"\u001b[39m] \u001b[38;5;241m=\u001b[39m kwds[\u001b[38;5;124m\"\u001b[39m\u001b[38;5;124mhas_index_names\u001b[39m\u001b[38;5;124m\"\u001b[39m]\n\u001b[1;32m    932\u001b[0m \u001b[38;5;28mself\u001b[39m\u001b[38;5;241m.\u001b[39mhandles: IOHandles \u001b[38;5;241m|\u001b[39m \u001b[38;5;28;01mNone\u001b[39;00m \u001b[38;5;241m=\u001b[39m \u001b[38;5;28;01mNone\u001b[39;00m\n\u001b[0;32m--> 933\u001b[0m \u001b[38;5;28mself\u001b[39m\u001b[38;5;241m.\u001b[39m_engine \u001b[38;5;241m=\u001b[39m \u001b[38;5;28;43mself\u001b[39;49m\u001b[38;5;241;43m.\u001b[39;49m\u001b[43m_make_engine\u001b[49m\u001b[43m(\u001b[49m\u001b[43mf\u001b[49m\u001b[43m,\u001b[49m\u001b[43m \u001b[49m\u001b[38;5;28;43mself\u001b[39;49m\u001b[38;5;241;43m.\u001b[39;49m\u001b[43mengine\u001b[49m\u001b[43m)\u001b[49m\n",
      "File \u001b[0;32m~/opt/anaconda3/lib/python3.9/site-packages/pandas/io/parsers/readers.py:1217\u001b[0m, in \u001b[0;36mTextFileReader._make_engine\u001b[0;34m(self, f, engine)\u001b[0m\n\u001b[1;32m   1213\u001b[0m     mode \u001b[38;5;241m=\u001b[39m \u001b[38;5;124m\"\u001b[39m\u001b[38;5;124mrb\u001b[39m\u001b[38;5;124m\"\u001b[39m\n\u001b[1;32m   1214\u001b[0m \u001b[38;5;66;03m# error: No overload variant of \"get_handle\" matches argument types\u001b[39;00m\n\u001b[1;32m   1215\u001b[0m \u001b[38;5;66;03m# \"Union[str, PathLike[str], ReadCsvBuffer[bytes], ReadCsvBuffer[str]]\"\u001b[39;00m\n\u001b[1;32m   1216\u001b[0m \u001b[38;5;66;03m# , \"str\", \"bool\", \"Any\", \"Any\", \"Any\", \"Any\", \"Any\"\u001b[39;00m\n\u001b[0;32m-> 1217\u001b[0m \u001b[38;5;28mself\u001b[39m\u001b[38;5;241m.\u001b[39mhandles \u001b[38;5;241m=\u001b[39m \u001b[43mget_handle\u001b[49m\u001b[43m(\u001b[49m\u001b[43m  \u001b[49m\u001b[38;5;66;43;03m# type: ignore[call-overload]\u001b[39;49;00m\n\u001b[1;32m   1218\u001b[0m \u001b[43m    \u001b[49m\u001b[43mf\u001b[49m\u001b[43m,\u001b[49m\n\u001b[1;32m   1219\u001b[0m \u001b[43m    \u001b[49m\u001b[43mmode\u001b[49m\u001b[43m,\u001b[49m\n\u001b[1;32m   1220\u001b[0m \u001b[43m    \u001b[49m\u001b[43mencoding\u001b[49m\u001b[38;5;241;43m=\u001b[39;49m\u001b[38;5;28;43mself\u001b[39;49m\u001b[38;5;241;43m.\u001b[39;49m\u001b[43moptions\u001b[49m\u001b[38;5;241;43m.\u001b[39;49m\u001b[43mget\u001b[49m\u001b[43m(\u001b[49m\u001b[38;5;124;43m\"\u001b[39;49m\u001b[38;5;124;43mencoding\u001b[39;49m\u001b[38;5;124;43m\"\u001b[39;49m\u001b[43m,\u001b[49m\u001b[43m \u001b[49m\u001b[38;5;28;43;01mNone\u001b[39;49;00m\u001b[43m)\u001b[49m\u001b[43m,\u001b[49m\n\u001b[1;32m   1221\u001b[0m \u001b[43m    \u001b[49m\u001b[43mcompression\u001b[49m\u001b[38;5;241;43m=\u001b[39;49m\u001b[38;5;28;43mself\u001b[39;49m\u001b[38;5;241;43m.\u001b[39;49m\u001b[43moptions\u001b[49m\u001b[38;5;241;43m.\u001b[39;49m\u001b[43mget\u001b[49m\u001b[43m(\u001b[49m\u001b[38;5;124;43m\"\u001b[39;49m\u001b[38;5;124;43mcompression\u001b[39;49m\u001b[38;5;124;43m\"\u001b[39;49m\u001b[43m,\u001b[49m\u001b[43m \u001b[49m\u001b[38;5;28;43;01mNone\u001b[39;49;00m\u001b[43m)\u001b[49m\u001b[43m,\u001b[49m\n\u001b[1;32m   1222\u001b[0m \u001b[43m    \u001b[49m\u001b[43mmemory_map\u001b[49m\u001b[38;5;241;43m=\u001b[39;49m\u001b[38;5;28;43mself\u001b[39;49m\u001b[38;5;241;43m.\u001b[39;49m\u001b[43moptions\u001b[49m\u001b[38;5;241;43m.\u001b[39;49m\u001b[43mget\u001b[49m\u001b[43m(\u001b[49m\u001b[38;5;124;43m\"\u001b[39;49m\u001b[38;5;124;43mmemory_map\u001b[39;49m\u001b[38;5;124;43m\"\u001b[39;49m\u001b[43m,\u001b[49m\u001b[43m \u001b[49m\u001b[38;5;28;43;01mFalse\u001b[39;49;00m\u001b[43m)\u001b[49m\u001b[43m,\u001b[49m\n\u001b[1;32m   1223\u001b[0m \u001b[43m    \u001b[49m\u001b[43mis_text\u001b[49m\u001b[38;5;241;43m=\u001b[39;49m\u001b[43mis_text\u001b[49m\u001b[43m,\u001b[49m\n\u001b[1;32m   1224\u001b[0m \u001b[43m    \u001b[49m\u001b[43merrors\u001b[49m\u001b[38;5;241;43m=\u001b[39;49m\u001b[38;5;28;43mself\u001b[39;49m\u001b[38;5;241;43m.\u001b[39;49m\u001b[43moptions\u001b[49m\u001b[38;5;241;43m.\u001b[39;49m\u001b[43mget\u001b[49m\u001b[43m(\u001b[49m\u001b[38;5;124;43m\"\u001b[39;49m\u001b[38;5;124;43mencoding_errors\u001b[39;49m\u001b[38;5;124;43m\"\u001b[39;49m\u001b[43m,\u001b[49m\u001b[43m \u001b[49m\u001b[38;5;124;43m\"\u001b[39;49m\u001b[38;5;124;43mstrict\u001b[39;49m\u001b[38;5;124;43m\"\u001b[39;49m\u001b[43m)\u001b[49m\u001b[43m,\u001b[49m\n\u001b[1;32m   1225\u001b[0m \u001b[43m    \u001b[49m\u001b[43mstorage_options\u001b[49m\u001b[38;5;241;43m=\u001b[39;49m\u001b[38;5;28;43mself\u001b[39;49m\u001b[38;5;241;43m.\u001b[39;49m\u001b[43moptions\u001b[49m\u001b[38;5;241;43m.\u001b[39;49m\u001b[43mget\u001b[49m\u001b[43m(\u001b[49m\u001b[38;5;124;43m\"\u001b[39;49m\u001b[38;5;124;43mstorage_options\u001b[39;49m\u001b[38;5;124;43m\"\u001b[39;49m\u001b[43m,\u001b[49m\u001b[43m \u001b[49m\u001b[38;5;28;43;01mNone\u001b[39;49;00m\u001b[43m)\u001b[49m\u001b[43m,\u001b[49m\n\u001b[1;32m   1226\u001b[0m \u001b[43m\u001b[49m\u001b[43m)\u001b[49m\n\u001b[1;32m   1227\u001b[0m \u001b[38;5;28;01massert\u001b[39;00m \u001b[38;5;28mself\u001b[39m\u001b[38;5;241m.\u001b[39mhandles \u001b[38;5;129;01mis\u001b[39;00m \u001b[38;5;129;01mnot\u001b[39;00m \u001b[38;5;28;01mNone\u001b[39;00m\n\u001b[1;32m   1228\u001b[0m f \u001b[38;5;241m=\u001b[39m \u001b[38;5;28mself\u001b[39m\u001b[38;5;241m.\u001b[39mhandles\u001b[38;5;241m.\u001b[39mhandle\n",
      "File \u001b[0;32m~/opt/anaconda3/lib/python3.9/site-packages/pandas/io/common.py:789\u001b[0m, in \u001b[0;36mget_handle\u001b[0;34m(path_or_buf, mode, encoding, compression, memory_map, is_text, errors, storage_options)\u001b[0m\n\u001b[1;32m    784\u001b[0m \u001b[38;5;28;01melif\u001b[39;00m \u001b[38;5;28misinstance\u001b[39m(handle, \u001b[38;5;28mstr\u001b[39m):\n\u001b[1;32m    785\u001b[0m     \u001b[38;5;66;03m# Check whether the filename is to be opened in binary mode.\u001b[39;00m\n\u001b[1;32m    786\u001b[0m     \u001b[38;5;66;03m# Binary mode does not support 'encoding' and 'newline'.\u001b[39;00m\n\u001b[1;32m    787\u001b[0m     \u001b[38;5;28;01mif\u001b[39;00m ioargs\u001b[38;5;241m.\u001b[39mencoding \u001b[38;5;129;01mand\u001b[39;00m \u001b[38;5;124m\"\u001b[39m\u001b[38;5;124mb\u001b[39m\u001b[38;5;124m\"\u001b[39m \u001b[38;5;129;01mnot\u001b[39;00m \u001b[38;5;129;01min\u001b[39;00m ioargs\u001b[38;5;241m.\u001b[39mmode:\n\u001b[1;32m    788\u001b[0m         \u001b[38;5;66;03m# Encoding\u001b[39;00m\n\u001b[0;32m--> 789\u001b[0m         handle \u001b[38;5;241m=\u001b[39m \u001b[38;5;28;43mopen\u001b[39;49m\u001b[43m(\u001b[49m\n\u001b[1;32m    790\u001b[0m \u001b[43m            \u001b[49m\u001b[43mhandle\u001b[49m\u001b[43m,\u001b[49m\n\u001b[1;32m    791\u001b[0m \u001b[43m            \u001b[49m\u001b[43mioargs\u001b[49m\u001b[38;5;241;43m.\u001b[39;49m\u001b[43mmode\u001b[49m\u001b[43m,\u001b[49m\n\u001b[1;32m    792\u001b[0m \u001b[43m            \u001b[49m\u001b[43mencoding\u001b[49m\u001b[38;5;241;43m=\u001b[39;49m\u001b[43mioargs\u001b[49m\u001b[38;5;241;43m.\u001b[39;49m\u001b[43mencoding\u001b[49m\u001b[43m,\u001b[49m\n\u001b[1;32m    793\u001b[0m \u001b[43m            \u001b[49m\u001b[43merrors\u001b[49m\u001b[38;5;241;43m=\u001b[39;49m\u001b[43merrors\u001b[49m\u001b[43m,\u001b[49m\n\u001b[1;32m    794\u001b[0m \u001b[43m            \u001b[49m\u001b[43mnewline\u001b[49m\u001b[38;5;241;43m=\u001b[39;49m\u001b[38;5;124;43m\"\u001b[39;49m\u001b[38;5;124;43m\"\u001b[39;49m\u001b[43m,\u001b[49m\n\u001b[1;32m    795\u001b[0m \u001b[43m        \u001b[49m\u001b[43m)\u001b[49m\n\u001b[1;32m    796\u001b[0m     \u001b[38;5;28;01melse\u001b[39;00m:\n\u001b[1;32m    797\u001b[0m         \u001b[38;5;66;03m# Binary mode\u001b[39;00m\n\u001b[1;32m    798\u001b[0m         handle \u001b[38;5;241m=\u001b[39m \u001b[38;5;28mopen\u001b[39m(handle, ioargs\u001b[38;5;241m.\u001b[39mmode)\n",
      "\u001b[0;31mFileNotFoundError\u001b[0m: [Errno 2] No such file or directory: 'data/y_phenotype.csv'"
     ]
    }
   ],
   "source": [
    "X_file = \"data/X_matrix.csv\"\n",
    "Y_file = \"data/Y_matrix.csv\"\n",
    "\n",
    "print(\"Loading the data...\")\n",
    "X = pd.read_csv(X_file)\n",
    "Y = pd.read_csv(Y_file)"
   ]
  },
  {
   "cell_type": "code",
   "execution_count": null,
   "metadata": {},
   "outputs": [
    {
     "name": "stdout",
     "output_type": "stream",
     "text": [
      "No Yeast_IDs missing in X.\n",
      "No Yeast_IDs missing in Y.\n",
      "Yeast_IDs are aligned and in the same order.\n",
      "Dimensions de X_filtered: (792, 347953)\n",
      "Dimensions de Y_filtered: (792, 2)\n"
     ]
    }
   ],
   "source": [
    "# Ensure Yeast_ID is a string type\n",
    "X['Yeast_ID'] = X['Yeast_ID'].astype(str)\n",
    "Y['Yeast_ID'] = Y['Yeast_ID'].astype(str)\n",
    "\n",
    "# Find the intersection of Yeast_ID in both files\n",
    "common_yeasts = set(X['Yeast_ID']).intersection(set(Y['Yeast_ID']))\n",
    "\n",
    "# Identify Yeast_IDs that are missing in each file\n",
    "missing_in_X = set(Y['Yeast_ID']) - set(X['Yeast_ID'])\n",
    "missing_in_Y = set(X['Yeast_ID']) - set(Y['Yeast_ID'])\n",
    "\n",
    "# Print missing Yeast_IDs\n",
    "if missing_in_X:\n",
    "    print(f\"Yeast_IDs missing in X: {len(missing_in_X)}\")\n",
    "else:\n",
    "    print(\"No Yeast_IDs missing in X.\")\n",
    "\n",
    "if missing_in_Y:\n",
    "    print(f\"Yeast_IDs missing in Y: {len(missing_in_Y)}\")\n",
    "else:\n",
    "    print(\"No Yeast_IDs missing in Y.\")\n",
    "\n",
    "# Filter to keep only the common Yeast_IDs\n",
    "X_filtered = X[X['Yeast_ID'].isin(common_yeasts)].reset_index(drop=True)\n",
    "Y_filtered = Y[Y['Yeast_ID'].isin(common_yeasts)].reset_index(drop=True)\n",
    "\n",
    "# Ensure the Yeast_ID order matches in both files\n",
    "X_filtered = X_filtered.sort_values(by=\"Yeast_ID\").reset_index(drop=True)\n",
    "Y_filtered = Y_filtered.sort_values(by=\"Yeast_ID\").reset_index(drop=True)\n",
    "\n",
    "# Check if Yeast_ID columns are in the same order\n",
    "if all(X_filtered[\"Yeast_ID\"] == Y_filtered[\"Yeast_ID\"]):\n",
    "    print(\"Yeast_IDs are aligned and in the same order.\")\n",
    "else:\n",
    "    print(\"Error: Yeast_IDs are not aligned after filtering.\")\n",
    "\n",
    "# Display the dimensions of the filtered matrices\n",
    "print(f\"Dimensions de X_filtered: {X_filtered.shape}\")\n",
    "print(f\"Dimensions de Y_filtered: {Y_filtered.shape}\")"
   ]
  },
  {
   "cell_type": "code",
   "execution_count": null,
   "metadata": {},
   "outputs": [
    {
     "name": "stdout",
     "output_type": "stream",
     "text": [
      "Vérification de l'ordre des Yeast_ID...\n",
      "Préparation des données...\n",
      "Division des données en ensemble d'entraînement et de test...\n",
      "Dimensions de X_train: (633, 347952)\n",
      "Dimensions de X_test: (159, 347952)\n",
      "Dimensions de y_train: (633,)\n",
      "Dimensions de y_test: (159,)\n"
     ]
    }
   ],
   "source": [
    "# Vérification de l'ordre des Yeast_ID\n",
    "print(\"Vérification de l'ordre des Yeast_ID...\")\n",
    "if not all(X[\"Yeast_ID\"] == Y[\"Yeast_ID\"]):\n",
    "    raise ValueError(\"L'ordre des Yeast_ID ne correspond pas entre les deux fichiers.\")\n",
    "\n",
    "# Préparation des données\n",
    "print(\"Préparation des données...\")\n",
    "X_data = X.drop(columns=[\"Yeast_ID\"]).fillna(0)  # Remplacer les valeurs manquantes par 0 dans X\n",
    "y_data = Y[\"YPD_doublingtime\"].fillna(Y[\"YPD_doublingtime\"].mean())  # Remplacer les valeurs manquantes par la moyenne dans Y"
   ]
  },
  {
   "cell_type": "code",
   "execution_count": null,
   "metadata": {},
   "outputs": [],
   "source": [
    "# %%\n",
    "import pandas as pd\n",
    "import numpy as np\n",
    "import re\n",
    "from sklearn.ensemble import RandomForestRegressor\n",
    "from sklearn.model_selection import train_test_split\n",
    "from sklearn.preprocessing import StandardScaler\n",
    "from sklearn.metrics import mean_squared_error\n",
    "from sklearn.decomposition import PCA\n",
    "from sklearn.feature_extraction.text import TfidfVectorizer\n",
    "from scipy.sparse import csr_matrix\n",
    "from sklearn.feature_selection import VarianceThreshold\n",
    "from sklearn.decomposition import TruncatedSVD\n",
    "import dask.dataframe as dd\n",
    "from sklearn.preprocessing import MinMaxScaler\n",
    "\n",
    "def scale_last_columns(data, num_mutations=341901):\n",
    "    \"\"\"\n",
    "    Scales the last N columns (assumed to be CNVs) to a range of 0 to 1.\n",
    "    \n",
    "    Parameters:\n",
    "        data (pd.DataFrame): x_train data\n",
    "        num_last_columns (int): Number of copy number variation columns from the end to scale .\n",
    "\n",
    "    Returns:\n",
    "        pd.DataFrame: Data with the last columns scaled.\n",
    "    \"\"\"\n",
    "    # Select the last N columns\n",
    "    cnv_columns = data.iloc[:, num_mutations:]\n",
    "    \n",
    "    # Scale these columns\n",
    "    scaler = MinMaxScaler()\n",
    "    scaled_cnv = scaler.fit_transform(cnv_columns)\n",
    "    \n",
    "    # Replace the last N columns with their scaled values\n",
    "    data.iloc[:, num_mutations:] = scaled_cnv\n",
    "    \n",
    "    return data\n",
    "\n",
    "\n",
    "def remove_low_variance_features_last_columns(data, num_mutations=341901, threshold=0.05):\n",
    "    \"\"\"\n",
    "    Removes features with variance below a specified threshold in the last N columns.\n",
    "    This has been done already for mutations during our extraction of data, so it is only useful to do it for the copy number variation columns.\n",
    "    \n",
    "    Parameters:\n",
    "        data (pd.DataFrame): Input data.\n",
    "        num_mutations (int): Number of mutations to not apply variance filtering.\n",
    "        threshold (float): Minimum variance a feature must have to be retained.\n",
    "\n",
    "    Returns:\n",
    "        pd.DataFrame: Data with low-variance features removed in the last N columns.\n",
    "    \"\"\"\n",
    "    # Select the last N columns\n",
    "    target_columns = data.iloc[:, num_mutations:]\n",
    "    \n",
    "    # Apply VarianceThreshold to these columns\n",
    "    selector = VarianceThreshold(threshold=threshold)\n",
    "    reduced_data = selector.fit_transform(target_columns)\n",
    "    \n",
    "    # Get the selected column indices\n",
    "    selected_columns = target_columns.columns[selector.get_support()]\n",
    "    \n",
    "    # Ensure new DataFrame has the correct index\n",
    "    reduced_data_df = pd.DataFrame(reduced_data, columns=selected_columns, index=target_columns.index)\n",
    "    \n",
    "    # Replace the last N columns with the reduced set\n",
    "    data = pd.concat([data.iloc[:, :num_mutations], reduced_data_df], axis=1)\n",
    "    \n",
    "    return data\n",
    "\n",
    "\n",
    "def apply_pca_last_columns(data, num_mutations=341901, n_components=0.95, normalize=True):\n",
    "    \"\"\"\n",
    "    Applies PCA to reduce dimensionality of the last N columns of the dataset.\n",
    "    \n",
    "    Parameters:\n",
    "        data (pd.DataFrame): Input data.\n",
    "        num_last_columns (int): Number of columns from the end to apply PCA.\n",
    "        n_components (float or int): Number of components to keep or the amount of variance to retain.\n",
    "\n",
    "    Returns:\n",
    "        pd.DataFrame: Data with PCA applied to the last N columns.\n",
    "    \"\"\"\n",
    "    # Separate the last N columns and the rest of the dataset\n",
    "    other_columns = data.iloc[:, :num_mutations]\n",
    "    target_columns = data.iloc[:, num_mutations:]\n",
    "    \n",
    "    # Apply PCA to the last N columns\n",
    "    pca = PCA(n_components=n_components)\n",
    "    reduced_data = pca.fit_transform(target_columns)\n",
    "\n",
    "    # Normalize the PCA-transformed features if specified\n",
    "    if normalize:\n",
    "        scaler = MinMaxScaler()\n",
    "        reduced_data = scaler.fit_transform(reduced_data)\n",
    "    \n",
    "    # Create a new DataFrame for the reduced PCA data\n",
    "    reduced_columns = [f'PCA_{i+1}' for i in range(reduced_data.shape[1])]\n",
    "    reduced_df = pd.DataFrame(reduced_data, columns=reduced_columns, index=data.index)\n",
    "    \n",
    "    # Concatenate the other columns with the reduced PCA columns\n",
    "    result = pd.concat([other_columns, reduced_df], axis=1)\n",
    "    \n",
    "    return result\n",
    "\n",
    "\n",
    "def metrics(x_train, x_train_preprocessed):\n",
    "    \"\"\"\n",
    "    Compute and display various metrics for the original and preprocessed data.\n",
    "    \n",
    "    Parameters:\n",
    "        x_train (pd.DataFrame): Original data.\n",
    "        x_train_preprocessed (pd.DataFrame): Preprocessed data.\n",
    "    \"\"\"\n",
    "    # Compute and print dimensions\n",
    "    print(\"Dimensions of the DataFrame (original):\", x_train.shape)\n",
    "    print(\"Dimensions of the DataFrame (after preprocessing):\", x_train_preprocessed.shape)\n",
    "\n",
    "    # Exclude the first row and column for calculations\n",
    "    x_cut = x_train.iloc[1:, 1:]\n",
    "    x_cut_p = x_train_preprocessed.iloc[1:, 1:]\n",
    "\n",
    "    # Compute and print mean\n",
    "    mean_value_x_train = x_cut.values.mean()\n",
    "    mean_value_x_train_preprocessed = x_cut_p.values.mean()\n",
    "    print(\"\\nMean of all values (original):\", mean_value_x_train)\n",
    "    print(\"Mean of all values (after preprocessing):\", mean_value_x_train_preprocessed)\n",
    "\n",
    "    # Compute and print max and min\n",
    "    max_value_x_train = np.max(x_cut.values)\n",
    "    min_value_x_train = np.min(x_cut.values)\n",
    "    max_value_x_train_preprocessed = np.max(x_cut_p.values)\n",
    "    min_value_x_train_preprocessed = np.min(x_cut_p.values)\n",
    "    print(\"\\nMax value (original):\", max_value_x_train, \"Min value (original):\", min_value_x_train)\n",
    "    print(\"Max value (after preprocessing):\", max_value_x_train_preprocessed, \"Min value (after preprocessing):\", min_value_x_train_preprocessed)\n",
    "\n",
    "    # Compute and print standard deviation\n",
    "    std_x_train = x_cut.values.std()\n",
    "    std_x_train_preprocessed = x_cut_p.values.std()\n",
    "    print(\"\\nStandard deviation (original):\", std_x_train)\n",
    "    print(\"Standard deviation (after preprocessing):\", std_x_train_preprocessed)\n",
    "\n",
    "    # Compute and print variance\n",
    "    var_x_train = x_cut.values.var()\n",
    "    var_x_train_preprocessed = x_cut_p.values.var()\n",
    "    print(\"\\nVariance (original):\", var_x_train)\n",
    "    print(\"Variance (after preprocessing):\", var_x_train_preprocessed)\n",
    "\n",
    "def preprocessed_data (x_df, y_df) :\n",
    "    x_train_scaled = scale_last_columns(x_df)\n",
    "    x_train_lv = remove_low_variance_features_last_columns(x_train_scaled)\n",
    "    x_train = apply_pca_last_columns(x_train_lv)\n",
    "\n",
    "    return x_train, y_df"
   ]
  },
  {
   "cell_type": "code",
<<<<<<< HEAD
   "execution_count": 36,
=======
   "execution_count": null,
>>>>>>> d995ebfd27f82378dff2b7ad5332039b22474590
   "metadata": {},
   "outputs": [],
   "source": [
    "X_data_f, y_data_f = preprocessed_data(X_data, y_data)"
   ]
  },
  {
   "cell_type": "code",
<<<<<<< HEAD
   "execution_count": 37,
=======
   "execution_count": null,
>>>>>>> d995ebfd27f82378dff2b7ad5332039b22474590
   "metadata": {},
   "outputs": [
    {
     "name": "stdout",
     "output_type": "stream",
     "text": [
      "Dimensions of the DataFrame (original): (792, 347952)\n",
      "Dimensions of the DataFrame (after preprocessing): (792, 341965)\n",
      "\n",
      "Mean of all values (original): 0.031414799995161016\n",
      "Mean of all values (after preprocessing): 0.025647527645909624\n",
      "\n",
      "Max value (original): 1.0000000000000002 Min value (original): 0.0\n",
      "Max value (after preprocessing): 1.0000000000000002 Min value (after preprocessing): 0.0\n",
      "\n",
      "Standard deviation (original): 0.16387554719923494\n",
      "Standard deviation (after preprocessing): 0.15794861941623947\n",
      "\n",
      "Variance (original): 0.02685519496984868\n",
      "Variance (after preprocessing): 0.024947766375496064\n"
     ]
    }
   ],
   "source": [
    "metrics(X_data,X_data_f)"
   ]
  },
  {
   "cell_type": "code",
   "execution_count": 38,
   "metadata": {},
   "outputs": [
    {
     "name": "stdout",
     "output_type": "stream",
     "text": [
      "Division des données en ensemble d'entraînement et de test...\n",
      "Dimensions de X_train: (633, 341965)\n",
      "Dimensions de X_test: (159, 341965)\n",
      "Dimensions de y_train: (633,)\n",
      "Dimensions de y_test: (159,)\n"
     ]
    }
   ],
   "source": [
    "# Division des données en ensembles d'entraînement et de test\n",
    "print(\"Division des données en ensemble d'entraînement et de test...\")\n",
    "X_train, X_test, y_train, y_test = train_test_split(X_data_f, y_data_f, test_size=0.2, random_state=42)\n",
    "\n",
    "# Affichage des dimensions des ensembles pour validation\n",
    "print(f\"Dimensions de X_train: {X_train.shape}\")\n",
    "print(f\"Dimensions de X_test: {X_test.shape}\")\n",
    "print(f\"Dimensions de y_train: {y_train.shape}\")\n",
    "print(f\"Dimensions de y_test: {y_test.shape}\")"
   ]
  },
  {
   "cell_type": "code",
   "execution_count": null,
   "metadata": {},
   "outputs": [
    {
     "name": "stdout",
     "output_type": "stream",
     "text": [
      "Entraînement du modèle Random Forest...\n"
     ]
    }
   ],
   "source": [
    "# Entraîner un modèle Random Forest\n",
    "print(\"Entraînement du modèle Random Forest...\")\n",
    "model = RandomForestRegressor(random_state=42, n_estimators=100)\n",
    "model.fit(X_train, y_train)"
   ]
  },
  {
   "cell_type": "code",
   "execution_count": 35,
   "metadata": {},
   "outputs": [
    {
     "name": "stdout",
     "output_type": "stream",
     "text": [
      "Évaluation du modèle...\n"
     ]
    },
    {
     "ename": "ValueError",
     "evalue": "The feature names should match those that were passed during fit.\nFeature names unseen at fit time:\n- YAL001C\n- YAL002W\n- YAL003W\n- YAL005C\n- YAL007C\n- ...\nFeature names seen at fit time, yet now missing:\n- PCA_1\n- PCA_10\n- PCA_11\n- PCA_12\n- PCA_13\n- ...\n",
     "output_type": "error",
     "traceback": [
      "\u001b[0;31m---------------------------------------------------------------------------\u001b[0m",
      "\u001b[0;31mValueError\u001b[0m                                Traceback (most recent call last)",
      "Cell \u001b[0;32mIn[35], line 3\u001b[0m\n\u001b[1;32m      1\u001b[0m \u001b[38;5;66;03m# Prédictions\u001b[39;00m\n\u001b[1;32m      2\u001b[0m \u001b[38;5;28mprint\u001b[39m(\u001b[38;5;124m\"\u001b[39m\u001b[38;5;124mÉvaluation du modèle...\u001b[39m\u001b[38;5;124m\"\u001b[39m)\n\u001b[0;32m----> 3\u001b[0m y_pred \u001b[38;5;241m=\u001b[39m \u001b[43mmodel\u001b[49m\u001b[38;5;241;43m.\u001b[39;49m\u001b[43mpredict\u001b[49m\u001b[43m(\u001b[49m\u001b[43mX_test\u001b[49m\u001b[43m)\u001b[49m\n",
      "File \u001b[0;32m/opt/miniconda3/envs/ml/lib/python3.12/site-packages/sklearn/ensemble/_forest.py:1063\u001b[0m, in \u001b[0;36mForestRegressor.predict\u001b[0;34m(self, X)\u001b[0m\n\u001b[1;32m   1061\u001b[0m check_is_fitted(\u001b[38;5;28mself\u001b[39m)\n\u001b[1;32m   1062\u001b[0m \u001b[38;5;66;03m# Check data\u001b[39;00m\n\u001b[0;32m-> 1063\u001b[0m X \u001b[38;5;241m=\u001b[39m \u001b[38;5;28;43mself\u001b[39;49m\u001b[38;5;241;43m.\u001b[39;49m\u001b[43m_validate_X_predict\u001b[49m\u001b[43m(\u001b[49m\u001b[43mX\u001b[49m\u001b[43m)\u001b[49m\n\u001b[1;32m   1065\u001b[0m \u001b[38;5;66;03m# Assign chunk of trees to jobs\u001b[39;00m\n\u001b[1;32m   1066\u001b[0m n_jobs, _, _ \u001b[38;5;241m=\u001b[39m _partition_estimators(\u001b[38;5;28mself\u001b[39m\u001b[38;5;241m.\u001b[39mn_estimators, \u001b[38;5;28mself\u001b[39m\u001b[38;5;241m.\u001b[39mn_jobs)\n",
      "File \u001b[0;32m/opt/miniconda3/envs/ml/lib/python3.12/site-packages/sklearn/ensemble/_forest.py:641\u001b[0m, in \u001b[0;36mBaseForest._validate_X_predict\u001b[0;34m(self, X)\u001b[0m\n\u001b[1;32m    638\u001b[0m \u001b[38;5;28;01melse\u001b[39;00m:\n\u001b[1;32m    639\u001b[0m     force_all_finite \u001b[38;5;241m=\u001b[39m \u001b[38;5;28;01mTrue\u001b[39;00m\n\u001b[0;32m--> 641\u001b[0m X \u001b[38;5;241m=\u001b[39m \u001b[38;5;28;43mself\u001b[39;49m\u001b[38;5;241;43m.\u001b[39;49m\u001b[43m_validate_data\u001b[49m\u001b[43m(\u001b[49m\n\u001b[1;32m    642\u001b[0m \u001b[43m    \u001b[49m\u001b[43mX\u001b[49m\u001b[43m,\u001b[49m\n\u001b[1;32m    643\u001b[0m \u001b[43m    \u001b[49m\u001b[43mdtype\u001b[49m\u001b[38;5;241;43m=\u001b[39;49m\u001b[43mDTYPE\u001b[49m\u001b[43m,\u001b[49m\n\u001b[1;32m    644\u001b[0m \u001b[43m    \u001b[49m\u001b[43maccept_sparse\u001b[49m\u001b[38;5;241;43m=\u001b[39;49m\u001b[38;5;124;43m\"\u001b[39;49m\u001b[38;5;124;43mcsr\u001b[39;49m\u001b[38;5;124;43m\"\u001b[39;49m\u001b[43m,\u001b[49m\n\u001b[1;32m    645\u001b[0m \u001b[43m    \u001b[49m\u001b[43mreset\u001b[49m\u001b[38;5;241;43m=\u001b[39;49m\u001b[38;5;28;43;01mFalse\u001b[39;49;00m\u001b[43m,\u001b[49m\n\u001b[1;32m    646\u001b[0m \u001b[43m    \u001b[49m\u001b[43mforce_all_finite\u001b[49m\u001b[38;5;241;43m=\u001b[39;49m\u001b[43mforce_all_finite\u001b[49m\u001b[43m,\u001b[49m\n\u001b[1;32m    647\u001b[0m \u001b[43m\u001b[49m\u001b[43m)\u001b[49m\n\u001b[1;32m    648\u001b[0m \u001b[38;5;28;01mif\u001b[39;00m issparse(X) \u001b[38;5;129;01mand\u001b[39;00m (X\u001b[38;5;241m.\u001b[39mindices\u001b[38;5;241m.\u001b[39mdtype \u001b[38;5;241m!=\u001b[39m np\u001b[38;5;241m.\u001b[39mintc \u001b[38;5;129;01mor\u001b[39;00m X\u001b[38;5;241m.\u001b[39mindptr\u001b[38;5;241m.\u001b[39mdtype \u001b[38;5;241m!=\u001b[39m np\u001b[38;5;241m.\u001b[39mintc):\n\u001b[1;32m    649\u001b[0m     \u001b[38;5;28;01mraise\u001b[39;00m \u001b[38;5;167;01mValueError\u001b[39;00m(\u001b[38;5;124m\"\u001b[39m\u001b[38;5;124mNo support for np.int64 index based sparse matrices\u001b[39m\u001b[38;5;124m\"\u001b[39m)\n",
      "File \u001b[0;32m/opt/miniconda3/envs/ml/lib/python3.12/site-packages/sklearn/base.py:608\u001b[0m, in \u001b[0;36mBaseEstimator._validate_data\u001b[0;34m(self, X, y, reset, validate_separately, cast_to_ndarray, **check_params)\u001b[0m\n\u001b[1;32m    537\u001b[0m \u001b[38;5;28;01mdef\u001b[39;00m \u001b[38;5;21m_validate_data\u001b[39m(\n\u001b[1;32m    538\u001b[0m     \u001b[38;5;28mself\u001b[39m,\n\u001b[1;32m    539\u001b[0m     X\u001b[38;5;241m=\u001b[39m\u001b[38;5;124m\"\u001b[39m\u001b[38;5;124mno_validation\u001b[39m\u001b[38;5;124m\"\u001b[39m,\n\u001b[0;32m   (...)\u001b[0m\n\u001b[1;32m    544\u001b[0m     \u001b[38;5;241m*\u001b[39m\u001b[38;5;241m*\u001b[39mcheck_params,\n\u001b[1;32m    545\u001b[0m ):\n\u001b[1;32m    546\u001b[0m \u001b[38;5;250m    \u001b[39m\u001b[38;5;124;03m\"\"\"Validate input data and set or check the `n_features_in_` attribute.\u001b[39;00m\n\u001b[1;32m    547\u001b[0m \n\u001b[1;32m    548\u001b[0m \u001b[38;5;124;03m    Parameters\u001b[39;00m\n\u001b[0;32m   (...)\u001b[0m\n\u001b[1;32m    606\u001b[0m \u001b[38;5;124;03m        validated.\u001b[39;00m\n\u001b[1;32m    607\u001b[0m \u001b[38;5;124;03m    \"\"\"\u001b[39;00m\n\u001b[0;32m--> 608\u001b[0m     \u001b[38;5;28;43mself\u001b[39;49m\u001b[38;5;241;43m.\u001b[39;49m\u001b[43m_check_feature_names\u001b[49m\u001b[43m(\u001b[49m\u001b[43mX\u001b[49m\u001b[43m,\u001b[49m\u001b[43m \u001b[49m\u001b[43mreset\u001b[49m\u001b[38;5;241;43m=\u001b[39;49m\u001b[43mreset\u001b[49m\u001b[43m)\u001b[49m\n\u001b[1;32m    610\u001b[0m     \u001b[38;5;28;01mif\u001b[39;00m y \u001b[38;5;129;01mis\u001b[39;00m \u001b[38;5;28;01mNone\u001b[39;00m \u001b[38;5;129;01mand\u001b[39;00m \u001b[38;5;28mself\u001b[39m\u001b[38;5;241m.\u001b[39m_get_tags()[\u001b[38;5;124m\"\u001b[39m\u001b[38;5;124mrequires_y\u001b[39m\u001b[38;5;124m\"\u001b[39m]:\n\u001b[1;32m    611\u001b[0m         \u001b[38;5;28;01mraise\u001b[39;00m \u001b[38;5;167;01mValueError\u001b[39;00m(\n\u001b[1;32m    612\u001b[0m             \u001b[38;5;124mf\u001b[39m\u001b[38;5;124m\"\u001b[39m\u001b[38;5;124mThis \u001b[39m\u001b[38;5;132;01m{\u001b[39;00m\u001b[38;5;28mself\u001b[39m\u001b[38;5;241m.\u001b[39m\u001b[38;5;18m__class__\u001b[39m\u001b[38;5;241m.\u001b[39m\u001b[38;5;18m__name__\u001b[39m\u001b[38;5;132;01m}\u001b[39;00m\u001b[38;5;124m estimator \u001b[39m\u001b[38;5;124m\"\u001b[39m\n\u001b[1;32m    613\u001b[0m             \u001b[38;5;124m\"\u001b[39m\u001b[38;5;124mrequires y to be passed, but the target y is None.\u001b[39m\u001b[38;5;124m\"\u001b[39m\n\u001b[1;32m    614\u001b[0m         )\n",
      "File \u001b[0;32m/opt/miniconda3/envs/ml/lib/python3.12/site-packages/sklearn/base.py:535\u001b[0m, in \u001b[0;36mBaseEstimator._check_feature_names\u001b[0;34m(self, X, reset)\u001b[0m\n\u001b[1;32m    530\u001b[0m \u001b[38;5;28;01mif\u001b[39;00m \u001b[38;5;129;01mnot\u001b[39;00m missing_names \u001b[38;5;129;01mand\u001b[39;00m \u001b[38;5;129;01mnot\u001b[39;00m unexpected_names:\n\u001b[1;32m    531\u001b[0m     message \u001b[38;5;241m+\u001b[39m\u001b[38;5;241m=\u001b[39m (\n\u001b[1;32m    532\u001b[0m         \u001b[38;5;124m\"\u001b[39m\u001b[38;5;124mFeature names must be in the same order as they were in fit.\u001b[39m\u001b[38;5;130;01m\\n\u001b[39;00m\u001b[38;5;124m\"\u001b[39m\n\u001b[1;32m    533\u001b[0m     )\n\u001b[0;32m--> 535\u001b[0m \u001b[38;5;28;01mraise\u001b[39;00m \u001b[38;5;167;01mValueError\u001b[39;00m(message)\n",
      "\u001b[0;31mValueError\u001b[0m: The feature names should match those that were passed during fit.\nFeature names unseen at fit time:\n- YAL001C\n- YAL002W\n- YAL003W\n- YAL005C\n- YAL007C\n- ...\nFeature names seen at fit time, yet now missing:\n- PCA_1\n- PCA_10\n- PCA_11\n- PCA_12\n- PCA_13\n- ...\n"
     ]
    }
   ],
   "source": [
    "# Prédictions\n",
    "print(\"Évaluation du modèle...\")\n",
    "y_pred = model.predict(X_test)"
   ]
  },
  {
   "cell_type": "code",
   "execution_count": null,
   "metadata": {},
   "outputs": [
    {
     "name": "stdout",
     "output_type": "stream",
     "text": [
      "Définition du modèle XGBoost...\n",
      "Lancement de la validation croisée...\n",
      "Scores de validation croisée (R²): [ 0.02300189 -0.15547586  0.06954567 -0.3240443  -0.1141749 ]\n"
     ]
    },
    {
     "ename": "NameError",
     "evalue": "name 'np' is not defined",
     "output_type": "error",
     "traceback": [
      "\u001b[0;31m---------------------------------------------------------------------------\u001b[0m",
      "\u001b[0;31mNameError\u001b[0m                                 Traceback (most recent call last)",
      "Input \u001b[0;32mIn [17]\u001b[0m, in \u001b[0;36m<cell line: 18>\u001b[0;34m()\u001b[0m\n\u001b[1;32m     15\u001b[0m cv_scores \u001b[38;5;241m=\u001b[39m cross_val_score(xgb_model, X_data, y_data, cv\u001b[38;5;241m=\u001b[39mkf, scoring\u001b[38;5;241m=\u001b[39m\u001b[38;5;124m\"\u001b[39m\u001b[38;5;124mr2\u001b[39m\u001b[38;5;124m\"\u001b[39m)\n\u001b[1;32m     17\u001b[0m \u001b[38;5;28mprint\u001b[39m(\u001b[38;5;124mf\u001b[39m\u001b[38;5;124m\"\u001b[39m\u001b[38;5;124mScores de validation croisée (R²): \u001b[39m\u001b[38;5;132;01m{\u001b[39;00mcv_scores\u001b[38;5;132;01m}\u001b[39;00m\u001b[38;5;124m\"\u001b[39m)\n\u001b[0;32m---> 18\u001b[0m \u001b[38;5;28mprint\u001b[39m(\u001b[38;5;124mf\u001b[39m\u001b[38;5;124m\"\u001b[39m\u001b[38;5;124mScore moyen de validation croisée (R²): \u001b[39m\u001b[38;5;132;01m{\u001b[39;00mnp\u001b[38;5;241m.\u001b[39mmean(cv_scores)\u001b[38;5;132;01m}\u001b[39;00m\u001b[38;5;124m\"\u001b[39m)\n\u001b[1;32m     20\u001b[0m \u001b[38;5;66;03m# Entraîner le modèle sur l'ensemble des données d'entraînement\u001b[39;00m\n\u001b[1;32m     21\u001b[0m \u001b[38;5;28mprint\u001b[39m(\u001b[38;5;124m\"\u001b[39m\u001b[38;5;124mEntraînement du modèle sur l\u001b[39m\u001b[38;5;124m'\u001b[39m\u001b[38;5;124mensemble des données...\u001b[39m\u001b[38;5;124m\"\u001b[39m)\n",
      "\u001b[0;31mNameError\u001b[0m: name 'np' is not defined"
     ]
    }
   ],
   "source": [
    "# Définir un modèle XGBoost\n",
    "print(\"Définition du modèle XGBoost...\")\n",
    "xgb_model = XGBRegressor(\n",
    "    n_estimators=100,  # Nombre d'arbres\n",
    "    max_depth=6,       # Profondeur maximale des arbres\n",
    "    learning_rate=0.1, # Taux d'apprentissage\n",
    "    subsample=0.8,     # Sous-échantillonnage des données\n",
    "    colsample_bytree=0.8,  # Sous-échantillonnage des features\n",
    "    random_state=42\n",
    ")\n",
    "\n",
    "#Validation croisée sur xgb\n",
    "print(\"Lancement de la validation croisée...\")\n",
    "kf = KFold(n_splits=5, shuffle=True, random_state=42)  # Validation croisée en 5-fold\n",
    "cv_scores = cross_val_score(xgb_model, X_data, y_data, cv=kf, scoring=\"r2\")\n",
    "\n",
    "\n",
    "\n",
    "\n"
   ]
  },
  {
   "cell_type": "code",
   "execution_count": null,
   "metadata": {},
   "outputs": [],
   "source": [
    "print(f\"Scores de validation croisée (R²): {cv_scores}\")"
   ]
  },
  {
   "cell_type": "code",
   "execution_count": 18,
   "metadata": {},
   "outputs": [
    {
     "name": "stdout",
     "output_type": "stream",
     "text": [
      "Entraînement du modèle sur l'ensemble des données...\n",
      "Division des données pour évaluation...\n",
      "Prédictions sur les données de test...\n"
     ]
    }
   ],
   "source": [
    "# Entraîner le modèle sur l'ensemble des données d'entraînement\n",
    "print(\"Entraînement du modèle sur l'ensemble des données...\")\n",
    "xgb_model.fit(X_data, y_data)\n",
    "\n",
    "# Diviser les données pour évaluer les performances finales\n",
    "print(\"Division des données pour évaluation...\")\n",
    "X_train, X_test, y_train, y_test = train_test_split(X_data, y_data, test_size=0.2, random_state=42)\n",
    "\n",
    "# Entraînement final sur les données d'entraînement\n",
    "xgb_model.fit(X_train, y_train)\n",
    "\n",
    "# Prédictions\n",
    "print(\"Prédictions sur les données de test...\")\n",
    "y_pred = xgb_model.predict(X_test)"
   ]
  },
  {
   "cell_type": "code",
   "execution_count": 23,
   "metadata": {},
   "outputs": [
    {
     "name": "stdout",
     "output_type": "stream",
     "text": [
      "Mean Squared Error: 0.08534176926831794\n",
      "R² Score: -0.02305964885393741\n",
      "Calcul de l'importance des caractéristiques...\n",
      "\n",
      "Mutations ayant le plus d'impact sur le YPD doubling time :\n",
      "                  Feature  Importance\n",
      "198668   YKL218C_169_G->R    0.015733\n",
      "226553  YLR320W_1167_E->G    0.013914\n",
      "45711    YDL122W_355_S->N    0.010858\n",
      "199364   YKR003W_411_A->V    0.010144\n",
      "345258            YKL221W    0.009914\n",
      "313428   YOR346W_825_V->I    0.009464\n",
      "32090     YCL052C_29_T->I    0.008602\n",
      "1812      YAL028W_67_A->T    0.007506\n",
      "5196      YAR033W_59_G->A    0.006528\n",
      "166770   YJL045W_560_T->S    0.006041\n"
     ]
    }
   ],
   "source": [
    "# Calcul des métriques\n",
    "mse = mean_squared_error(y_test, y_pred)\n",
    "r2 = r2_score(y_test, y_pred)\n",
    "print(f\"Mean Squared Error: {mse}\")\n",
    "print(f\"R² Score: {r2}\")\n",
    "\n",
    "# Importance des caractéristiques\n",
    "print(\"Calcul de l'importance des caractéristiques...\")\n",
    "feature_importances = pd.DataFrame({\n",
    "    \"Feature\": X_data.columns,\n",
    "    \"Importance\": model.feature_importances_\n",
    "}).sort_values(by=\"Importance\", ascending=False)\n",
    "\n",
    "# Afficher les mutations les plus importantes\n",
    "top_mutations = feature_importances.head(10)\n",
    "print(\"\\nMutations ayant le plus d'impact sur le YPD doubling time :\")\n",
    "print(top_mutations)"
   ]
  },
  {
   "cell_type": "code",
   "execution_count": 24,
   "metadata": {},
   "outputs": [
    {
     "name": "stdout",
     "output_type": "stream",
     "text": [
      "Affichage des résultats...\n"
     ]
    },
    {
     "data": {
      "image/png": "iVBORw0KGgoAAAANSUhEUgAAAr4AAAGDCAYAAADNixObAAAAOXRFWHRTb2Z0d2FyZQBNYXRwbG90bGliIHZlcnNpb24zLjUuMSwgaHR0cHM6Ly9tYXRwbG90bGliLm9yZy/YYfK9AAAACXBIWXMAAAsTAAALEwEAmpwYAABJDklEQVR4nO3de7ylY/3/8dc74zhOk0NThiZ9EYrBkENKKeErh285pUi+SV+KSl+ncqj8SN/IqSQlJKEonZyKhHGYYQxjyCGnEOMQZiJj3r8/7mtxz7b2Xntm9p6999zv5+OxHnvd131d133d116z5rOv9bnvJdtERERERMzv3jDQA4iIiIiImBcS+EZEREREIyTwjYiIiIhGSOAbEREREY2QwDciIiIiGiGBb0REREQ0QgLfiIgBIukPkvYY6HEMNpJOk/S1gR7HYCfpU5Ku7WH/1ZL+uzzfTdLl8250r45hsqTN5vVxI7qTwDci5oqkF2qPmZL+VdverY+OsZOk6yVNl3R1m/1jJE0o+ydIGtNDXz+RZEnbdin/bin/VC/H9GpQ0cv6R0r6ab3M9la2z+ptH3NL0maSHplXx+uNdsGb7X1sf6OPj7OopHsk7d6l/AhJ10l6Q/mdvlheu1MlXSTpzaXeTyT9W9Lz5XGHpGMkLdXDMY+U9HKtzV8lndLqc16yfa7tLfq6307//m2vafvqvj5uxJxK4BsRc8X24q0H8BDwkVrZuX10mKeB7wLHdt0haSHg18BPgRHAWcCvS3l3/gq8utIqaRiwI3BfH403Bhnb/wL2Ao6X9CYASasDXwL2sj2zVN2vvJZXBZYGTqh1c5ztJYDlgD2BDYHrJA3v4dDnlzZvBHYARgITBiL47Q/z6N9/RJ9J4BsR/ULSwmUV9dHy+K6khcu+zSQ9IunQsrL2QE+rw7avtH0B8Gib3ZsBw4Dv2n7J9kmAgA/0MLzfAJtIGlG2twQmAY/Xxj/LCq2k0WVFeJiko4FNgVPKytYppc6Jkh6W9FxZed60lG8JHArsXOrfVsrrH0W/QdJXJT0o6QlJZ7dWE2vH3kPSQ2XODquNbQNJ48tx/yHp+B7O/VXl+N8sq+kvSPqNpGUknVv6ulnS6Fp9S/qCpPvLGL4t6Q1l39sl/UnSU2XfuZKWrrVdsaygPlnqnFICz9OAjcrxny11fyLpm+V567Xy5TIvj0nas9bvMmXcrfF+U918/G/7GuD88nsT8EPgGNt3tan7NPBL4J1t9r1o+2ZgW2AZqiC4R7Zftj0Z2Bl4Evhy7Rw+I+leSU9LukTSW0r5q6+5Wt2unzRI0smS/inpLkmbtzu+uqysl373UbUK/oykU8ucIGkBSd8pv8e/Sdqv6zh6q/zb/mB5fqSkCyX9VNUK+O2SVpV0SPndPixpi1rbpST9qPzO/15+twvM7hgi6hL4RkR/OYxqRWwMsDawAfDV2v6RwLLAClSrr6dLWm0OjrMmMMmzfv/6pFLenReBS4BdyvbuwNm9PaDtw4C/UFYHbe9Xdt1Mdb5vBH4GXChpEduXAv+PavVvcdtrt+n2U+XxfmBlYHHglC513gOsBmwOHF4CR4ATgRNtLwm8Hbigt+dCNQefpPo9vB0YB5xZzmEKcESX+jsAY4F1ge2AT5dyAccAbwFWB1YEjoQqkAJ+CzwIjC7H+rntKcA+wLgyL0t3M8aRwFKl3V7AqXrtj5ZTgWmlzh7UVvK7cRCwPlVQuwjw7XaVJC0LfBS4tbuObD8PXEH1R1Cv2H6F6hOK1h9FH6Cat52AN1PN0c972x/wbuB+qn9LRwAXSXpjL9tuQzUXa5fjf7iUfwbYiuq1vC6w/WyMp5OPAOdQfTpzK3AZVSyyAvB14Ae1umcBM4D/ANYBtgB6nV4U0U4C34joL7sBX7f9hO0ngaOoAqy6r5VV2j8Dv6P6z3d2LQ78s0vZP4ElOrQ7G9i9rKq+D/jVHBx7FrZ/avsp2zNsfwdYmCpQ7Y3dgONt32/7BeAQYJcuq2xH2f6X7duA26gCFoCXgf+QtKztF2zfMBvDPtP2fbb/CfwBuK+ssM8ALqQKOOq+Zftp2w9RpZ/sWs79XttXlN/nk8DxVPMK1R89bwG+YntaWTHt9qKsNl6mei29bPv3wAvAaiWg/ihwhO3ptu+kCpa6VeZ2X6oAfq8SiNadVFaebwMeo0qF6MmjVH8kzI56m92AH9u+xfZLVL/3jeor7R08QfVpx8u2zwfuBv6zl22Ptf1s+V1eRRXoQvXv8ETbj9h+hjYpRnPhL7Yvq72+livjeJkq4B8taWlV6ShbAQeU18wTVGknu3Tbc0QvJPCNiP7yFqrVq5YHS1nLM7an9bC/t14AluxStiTwfE+NSuC1HNUq9G9LDuhcKR/HTykfOz9LtUq5bC+bt5uvYcCbamWP155Ppwr6oVoFXRW4q3zcv81sDPsftef/arO9+KzVebjLGFsfyy8v6eflI+nnqHKuW+e+IvBgCXbmxFNd2rbOfTmqOaqPqf68O5O7/Kz7gu2lba9ge7cSxPdkBaoc9NlRbzPL770E5k+VOr3x9y6fdszOv6PuXk9vYfbntLe6vr6m1v74aP0bXBx4K7Ag8JikZ8u/px8Ay/fhWKKBEvhGRH95lOo/r5aVmDVHd4RmvSio6/7emgys1cpPLNaifVDT1U+pci3bpTlMAxarbY/ssr8ebKAqn/cgqtWyEeVj+39SpQC8rn4b7eZrBrMGCm3Zvsf2rlRBwbeAX6jnC67mxoq15/Xf2TFU57hWSbn4BK+d+8PASt3kiHaal548STVHo7oZX7+StDjwQaq0l962eQPVx/2tNrP83svvbRng71SvQej5dbhCl9f+nP47qnuMAZrTmoeBl4Blyx8iS9te0nZPKUwRHSXwjYj+ch7wVUnLlXzJw6kCzbqjJC1UgsZtqD76fJ1ysc0iVKt7b5C0iKQFy+6rgVeAL6i6oK6Vb/unXozxJOBDwDVt9k0E3itppZIOcUiX/f+gysVtWYIqCHsSGCbpcGZdif4H1ce43b3vngd8UdLbSkDVygnuuEoq6ROSlit3Jni2FHf9CL+vfEXSCEkrAvtTXSwG1fm/ADwraQXgK7U2N1EFU8dKGl5+f5uUff8ARqnnu3C0VVYKLwKOlLSYpHdQ5Wv3q/I6W48qPeYZqpzoTm0WLDnZ51EFr60LEH8G7KnqlnwLU/3eb7T9QFlt/jvwifJv4NNUedh1y1O99heUtCNVfvXv5/IULwD2l7SCqgsUD5rL/mab7ceAy4HvSFpS1cWfb5f0vk5tI3qSwDci+ss3gfFUF5rdDtxSyloepwoaHgXOBfZpd3V98Umqj0G/T3VR0L+orsjH9r+pLr7ZnSro+zSwfSnvUclV/WOXj4pb+66gCuomAROoLs6qOxH4WLki/iSqi3T+QHWrtAepLqCrf0TcCuqfknRLm+H8mOqin2uAv5X2n+90DsWWwGRJL5Rx7WL7xV62nV2/ppqPiVR52T8q5UdRXQj1z1J+UatBCVA/QnWR0kPAI1R3N4DqD5TJwOOSps7BePajSil5nGr+zqNaKewP/yvpeao0hbOp5mHjLik7Xe1cfi/PUl1Q+RSwnu1HAWz/Efga1cV2j1EFtvU81s9Q/RHxFNUFm9d36f9GYBVgKnA08DHbT83FOUL1b+tyqtf+rVSB9Az674+p7uwOLATcSfVe8QuqCwAj5pjavN9HRPQrVd/k9FPbozpUjUFEkoFVbN870GPpjqRvASNt5xvx+oikrYDTbL+1Y+WIQS4rvhERMWRJeoektVTZgOpCv4sHelxDmapvudta1T2rV6C6TVrmNOYLCXwjImIoW4IqrWIaVW7qd6jSMWLOiSp15RmqVIcpVDn6EUNeUh0iIiIiohGy4hsRERERjZDANyIiIiIaod3NxCNmseyyy3r06NEDPYyIiIiIjiZMmDDV9nLt9iXwjY5Gjx7N+PHjB3oYERERER1JerC7fUl1iIiIiIhGSOAbEREREY2QwDciIiIiGiGBb0REREQ0QgLfiIiIiGiEBL4RERER0QgJfCMiIiKiERL4RkREREQjJPCNiIiIiEZI4BsRERERjZDANyIiIiIaIYFvRERERDTCsIEeQAx+j0+fwbG3Th3oYURERMQQdfA6yw70EICs+EZEREREQyTwjYiIiIhGSOAbEREREY2QwDciIiIiGiGBb0REREQ0QgLfiIiIiGiEBL4RERER0QgJfCMiIiKiERL4RkREREQjDFjgq8q1kraqle0k6VJJL9TKtpZ0j6SVJB0p6cAu/awo6SpJUyRNlrR/bd+OpWympLG18gUlnSXp9tLukNq+xSX9QNJ9pe01kt7dw3n8WNITku5os+/zku4u/RxXyhaSdGY59m2SNuswT4tL+n4Zz62SJkj6TE9teuhrM0n/LP3cJen/5qSfiIiIiKFowAJf2wb2AY6XtIik4cDRwL6tOpI2B04GtrT9UDddzQC+bHt1YENgX0lrlH13AP8FXNOlzY7AwrbfBawHfFbS6LLvDOBpYBXbawKfAnr6nr2fAFt2LZT0fmA7YK3STyvI/Ew5/3cBHwK+I6mn38MZwDNlPOuUY72xXUVJI3rop+UvpZ91gG0kbdKLNhERERFD3rCBPLjtOyT9BjgIGA6cbfs+SUjaFPghsLXt+3ro4zHgsfL8eUlTgBWAO21PAZD0umbAcEnDgEWBfwPPSXo78G5gN9szS5/3A/f3cPxrakFz3eeAY22/VOo9UcrXAP7YKpP0LDAWuKlrB2U8GwAfr43nSeBb3QxnZ0n7UQXjZ5W63Y37X5ImUs1VRERExHxvMOT4HgV8HNgKOK6ULQz8Gtje9l297agEoOsAN3ao+gtgGlXA/BDwf7afBtYEJtp+ZXZOoBurAptKulHSnyWtX8pvA7aTNEzS26hWnFfspo81gdtaQW8ntk+jmsdFgWsk/ULSlu1WlMvq8Cq8fjW8tX9vSeMljZ/2zFO9OXxERETEoDbgga/tacD5wDmt1VHgZeB6YK/e9iNpceCXwAG2n+tQfQPgFeAtwNuAL0taeXbH3sEwYARV+sVXgAtULT3/GHgEGA98l+o8Z/SmQ0mHSZoo6dHu6th+2PY3qFaWf1Qev6pV2VTSJOBx4Le2H++mn9Ntj7U9dviIZXozvIiIiIhBbcAD32JmedS3dwLWl3Rop8aSFqQKes+1fVEvjvdx4FLbL5cUhOuo0g0mA2t3yLntrUeAi1y5ieqclrU9w/YXbY+xvR2wNHBPN33cWR+P7aNtjwGWBJB0dAmEJ9YbSdoA+B5VfvSFwCG13X+xvRbwLuBzksb0wblGREREDHqDJfB9HdvTgW2A3SR1u/JbVlF/BEyxfXwvu38I+EC5s8RwqlXZu0ou8XjgqNIvklaRtN0cnMKvgA+UPlYFFgKmSlqsHBNJHwJm2L6zXQe27y3j+aakBUqbRQCV/YeVAHpM2bdFWc39JnA1sIbtA2xPbtP3X4FjqPKrIyIiIuZ7gzbwBSh5t1sCX60Fn1+V9EjrAWwCfJIqkJ1YHlsDSNqh1NkI+J2ky0ofpwKLU9314WbgTNuTyr7/BkYC90q6neoCu25TCySdB4wDVitjagXpPwZWLrc5+zmwR7mTxfLALeUivIPK2Hvy38AyZTwTgCvpPlh9CviI7S1sn2/73x36Pg14b8k1joiIiJivqYrFIro3ao0x3u/cKwd6GBERETFEHbxOT3eG7VuSJtge227foF7xjYiIiIjoKwN6H9+hQtIylHvvdrG57T6515ekG6lu41b3Sdu390X/EREREU2XwLcXSnA7pp+P0e3XIkdERETE3EuqQ0REREQ0QgLfiIiIiGiEBL4RERER0QjJ8Y2ORi42bJ7ehiQiIiKiP2TFNyIiIiIaIYFvRERERDRCAt+IiIiIaIQEvhERERHRCAl8IyIiIqIRcleH6Ojx6TM49tapAz2MiIiI+ULulDRwsuIbEREREY2QwDciIiIiGiGBb0REREQ0QgLfiIiIiGiEBL4RERER0QgJfCMiIiKiERL4RkREREQjJPCNiIiIiEbol8BXlWslbVUr20nSpZJeaFP/SEl/lzRR0p2Sdq3t+4akSWXf5ZLeUso/JGmCpNvLzw/U2qxXyu+VdFIZz9KSnpKkUmcjSZY0qmwvJelpSW3nRNKOkiZLmilpbK18GUlXSXpB0ild2iwk6XRJf5V0l6SPlvITyvlMLPue7WEuR0v6V63+REm7d/wltO/rTZJ+Jun+MmfjJO0wJ31FREREDDX9EvjaNrAPcLykRSQNB44G9u2h2Qm2xwDbAT+QtGAp/7bttcq+3wKHl/KpwEdsvwvYAzin1tf3gb2BVcpjS9vPAo8Dq5c6GwO3lp8AGwI32p7ZzfjuAP4LuKZL+YvA14AD27Q5DHjC9qrAGsCfAWx/0faYck4nAxd1c8yW+1r1y+PsrhUkDZe0UHcdlID/V8A1tle2vR6wCzCqw7EjIiIi5gv9lupg+w7gN8BBwBHA2bbv60W7e4DpwIiy/Vxt93DApfxW24+W8snAIpIWlvRmYEnb40oAfjawfal3Ha8FuhsDJ3TZvr6HcU2xfXeb8mm2r6UKgLv6NHBMqTfTdrvv/d0VOK+7486GVYG7JX1H0upt9n8A+Lft01oFth+0fXIfHDsiIiJi0OvvHN+jgI8DWwHH9aaBpHWBe2w/USs7WtLDwG68tuJb91HgVtsvASsAj9T2PVLKoApsW4HuysCFQCttYWOqwLhPSFq6PP2GpFskXSjpTV3qvBV4G/CnDt29vUuqw6ZdK9i+FVgLmAKcUVJN9iyr7QBrArfMxvj3ljRe0vhpzzzV22YRERERg1a/Br62pwHnA+eUoLQnX5R0N3AjcGSXfg6zvSJwLrBffZ+kNYFvAZ9tFbUbSvl5HbCxpLcBD9h+sepCiwPrATf19tx6YRhVGsF1ttcFxgH/16XOLsAvbL/Soa+uqQ5/aVfJ9vO2z7C9CVWqx2eAx9rVlXSqpNsk3dxNX6fbHmt77PARy3QYXkRERMTgNy/u6jCzPDo5wfZqwM7A2ZIWaVPnZ1SruwCUC9MuBnavpVE8wqx5q6OAR+HVNIoRwEeoAlGACcCewN9sv+7Cu7nwFFXKxsVl+0Jg3S51dmEO0xwk7VBbAa5fbPdWSUdQ5Q0/DHys7JpcP77tfYHNgeXm5PgRERERQ82gu52Z7YuA8VQXrCFpldrubYG7SvnSwO+AQ2xfV2v/GPC8pA3LBV27A7+u9TEO2J/XAt9xwAH0kN87h+dhqhznzUrR5sCdrf2SVqMKwse9rnHv+r+4tgI8vtz94Uqqc30W2MT2zrYvL03+RJUH/blaN4vNybEjIiIihqJhA3DMxSTVc3CPb1Pn68DPJP0QOLYEiTOBB6nuFgFVysN/AF+T9LVStkXJDf4c8BNgUeAP5dFyHbA1VXANVeC5Mh0C33Lbr5OpVkh/J2mi7Q+XfQ8ASwILSdq+jONOqgv7zpH0XeBJqpXlll2Bn5cAuZO3S5pY2/6x7ZO61HkFONR223QN2y5jO0HS/5bxTCtjjIiIiJjvqXdxVzTZqDXGeL9zrxzoYURERMwXDl5n2YEewnxN0gTbY9vtG3SpDhERERER/WEgUh0GNUmnApt0KT7R9pn9fNx3MeuXcAC8ZPvd/XnciIiIiKZI4NtFudvBQBz3dmDMQBw7IiIiogmS6hARERERjZDANyIiIiIaIYFvRERERDRCcnyjo5GLDcutVyIiImLIy4pvRERERDRCAt+IiIiIaIQEvhERERHRCAl8IyIiIqIREvhGRERERCPkrg7R0ePTZ3DsrVMHehgRETEbcjeeiNfLim9ERERENEIC34iIiIhohAS+EREREdEICXwjIiIiohES+EZEREREIyTwjYiIiIhGSOAbEREREY2QwDciIiIiGiGBb0REREQ0wjwNfFW5VtJWtbKdJF0q6RVJEyVNlnSbpC9JekOps5mk37bpbz9J90qypGVr5btJmlQe10tau5SvKOkqSVPKcfYv5WtLmlhrv6uk6ZIWLNvvkjSph/P6URnzJEm/kLR4bdz/LOc1UdLhtTYPSLq9lI/vMG8bSrqx1J0i6chOc91NP0eW81q+VvbCnPQVERERMdTM068stm1J+wAXSroKWAA4GtgSuM32GIASmP0MWAo4oocurwN+C1zdpfxvwPtsP1OC7NOBdwMzgC/bvkXSEsAESVcAtwNvlbSE7eeBjYG7gHWAm8r2dT2M44u2nytjPx7YDzi27PuL7W26afd+2735LuCzgJ1s3yZpAWC1dpUkjbD9TIe+pgJfBg7qxXEjIiIi5hvzPNXB9h3Ab6gCryOAs23f16XOE8DewH6S1ENft9p+oE359bUA8AZgVCl/zPYt5fnzwBRgBdszgZupgmOA9YBTqQJeys/rexhHK+gVsCjg7urOoeWBx8qxXrF9Zzf1Ti4r2rtJWqSbOj8Gdpb0xp4OKGlvSeMljZ/2zFNzPvKIiIiIQWKgcnyPAj4ObAUc166C7fupxrd8u/2zYS/gD10LJY2mWtG9sRRdD2wsaTgwk2oVuR749rTii6QzgceBdwAn13ZtVNIg/iBpzVq5gcslTZC0d4dzOAG4W9LFkj7bXVBr+xPAgWW8kyWd3ErzqHmBKvjdv6cD2j7d9ljbY4ePWKbD8CIiIiIGvwEJfG1PA84HzrH9Ug9Vu13t7Q1J76cKfA/qUr448EvggNZqLVVguzGwAXBzWYX+D0nLAYuXQLxbtvcE3kK1irxzKb4FeKvttamC4V/Vmmxie12q4H9fSe/toe+vA2OBy6n+YLi0h7oTbO8LrAncC9wk6Utdqp0E7CFpyZ7OKSIiImJ+MpB3dZhZHm1JWhl4BXhiTjqXtBZwBrCd7adq5QtSBb3n2r6o1uQGYH3gPcC4UvYIsAs9pDnU2X6FKqD/aNl+zvYL5fnvgQVbF+HZfrT8fAK4mCrg7qnv+2x/H9gcWFvSMpIuKxe8nVE7v2GStgXOAz4DHA78tEtfz1LlUP9Pb84rIiIiYn4wTy9u662yynoacEq5IG52268EXAR80vZfa+UCfgRMsX18vY3t5yU9DHwK2KwUjwMOAL7Xw7EEvN32veX5R6gujEPSSOAf5Rw2oPpD46mSTvGGcszhwBbA13s4xn8Cv7dtYBWqPwietf3hLvW+RHVh3V+AE2xf0/0scTxVXvOgfA1ERERE9LXBFPQsWm4ptiDV3RfOoQrOWjaX9Ehte0eqFdr/BUYCkyT93vZ/U61yLgN8rwTNM2yPBTYBPgncXrt92aFlNRaqdIftbD9ctscB/4+eV3wFnFXSBgTcBnyu7PsY8DlJM4B/AbuUIPhNwMVlbMOAn9nuNn2hjPkESdPL3OxWVpe7mgSMqaVvdMv2VEkXA1/sVDciIiJifqBqETGie6PWGOP9zr1yoIcRERGz4eB1lu1cKWI+JGlCWfB8nXxzW0REREQ0wmBKdRj0SmrA27oUH2T7sj7q/1SqdIy6E22f2Rf9R0RERDRZAt/ZYHuHfu5/3/7sPyIiIqLJkuoQEREREY2QwDciIiIiGiGpDtHRyMWG5ergiIiIGPKy4hsRERERjZDANyIiIiIaIYFvRERERDRCAt+IiIiIaIQEvhERERHRCLmrQ3T0+PQZHHvr1IEeRkTEfCV3y4mY97LiGxERERGNkMA3IiIiIhohgW9ERERENEIC34iIiIhohAS+EREREdEICXwjIiIiohES+EZEREREIyTwjYiIiIhGSOAbEREREY0wTwNfVa6VtFWtbCdJl0p6oVa2taR7JK0k6UhJf5c0UdKdknat1XujpCtK3SskjajtO0TSvZLulvThWvmlkm6TNFnSaZIWkLS0pKckqdTZSJIljSrbS0l6WlKP8yXpwNJu2bK9jKSrJL0g6ZQudY+W9HD9vHsxf7dJOq+39du0v7o+F6XsAEnfm9M+IyIiIoaKeRr42jawD3C8pEUkDQeOBvZt1ZG0OXAysKXth0rxCbbHANsBP5C0YCk/GPij7VWAP5ZtJK0B7AKsCWwJfE/SAqXNTrbXBt4JLAfsaPtZ4HFg9VJnY+DW8hNgQ+BG2zO7OzdJKwIfAh6qFb8IfA04sE2T3wAbdNdfm/5Xp/p9vbfMW7s6wyUt1EM351HNS90upTwiIiJivjbPUx1s30EV9B0EHAGcbfs+AEmbAj8E/rNV1qXtPcB0oLWyux1wVnl+FrB9rfzntl+y/TfgXkqQafu5UmcYsBDgsn0drwW6GwMndNm+vsOpnQD8b60/bE+zfS1VANz1XG6w/ViHPus+DpwDXA5s202dVYG7JX2nBMpd/QLYRtLCAJJGA28Bru1aUdLeksZLGj/tmadmY5gRERERg9NA5fgeRRXIbQUcV8oWBn4NbG/7rnaNJK0L3GP7iVL0plbwWH4uX8pXAB6uNX2klLX6uQx4AnieKhiEKrBtBborAxcCY8v2xlSBcVuStgX+bvu27k95ru0MnE+1Ortruwq2bwXWAqYAZ5S0kj1bK8S2nwJuoloFh2q19/yyEt+1r9Ntj7U9dviIZfr+bCIiIiLmsQEJfG1PowrizrH9Uil+mSr43KtNky9Kuhu4ETiyF4dQu8PWjv9h4M1UwfYHSvF1wMaS3gY8YPtFqrTkxYH1qALG1x9IWgw4DDi8F+OaI5LWB560/SBVSse69XzmOtvP2z7D9ibA3sBngPrKcj3dIWkOERER0RgDeVeHmeVR394JWF/SoV3qnmB7NapVz7MlLVLK/yHpzQDlZ2sl+BFgxVr7UcCj9Q5LYHsJVVpEK41iBPARYFypNgHYE/ib7e4uQns78DbgNkkPlGPdImlkj2c/e3YF3lH6vw9YEviopB3KRX8TJbVWp5H0VklHABdRrXx/rNbXr4DNy+r5orZv6cNxRkRERAxag+p2ZranA9sAu0l63cqv7YuA8cAepeiS2vM9qFIlWuW7SFq4rOCuAtwkafFaoDwM2Bqop1WMA/bntcB3HHAAPeT32r7d9vK2R9seTRV0r2v78dk59+6UO0nsCKxVO8Z2wK62L7Y9pjzGSxot6coyD88Cm9je2fbltfG+AFwN/Jis9kZERESDDBvoAXRl+2lJWwLXSJrapsrXgZ9J+iFwLHBBCZIfogoQsT1Z0gXAncAMYF/br5Rc10vKxV0LAH8CTqv1fR1VMDy+bI+jyvftdGFbt8oq7ZLAQpK2B7awfaek46jynBeT9Ahwhu0j23TxXqr84b/Xyq4B1pD05i4XyL0CHGq7bVpGzXlUq8Fd7/AQERERMd9Sm+uaImYxao0x3u/cKwd6GBER85WD11l2oIcQMV+SNMH22Hb7BlWqQ0REREREfxl0qQ6DmaRTgU26FJ9o+8w+6v8wSrpGzYW2j+6L/iMiIiKaLIHvbLC9b+dac9X/0VTfZBcRERERfSypDhERERHRCAl8IyIiIqIRkuoQHY1cbFiuPo6IiIghLyu+EREREdEICXwjIiIiohES+EZEREREIyTwjYiIiIhGSOAbEREREY2QuzpER49Pn8Gxt04d6GFERAwpuRtOxOCTFd+IiIiIaIQEvhERERHRCAl8IyIiIqIREvhGRERERCMk8I2IiIiIRkjgGxERERGNkMA3IiIiIhqh1/fxlbQC8NZ6G9vX9MegIiIiIiL6Wq9WfCV9C7gO+CrwlfI4sB/HNSSpcq2krWplO0m6VNILtbKtJd0jaSVJR0o6sEs/K0q6StIUSZMl7V/b921Jd0maJOliSUuX8mVKmxcknVKrv7+k79a2fyDpytr25yWd1NdzERERETHY9HbFd3tgNdsv9eNYhjzblrQPcKGkq4AFgKOBLYHbACRtDpwMbGH7IUntupoBfNn2LZKWACZIusL2ncAVwCG2Z5Q/SA4BDgJeBL4GvLM8Wq4HdqttjwHeIGkB268AGwO/6pMJiIiIiBjEepvjez+wYH8OZH5h+w7gN1TB6BHA2bbvA5C0KfBD4D9bZd308ZjtW8rz54EpwApl+3LbM0rVG4BRpXya7WupAuC6W4FVJS0qaSlgOjAReFfZvzFVcBwRERExX+vtiu90YKKkPwKvrvra/kK/jGroOwq4Bfg3MLaULQz8GtjM9l297UjSaGAd4MY2uz8NnN9T+7IyPBFYH1i09HMPsLGkJwDZfri344mIiIgYqnob+F5SHtELtqdJOh94oZYe8jLVyupewP7dNq6RtDjwS+AA28912XcYVUrEub3o6jqqld1FgXFUge+hwJN0s9oraW9gb4ClR47qzXAjIiIiBrVeBb62z5K0ELBqKbrb9sv9N6z5wszyqG/vBFwp6VDb/6+nxpIWpAp6z7V9UZd9ewDbAJvbdi/Gcj3wWWAR4FSqgHeN8vO6dg1snw6cDjBqjTG9OUZERETEoNbbuzpsRrVKeCrwPeCvkt7bf8OaP9meThWw7iZpr+7qqbri7UfAFNvHd9m3JVX+8Lalv964HtgQWM72EyVYfhLYjuT3RkREREP0NtXhO1R3IbgbQNKqwHnAev01sPmV7adL8HqNpKml+KuSDqhV2wX4JHB7yc8FONT274FTqPKFryh3hLjB9j4Akh4AlgQWkrQ91e/sTtvPSHoSmFw7xjhgE8rdJiIiIiLmd+rNJ+WSJtleq1NZzJ9GrTHG+517ZeeKERHxqoPXWXaghxDRSJIm2B7bbl9vV3zHS/oRcE7Z3g2Y0BeDi4iIiIiYF3ob+H4O2Bf4AiDgGqpc34iIiIiIIaG3d3V4CTi+PCIiIiIihpweA19JF9jeSdLtwOuSgZPjGxERERFDRacV39YXLWzT3wOJiIiIiOhPPd7H1/Zj5en/2H6w/gD+p/+HFxERERHRN3r1BRbAh9qUbdWXA4mIiIiI6E+dcnw/R7Wyu7KkSbVdS9DNV93G/GfkYsNyP8qIiIgY8jrl+P4M+ANwDHBwrfx520/326giIiIiIvpYj4Gv7X8C/wR2BZC0PLAIsLikxW0/1P9DjIiIiIiYe73K8ZX0EUn3AH8D/gw8QLUSHBERERExJPT24rZvAhsCf7X9NmBzkuMbEREREUNIbwPfl20/BbxB0htsXwWM6b9hRURERET0rV59ZTHwrKTFgWuAcyU9Aczov2HFYPL49Bkce+vUgR5GRMQ8lzvaRMxferviux0wHfgicClwH/k2t4iIiIgYQnob+B5ue6btGbbPsn0ScFB/DiwiIiIioi/lm9siIiIiohHyzW0RERER0Qj55raIiIiIaIRefXObpK75vPnmtoiIiIgYUnp7O7PfAQZE9ZXFbwPuBtbsp3FFRERERPSpXgW+tt9V35a0LvDZfhlRREREREQ/6O1dHWZh+xZg/bk9uCrXStqqVraTpEsl7S3prvK4SdJ7anWulnS3pNsk3SxpTG3fpaV8sqTTJC3Q5Zgfk2RJY2tlK0m6XNIUSXdKGi1pO0m/qtU5RNK9te2PSLqkh3PbVdLtkiaVMS1byr9UjjFJ0h8lvbXW5hVJE8ujp76PlHRMl7IxkqZ016aHvn4i6WOz2y4iIiJiqOlV4FuCtdbjQEk/A56c24PbNrAPcLykRSQNB46muqDus8B7bL+j1PmZpJG15rvZXhv4HvDtWvlOpfydwHLAjrXzWAL4AnBjl6GcDXzb9urABsATwPXARrU6GwHPSVq+bG9MN3e2kDQMOBF4v+21gEnAfmX3rcDYUv4L4Lha03/ZHlMe27bruzgP2LlL2S5UFyN2HcuIHvqJiIiIaIzervguUXssTJXzu11fDMD2HcBvqL4Q4wiqIPRjwFdsTy11bgHOAvZt08U4YIVaf8+Vp8OAhahyk1u+QRVovtgqkLQGMMz2FaX9C7an236S6sK+/yhVVwB+SRXwUn5e381pqTyGSxKwJPBo6f8q29NLvRuAUd300S3bd1N9jfS7a8U7AT9vU/1Xki6RtG0JyCMiIiIaqbc5vkf18ziOAm4B/g2Mpfpq5Ald6owH9mjTdkvgV/UCSZdRrdz+gWpVFUnrACva/q2kA2vVV6UKIi+iumjvSuBg269QBbYbl3SJe6gC1Q9L+i2wFnBzu5Ox/XK5B/LtwLTStl3QvlcZY8siksYDM4Bjbf+qTZuW86hWeW+UtCHwlO172tTbDHgv8GmqlfULgR/ZvrdN3VdJ2hvYG2DpkbMdm0dEREQMOp2+wKLbPFOADh/H95rtaZLOB16w/VK1SPr64TDr6u25JTViAWDdLv19WNIiwLnAByT9ETgB+FSbfocBmwLrAA8B55d6P6JKZdi4HGMccBNweKl7t+0X2/SHpAWBz5V69wMnA4cA36zV+QRVkP++WtOVbD8qaWXgT5Jut31fu2NQre5eL+nLVAHwee0qlXSSPwN/lrQk1cr6XZJ2tv3LbvrG9unA6QCj1hjj7upFREREDBWdVnw3Ah6mCqpupAo++8vM8gC4E1gP+FNt/7qlvGU34DbgWOBU4L/qndl+sQTu21EFrO8Eri5B9UjgEknbAo8At9q+H6Bc0LYhVeB7PfB5qsD3h7afLwH1ZvT8zXVjyhjuK31eQO0LQCR9EDgMeJ/tl2pjbqVD3C/paqrAuW3ga/thSQ9QBc4fBTYqK9OtlfJLbB9ejrcosAPVqu/SwP7AFT2MPyIiImK+0ynwHQl8CNgV+DhVbu95tif387iOA74laUvbT5W7NnwKqOe0tlIKvgrcJ2l1qiB9CduPlXzWrYG/lC/iWLbVrgSVB9oeX4LFEZKWK3m9H6BKq4Aq0H4L1Yrw/5SyiVQX2/1vD+P/O7BGrc8PAVPKsdcBfgBsafuJ2phGANPLiveywCbMeuFbO+dRrWTfZ/uRUjamXkHScVQX+P2eKm/61g59RkRERMyXOn1z2yvApcClkhamCoCvlvR12yf316BsXyJpBaqP8g08D3zC9mNt6v5L0neAA4FDqVZyF6Zapf0TcFqHY71Scn7/WC5EmwD8sOyzpBuBpWy/XJqMo8p97e7CNkq6wlHANZJeBh7ktTSLbwOLAxeW1eeHSsrI6sAPJM2kuujwWNt3vq7zWV1IdfeIz/dQ52rg8O7SMiIiIiKaQlUKaA8VqiDyP6mC3tHAJcCPbf+930cXg8KoNcZ4v3OvHOhhRETMcwevs2znShExqEiaYHtsu32dLm47iyo39g/AUeXWYxERERERQ06nHN9PUt2Oa1XgC7W7LYgqE2DJfhzbkFBSIRbuUvxJ27f3Uf8XU91mre4g25f1Rf8RERERTdEpx3eOvtK4SWy/u3Otuep/h/7sPyIiIqIpEthGRERERCMk8I2IiIiIRkjgGxERERGN0OnitghGLjYst/SJiIiIIS8rvhERERHRCAl8IyIiIqIREvhGRERERCMk8I2IiIiIRkjgGxERERGNkLs6REePT5/BsbdOHehhRETD5e4yETG3suIbEREREY2QwDciIiIiGiGBb0REREQ0QgLfiIiIiGiEBL4RERER0QgJfCMiIiKiERL4RkREREQjJPCNiIiIiEZI4BsRERERjTCkAl9VrpW0Va1sJ0mXStpd0h2SJku6U9KBZf9PJH2sTV97SLqnPPaolf9E0t8kTSyPMaV8N0mTyuN6SWvX2oyU9HNJ95Vj/17Sqt2cwxhJ48o4J0naubbvA5JuKedxlqS236wnac/a+P4t6fby/NjZnM9PSTpldtpEREREDFVD6iuLbVvSPsCFkq4CFgCOBr4LHABsYftRSYsAn+yuH0lvBI4AxgIGJki6xPYzpcpXbP+iS7O/Ae+z/UwJvE8H3i1JwMXAWbZ3Kf2PAd4E/LXN4acDu9u+R9JbyrEvA54DzgI2t/1XSV8H9gB+1GYezgTOLMd6AHi/7dd9p7CkEbVzioiIiGi0IbXiC2D7DuA3wEFUwevZwM7AgbYfLXVetP3DHrr5MHCF7adLYHgFsGWH415fCyJvAEaV5+8HXrZ9Wq3uRNt/6aafv9q+pzx/FHgCWA5YBnjJditYvgL4aE9j6oWvSLpJ0mclLTk7DSXtLWm8pPHTnnlqLocRERERMfCGXOBbHAV8HNgKOA54JzBhNtqvADxc236klLUcXdIQTpC0cJv2ewF/KM9n99ivkrQBsBBwHzAVWFDS2LL7Y8CKc9Jvi+1DqVa+VwZuKWkc7+ll29Ntj7U9dviIZeZmGBERERGDwpAMfG1PA84HzrH90hx0oXbdlp+HAO8A1gfeSLWy/FpD6f1Uge8s5bM9AOnNwDnAnrZn2jawC3CCpJuA54EZc3MMANt32z4IWI1qFfm3kk6a234jIiIihpohGfgWM8sDYDKw3my0fYRZV1NHAa00icdceYkqj3aDViVJawFnANvZbn3+P7vHpqQd/A74qu0bWuW2x9ne1PYGwDXAPbPZ75nlIrff18ok6QPAT6hSQ04Bjp+dfiMiIiLmB0M58K07BjhO0kgASQtL+kIP9S8DtpA0QtIIYItS1lqJpVy0tj1wR9leCbgI+GQtDxfgT8DCkj7TKpC0vqT3tTuwpIWoLoY72/aFXfYt3xo/1Yryaa/voXu297Q9xvbWpZ/dgLuAfYHzgNVtf9X2A7PTb0RERMT8YEjd1aE7tn8v6U3AlSVgNfDjWpUfSPpuef6w7Y0kfQO4uZR93fbT5fm5kpajSoeYCOxTyg+nugDte9UhmFFyYC1pB+C7kg4GXgQeoLrLRDs7Ae8FlpH0qVL2KdsTqS5G24bqD5Lv2/7TbE/GrB4ENrX9xFz2ExERETHkqUotjejeqDXGeL9zrxzoYUREwx28zrIDPYSIGAIkTbA9tt2++SXVISIiIiKiR/NFqsNgJOldVHdtqHvJ9rtns589gf27FF9ne9+5GV9ERERE0yTw7Se2bwfG9EE/r35LW0RERETMuaQ6REREREQjJPCNiIiIiEZIqkN0NHKxYbmaOiIiIoa8rPhGRERERCMk8I2IiIiIRkjgGxERERGNkMA3IiIiIhohgW9ERERENELu6hAdPT59BsfeOnWghxER81Du5BIR86Os+EZEREREIyTwjYiIiIhGSOAbEREREY2QwDciIiIiGiGBb0REREQ0QgLfiIiIiGiEBL4RERER0QgJfCMiIiKiERL4RkREREQjDLrAV5VrJW1VK9tJ0qWSlpP0sqTPdmnzgKRl2/RzkqR7JU2StG4pX1HSVZKmSJosaf9amzGSbpA0UdJ4SRuU8lsljSnPh0maJukTtXYTWv13c06blT4nS/pzKVutlLUez0k6oMPcDJM0VdIxnWeybft31Y73tKS/ledXzkl/EREREUPJoAt8bRvYBzhe0iKShgNHA/sCOwI3ALv2oqutgFXKY2/g+6V8BvBl26sDGwL7Slqj7DsOOMr2GODwsg1wPbBxeb42cHdru4xvZeC2doOQtDTwPWBb22uWc8D23bbHlGOtB0wHLu5wTluUY+8kSd0cbylJbX+vtm+vHfMS4Ctl+4MdjhsREREx5A26wBfA9h3Ab4CDgCOAs23fRxXwfhkYJWmFDt1sV9rZ9g3A0pLebPsx27eU4zwPTAFafRlYsjxfCni0PL+O1wLfjYHTgDFlewPgFtuvdDOOjwMX2X6oHPOJNnU2B+6z/WCHc9oVOBF4iCpob+c9wN2SjpS0Uof+uiVp77LqPX7aM0/NaTcRERERg8agDHyLo6iCxq2A4yStCIy0fRNwAbBzh/YrAA/Xth/htQAXAEmjgXWAG0vRAcC3JT0M/B9wSCmvr/huDFwDvCRpibJ9XQ/jWBUYIenqkhKxe5s6uwDn9XQykhalCpB/W+q2XfW2/TtgI+BZ4NeSLpO0o6SFeuq/TT+n2x5re+zwEcvMTtOIiIiIQWnQBr62pwHnA+fYfokqOLyg7P45ndMd2qUC+NWd0uLAL4EDbD9Xij8HfNH2isAXgR+VsTwALCRpJPAOqnSDm4F3UwW+1/cwjmFUqQz/CXwY+JqkVWvjWAjYFriww/lsA1xle3oZ9w6SFmhX0fZU29+1vQ5wJPB1YHyH/iMiIiLma8MGegAdzCwPqALdN0narWy/RdIqtu/ppu0jwIq17VGU1AVJC1IFj+favqhWZw+gdbHbhcAZtX3jgI8Bj9m2pBuATahSHW7o4RweAaaWQH6apGuo8oT/WvZvRZUq8Y8e+oDq/DeR9EDZXgZ4v6TVgM+Usq1tt85xDWBPYAfgz8DpHfqPiIiImK8N2hXfuhLcDbe9gu3RtkcDx1CtAnfnEmD3cneHDYF/2n6sXBT2I2CK7eO7tHkUeF95/gGgHlRfR7UKPK5sjwN2Bx63/WwP4/g1sGm5I8NiVKvEU2r7d6VzmsOSVLm7K9XOf19gV9unti5Ys/2opHVLUH4GcBcwxvZetm/s/ggRERER87/BvuLbsiuvv+PBL6lSHr5RtidJaq0OX0B1EdzWwL1Ud0zYs+zbBPgkcLukiaXsUNu/p1o5PVHSMOBFqrtBtFwHnEAJfEsQvQA9pzlge4qkS4FJVKvXZ5SL9yiB8IeAz/bQBcB/AX8qKR8tv6bKfV64S/m/gD1tTyEiIiIiXqXq7mER3Ru1xhjvd25u9RvRJAevs2znShERg5CkCbbHtts3JFIdIiIiIiLm1lBJdRj0JO3JaxfGtVxne9/Z7OdUqnSMuhNtnzk344uIiIhougS+faQEpnMdnM5uoBwRERERvZNUh4iIiIhohAS+EREREdEISXWIjkYuNixXeEdERMSQlxXfiIiIiGiEBL4RERER0QgJfCMiIiKiERL4RkREREQjJPCNiIiIiEZI4BsRERERjZDbmUVHj0+fwbG3Th3oYUQ0Qm4dGBHRf7LiGxERERGNkMA3IiIiIhohgW9ERERENEIC34iIiIhohAS+EREREdEICXwjIiIiohES+EZEREREIyTwjYiIiIhGGBSBryrXStqqVraTpEslLSfpZUmf7dLmAUm3S5ok6c+S3lrbt6WkuyXdK+ngWvk3Sv2Jki6X9JZSvkEpmyjpNkk7lPL9JX231v4Hkq6sbX9e0kk9nFdrjBMlja+Vry1pXNn3G0lLdpifDSRdLekeSbdI+p2kd3WY1p76GyZpqqRj5rSPiIiIiKFmUAS+tg3sAxwvaRFJw4GjgX2BHYEbgF3bNH2/7bWAq4GvAkhaADgV2ApYA9hV0hql/rdtr2V7DPBb4PBSfgcwtpRvCfxA0jDgemDj2vHGAEuVY1D2Xdfh9N5ve4ztsbWyM4CDbb8LuBj4SneNJb0JuAA41PYqttcFjgHe3k39ER3GA7AFcDewkyT1on5ERETEkDcoAl8A23cAvwEOAo4AzrZ9H1XA+2VglKQVumk+Dmjt2wC41/b9tv8N/BzYrhzjuVqb4YBL+XTbM0r5Iq1y4FZgVUmLSloKmA5MBFqrrRtTBcezazXgmvL8CuCjPdTdDzjL9qvHsX2t7V91U/9Xki6RtG0J3tvZFTgReAjYcLZGHhERETFEDZrAtzgK+DjVau1xklYERtq+iWrVc+du2m0J/Ko8XwF4uLbvEV4LipF0tKSHgd14bcUXSe+WNBm4HdjH9owSDE8E1qcKEG+kWn3euKRJyHb9WF0ZuFzSBEl718rvALYtz3cEVuyhjzWBW3rY39VmwHeogum7JB0j6T9aOyUtCmxOteJ9Hu1X0pG0t6TxksZPe+ap2Th8RERExOA0qAJf29OA84FzbL8E7EIV8EK1cts1SLtK0hPAB4GflbJ2H9371Sf2YbZXBM6lWk1tld9oe02qIPcQSYuUXddRrexuTLWyPK4834TOq72blNSErYB9Jb23lH+6bE8AlgD+3aGfV0m6UdIUSSe22+/Kn23vAawLzKQKgFurytsAV9meDvwS2KGWulHv53TbY22PHT5imd4OLyIiImLQGlSBbzGzPKAKdD8l6QHgEmBtSavU6r4feCswGfh6KXuEWVdQRwGPtjnOz2iTYmB7CjANeGcpauX5bkQV9E6hyh3umN9r+9Hy8wmqXN4NyvZdtrewvR7Vqut9PXQzmSqAbfX5buBrlFzj2kV5rfOnpGZ8HLgI+DCwP1VKBVRz+sEypxOAZajmMSIiImK+NhgDXwAkrQYMt72C7dG2R1Nd1LVLvZ7tfwEHALtLeiNwM7CKpLdJWqjUv6T0WQ+atwXuKuVva+XDlrtDrAY8UOpdT5XmsJztJ8qFeE9S5Q13u+IrabikJVrPqS4ou6NsL19+voHqorzTepiKU6mC//pFdouVc3+lXDg3xvbhpc/jgDupVqS/UlZtT7X9XLl7xHuAlWpzui/dpDtEREREzE8GbeBLFYxd3KXsl7QJ0mw/RrVyum/Jy90PuIxqdfYC25NL1WMl3SFpElUgun8pfw9wm6SJ5Zj/Y3tq6fsZqkC31QdUK7/LA7f1MP43AddKug24Cfid7Utb5ybpr1SB96PAmd11YvtxqtzmY8rt2a4HPgac0k2Tq4HVbe9r+9Yu+/4L+FNJI2n5NbCtpIV7OJeIiIiIIU/VAmZE90atMcb7nXtl54oRMdcOXmfZgR5CRMSQJmlCl9vIvmowr/hGRERERPSZ7u7zGr0kaRngj212bW671/cBk/Rh4Ftdiv9me4e5GV9EREREVBL4zqUS3I7pg34uo8pLjoiIiIh+kFSHiIiIiGiEBL4RERER0QgJfCMiIiKiEZLjGx2NXGxYbrEUERERQ15WfCMiIiKiERL4RkREREQjJPCNiIiIiEZI4BsRERERjZDANyIiIiIaIXd1iI4enz6DY2+dOtDDiBgScgeUiIjBKyu+EREREdEICXwjIiIiohES+EZEREREIyTwjYiIiIhGSOAbEREREY2QwDciIiIiGiGBb0REREQ0QgLfiIiIiGiEQRP4qnKtpK1qZTtJulTSC2V7tKQ72rR9o6QrJN1Tfo7osn8lSS9IOrBWdrWkuyVNLI/lJS0t6SlJKnU2kmRJo8r2UpKeltR23iQdKenvtT63ru1bS9I4SZMl3S5pkVK+Xtm+V9JJrWO36fuwWr+v1J5/YTbnebVy7hMlTZF0+uy0j4iIiBiqBk3ga9vAPsDxkhaRNBw4Gti3F80PBv5oexXgj2W77gTgD23a7WZ7THk8YftZ4HFg9bJ/Y+DW8hNgQ+BG2zN7GMsJtT5/DyBpGPBTYB/bawKbAS+X+t8H9gZWKY8t23Vq++hWv8C/asc4qV6va9Dfxkm1Ma4OnNyhfkRERMR8YdAEvgC27wB+AxwEHAGcbfu+XjTdDjirPD8L2L61Q9L2wP3A5F4O4zpeC3Q3pgqa69vX97Kfui2ASbZvA7D9lO1XJL0ZWNL2uBL4n10f+xw6WdJVknZrrSp38WbgkdaG7dvn8ngRERERQ8KgCnyLo4CPA1sBx/WyzZtsPwZQfi4PUFaNDyp9tnNm+cj/a7UUg+t5LdBdGbgQGFu2N6YKjHuyn6RJkn5cW31dFbCkyyTdIul/S/kK1ILQ8nyFTifbE9ufAA4sY50s6WRJa9eqnAD8SdIfJH1R0tLt+pG0t6TxksZPe+apuRlSRERExKAw6AJf29OA84FzbL80l90dRfWx/gtt9u1m+13ApuXxyVJ+HbCxpLcBD9h+kSoFeXFgPeCmHo73feDtwBjgMeA7pXwY8B5gt/JzB0mbA+3yed3702vP9gTb+wJrAvcCN0n6Utl3JlUqx4VUKRc3SFq4TR+n2x5re+zwEcvM7ZAiIiIiBtygC3yLmeXRW/8oaQOUn0+U8ncDx0l6ADgAOFTSfgC2/15+Pg/8DNigbN8DjAA+Aowr/UwA9gT+1k0QTWn7D9uvlBzgH7b6pFrJ/bPtqbanA78H1i3lo2pdjAIenY3zpqwiT5R0Rq1smKRtgfOAzwCHU+UYt8b5qO0f294OmAG8c3aOGRERETEUDdbAd3ZdAuxRnu8B/BrA9qa2R9seDXwX+H+2TymB4bIAkhYEtgHqd4sYB+zPa4HvOKrAucf83lbwXexQ6/MyYC1Ji5UL3d4H3FnSMp6XtGFJtdi9Nfbesv3hcqHaf5cxfAn4K/BRqtXud9r+lu0nyv4tyzkjaSSwDPD32TlmRERExFA0bKAH0EkJFOspD6tJqufFfhE4FrhA0l7AQ8COHbpdGLisBIALAFdSrdC2XAdsDYwv2+Oo8n07Xdh2nKQxVOkKDwCfBbD9jKTjgZvLvt/b/l1p8zngJ8CiVHeeaHf3idkxCRhj+7lu9m8BnCjpxbL9FduPz+UxIyIiIgY9VTcTGLzKhVk/tL1Bx8rRL0atMcb7nXvlQA8jYkg4eJ1lB3oIERGNJmmC7bHt9g3qVAdJ+1DlqX51oMcSEREREUPboE51sH0acNpAj6MrSacCm3QpPrHcMaEv+j+M16drXGj76L7oPyIiIqKJBnXgO1iVW4X1Z/9HU31rXURERET0kUGd6hARERER0VcS+EZEREREIyTwjYiIiIhGSI5vdDRysWG5RVNEREQMeVnxjYiIiIhGSOAbEREREY2QwDciIiIiGiGBb0REREQ0QgLfiIiIiGiEBL4RERER0QgJfCMiIiKiERL4RkREREQjJPCNiIiIiEZI4BsRERERjZDANyIiIiIaIYFvRERERDRCAt+IiIiIaIQEvhERERHRCLI90GOIQU7S88DdAz2OQWRZYOpAD2KQyFzMKvPxmszFrDIfr8lczCrz8Zq+mou32l6u3Y5hfdB5zP/utj12oAcxWEgan/moZC5mlfl4TeZiVpmP12QuZpX5eM28mIukOkREREREIyTwjYiIiIhGSOAbvXH6QA9gkMl8vCZzMavMx2syF7PKfLwmczGrzMdr+n0ucnFbRERERDRCVnwjIiIiohES+DaMpC0l3S3pXkkHt9kvSSeV/ZMkrdupraQ3SrpC0j3l54h5dT5zq5/m49uS7ir1L5a09Dw6nbnSH3NR23+gJEtatr/Po6/013xI+nzZN1nScfPiXOZWP/07GSPpBkkTJY2XtMG8Op+5NZfz8WNJT0i6o0ubpr6PdjcfTXwfbTsXtf1Nex/tdj7m6n3Udh4NeQALAPcBKwMLAbcBa3SpszXwB0DAhsCNndoCxwEHl+cHA98a6HMd4PnYAhhWnn9rKMxHf81F2b8icBnwILDsQJ/rAL823g9cCSxctpcf6HMdwLm4HNiq1v7qgT7X/p6Psu+9wLrAHV3aNO59tMN8NOp9tKe5KPsa9T7a4bUxV++jWfFtlg2Ae23fb/vfwM+B7brU2Q4425UbgKUlvblD2+2As8rzs4Dt+/k8+kq/zIfty23PKO1vAEbNi5OZS/312gA4AfhfYChdUNBf8/E54FjbLwHYfmJenMxc6q+5MLBkeb4U8Gh/n0gfmZv5wPY1wNNt+m3i+2i389HA99GeXhvQvPfRnuZjrt5HE/g2ywrAw7XtR0pZb+r01PZNth8DKD+X78Mx96f+mo+6T1P9NTvY9ctcSNoW+Lvt2/p6wP2sv14bqwKbSrpR0p8lrd+no+4f/TUXBwDflvQw8H/AIX035H41N/PRkya+j/ZWE95Hu9XQ99GezNX7aL65rVnUpqzrX4/d1elN26GmX+dD0mHADODcORrdvNXncyFpMeAwqo8sh5r+em0MA0ZQfaS3PnCBpJVdPq8bpPprLj4HfNH2LyXtBPwI+OAcj3LemZv5mB/163w06H20fYfNfR/tyVy9j2bFt1keocoTahnF6z9e7K5OT23/0fpoovwcCh/fQv/NB5L2ALYBdhvkQU1Lf8zF24G3AbdJeqCU3yJpZJ+OvH/012vjEeCi8rHeTcBMqu+mH8z6ay72AC4qzy+k+lh0KJib+ehJE99He9Sw99HuNPV9tFO/c/4+OjsJwXkM7QfVX0n3U/0jaiWar9mlzn8ya6L5TZ3aAt9m1osyjhvocx3g+dgSuBNYbqDPcaDnokv7Bxg6F2X012tjH+Dr5fmqVB/xaaDPd4DmYgqwWXm+OTBhoM+1v+ejtn80r79gp3Hvox3mo1Hvoz3NRZf9jXgf7fDamKv30QGfmDzm7YPqCsq/Ul1peVgp2wfYpzwXcGrZfzswtqe2pXwZ4I/APeXnGwf6PAd4Pu4t/xAnlsdpA32eAzUXXfofMm/Y/fjaWAj4KXAHcAvwgYE+zwGci/cAE6j+M7wRWG+gz3Mezcd5wGPAy1QrV3uV8qa+j3Y3H018H207F136b9L7aHevjbl6H803t0VEREREIyTHNyIiIiIaIYFvRERERDRCAt+IiIiIaIQEvhERERHRCAl8IyIiIqIREvhGRMSrJL0wj483WtLH5+UxI6K5EvhGRMSAkDSM6gb1CXwjYp4YNtADiIiIwUfSZsBRwD+AMVRfL3w7sD+wKLC97fsk/QR4EVgTeBPwJdu/lbQI8H1gLDCjlF8l6VNU39a0CDAcWAxYXdJE4CzgYuCcsg9gP9vXl/EcCUwF3kn15RefsG1J6wMnljYvUX0T3HTgWGAzYGHgVNs/6Ms5ioihJ4FvRER0Z21gdeBpqq8ePcP2BpL2Bz4PHFDqjQbeB7wduErSfwD7Ath+l6R3AJdLWrXU3whYy/bTJaA90PY2AJIWAz5k+0VJq1B9e9PY0m4dqgD7UeA6YBNJNwHnAzvbvlnSksC/gL2Af9peX9LCwHWSLrf9tz6fpYgYMhL4RkREd262/RiApPuAy0v57cD7a/UusD0TuEfS/cA7qL6S+GQA23dJehBoBb5X2H66m2MuCJwiaQzwSq0NwE22HynjmUgVcP8TeMz2zeVYz5X9WwBrSfpYabsUsAqQwDeiwRL4RkREd16qPZ9Z257JrP9/uEs7A+qh32k97PsiVXrF2lTXobzYzXheKWNQm+NTyj9v+7IejhURDZOL2yIiYm7tKOkNkt4OrAzcDVwD7AZQUhxWKuVdPQ8sUdteimoFdybwSWCBDse+C3hLyfNF0hLlornLgM9JWrA1BknDe+gnIhogK74RETG37gb+THVx2z4lP/d7wGmSbqe6uO1Ttl+SXrcQPAmYIek24CfA94BfStoRuIqeV4ex/W9JOwMnS1qUKr/3g8AZVKkQt6g66JPA9n1wrhExhMlu9wlRREREZ+WuDr+1/YuBHktERCdJdYiIiIiIRsiKb0REREQ0QlZ8IyIiIqIREvhGRERERCMk8I2IiIiIRkjgGxERERGNkMA3IiIiIhohgW9ERERENML/B6FUtAq/YIr9AAAAAElFTkSuQmCC",
      "text/plain": [
       "<Figure size 720x432 with 1 Axes>"
      ]
     },
     "metadata": {
      "needs_background": "light"
     },
     "output_type": "display_data"
    }
   ],
   "source": [
    "# Visualisation des résultats\n",
    "print(\"Affichage des résultats...\")\n",
    "plt.figure(figsize=(10, 6))\n",
    "plt.barh(top_mutations[\"Feature\"], top_mutations[\"Importance\"], color=\"skyblue\")\n",
    "plt.xlabel(\"Importance\")\n",
    "plt.ylabel(\"Mutation\")\n",
    "plt.title(\"Top 10 Mutations Impacting YPD Doubling Time\")\n",
    "plt.gca().invert_yaxis()\n",
    "plt.show()"
   ]
  }
 ],
 "metadata": {
  "kernelspec": {
   "display_name": "base",
   "language": "python",
   "name": "python3"
  },
  "language_info": {
   "codemirror_mode": {
    "name": "ipython",
    "version": 3
   },
   "file_extension": ".py",
   "mimetype": "text/x-python",
   "name": "python",
   "nbconvert_exporter": "python",
   "pygments_lexer": "ipython3",
   "version": "3.9.12"
  }
 },
 "nbformat": 4,
 "nbformat_minor": 2
}
