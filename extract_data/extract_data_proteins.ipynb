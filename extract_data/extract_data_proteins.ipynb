{
 "cells": [
  {
   "cell_type": "code",
   "execution_count": null,
   "metadata": {},
   "outputs": [],
   "source": [
    "import os\n",
    "import re\n",
    "import pandas as pd\n",
    "import dask.dataframe as dd"
   ]
  },
  {
   "cell_type": "markdown",
   "metadata": {},
   "source": [
    "# 1. Define the pathn to the parent directory"
   ]
  },
  {
   "cell_type": "code",
   "execution_count": null,
   "metadata": {},
   "outputs": [],
   "source": [
    "data_dir = os.path.abspath(os.path.join(os.getcwd(), '..'))  # Move one level up"
   ]
  },
  {
   "cell_type": "markdown",
   "metadata": {},
   "source": [
    "# 2. Choose the phenotype"
   ]
  },
  {
   "cell_type": "code",
   "execution_count": null,
   "metadata": {},
   "outputs": [],
   "source": [
    "phenotype = \"YPD_doublingtime\"\n",
    "#phenotype = \"YPDCUSO410MM_40h\""
   ]
  },
  {
   "cell_type": "markdown",
   "metadata": {},
   "source": [
    "# 3. Create X_matrix (proteins+CNV)"
   ]
  },
  {
   "cell_type": "code",
   "execution_count": null,
   "metadata": {},
   "outputs": [
    {
     "name": "stdout",
     "output_type": "stream",
     "text": [
      "Final matrix with mutation counts saved at X_matrix_proteins_and_cnvs_count.csv. Dimensions: (1011, 12542)\n"
     ]
    }
   ],
   "source": [
    "# Load the mutation dataset\n",
    "mutations_path = os.path.join(data_dir, \"data/mutations_dataset.csv\")\n",
    "mutations_df = pd.read_csv(mutations_path)\n",
    "\n",
    "# Create a mutation count matrix\n",
    "mutation_matrix = (\n",
    "    mutations_df\n",
    "    .groupby(['Yeast_ID', 'Protein_ID'])['Position']  # Group by Yeast_ID and Protein_ID\n",
    "    .count()                # Count the number of mutations for each (Yeast_ID, Protein_ID)\n",
    "    .unstack(fill_value=0)  # Pivot the table to get a matrix\n",
    ")\n",
    "\n",
    "# Load the CNV dataset\n",
    "cnv_path = os.path.join(data_dir, \"data/genesMatrix_CopyNumber.tab\")\n",
    "cnv_df = pd.read_csv(cnv_path, sep=\"\\t\", index_col=0).T  # Transpose the CNV data\n",
    "cnv_df.index.name = \"Yeast_ID\"\n",
    "cnv_df.reset_index(inplace=True)\n",
    "\n",
    "# Extract the real protein IDs in the CNV dataset\n",
    "pattern_case1 = r'Y[A-Z]{2}\\d{3}[A-Z]'          # Case 1 pattern\n",
    "pattern_case2 = r'Y[A-Z]{2}\\d{3}[A-Z]\\.[A-Z]'   # Case 2 pattern\n",
    "\n",
    "# Function to extract the real name\n",
    "def extract_real_name(name):\n",
    "    \"\"\"\n",
    "    Extracts the real name of a yeast based on two specific patterns.\n",
    "    \n",
    "    Parameters:\n",
    "        name (str): The name to be processed (e.g., \"YAA001A.X\").\n",
    "    \n",
    "    Returns:\n",
    "        str or None: The extracted real name if it matches either pattern, or None if no match is found.\n",
    "    \"\"\"\n",
    "    # Check if the name matches the more specific pattern (Case 2)\n",
    "    match_case2 = re.search(pattern_case2, name)\n",
    "    if match_case2:\n",
    "        # If it matches, replace the '.' with a '-' and return the modified name\n",
    "        return match_case2.group().replace('.', '-')\n",
    "\n",
    "    # If the name doesn't match Case 2, check for Case 1 (less specific pattern)\n",
    "    match_case1 = re.search(pattern_case1, name)\n",
    "    if match_case1:\n",
    "        # If it matches Case 1, return the name as is\n",
    "        return match_case1.group()\n",
    "    \n",
    "    # If the name doesn't match either pattern, return None\n",
    "    return None\n",
    "\n",
    "# Apply the extract_real_name function to the 'Standard_name' column\n",
    "cnv_df['Yeast_ID'] = cnv_df['Yeast_ID'].apply(extract_real_name)\n",
    "\n",
    "# Drop rows with missing 'Standard_name' values (i.e., rows where real name extraction failed)\n",
    "cnv_df = cnv_df.dropna(subset=['Yeast_ID']).reset_index(drop=True)\n",
    "\n",
    "# Transpose CNV data back after processing Standard_name\n",
    "cnv_matrix = cnv_df.set_index('Yeast_ID').T  # Transpose for Yeast_ID rows\n",
    "cnv_matrix.index.name = 'Yeast_ID'\n",
    "\n",
    "# Merge mutation count matrix and CNV matrix\n",
    "final_matrix = mutation_matrix.merge(\n",
    "    cnv_matrix,\n",
    "    left_index=True,\n",
    "    right_index=True,\n",
    "    how='left',\n",
    "    suffixes=('', '_CNV')  # Append '_CNV' to CNV columns\n",
    ")\n",
    "\n",
    "# Fill missing values in CNV columns with median\n",
    "cnv_columns = [col for col in final_matrix.columns if col.startswith(\"CNV_\")]\n",
    "final_matrix[cnv_columns] = final_matrix[cnv_columns].fillna(final_matrix[cnv_columns].median())\n",
    "\n",
    "# Save the final matrix to a CSV file\n",
    "output_path = os.path.join(data_dir, f\"data/X_matrix_proteins_and_cnvs_count_{phenotype}.csv\")\n",
    "final_matrix.to_csv(output_path, index=True)\n",
    "\n",
    "print(f\"Final matrix with mutation counts saved at {output_path}. Dimensions: {final_matrix.shape}\")"
   ]
  },
  {
   "cell_type": "markdown",
   "metadata": {},
   "source": [
    "# 4. Verify that y_phenotype and X_matrix (proteins+CNV) are ready for shuffling"
   ]
  },
  {
   "cell_type": "code",
   "execution_count": null,
   "metadata": {},
   "outputs": [
    {
     "name": "stdout",
     "output_type": "stream",
     "text": [
      "Tous les IDs de Y sont présents dans X.\n",
      "IDs présents dans X mais absents dans Y : {'AVH', 'SACE_YBP', 'CLS', 'SACE_YBL', 'SACE_YCL', 'SACE_YBS', 'CHP', 'SACE_YDO', 'ARI', 'SACE_YBG', 'CGE', 'CKN', 'SACE_YDC', 'BFL', 'SACE_YCT', 'CLD', 'SACE_GAS', 'BTG', 'SACE_YCC', 'CHI', 'BKS', 'BEF', 'ABH', 'AIG', 'SACE_YBR', 'CLI', 'ABK', 'CHL', 'SACE_YBT', 'SACE_YBQ', 'SACE_YAC', 'CII', 'AGB', 'SACE_YDK', 'AII', 'SACE_YCI', 'SACE_YCB', 'AIR', 'SACE_MAB', 'CLL', 'BHK', 'BGA', 'CGG', 'CHG', 'BRA', 'BHF', 'BRG', 'SACE_YBO', 'SACE_YAY', 'CGV', 'AHQ', 'SACE_YBW', 'CGR', 'SACE_YDL', 'SACE_YAQ', 'BQT', 'AER', 'ARK', 'CGQ', 'CGT', 'AMS', 'CGL', 'SACE_YCF', 'SACE_YBU', 'SACE_YBB', 'AHF', 'SACE_YDB', 'CHD', 'BKR', 'SACE_YCQ', 'SACE_YCM', 'BDC', 'BRE', 'CHN', 'SACE_YAT', 'BKD', 'CQB', 'ABG', 'ALV', 'SACE_YCG', 'SACE_YAN', 'CFN', 'SACE_YCY', 'APV', 'CGS', 'SACE_GAL', 'AIK', 'CKE', 'BFA', 'CGP', 'SACE_YBZ', 'CHM', 'SACE_MAA', 'SACE_YAX', 'CLT', 'SACE_YBE', 'SACE_YCP', 'ASL', 'CKA', 'AFA', 'BRF', 'SACE_YBF', 'BIL', 'APP', 'SACE_YBJ', 'AFS', 'BHC', 'CQP', 'CHA', 'BRC', 'SACE_YBX', 'CIT', 'SACE_YDE', 'BRB', 'SACE_YAU', 'SACE_YDM', 'SACE_YAK', 'SACE_YBY', 'AAA', 'SACE_YBV', 'SACE_MAL', 'BRQ', 'SACE_YDI', 'SACE_YAP', 'SACE_YCK', 'CCI', 'SACE_YAB', 'SACE_YBM', 'AEK', 'BLF', 'SACE_YBA', 'ASM', 'AES', 'SACE_YDA', 'CEE', 'SACE_YDF', 'APS', 'CKM', 'SACE_YCX', 'CHB', 'SACE_YAV', 'AFM', 'AKB', 'AMT', 'CFI', 'AIM', 'SACE_YCW', 'SACE_YCA', 'CPI', 'SACE_YAG', 'SACE_YDJ', 'SACE_YAF', 'SACE_YDD', 'ALG', 'SACE_YAD', 'AKC', 'CFQ', 'SACE_YCU', 'SACE_YBH', 'SACE_YCS', 'AQN', 'SACE_YCN', 'SACE_GAV', 'SACE_YCE', 'CML', 'SACE_YAW', 'BQS', 'SACE_YBK', 'CLN', 'SACE_YBN', 'AGF', 'AGL', 'SACE_YAL', 'ADE', 'SACE_YDN', 'CHK', 'CQQ', 'SACE_YAE', 'AMM', 'SACE_YAM', 'SACE_YAZ', 'SACE_GAP', 'AQI', 'ABS', 'BRV', 'BDP', 'SACE_YCZ', 'ACB', 'ATA', 'SACE_YDG', 'SACE_YCR', 'CIS', 'CHH', 'CKD', 'SACE_YAA', 'BSB', 'SACE_YCH', 'ACG', 'BEG', 'AIL', 'ANG', 'SACE_YCD', 'CLM', 'ABB', 'SACE_GAT', 'AIQ', 'SACE_YCJ', 'CHQ', 'SACE_YDH', 'BGL', 'CKC', 'SACE_YCO', 'SACE_YAR', 'ASD', 'CRL', 'SACE_YCV', 'BHT', 'AKP', 'BRD'}\n",
      "Les IDs sont alignés entre X et Y.\n"
     ]
    }
   ],
   "source": [
    "# Load the matrices\n",
    "X_path = os.path.join(data_dir, f\"data/X_matrix_proteins_and_cnvs_count_{phenotype}.csv\")\n",
    "Y_path = os.path.join(data_dir, f\"data/y_{phenotype}.csv\")\n",
    "\n",
    "X = pd.read_csv(X_path)\n",
    "Y = pd.read_csv(Y_path)\n",
    "\n",
    "# Check if Yeast_IDs in X and Y match\n",
    "X_ids = set(X['Yeast_ID'])\n",
    "Y_ids = set(Y['Yeast_ID'])\n",
    "\n",
    "# Identify missing IDs between the two datasets\n",
    "missing_in_X = Y_ids - X_ids\n",
    "missing_in_Y = X_ids - Y_ids\n",
    "\n",
    "# Output missing IDs information\n",
    "if missing_in_X:\n",
    "    print(f\"IDs present in Y but missing in X: {missing_in_X}\")\n",
    "else:\n",
    "    print(\"All IDs from Y are present in X.\")\n",
    "\n",
    "if missing_in_Y:\n",
    "    print(f\"IDs present in X but missing in Y: {missing_in_Y}\")\n",
    "else:\n",
    "    print(\"All IDs from X are present in Y.\")\n",
    "\n",
    "# Align the matrices based on the common Yeast_IDs\n",
    "common_ids = X_ids & Y_ids\n",
    "\n",
    "# Filter both X and Y to retain only the rows with the common Yeast_IDs\n",
    "X_aligned = X[X['Yeast_ID'].isin(common_ids)].sort_values(by=\"Yeast_ID\")\n",
    "Y_aligned = Y[Y['Yeast_ID'].isin(common_ids)].sort_values(by=\"Yeast_ID\")\n",
    "\n",
    "# Verify that the Yeast_IDs in X and Y are aligned correctly (same order)\n",
    "if list(X_aligned['Yeast_ID']) == list(Y_aligned['Yeast_ID']):\n",
    "    print(\"Yeast_IDs are aligned between X and Y.\")\n",
    "else:\n",
    "    print(\"Yeast_IDs are not in the same order. Please check.\")\n",
    "\n",
    "# Save the aligned matrices to CSV files if needed\n",
    "X_aligned.to_csv(os.path.join(data_dir, \"X_matrix_aligned.csv\"), index=False)\n",
    "Y_aligned.to_csv(os.path.join(data_dir, \"Y_matrix_aligned.csv\"), index=False)"
   ]
  },
  {
   "cell_type": "markdown",
   "metadata": {},
   "source": [
    "# 5. Shuffle both datasets"
   ]
  },
  {
   "cell_type": "code",
   "execution_count": null,
   "metadata": {},
   "outputs": [
    {
     "name": "stdout",
     "output_type": "stream",
     "text": [
      "Les matrices X et Y ont été mélangées et sauvegardées avec succès.\n",
      "Dimensions de X_shuffled : (792, 12543)\n",
      "Dimensions de Y_shuffled : (792, 2)\n"
     ]
    }
   ],
   "source": [
    "# Load the aligned matrices\n",
    "X_path =  os.path.join(data_dir, \"X_matrix_aligned.csv\")  # Path to the filtered X matrix\n",
    "Y_path = os.path.join(data_dir, \"data/Y_matrix.csv\") \n",
    "\n",
    "X = pd.read_csv(X_path)\n",
    "Y = pd.read_csv(Y_path)\n",
    "\n",
    "# Filter Y to retain only the common Yeast_IDs present in both X and Y\n",
    "common_ids = set(X['Yeast_ID']) & set(Y['Yeast_ID'])\n",
    "Y_filtered = Y[Y['Yeast_ID'].isin(common_ids)].sort_values(by=\"Yeast_ID\")\n",
    "\n",
    "# Verify that the Yeast_IDs are aligned between X and Y\n",
    "if list(X['Yeast_ID']) != list(Y_filtered['Yeast_ID']):\n",
    "    raise ValueError(\"Yeast_IDs are not aligned between X and Y. Please check your data.\")\n",
    "\n",
    "# Shuffle the indices randomly while keeping the alignment intact\n",
    "shuffled_indices = X.sample(frac=1, random_state=42).index\n",
    "\n",
    "# Apply the shuffled indices to both X and Y to maintain alignment\n",
    "X_shuffled = X.loc[shuffled_indices].reset_index(drop=True)\n",
    "Y_shuffled = Y_filtered.loc[shuffled_indices].reset_index(drop=True)\n",
    "\n",
    "# Save the shuffled matrices to new CSV files\n",
    "X_shuffled.to_csv(os.path.join(data_dir, \"X_matrix_proteins_nb.csv\"), index=False)\n",
    "Y_shuffled.to_csv(os.path.join(data_dir, \"Y_matrix_proteins_nb.csv\"), index=False)\n",
    "\n",
    "print(f\"The X and Y matrices have been shuffled and saved successfully.\")\n",
    "print(f\"Dimensions of X_shuffled : {X_shuffled.shape}\")\n",
    "print(f\"Dimensions of Y_shuffled : {Y_shuffled.shape}\")"
   ]
  },
  {
   "cell_type": "code",
   "execution_count": null,
   "metadata": {},
   "outputs": [],
   "source": [
    "# Save the shuffled matrices in pickle format for efficient storage and retrieval\n",
    "X_shuffled.to_pickle(os.path.join(data_dir, \"X_matrix_proteins_nb.pkl\"))\n",
    "Y_shuffled.to_pickle(os.path.join(data_dir, \"Y_matrix_proteins_nb.pkl\"))"
   ]
  }
 ],
 "metadata": {
  "kernelspec": {
   "display_name": "ml_shap",
   "language": "python",
   "name": "python3"
  },
  "language_info": {
   "codemirror_mode": {
    "name": "ipython",
    "version": 3
   },
   "file_extension": ".py",
   "mimetype": "text/x-python",
   "name": "python",
   "nbconvert_exporter": "python",
   "pygments_lexer": "ipython3",
   "version": "3.10.16"
  }
 },
 "nbformat": 4,
 "nbformat_minor": 2
}
