{
 "cells": [
  {
   "cell_type": "code",
   "execution_count": 1,
   "metadata": {},
   "outputs": [],
   "source": [
    "import os\n",
    "import re\n",
    "import pandas as pd\n",
    "import dask.dataframe as dd"
   ]
  },
  {
   "cell_type": "code",
   "execution_count": 2,
   "metadata": {},
   "outputs": [],
   "source": [
    "data_dir = os.path.abspath(os.path.join(os.getcwd(), '..'))  # Move one level up"
   ]
  },
  {
   "cell_type": "markdown",
   "metadata": {},
   "source": [
    "# 1. Choose the phenotype"
   ]
  },
  {
   "cell_type": "code",
   "execution_count": 3,
   "metadata": {},
   "outputs": [],
   "source": [
    "#phenotype = \"YPD_doublingtime\"\n",
    "phenotype = \"YPDCUSO410MM_40h\""
   ]
  },
  {
   "cell_type": "markdown",
   "metadata": {},
   "source": [
    "# 2. Create X_matrix (proteins+CNV)"
   ]
  },
  {
   "cell_type": "code",
   "execution_count": 4,
   "metadata": {},
   "outputs": [
    {
     "name": "stdout",
     "output_type": "stream",
     "text": [
      "Final matrix with mutation counts saved at /Users/colineleteurtre/Library/CloudStorage/OneDrive-Personnel/Documents/cours/EPFL/machinelearning/project2/Yeast_Project/data/X_matrix_proteins_and_cnvs_count_YPDCUSO410MM_40h.csv. Dimensions: (1011, 12542)\n"
     ]
    }
   ],
   "source": [
    "mutations_path = os.path.join(data_dir, \"data/mutations_dataset.csv\")\n",
    "mutations_df = pd.read_csv(mutations_path)\n",
    "\n",
    "mutation_matrix = (\n",
    "    mutations_df\n",
    "    .groupby(['Yeast_ID', 'Protein_ID'])['Position'] \n",
    "    .count()                \n",
    "    .unstack(fill_value=0) \n",
    ")\n",
    "\n",
    "cnv_path = os.path.join(data_dir, \"data/genesMatrix_CopyNumber.tab\")\n",
    "cnv_df = pd.read_csv(cnv_path, sep=\"\\t\", index_col=0).T \n",
    "cnv_df.index.name = \"Yeast_ID\"\n",
    "cnv_df.reset_index(inplace=True)\n",
    "\n",
    "pattern_case1 = r'Y[A-Z]{2}\\d{3}[A-Z]'          # Case 1 pattern\n",
    "pattern_case2 = r'Y[A-Z]{2}\\d{3}[A-Z]\\.[A-Z]'   # Case 2 pattern\n",
    "\n",
    "# Function to extract the real name\n",
    "def extract_real_name(name):\n",
    "    \"\"\"\n",
    "    Extracts the real name of a yeast based on two specific patterns.\n",
    "    \n",
    "    Parameters:\n",
    "        name (str): The name to be processed\n",
    "    \n",
    "    Returns:\n",
    "        str or None: The extracted real name if it matches either pattern, or None if no match is found.\n",
    "    \"\"\"\n",
    "    # Case 2: more specific pattern\n",
    "    match_case2 = re.search(pattern_case2, name)\n",
    "    if match_case2:\n",
    "        return match_case2.group().replace('.', '-')\n",
    "\n",
    "    # Case 1: less specific pattern\n",
    "    match_case1 = re.search(pattern_case1, name)\n",
    "    if match_case1:\n",
    "        return match_case1.group()\n",
    "    \n",
    "    return None\n",
    "\n",
    "cnv_df['Yeast_ID'] = cnv_df['Yeast_ID'].apply(extract_real_name)\n",
    "cnv_df = cnv_df.dropna(subset=['Yeast_ID']).reset_index(drop=True)\n",
    "cnv_matrix = cnv_df.set_index('Yeast_ID').T\n",
    "cnv_matrix.index.name = 'Yeast_ID'\n",
    "\n",
    "# Merge mutation count matrix and CNV matrix\n",
    "final_matrix = mutation_matrix.merge(\n",
    "    cnv_matrix,\n",
    "    left_index=True,\n",
    "    right_index=True,\n",
    "    how='left',\n",
    "    suffixes=('', '_CNV')  # Append '_CNV' to CNV columns\n",
    ")\n",
    "\n",
    "cnv_columns = [col for col in final_matrix.columns if col.startswith(\"CNV_\")]\n",
    "final_matrix[cnv_columns] = final_matrix[cnv_columns].fillna(final_matrix[cnv_columns].median())\n",
    "\n",
    "output_path = os.path.join(data_dir, f\"data/X_matrix_proteins_and_cnvs_count_{phenotype}.csv\")\n",
    "final_matrix.to_csv(output_path, index=True)\n",
    "\n",
    "print(f\"Final matrix with mutation counts saved at {output_path}. Dimensions: {final_matrix.shape}\")"
   ]
  },
  {
   "cell_type": "markdown",
   "metadata": {},
   "source": [
    "# 3. Verify that y_phenotype and X_matrix (proteins+CNV) are ready for shuffling"
   ]
  },
  {
   "cell_type": "code",
   "execution_count": 7,
   "metadata": {},
   "outputs": [
    {
     "name": "stdout",
     "output_type": "stream",
     "text": [
      "All IDs from Y are present in X.\n",
      "IDs present in X but missing in Y: {'SACE_YBP', 'SACE_YDI', 'SACE_YBM', 'SACE_YBO', 'SACE_YDD', 'SACE_YDA', 'SACE_YDG', 'SACE_YBA', 'SACE_YCV', 'BKN', 'SACE_YCZ', 'BHQ', 'SACE_YAL', 'SACE_YDJ', 'SACE_YDC', 'SACE_YCT', 'BGF', 'SACE_YDF', 'SACE_YCJ', 'SACE_YCY', 'SACE_YDH', 'SACE_YDK', 'BGS', 'SACE_YCU', 'ASP', 'SACE_YBB', 'BID', 'BKG', 'SACE_YDE', 'SACE_YDL', 'SACE_YCW', 'SACE_YCX', 'ABF', 'SACE_YCS', 'CFH', 'SACE_YDB', 'ABC', 'BHL', 'BIR', 'SACE_YBN'}\n",
      "Yeast_IDs are aligned between X and Y.\n"
     ]
    }
   ],
   "source": [
    "X_path = os.path.join(data_dir, f\"data/X_matrix_proteins_and_cnvs_count_{phenotype}.csv\")\n",
    "Y_path = os.path.join(data_dir, f\"data/y_{phenotype}.csv\")\n",
    "\n",
    "X = pd.read_csv(X_path)\n",
    "Y = pd.read_csv(Y_path)\n",
    "\n",
    "# Check if Yeast_IDs in X and Y match\n",
    "X_ids = set(X['Yeast_ID'])\n",
    "Y_ids = set(Y['Yeast_ID'])\n",
    "\n",
    "# Identify missing IDs between the two datasets\n",
    "missing_in_X = Y_ids - X_ids\n",
    "missing_in_Y = X_ids - Y_ids\n",
    "\n",
    "# Output missing IDs information\n",
    "if missing_in_X:\n",
    "    print(f\"IDs present in Y but missing in X: {missing_in_X}\")\n",
    "else:\n",
    "    print(\"All IDs from Y are present in X.\")\n",
    "\n",
    "if missing_in_Y:\n",
    "    print(f\"IDs present in X but missing in Y: {missing_in_Y}\")\n",
    "else:\n",
    "    print(\"All IDs from X are present in Y.\")\n",
    "\n",
    "# Align the matrices based on the common Yeast_IDs\n",
    "common_ids = X_ids & Y_ids\n",
    "\n",
    "# Filter both X and Y to retain only the rows with the common Yeast_IDs\n",
    "X_aligned = X[X['Yeast_ID'].isin(common_ids)].sort_values(by=\"Yeast_ID\")\n",
    "Y_aligned = Y[Y['Yeast_ID'].isin(common_ids)].sort_values(by=\"Yeast_ID\")\n",
    "\n",
    "# Verify that the Yeast_IDs in X and Y are aligned correctly (same order)\n",
    "if list(X_aligned['Yeast_ID']) == list(Y_aligned['Yeast_ID']):\n",
    "    print(\"Yeast_IDs are aligned between X and Y.\")\n",
    "else:\n",
    "    print(\"Yeast_IDs are not in the same order. Please check.\")\n",
    "\n",
    "X_aligned.to_csv(os.path.join(data_dir, f\"data/X_matrix_aligned_{phenotype}.csv\"), index=False)\n",
    "Y_aligned.to_csv(os.path.join(data_dir, f\"data/y_aligned_{phenotype}.csv\"), index=False)"
   ]
  },
  {
   "cell_type": "markdown",
   "metadata": {},
   "source": [
    "# 4. Shuffle both datasets"
   ]
  },
  {
   "cell_type": "code",
   "execution_count": null,
   "metadata": {},
   "outputs": [
    {
     "ename": "ParserError",
     "evalue": "Error tokenizing data. C error: Calling read(nbytes) on source failed. Try engine='python'.",
     "output_type": "error",
     "traceback": [
      "\u001b[0;31m---------------------------------------------------------------------------\u001b[0m",
      "\u001b[0;31mParserError\u001b[0m                               Traceback (most recent call last)",
      "Cell \u001b[0;32mIn[8], line 4\u001b[0m\n\u001b[1;32m      1\u001b[0m X_path \u001b[38;5;241m=\u001b[39m  os\u001b[38;5;241m.\u001b[39mpath\u001b[38;5;241m.\u001b[39mjoin(data_dir, \u001b[38;5;124mf\u001b[39m\u001b[38;5;124m\"\u001b[39m\u001b[38;5;124mdata/X_matrix_aligned_\u001b[39m\u001b[38;5;132;01m{\u001b[39;00mphenotype\u001b[38;5;132;01m}\u001b[39;00m\u001b[38;5;124m.csv\u001b[39m\u001b[38;5;124m\"\u001b[39m) \n\u001b[1;32m      2\u001b[0m Y_path \u001b[38;5;241m=\u001b[39m os\u001b[38;5;241m.\u001b[39mpath\u001b[38;5;241m.\u001b[39mjoin(data_dir, \u001b[38;5;124mf\u001b[39m\u001b[38;5;124m\"\u001b[39m\u001b[38;5;124mdata/y_aligned_\u001b[39m\u001b[38;5;132;01m{\u001b[39;00mphenotype\u001b[38;5;132;01m}\u001b[39;00m\u001b[38;5;124m.csv\u001b[39m\u001b[38;5;124m\"\u001b[39m) \n\u001b[0;32m----> 4\u001b[0m X \u001b[38;5;241m=\u001b[39m \u001b[43mpd\u001b[49m\u001b[38;5;241;43m.\u001b[39;49m\u001b[43mread_csv\u001b[49m\u001b[43m(\u001b[49m\u001b[43mX_path\u001b[49m\u001b[43m)\u001b[49m\n\u001b[1;32m      5\u001b[0m Y \u001b[38;5;241m=\u001b[39m pd\u001b[38;5;241m.\u001b[39mread_csv(Y_path)\n\u001b[1;32m      7\u001b[0m \u001b[38;5;66;03m# Filter Y to retain only the common Yeast_IDs present in both X and Y\u001b[39;00m\n",
      "File \u001b[0;32m/opt/miniconda3/envs/ml_shap/lib/python3.10/site-packages/pandas/io/parsers/readers.py:1026\u001b[0m, in \u001b[0;36mread_csv\u001b[0;34m(filepath_or_buffer, sep, delimiter, header, names, index_col, usecols, dtype, engine, converters, true_values, false_values, skipinitialspace, skiprows, skipfooter, nrows, na_values, keep_default_na, na_filter, verbose, skip_blank_lines, parse_dates, infer_datetime_format, keep_date_col, date_parser, date_format, dayfirst, cache_dates, iterator, chunksize, compression, thousands, decimal, lineterminator, quotechar, quoting, doublequote, escapechar, comment, encoding, encoding_errors, dialect, on_bad_lines, delim_whitespace, low_memory, memory_map, float_precision, storage_options, dtype_backend)\u001b[0m\n\u001b[1;32m   1013\u001b[0m kwds_defaults \u001b[38;5;241m=\u001b[39m _refine_defaults_read(\n\u001b[1;32m   1014\u001b[0m     dialect,\n\u001b[1;32m   1015\u001b[0m     delimiter,\n\u001b[0;32m   (...)\u001b[0m\n\u001b[1;32m   1022\u001b[0m     dtype_backend\u001b[38;5;241m=\u001b[39mdtype_backend,\n\u001b[1;32m   1023\u001b[0m )\n\u001b[1;32m   1024\u001b[0m kwds\u001b[38;5;241m.\u001b[39mupdate(kwds_defaults)\n\u001b[0;32m-> 1026\u001b[0m \u001b[38;5;28;01mreturn\u001b[39;00m \u001b[43m_read\u001b[49m\u001b[43m(\u001b[49m\u001b[43mfilepath_or_buffer\u001b[49m\u001b[43m,\u001b[49m\u001b[43m \u001b[49m\u001b[43mkwds\u001b[49m\u001b[43m)\u001b[49m\n",
      "File \u001b[0;32m/opt/miniconda3/envs/ml_shap/lib/python3.10/site-packages/pandas/io/parsers/readers.py:626\u001b[0m, in \u001b[0;36m_read\u001b[0;34m(filepath_or_buffer, kwds)\u001b[0m\n\u001b[1;32m    623\u001b[0m     \u001b[38;5;28;01mreturn\u001b[39;00m parser\n\u001b[1;32m    625\u001b[0m \u001b[38;5;28;01mwith\u001b[39;00m parser:\n\u001b[0;32m--> 626\u001b[0m     \u001b[38;5;28;01mreturn\u001b[39;00m \u001b[43mparser\u001b[49m\u001b[38;5;241;43m.\u001b[39;49m\u001b[43mread\u001b[49m\u001b[43m(\u001b[49m\u001b[43mnrows\u001b[49m\u001b[43m)\u001b[49m\n",
      "File \u001b[0;32m/opt/miniconda3/envs/ml_shap/lib/python3.10/site-packages/pandas/io/parsers/readers.py:1923\u001b[0m, in \u001b[0;36mTextFileReader.read\u001b[0;34m(self, nrows)\u001b[0m\n\u001b[1;32m   1916\u001b[0m nrows \u001b[38;5;241m=\u001b[39m validate_integer(\u001b[38;5;124m\"\u001b[39m\u001b[38;5;124mnrows\u001b[39m\u001b[38;5;124m\"\u001b[39m, nrows)\n\u001b[1;32m   1917\u001b[0m \u001b[38;5;28;01mtry\u001b[39;00m:\n\u001b[1;32m   1918\u001b[0m     \u001b[38;5;66;03m# error: \"ParserBase\" has no attribute \"read\"\u001b[39;00m\n\u001b[1;32m   1919\u001b[0m     (\n\u001b[1;32m   1920\u001b[0m         index,\n\u001b[1;32m   1921\u001b[0m         columns,\n\u001b[1;32m   1922\u001b[0m         col_dict,\n\u001b[0;32m-> 1923\u001b[0m     ) \u001b[38;5;241m=\u001b[39m \u001b[38;5;28;43mself\u001b[39;49m\u001b[38;5;241;43m.\u001b[39;49m\u001b[43m_engine\u001b[49m\u001b[38;5;241;43m.\u001b[39;49m\u001b[43mread\u001b[49m\u001b[43m(\u001b[49m\u001b[43m  \u001b[49m\u001b[38;5;66;43;03m# type: ignore[attr-defined]\u001b[39;49;00m\n\u001b[1;32m   1924\u001b[0m \u001b[43m        \u001b[49m\u001b[43mnrows\u001b[49m\n\u001b[1;32m   1925\u001b[0m \u001b[43m    \u001b[49m\u001b[43m)\u001b[49m\n\u001b[1;32m   1926\u001b[0m \u001b[38;5;28;01mexcept\u001b[39;00m \u001b[38;5;167;01mException\u001b[39;00m:\n\u001b[1;32m   1927\u001b[0m     \u001b[38;5;28mself\u001b[39m\u001b[38;5;241m.\u001b[39mclose()\n",
      "File \u001b[0;32m/opt/miniconda3/envs/ml_shap/lib/python3.10/site-packages/pandas/io/parsers/c_parser_wrapper.py:234\u001b[0m, in \u001b[0;36mCParserWrapper.read\u001b[0;34m(self, nrows)\u001b[0m\n\u001b[1;32m    232\u001b[0m \u001b[38;5;28;01mtry\u001b[39;00m:\n\u001b[1;32m    233\u001b[0m     \u001b[38;5;28;01mif\u001b[39;00m \u001b[38;5;28mself\u001b[39m\u001b[38;5;241m.\u001b[39mlow_memory:\n\u001b[0;32m--> 234\u001b[0m         chunks \u001b[38;5;241m=\u001b[39m \u001b[38;5;28;43mself\u001b[39;49m\u001b[38;5;241;43m.\u001b[39;49m\u001b[43m_reader\u001b[49m\u001b[38;5;241;43m.\u001b[39;49m\u001b[43mread_low_memory\u001b[49m\u001b[43m(\u001b[49m\u001b[43mnrows\u001b[49m\u001b[43m)\u001b[49m\n\u001b[1;32m    235\u001b[0m         \u001b[38;5;66;03m# destructive to chunks\u001b[39;00m\n\u001b[1;32m    236\u001b[0m         data \u001b[38;5;241m=\u001b[39m _concatenate_chunks(chunks)\n",
      "File \u001b[0;32mparsers.pyx:838\u001b[0m, in \u001b[0;36mpandas._libs.parsers.TextReader.read_low_memory\u001b[0;34m()\u001b[0m\n",
      "File \u001b[0;32mparsers.pyx:905\u001b[0m, in \u001b[0;36mpandas._libs.parsers.TextReader._read_rows\u001b[0;34m()\u001b[0m\n",
      "File \u001b[0;32mparsers.pyx:874\u001b[0m, in \u001b[0;36mpandas._libs.parsers.TextReader._tokenize_rows\u001b[0;34m()\u001b[0m\n",
      "File \u001b[0;32mparsers.pyx:891\u001b[0m, in \u001b[0;36mpandas._libs.parsers.TextReader._check_tokenize_status\u001b[0;34m()\u001b[0m\n",
      "File \u001b[0;32mparsers.pyx:2061\u001b[0m, in \u001b[0;36mpandas._libs.parsers.raise_parser_error\u001b[0;34m()\u001b[0m\n",
      "\u001b[0;31mParserError\u001b[0m: Error tokenizing data. C error: Calling read(nbytes) on source failed. Try engine='python'."
     ]
    }
   ],
   "source": [
    "X_path =  os.path.join(data_dir, f\"data/X_matrix_aligned_{phenotype}.csv\") \n",
    "Y_path = os.path.join(data_dir, f\"data/y_aligned_{phenotype}.csv\") \n",
    "\n",
    "X = pd.read_csv(X_path)\n",
    "Y = pd.read_csv(Y_path)\n",
    "\n",
    "# Filter Y to retain only the common Yeast_IDs present in both X and Y\n",
    "common_ids = set(X['Yeast_ID']) & set(Y['Yeast_ID'])\n",
    "Y_filtered = Y[Y['Yeast_ID'].isin(common_ids)].sort_values(by=\"Yeast_ID\")\n",
    "\n",
    "# Verify that the Yeast_IDs are aligned between X and Y\n",
    "if list(X['Yeast_ID']) != list(Y_filtered['Yeast_ID']):\n",
    "    raise ValueError(\"Yeast_IDs are not aligned between X and Y. Please check your data.\")\n",
    "\n",
    "# Shuffle the indices randomly while keeping the alignment intact\n",
    "shuffled_indices = X.sample(frac=1, random_state=42).index\n",
    "\n",
    "# Apply the shuffled indices to both X and Y to maintain alignment\n",
    "X_shuffled = X.loc[shuffled_indices].reset_index(drop=True)\n",
    "Y_shuffled = Y_filtered.loc[shuffled_indices].reset_index(drop=True)\n",
    "\n",
    "X_shuffled.to_csv(os.path.join(data_dir, f\"data/X_matrix_proteins_nb_{phenotype}.csv\"), index=False)\n",
    "Y_shuffled.to_csv(os.path.join(data_dir, f\"data/y_proteins_nb_{phenotype}.csv\"), index=False)\n",
    "\n",
    "print(f\"The X and Y matrices have been shuffled and saved successfully.\")\n",
    "print(f\"Dimensions of X_shuffled : {X_shuffled.shape}\")\n",
    "print(f\"Dimensions of Y_shuffled : {Y_shuffled.shape}\")"
   ]
  },
  {
   "cell_type": "code",
   "execution_count": null,
   "metadata": {},
   "outputs": [],
   "source": [
    "X_shuffled.to_pickle(os.path.join(data_dir, f\"data/X_matrix_proteins_nb_{phenotype}.pkl\"))\n",
    "Y_shuffled.to_pickle(os.path.join(data_dir, f\"data/y_proteins_nb_{phenotype}.pkl\"))"
   ]
  }
 ],
 "metadata": {
  "kernelspec": {
   "display_name": "ml_shap",
   "language": "python",
   "name": "python3"
  },
  "language_info": {
   "codemirror_mode": {
    "name": "ipython",
    "version": 3
   },
   "file_extension": ".py",
   "mimetype": "text/x-python",
   "name": "python",
   "nbconvert_exporter": "python",
   "pygments_lexer": "ipython3",
   "version": "3.10.16"
  }
 },
 "nbformat": 4,
 "nbformat_minor": 2
}
