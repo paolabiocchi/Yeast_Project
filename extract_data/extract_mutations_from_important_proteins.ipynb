{
 "cells": [
  {
   "cell_type": "code",
   "execution_count": 2,
   "metadata": {},
   "outputs": [],
   "source": [
    "import pandas as pd\n",
    "import os\n",
    "import pickle"
   ]
  },
  {
   "cell_type": "code",
   "execution_count": 3,
   "metadata": {},
   "outputs": [],
   "source": [
    "data_dir = os.path.abspath(os.path.join(os.getcwd(), '..'))  # Move one level up"
   ]
  },
  {
   "cell_type": "markdown",
   "metadata": {},
   "source": [
    "# 1. Choose the phenotype"
   ]
  },
  {
   "cell_type": "code",
   "execution_count": 4,
   "metadata": {},
   "outputs": [],
   "source": [
    "#phenotype = \"YPD_doublingtime\"\n",
    "phenotype = \"YPDCUSO410MM_40h\""
   ]
  },
  {
   "cell_type": "markdown",
   "metadata": {},
   "source": [
    "# 2. Load the data"
   ]
  },
  {
   "cell_type": "code",
   "execution_count": 5,
   "metadata": {},
   "outputs": [],
   "source": [
    "x_matrix_path = os.path.join(data_dir, f\"data/X_matrix_{phenotype}.pkl\")\n",
    "important_proteins_path = os.path.join(data_dir, f\"results/combined_importance_ranking.csv\")\n",
    "\n",
    "X_matrix = pd.read_pickle(x_matrix_path)\n",
    "important_proteins = pd.read_csv(important_proteins_path)"
   ]
  },
  {
   "cell_type": "markdown",
   "metadata": {},
   "source": [
    "# 3. Modify the columns names of the X_matrix"
   ]
  },
  {
   "cell_type": "code",
   "execution_count": 6,
   "metadata": {},
   "outputs": [],
   "source": [
    "columns = X_matrix.columns\n",
    "\n",
    "# Function to add the suffix _CNV if the name is not in the Protein_ID_index_AA_AA format\n",
    "def transform_protein_name(protein_name):\n",
    "    if \"_\" not in protein_name:  # Checks if it is a CNV \n",
    "        return f\"{protein_name}_CNV\"\n",
    "    return protein_name\n",
    "\n",
    "new_columns = [transform_protein_name(col) for col in columns]\n",
    "X_matrix.columns = new_columns"
   ]
  },
  {
   "cell_type": "markdown",
   "metadata": {},
   "source": [
    "# 4. Create the X_matrix (mutations from important proteins)"
   ]
  },
  {
   "cell_type": "code",
   "execution_count": 7,
   "metadata": {},
   "outputs": [],
   "source": [
    "important_features = important_proteins['Feature_ID'].tolist()\n",
    "filtered_columns = ['Yeast_ID'] + [col for col in X_matrix.columns if any(protein in col for protein in important_features)]\n",
    "X_matrix_restricted = X_matrix[filtered_columns]\n",
    "\n",
    "X_matrix_restricted.to_csv(os.path.join(data_dir, f\"data/X_matrix_restricted_{phenotype}.csv\"), index=False)\n",
    "X_matrix_restricted.to_pickle(os.path.join(data_dir, f\"data/X_matrix_restricted_{phenotype}.pkl\"))\n"
   ]
  }
 ],
 "metadata": {
  "kernelspec": {
   "display_name": "base",
   "language": "python",
   "name": "python3"
  },
  "language_info": {
   "codemirror_mode": {
    "name": "ipython",
    "version": 3
   },
   "file_extension": ".py",
   "mimetype": "text/x-python",
   "name": "python",
   "nbconvert_exporter": "python",
   "pygments_lexer": "ipython3",
   "version": "3.12.4"
  }
 },
 "nbformat": 4,
 "nbformat_minor": 2
}
