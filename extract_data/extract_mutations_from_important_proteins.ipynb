{
 "cells": [
  {
   "cell_type": "code",
   "execution_count": 3,
   "metadata": {},
   "outputs": [],
   "source": [
    "import pandas as pd\n",
    "import os"
   ]
  },
  {
   "cell_type": "markdown",
   "metadata": {},
   "source": [
    "# 1. Define the path to the parent directory"
   ]
  },
  {
   "cell_type": "code",
   "execution_count": 4,
   "metadata": {},
   "outputs": [],
   "source": [
    "# Define the path to the parent directory\n",
    "data_dir = os.path.abspath(os.path.join(os.getcwd(), '..'))  # Move one level up"
   ]
  },
  {
   "cell_type": "markdown",
   "metadata": {},
   "source": [
    "# 2. Choose the phenotype"
   ]
  },
  {
   "cell_type": "code",
   "execution_count": null,
   "metadata": {},
   "outputs": [],
   "source": [
    "phenotype = \"YPD_doublingtime\"\n",
    "#phenotype = \"YPDCUSO410MM_40h\""
   ]
  },
  {
   "cell_type": "markdown",
   "metadata": {},
   "source": [
    "# 3. Load the data"
   ]
  },
  {
   "cell_type": "code",
   "execution_count": null,
   "metadata": {},
   "outputs": [],
   "source": [
    "# Define the paths to the data files\n",
    "x_matrix_path = os.path.join(data_dir, f\"data/X_matrix_{phenotype}.pkl\")\n",
    "important_proteins_path = os.path.join(data_dir, f\"results/combined_importance_ranking.csv\")\n",
    "\n",
    "# Load the data\n",
    "X_matrix = pd.read_pickle(x_matrix_path)\n",
    "important_proteins = pd.read_csv(important_proteins_path)"
   ]
  },
  {
   "cell_type": "markdown",
   "metadata": {},
   "source": [
    "# 4. Modify the columns names of the X_matrix"
   ]
  },
  {
   "cell_type": "code",
   "execution_count": null,
   "metadata": {},
   "outputs": [],
   "source": [
    "# Get the column names from the X_matrix\n",
    "columns = X_matrix.columns\n",
    "\n",
    "# Function to add the suffix _CNV if the name is not in the Protein_ID_index_AA_AA format\n",
    "def transform_protein_name(protein_name):\n",
    "    # If the name does not contain \"index\" or a mutation AA_AA, it is probably a CNV\n",
    "    if \"_\" not in protein_name:  # Checks if the format is simple, e.g., \"YHL048C\"\n",
    "        return f\"{protein_name}_CNV\"\n",
    "    return protein_name\n",
    "\n",
    "# Apply the transformation to the column names\n",
    "new_columns = [transform_protein_name(col) for col in columns]\n",
    "\n",
    "# Assign the new column names to the X_matrix\n",
    "X_matrix.columns = new_columns"
   ]
  },
  {
   "cell_type": "markdown",
   "metadata": {},
   "source": [
    "# 5. Create the X_matrix (mutations from important proteins)"
   ]
  },
  {
   "cell_type": "code",
   "execution_count": null,
   "metadata": {},
   "outputs": [],
   "source": [
    "# Extract the important protein names\n",
    "important_features = important_proteins['Feature_ID'].tolist()\n",
    "\n",
    "# Extract the corresponding columns from X_matrix\n",
    "# Also retain the 'Yeast_ID' column\n",
    "filtered_columns = ['Yeast_ID'] + [col for col in X_matrix.columns if any(protein in col for protein in important_features)]\n",
    "\n",
    "# Create a new restricted DataFrame\n",
    "X_matrix_restricted = X_matrix[filtered_columns]\n",
    "\n",
    "# Save the new file\n",
    "X_matrix_restricted.to_csv(os.path.join(data_dir, f\"data/X_matrix_restricted_{phenotype}.csv\"), index=False)\n",
    "X_matrix_restricted.to_pickle(os.path.join(data_dir, f\"data/X_matrix_restricted_{phenotype}.pkl\"))\n"
   ]
  }
 ],
 "metadata": {
  "kernelspec": {
   "display_name": "ml_shap",
   "language": "python",
   "name": "python3"
  },
  "language_info": {
   "codemirror_mode": {
    "name": "ipython",
    "version": 3
   },
   "file_extension": ".py",
   "mimetype": "text/x-python",
   "name": "python",
   "nbconvert_exporter": "python",
   "pygments_lexer": "ipython3",
   "version": "3.10.16"
  }
 },
 "nbformat": 4,
 "nbformat_minor": 2
}
