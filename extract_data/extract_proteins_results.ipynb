{
 "cells": [
  {
   "cell_type": "code",
   "execution_count": 3,
   "metadata": {},
   "outputs": [],
   "source": [
    "import pandas as pd\n",
    "import glob\n",
    "import matplotlib.pyplot as plt\n",
    "import os"
   ]
  },
  {
   "cell_type": "code",
   "execution_count": 4,
   "metadata": {},
   "outputs": [],
   "source": [
    "# Define the path to the parent directory\n",
    "data_dir = os.path.abspath(os.path.join(os.getcwd(), '..'))  # Move one level up"
   ]
  },
  {
   "cell_type": "markdown",
   "metadata": {},
   "source": [
    "# 1. Rank features"
   ]
  },
  {
   "cell_type": "code",
   "execution_count": null,
   "metadata": {},
   "outputs": [],
   "source": [
    "def rank_features(file_pattern, top_n=50):\n",
    "    \"\"\"\n",
    "    Rank features across multiple files.\n",
    "    \n",
    "    Parameters:\n",
    "        file_pattern (str): Glob pattern for matching files.\n",
    "        top_n (int): Number of top features to consider from each file.\n",
    "    \n",
    "    Returns:\n",
    "        pd.DataFrame: DataFrame containing ranked feature frequencies.\n",
    "    \"\"\"\n",
    "    # Match files using the provided glob pattern\n",
    "    files = glob.glob(file_pattern)\n",
    "    all_features = []  # List to collect features from all files\n",
    "\n",
    "    # Loop through each file to collect the top features\n",
    "    for file in files:\n",
    "        df = pd.read_csv(file)                                  # Read each CSV file\n",
    "        top_features = df.head(top_n)['Feature_ID'].tolist()    # Extract top N features\n",
    "        all_features.extend(top_features)                       # Add them to the list\n",
    "\n",
    "    # Count the occurrences of each feature across all files\n",
    "    feature_counts = pd.Series(all_features).value_counts()\n",
    "\n",
    "    # Convert the counts into a DataFrame\n",
    "    ranked_features = feature_counts.reset_index()\n",
    "    ranked_features.columns = ['Feature_ID', 'Frequency']                           # Rename columns\n",
    "    ranked_features = ranked_features.sort_values(by=\"Frequency\", ascending=False)  # Sort by frequency\n",
    "    \n",
    "    return ranked_features  # Return the DataFrame containing ranked features\n"
   ]
  },
  {
   "cell_type": "code",
   "execution_count": null,
   "metadata": {},
   "outputs": [],
   "source": [
    "# Rank features by model importance\n",
    "model_importance_ranked = rank_features(os.path.join(data_dir, \"results/*model_importance.csv\"), top_n=50)\n",
    "model_importance_ranked.to_csv(os.path.join(data_dir, \"results/model_importance_ranking.csv\"), index=False)\n",
    "\n",
    "# Rank features by SHAP importance\n",
    "shap_importance_ranked = rank_features(os.path.join(data_dir, \"results/*SHAP_importance.csv\"), top_n=50)\n",
    "shap_importance_ranked.to_csv(os.path.join(data_dir, \"results/shap_importance_ranking.csv\"), index=False)\n",
    "\n",
    "# Rank features combining both methods\n",
    "combined_ranked = rank_features(os.path.join(data_dir, \"results/*importance.csv\"), top_n=50)\n",
    "combined_ranked.to_csv(os.path.join(data_dir, \"results/combined_importance_ranking.csv\"), index=False)"
   ]
  },
  {
   "cell_type": "code",
   "execution_count": null,
   "metadata": {},
   "outputs": [],
   "source": [
    "# Rank features for binary datasets\n",
    "binary_ranked = rank_features(os.path.join(data_dir, \"results/*binary*.csv\"), top_n=50)\n",
    "binary_ranked.to_csv(os.path.join(data_dir, \"results/binary_importance_ranking.csv\"), index=False)\n",
    "\n",
    "# Rank features for numbers datasets\n",
    "numbers_ranked = rank_features(os.path.join(data_dir, \"results/*numbers*.csv\"), top_n=50)\n",
    "numbers_ranked.to_csv(os.path.join(data_dir, \"results/numbers_importance_ranking.csv\"), index=False)"
   ]
  },
  {
   "cell_type": "markdown",
   "metadata": {},
   "source": [
    "# 2. Plot features ranking"
   ]
  },
  {
   "cell_type": "code",
   "execution_count": null,
   "metadata": {},
   "outputs": [
    {
     "ename": "NameError",
     "evalue": "name 'model_importance_ranked' is not defined",
     "output_type": "error",
     "traceback": [
      "\u001b[0;31m---------------------------------------------------------------------------\u001b[0m",
      "\u001b[0;31mNameError\u001b[0m                                 Traceback (most recent call last)",
      "Input \u001b[0;32mIn [4]\u001b[0m, in \u001b[0;36m<cell line: 20>\u001b[0;34m()\u001b[0m\n\u001b[1;32m     17\u001b[0m     plt\u001b[38;5;241m.\u001b[39mshow()\n\u001b[1;32m     19\u001b[0m \u001b[38;5;66;03m# Plot results directly without saving\u001b[39;00m\n\u001b[0;32m---> 20\u001b[0m plot_feature_ranking(\u001b[43mmodel_importance_ranked\u001b[49m, \u001b[38;5;124m\"\u001b[39m\u001b[38;5;124mModel Importance Ranking\u001b[39m\u001b[38;5;124m\"\u001b[39m)\n\u001b[1;32m     21\u001b[0m plot_feature_ranking(shap_importance_ranked, \u001b[38;5;124m\"\u001b[39m\u001b[38;5;124mSHAP Importance Ranking\u001b[39m\u001b[38;5;124m\"\u001b[39m)\n\u001b[1;32m     22\u001b[0m plot_feature_ranking(combined_ranked, \u001b[38;5;124m\"\u001b[39m\u001b[38;5;124mCombined Importance Ranking\u001b[39m\u001b[38;5;124m\"\u001b[39m)\n",
      "\u001b[0;31mNameError\u001b[0m: name 'model_importance_ranked' is not defined"
     ]
    }
   ],
   "source": [
    "def plot_feature_ranking(ranked_features, title):\n",
    "    \"\"\"\n",
    "    Plot feature ranking without saving the plot.\n",
    "\n",
    "    Parameters:\n",
    "        ranked_features (pd.DataFrame): DataFrame containing features and their frequencies.\n",
    "        title (str): Title of the plot.\n",
    "    \"\"\"\n",
    "    # Create a horizontal bar plot to visualize the feature ranking\n",
    "    plt.figure(figsize=(10, 6))\n",
    "    plt.barh(ranked_features['Feature_ID'], ranked_features['Frequency'], color='skyblue')\n",
    "    plt.xlabel('Frequency')\n",
    "    plt.ylabel('Feature')\n",
    "    plt.title(title)\n",
    "    plt.gca().invert_yaxis()\n",
    "    plt.tight_layout()\n",
    "    plt.show()\n",
    "\n",
    "# Plot results directly without saving\n",
    "plot_feature_ranking(model_importance_ranked, \"Model Importance Ranking\")\n",
    "plot_feature_ranking(shap_importance_ranked, \"SHAP Importance Ranking\")\n",
    "plot_feature_ranking(combined_ranked, \"Combined Importance Ranking\")\n",
    "plot_feature_ranking(binary_ranked, \"Binary Dataset Importance Ranking\")\n",
    "plot_feature_ranking(numbers_ranked, \"Numbers Dataset Importance Ranking\")"
   ]
  }
 ],
 "metadata": {
  "kernelspec": {
   "display_name": "ml_shap",
   "language": "python",
   "name": "python3"
  },
  "language_info": {
   "codemirror_mode": {
    "name": "ipython",
    "version": 3
   },
   "file_extension": ".py",
   "mimetype": "text/x-python",
   "name": "python",
   "nbconvert_exporter": "python",
   "pygments_lexer": "ipython3",
   "version": "3.10.16"
  }
 },
 "nbformat": 4,
 "nbformat_minor": 2
}
