{
 "cells": [
  {
   "cell_type": "code",
   "execution_count": null,
   "metadata": {},
   "outputs": [],
   "source": [
    "import os\n",
    "import re\n",
    "import polars as pl\n",
    "import dask.dataframe as dd\n",
    "from sklearn.feature_selection import VarianceThreshold\n",
    "from sklearn.decomposition import TruncatedSVD\n",
    "from sklearn.ensemble import RandomForestRegressor\n",
    "from sklearn.model_selection import train_test_split\n",
    "from sklearn.metrics import mean_squared_error\n",
    "from scipy.sparse import csr_matrix\n",
    "import numpy as np"
   ]
  },
  {
   "cell_type": "code",
   "execution_count": null,
   "metadata": {},
   "outputs": [],
   "source": [
    "# Chemins des fichiers\n",
    "proteome_dir_path = \"data/Proteome_1011\"\n",
    "phenotype_data_path = \"data/Finalset_223phenotypes_1011.csv\"\n",
    "copy_number_variation_path = \"data/genesMatrix_CopyNumber.tab\""
   ]
  },
  {
   "cell_type": "code",
   "execution_count": null,
   "metadata": {},
   "outputs": [
    {
     "name": "stdout",
     "output_type": "stream",
     "text": [
      "Extraction des mutations...\n"
     ]
    }
   ],
   "source": [
    "# Extraction des mutations avec Polars\n",
    "def extract_mutations(proteome_dir_path):\n",
    "    mutations = []\n",
    "    for filename in os.listdir(proteome_dir_path):\n",
    "        if filename.endswith(\".fasta\"):\n",
    "            filepath = os.path.join(proteome_dir_path, filename)\n",
    "            protein_id = filename.split(\".\")[0]  # Nom de la protéine\n",
    "            \n",
    "            sequences = {}\n",
    "            with open(filepath, \"r\") as file:\n",
    "                current_yeast = None\n",
    "                for line in file:\n",
    "                    if line.startswith(\">\"):  # Identifiant de la levure\n",
    "                        header = line.strip().split()[0][1:]  # Retirer le \">\"\n",
    "                        current_yeast = header.split(f\"_{protein_id}\", 1)[0]\n",
    "                        sequences[current_yeast] = \"\"\n",
    "                    else:\n",
    "                        sequences[current_yeast] += line.strip()\n",
    "            \n",
    "            yeast_ids = list(sequences.keys())\n",
    "            transposed_positions = zip(*sequences.values())\n",
    "            \n",
    "            for idx, amino_acids in enumerate(transposed_positions, start=1):\n",
    "                aa_counts = Counter(amino_acids)\n",
    "                most_common_aa, _ = aa_counts.most_common(1)[0]\n",
    "                \n",
    "                for yeast_id, aa in zip(yeast_ids, amino_acids):\n",
    "                    mutations.append({\n",
    "                        \"Protein_ID\": protein_id,\n",
    "                        \"Yeast_ID\": yeast_id,\n",
    "                        \"Position\": idx,\n",
    "                        \"Reference_AA\": most_common_aa,\n",
    "                        \"Mutated_AA\": aa if aa != most_common_aa else \"/\"\n",
    "                    })\n",
    "    \n",
    "    return pl.DataFrame(mutations)\n",
    "\n",
    "print(\"Extraction des mutations...\")\n",
    "mutations_df = extract_mutations(proteome_dir_path)\n"
   ]
  },
  {
   "cell_type": "code",
   "execution_count": null,
   "metadata": {},
   "outputs": [],
   "source": [
    "# Chargement des données phénotypiques et CNV avec Dask\n",
    "print(\"Chargement des données phénotypiques et CNV...\")\n",
    "phenotype_df = dd.read_csv(phenotype_data_path).compute()\n",
    "cnv_df = dd.read_csv(copy_number_variation_path, sep=\"\\t\", dtype=str).T.compute()\n",
    "\n",
    "# Prétraitement CNV : extraction des IDs et normalisation\n",
    "cnv_df.index.name = \"Standard_name\"\n",
    "cnv_df.reset_index(inplace=True)\n",
    "cnv_df[\"Protein_ID\"] = cnv_df[\"Standard_name\"].apply(\n",
    "    lambda x: re.match(r\".+\\.(Y[A-Z0-9]+)\", x).group(1) if re.match(r\".+\\.(Y[A-Z0-9]+)\", x) else None\n",
    ")\n",
    "cnv_df.drop(columns=[\"Standard_name\"], inplace=True)\n",
    "cnv_df.fillna(0, inplace=True)"
   ]
  },
  {
   "cell_type": "code",
   "execution_count": null,
   "metadata": {},
   "outputs": [],
   "source": [
    "# Création de la matrice de mutations étendue\n",
    "def create_mutation_matrix(mutations_df):\n",
    "    mutations_df = mutations_df.with_column(\n",
    "        (mutations_df[\"Protein_ID\"] + \"_\" + mutations_df[\"Position\"].cast(str) +\n",
    "         \"_\" + mutations_df[\"Reference_AA\"] + \"->\" + mutations_df[\"Mutated_AA\"]).alias(\"Mutation_Label\")\n",
    "    )\n",
    "    \n",
    "    mutation_matrix = mutations_df.to_pandas().pivot_table(\n",
    "        index=\"Yeast_ID\", \n",
    "        columns=\"Mutation_Label\", \n",
    "        aggfunc=\"size\", \n",
    "        fill_value=0\n",
    "    )\n",
    "    return mutation_matrix\n",
    "\n",
    "print(\"Création de la matrice de mutations...\")\n",
    "mutation_matrix = create_mutation_matrix(mutations_df)\n"
   ]
  },
  {
   "cell_type": "code",
   "execution_count": null,
   "metadata": {},
   "outputs": [],
   "source": [
    "# Réduction de dimension avec SVD\n",
    "def reduce_dimensionality(matrix):\n",
    "    sparse_matrix = csr_matrix(matrix.values)\n",
    "    variance_filter = VarianceThreshold(threshold=0.01)\n",
    "    filtered_matrix = variance_filter.fit_transform(sparse_matrix)\n",
    "    \n",
    "    svd = TruncatedSVD(n_components=50, random_state=42)\n",
    "    reduced_matrix = svd.fit_transform(filtered_matrix)\n",
    "    \n",
    "    return pd.DataFrame(reduced_matrix, columns=[f\"PC_{i}\" for i in range(reduced_matrix.shape[1])])\n",
    "\n",
    "print(\"Réduction de dimension...\")\n",
    "reduced_mutation_matrix = reduce_dimensionality(mutation_matrix)\n"
   ]
  },
  {
   "cell_type": "code",
   "execution_count": null,
   "metadata": {},
   "outputs": [],
   "source": [
    "# Préparation des données pour le modèle\n",
    "phenotype_df = pl.DataFrame(phenotype_df).rename({\"Standard_name\": \"Yeast_ID\"})\n",
    "phenotype_df = phenotype_df.with_columns(\n",
    "    phenotype_df[\"YPD_doublingtime\"].fill_null(phenotype_df[\"YPD_doublingtime\"].mean())\n",
    ")\n",
    "phenotype_df = phenotype_df.sort(\"Yeast_ID\")\n",
    "\n",
    "merged_df = pl.DataFrame(reduced_mutation_matrix)\n",
    "merged_df = merged_df.with_column(mutation_matrix.index.to_series().rename(\"Yeast_ID\"))\n",
    "merged_df = merged_df.join(phenotype_df, on=\"Yeast_ID\")\n"
   ]
  },
  {
   "cell_type": "code",
   "execution_count": null,
   "metadata": {},
   "outputs": [],
   "source": [
    "# Entraînement du modèle\n",
    "X = merged_df.drop(\"YPD_doublingtime\").to_numpy()\n",
    "y = merged_df[\"YPD_doublingtime\"].to_numpy()\n",
    "\n",
    "X_train, X_test, y_train, y_test = train_test_split(X, y, test_size=0.2, random_state=42)\n",
    "\n",
    "print(\"Entraînement du modèle...\")\n",
    "model = RandomForestRegressor(n_estimators=100, random_state=42, n_jobs=-1)\n",
    "model.fit(X_train, y_train)\n",
    "\n",
    "# Évaluation\n",
    "y_pred = model.predict(X_test)\n",
    "mse = mean_squared_error(y_test, y_pred)\n",
    "print(f\"Mean Squared Error: {mse}\")\n",
    "\n",
    "# Importance des mutations\n",
    "feature_importances = model.feature_importances_\n",
    "important_features = sorted(\n",
    "    zip(mutation_matrix.columns, feature_importances), key=lambda x: x[1], reverse=True\n",
    ")\n",
    "print(\"Top 10 mutations affectant le YPD doubling time :\")\n",
    "for feature, importance in important_features[:10]:\n",
    "    print(f\"{feature}: {importance}\")"
   ]
  }
 ],
 "metadata": {
  "kernelspec": {
   "display_name": "base",
   "language": "python",
   "name": "python3"
  },
  "language_info": {
   "codemirror_mode": {
    "name": "ipython",
    "version": 3
   },
   "file_extension": ".py",
   "mimetype": "text/x-python",
   "name": "python",
   "nbconvert_exporter": "python",
   "pygments_lexer": "ipython3",
   "version": "3.9.12"
  }
 },
 "nbformat": 4,
 "nbformat_minor": 2
}
