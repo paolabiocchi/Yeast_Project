{
 "cells": [
  {
   "cell_type": "code",
   "execution_count": 4,
   "metadata": {},
   "outputs": [],
   "source": [
    "import os\n",
    "import pandas as pd\n",
    "from sklearn.feature_extraction.text import TfidfVectorizer\n"
   ]
  },
  {
   "cell_type": "code",
   "execution_count": 3,
   "metadata": {},
   "outputs": [
    {
     "name": "stdout",
     "output_type": "stream",
     "text": [
      "Proteome dataset saved to data/proteome_dataset.csv\n",
      "Phenotype dataset saved to data/phenotype_dataset.csv\n",
      "Copy number variation dataset saved to data/copy_number_variation_dataset.csv\n"
     ]
    }
   ],
   "source": [
    "\n",
    "# Chemins des fichiers et dossiers\n",
    "proteome_dir_path = \"data/Proteome_1011\"  # Dossier contenant les fichiers de séquences protéiques\n",
    "phenotype_data_path = \"data/Finalset_223phenotypes_1011.csv\"\n",
    "copy_number_variation_path = \"data/genesMatrix_CopyNumber.tab\"\n",
    "\n",
    "# Extraction des données protéiques\n",
    "proteome_data = {}\n",
    "for filename in os.listdir(proteome_dir_path):\n",
    "    if filename.endswith(\".fasta\"):\n",
    "        filepath = os.path.join(proteome_dir_path, filename)\n",
    "        with open(filepath, \"r\") as file:\n",
    "            protein_id = filename.split(\".\")[0]\n",
    "            sequence = \"\"\n",
    "            for line in file:\n",
    "                if not line.startswith(\">\"):\n",
    "                    sequence += line.strip()\n",
    "            proteome_data[protein_id] = sequence\n",
    "\n",
    "proteome_df = pd.DataFrame(list(proteome_data.items()), columns=[\"Protein_ID\", \"Sequence\"])\n",
    "\n",
    "# Chargement des données phénotypiques\n",
    "phenotype_df = pd.read_csv(phenotype_data_path)\n",
    "\n",
    "# Chargement des données de variation du nombre de copies\n",
    "cnv_df = pd.read_csv(copy_number_variation_path, sep=\"\\t\", index_col=0).T\n",
    "cnv_df.index.name = \"Standard_name\"\n",
    "\n",
    "# Sauvegarder les datasets dans des fichiers CSV\n",
    "proteome_output_path = \"data/proteome_dataset.csv\"\n",
    "phenotype_output_path = \"data/phenotype_dataset.csv\"\n",
    "cnv_output_path = \"data/copy_number_variation_dataset.csv\"\n",
    "\n",
    "proteome_df.to_csv(proteome_output_path, index=False)\n",
    "phenotype_df.to_csv(phenotype_output_path, index=False)\n",
    "cnv_df.to_csv(cnv_output_path)\n",
    "\n",
    "# Résultat\n",
    "print(f\"Proteome dataset saved to {proteome_output_path}\")\n",
    "print(f\"Phenotype dataset saved to {phenotype_output_path}\")\n",
    "print(f\"Copy number variation dataset saved to {cnv_output_path}\")"
   ]
  },
  {
   "cell_type": "markdown",
   "metadata": {},
   "source": [
    "#NE PAS LANCER LA SUITE"
   ]
  },
  {
   "cell_type": "code",
   "execution_count": 1,
   "metadata": {},
   "outputs": [
    {
     "ename": "KeyboardInterrupt",
     "evalue": "",
     "output_type": "error",
     "traceback": [
      "\u001b[0;31m---------------------------------------------------------------------------\u001b[0m",
      "\u001b[0;31mKeyboardInterrupt\u001b[0m                         Traceback (most recent call last)",
      "Cell \u001b[0;32mIn[1], line 22\u001b[0m\n\u001b[1;32m     20\u001b[0m         yeast_ids\u001b[38;5;241m.\u001b[39mappend(line\u001b[38;5;241m.\u001b[39mstrip()\u001b[38;5;241m.\u001b[39msplit()[\u001b[38;5;241m0\u001b[39m][\u001b[38;5;241m1\u001b[39m:])  \u001b[38;5;66;03m# Retirer le \">\" au début\u001b[39;00m\n\u001b[1;32m     21\u001b[0m     \u001b[38;5;28;01melse\u001b[39;00m:\n\u001b[0;32m---> 22\u001b[0m         sequence \u001b[38;5;241m+\u001b[39m\u001b[38;5;241m=\u001b[39m line\u001b[38;5;241m.\u001b[39mstrip()\n\u001b[1;32m     23\u001b[0m \u001b[38;5;28;01mfor\u001b[39;00m yeast_id \u001b[38;5;129;01min\u001b[39;00m yeast_ids:\n\u001b[1;32m     24\u001b[0m     proteome_data\u001b[38;5;241m.\u001b[39mappend({\u001b[38;5;124m\"\u001b[39m\u001b[38;5;124mProtein_ID\u001b[39m\u001b[38;5;124m\"\u001b[39m: protein_id, \u001b[38;5;124m\"\u001b[39m\u001b[38;5;124mYeast_ID\u001b[39m\u001b[38;5;124m\"\u001b[39m: yeast_id, \u001b[38;5;124m\"\u001b[39m\u001b[38;5;124mSequence\u001b[39m\u001b[38;5;124m\"\u001b[39m: sequence})\n",
      "\u001b[0;31mKeyboardInterrupt\u001b[0m: "
     ]
    }
   ],
   "source": [
    "import os\n",
    "import pandas as pd\n",
    "\n",
    "# Chemins des fichiers et dossiers\n",
    "proteome_dir_path = \"data/Proteome_1011\"  # Dossier contenant les fichiers de séquences protéiques\n",
    "phenotype_data_path = \"data/Finalset_223phenotypes_1011.csv\"\n",
    "copy_number_variation_path = \"data/genesMatrix_CopyNumber.tab\"\n",
    "\n",
    "# 1. Extraction des données protéiques\n",
    "proteome_data = []\n",
    "for filename in os.listdir(proteome_dir_path):\n",
    "    if filename.endswith(\".fasta\"):\n",
    "        filepath = os.path.join(proteome_dir_path, filename)\n",
    "        with open(filepath, \"r\") as file:\n",
    "            protein_id = filename.split(\".\")[0]\n",
    "            sequence = \"\"\n",
    "            yeast_ids = []\n",
    "            for line in file:\n",
    "                if line.startswith(\">\"):  # Identifiant de la souche de levure\n",
    "                    yeast_ids.append(line.strip().split()[0][1:])  # Retirer le \">\" au début\n",
    "                else:\n",
    "                    sequence += line.strip()\n",
    "            for yeast_id in yeast_ids:\n",
    "                proteome_data.append({\"Protein_ID\": protein_id, \"Yeast_ID\": yeast_id, \"Sequence\": sequence})\n",
    "\n",
    "proteome_df = pd.DataFrame(proteome_data)\n",
    "\n",
    "# 2. Chargement des données phénotypiques\n",
    "phenotype_df = pd.read_csv(phenotype_data_path)\n",
    "\n",
    "# 3. Chargement des données de variation du nombre de copies\n",
    "cnv_df = pd.read_csv(copy_number_variation_path, sep=\"\\t\", index_col=0).T\n",
    "cnv_df.index.name = \"Standard_name\"\n",
    "\n",
    "# Correction des valeurs manquantes\n",
    "cnv_df.fillna(0, inplace=True)\n",
    "\n",
    "# Réindexation pour une compatibilité ultérieure\n",
    "cnv_df.reset_index(inplace=True)\n",
    "\n",
    "# 4. Sauvegarder les datasets dans des fichiers CSV\n",
    "proteome_output_path = \"data/proteome_dataset.csv\"\n",
    "phenotype_output_path = \"data/phenotype_dataset.csv\"\n",
    "cnv_output_path = \"data/copy_number_variation_dataset.csv\"\n",
    "\n",
    "proteome_df.to_csv(proteome_output_path, index=False)\n",
    "phenotype_df.to_csv(phenotype_output_path, index=False)\n",
    "cnv_df.to_csv(cnv_output_path, index=False)\n",
    "\n",
    "# Résultat\n",
    "print(f\"Proteome dataset saved to {proteome_output_path}\")\n",
    "print(f\"Phenotype dataset saved to {phenotype_output_path}\")\n",
    "print(f\"Copy number variation dataset saved to {cnv_output_path}\")"
   ]
  },
  {
   "cell_type": "code",
   "execution_count": null,
   "metadata": {},
   "outputs": [],
   "source": []
  },
  {
   "cell_type": "code",
   "execution_count": null,
   "metadata": {},
   "outputs": [],
   "source": []
  }
 ],
 "metadata": {
  "kernelspec": {
   "display_name": "env_ml",
   "language": "python",
   "name": "python3"
  },
  "language_info": {
   "codemirror_mode": {
    "name": "ipython",
    "version": 3
   },
   "file_extension": ".py",
   "mimetype": "text/x-python",
   "name": "python",
   "nbconvert_exporter": "python",
   "pygments_lexer": "ipython3",
   "version": "3.12.4"
  }
 },
 "nbformat": 4,
 "nbformat_minor": 2
}
