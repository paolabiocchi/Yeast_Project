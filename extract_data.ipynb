{
 "cells": [
  {
   "cell_type": "code",
   "execution_count": null,
   "metadata": {},
   "outputs": [],
   "source": [
    "import os\n",
    "import re\n",
    "import pandas as pd\n",
    "from sklearn.feature_extraction.text import TfidfVectorizer\n",
    "from collections import Counter\n"
   ]
  },
  {
   "cell_type": "code",
   "execution_count": 2,
   "metadata": {},
   "outputs": [],
   "source": [
    "# Chemins des fichiers et dossiers\n",
    "proteome_dir_path = \"data/Proteome_1011\"  # Dossier contenant les fichiers de séquences protéiques\n",
    "phenotype_data_path = \"data/Finalset_223phenotypes_1011.csv\"\n",
    "copy_number_variation_path = \"data/genesMatrix_CopyNumber.tab\""
   ]
  },
  {
   "cell_type": "markdown",
   "metadata": {},
   "source": [
    "# Pour les phénotypes et les copy variations"
   ]
  },
  {
   "cell_type": "code",
   "execution_count": null,
   "metadata": {},
   "outputs": [],
   "source": [
    "# Chargement des données phénotypiques\n",
    "phenotype_df = pd.read_csv(phenotype_data_path)\n",
    "\n",
    "# Chargement des données de variation du nombre de copies\n",
    "cnv_df = pd.read_csv(copy_number_variation_path, sep=\"\\t\", index_col=0).T\n",
    "cnv_df.index.name = \"Standard_name\"\n",
    "\n",
    "# Correction des valeurs manquantes\n",
    "cnv_df.fillna(0, inplace=True)\n",
    "\n",
    "# Réindexation pour une compatibilité ultérieure\n",
    "cnv_df.reset_index(inplace=True)"
   ]
  },
  {
   "cell_type": "markdown",
   "metadata": {},
   "source": [
    "# Pour les mutations pour chaque proteine sur chaque yeast"
   ]
  },
  {
   "cell_type": "code",
   "execution_count": 3,
   "metadata": {},
   "outputs": [],
   "source": [
    "# Liste pour stocker les données de mutation\n",
    "mutations = []\n",
    "\n",
    "# Parcourir chaque fichier dans le dossier des protéines\n",
    "for filename in os.listdir(proteome_dir_path):\n",
    "    if filename.endswith(\".fasta\"):\n",
    "        filepath = os.path.join(proteome_dir_path, filename)\n",
    "        protein_id = filename.split(\".\")[0]  # Nom de la protéine\n",
    "        \n",
    "        # Lecture des séquences du fichier FASTA\n",
    "        sequences = {}\n",
    "        with open(filepath, \"r\") as file:\n",
    "            current_yeast = None\n",
    "            for line in file:\n",
    "                if line.startswith(\">\"):  # Identifiant de la levure\n",
    "                    header = line.strip().split()[0][1:]  # Retirer le \">\"\n",
    "                    # Extraire le nom de la levure avant le nom de la protéine\n",
    "                    current_yeast = header.split(f\"_{protein_id}\", 1)[0]\n",
    "                    \n",
    "                    sequences[current_yeast] = \"\"\n",
    "                else:\n",
    "                    sequences[current_yeast] += line.strip()\n",
    "        \n",
    "        # Transposer les séquences pour analyser position par position\n",
    "        yeast_ids = list(sequences.keys())\n",
    "        transposed_positions = zip(*sequences.values())  # Colonne par colonne\n",
    "        \n",
    "        # Identifier les mutations par rapport à l'acide aminé majoritaire\n",
    "        for idx, amino_acids in enumerate(transposed_positions, start=1):\n",
    "            aa_counts = Counter(amino_acids)\n",
    "            most_common_aa, _ = aa_counts.most_common(1)[0]  # Acide aminé majoritaire\n",
    "            \n",
    "            for yeast_id, aa in zip(yeast_ids, amino_acids):\n",
    "                if aa != most_common_aa:  # Mutation détectée\n",
    "                    mutations.append({\n",
    "                        \"Protein_ID\": protein_id,\n",
    "                        \"Yeast_ID\": yeast_id,\n",
    "                        \"Position\": idx,\n",
    "                        \"Reference_AA\": most_common_aa,\n",
    "                        \"Mutated_AA\": aa\n",
    "                    })\n",
    "\n",
    "# Convertir les mutations en DataFrame\n",
    "mutations_df = pd.DataFrame(mutations)"
   ]
  },
  {
   "cell_type": "code",
   "execution_count": null,
   "metadata": {},
   "outputs": [],
   "source": [
    "# Liste pour stocker les données de mutation\n",
    "mutations = []\n",
    "\n",
    "# Parcourir chaque fichier dans le dossier des protéines\n",
    "for filename in os.listdir(proteome_dir_path):\n",
    "    if filename.endswith(\".fasta\"):\n",
    "        filepath = os.path.join(proteome_dir_path, filename)\n",
    "        protein_id = filename.split(\".\")[0]  # Nom de la protéine\n",
    "        \n",
    "        # Lecture des séquences du fichier FASTA\n",
    "        sequences = {}\n",
    "        with open(filepath, \"r\") as file:\n",
    "            current_yeast = None\n",
    "            for line in file:\n",
    "                if line.startswith(\">\"):  # Identifiant de la levure\n",
    "                    header = line.strip().split()[0][1:]  # Retirer le \">\"\n",
    "                    # Extraire le nom de la levure avant le nom de la protéine\n",
    "                    current_yeast = header.split(f\"_{protein_id}\", 1)[0]\n",
    "                    \n",
    "                    sequences[current_yeast] = \"\"\n",
    "                else:\n",
    "                    sequences[current_yeast] += line.strip()\n",
    "        \n",
    "        # Transposer les séquences pour analyser position par position\n",
    "        yeast_ids = list(sequences.keys())\n",
    "        transposed_positions = zip(*sequences.values())  # Colonne par colonne\n",
    "        \n",
    "        # Identifier les mutations par rapport à l'acide aminé majoritaire\n",
    "        for idx, amino_acids in enumerate(transposed_positions, start=1):\n",
    "            aa_counts = Counter(amino_acids)\n",
    "            most_common_aa, _ = aa_counts.most_common(1)[0]  # Acide aminé majoritaire\n",
    "            \n",
    "            for yeast_id, aa in zip(yeast_ids, amino_acids):\n",
    "                mutations.append({\n",
    "                    \"Protein_ID\": protein_id,\n",
    "                    \"Yeast_ID\": yeast_id,\n",
    "                    \"Index_AA\": idx,\n",
    "                    \"Reference_AA\": most_common_aa,\n",
    "                    \"Mutated_AA\": aa if aa != most_common_aa else \"/\"\n",
    "                })\n",
    "\n",
    "# Convertir les mutations en DataFrame\n",
    "extend_mutations_df = pd.DataFrame(mutations)"
   ]
  },
  {
   "cell_type": "code",
   "execution_count": null,
   "metadata": {},
   "outputs": [],
   "source": [
    "# 4. Sauvegarder les datasets dans des fichiers CSV\n",
    "mutations_output_path = \"data/mutations_proteins_dataset.csv\"\n",
    "phenotype_output_path = \"data/phenotype_dataset.csv\"\n",
    "cnv_output_path = \"data/copy_number_variation_dataset.csv\"\n",
    "\n",
    "mutations_df.to_csv(mutations_output_path, index=False)\n",
    "phenotype_df.to_csv(phenotype_output_path, index=False)\n",
    "cnv_df.to_csv(cnv_output_path, index=False)\n",
    "\n",
    "print(f\"Mutations dataset saved to {mutations_output_path}\")\n",
    "print(f\"Phenotype dataset saved to {phenotype_output_path}\")\n",
    "print(f\"Copy number variation dataset saved to {cnv_output_path}\")"
   ]
  },
  {
   "cell_type": "code",
   "execution_count": null,
   "metadata": {},
   "outputs": [],
   "source": [
    "# Sauvegarder les résultats dans un fichier CSV\n",
    "extend_mutations_output_path = \"extend_mutations_dataset.csv\"\n",
    "extend_mutations_df.to_csv(extend_mutations_output_path, index=False)\n",
    "\n",
    "print(f\"Dataset des extend mutations sauvegardé dans {extend_mutations_output_path}\")"
   ]
  },
  {
   "cell_type": "markdown",
   "metadata": {},
   "source": [
    "# Merge les copy number avec les mutations"
   ]
  },
  {
   "cell_type": "code",
   "execution_count": null,
   "metadata": {},
   "outputs": [
    {
     "name": "stdout",
     "output_type": "stream",
     "text": [
      "Merged dataset saved to data/merged_mutations_dataset.csv\n"
     ]
    }
   ],
   "source": [
    "# Charger les datasets -> FAIRE AVEC EXTEND DES QUE POSSIBLE\n",
    "mutations_proteins_path = \"data/mutations_proteins_dataset.csv\"\n",
    "#mutations_proteins_path = \"data/extend_mutations_proteins_dataset.csv\"\n",
    "copy_number_variation_path = \"data/copy_number_variation_dataset.csv\"\n",
    "\n",
    "mutations_df = pd.read_csv(mutations_proteins_path)\n",
    "cnv_df = pd.read_csv(copy_number_variation_path)\n",
    "\n",
    "# Extraire uniquement le nom de la protéine dans copy_number_variation_dataset\n",
    "def extract_protein_id(standard_name):\n",
    "    match = re.match(r\".+\\.(Y[A-Z0-9]+)(?:_.*)?\", standard_name)\n",
    "    return match.group(1) if match else None\n",
    "\n",
    "cnv_df['Protein_ID'] = cnv_df['Standard_name'].apply(extract_protein_id)\n",
    "cnv_df = cnv_df.drop(columns=['Standard_name'])\n",
    "\n",
    "# Réorganiser copy_number_variation_dataset pour un merge par Protein_ID et Yeast_ID\n",
    "cnv_melted = cnv_df.melt(id_vars=[\"Protein_ID\"], var_name=\"Yeast_ID\", value_name=\"Copy_Number\")\n",
    "\n",
    "# Effectuer un merge avec mutations_proteins_dataset\n",
    "merged_df = mutations_df.merge(\n",
    "    cnv_melted,\n",
    "    how=\"left\",\n",
    "    on=[\"Protein_ID\", \"Yeast_ID\"]\n",
    ")\n",
    "\n",
    "# Sauvegarder le résultat dans un fichier CSV\n",
    "output_path = \"data/merged_mutations_dataset.csv\"\n",
    "merged_df.to_csv(output_path, index=False)\n",
    "\n",
    "# Résultat\n",
    "print(f\"Merged dataset saved to {output_path}\")"
   ]
  }
 ],
 "metadata": {
  "kernelspec": {
   "display_name": "base",
   "language": "python",
   "name": "python3"
  },
  "language_info": {
   "codemirror_mode": {
    "name": "ipython",
    "version": 3
   },
   "file_extension": ".py",
   "mimetype": "text/x-python",
   "name": "python",
   "nbconvert_exporter": "python",
   "pygments_lexer": "ipython3",
   "version": "3.9.12"
  }
 },
 "nbformat": 4,
 "nbformat_minor": 2
}
