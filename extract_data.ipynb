{
 "cells": [
  {
   "cell_type": "code",
   "execution_count": 8,
   "metadata": {},
   "outputs": [],
   "source": [
    "import os\n",
    "import pandas as pd\n",
    "from sklearn.feature_extraction.text import TfidfVectorizer\n",
    "from collections import Counter\n"
   ]
  },
  {
   "cell_type": "code",
   "execution_count": null,
   "metadata": {},
   "outputs": [],
   "source": [
    "# Chemins des fichiers et dossiers\n",
    "proteome_dir_path = \"data/Proteome_1011\"  # Dossier contenant les fichiers de séquences protéiques\n",
    "phenotype_data_path = \"data/Finalset_223phenotypes_1011.csv\"\n",
    "copy_number_variation_path = \"data/genesMatrix_CopyNumber.tab\""
   ]
  },
  {
   "cell_type": "markdown",
   "metadata": {},
   "source": [
    "# Pour les phénotypes et les copy variations"
   ]
  },
  {
   "cell_type": "code",
   "execution_count": null,
   "metadata": {},
   "outputs": [],
   "source": [
    "# Chargement des données phénotypiques\n",
    "phenotype_df = pd.read_csv(phenotype_data_path)\n",
    "\n",
    "# Chargement des données de variation du nombre de copies\n",
    "cnv_df = pd.read_csv(copy_number_variation_path, sep=\"\\t\", index_col=0).T\n",
    "cnv_df.index.name = \"Standard_name\"\n",
    "\n",
    "# Correction des valeurs manquantes\n",
    "cnv_df.fillna(0, inplace=True)\n",
    "\n",
    "# Réindexation pour une compatibilité ultérieure\n",
    "cnv_df.reset_index(inplace=True)"
   ]
  },
  {
   "cell_type": "markdown",
   "metadata": {},
   "source": [
    "# Pour les mutations pour chaque proteine sur chaque yeast"
   ]
  },
  {
   "cell_type": "code",
   "execution_count": null,
   "metadata": {},
   "outputs": [
    {
     "ename": "KeyboardInterrupt",
     "evalue": "",
     "output_type": "error",
     "traceback": [
      "\u001b[0;31m---------------------------------------------------------------------------\u001b[0m",
      "\u001b[0;31mKeyboardInterrupt\u001b[0m                         Traceback (most recent call last)",
      "Cell \u001b[0;32mIn[6], line 22\u001b[0m\n\u001b[1;32m     20\u001b[0m             sequences[current_yeast] \u001b[38;5;241m=\u001b[39m \u001b[38;5;124m\"\u001b[39m\u001b[38;5;124m\"\u001b[39m\n\u001b[1;32m     21\u001b[0m         \u001b[38;5;28;01melse\u001b[39;00m:\n\u001b[0;32m---> 22\u001b[0m             sequences[current_yeast] \u001b[38;5;241m+\u001b[39m\u001b[38;5;241m=\u001b[39m \u001b[43mline\u001b[49m\u001b[38;5;241;43m.\u001b[39;49m\u001b[43mstrip\u001b[49m\u001b[43m(\u001b[49m\u001b[43m)\u001b[49m\n\u001b[1;32m     24\u001b[0m \u001b[38;5;66;03m# Transposer les séquences pour analyser position par position\u001b[39;00m\n\u001b[1;32m     25\u001b[0m yeast_ids \u001b[38;5;241m=\u001b[39m \u001b[38;5;28mlist\u001b[39m(sequences\u001b[38;5;241m.\u001b[39mkeys())\n",
      "\u001b[0;31mKeyboardInterrupt\u001b[0m: "
     ]
    }
   ],
   "source": [
    "# Dossier contenant les fichiers FASTA\n",
    "proteome_dir_path = \"data/Proteome_1011\"\n",
    "\n",
    "# Liste pour stocker les données de mutation\n",
    "mutations = []\n",
    "\n",
    "# Parcourir chaque fichier dans le dossier des protéines\n",
    "for filename in os.listdir(proteome_dir_path):\n",
    "    if filename.endswith(\".fasta\"):\n",
    "        filepath = os.path.join(proteome_dir_path, filename)\n",
    "        protein_id = filename.split(\".\")[0]  # Nom de la protéine\n",
    "        \n",
    "        # Lecture des séquences du fichier FASTA\n",
    "        sequences = {}\n",
    "        with open(filepath, \"r\") as file:\n",
    "            current_yeast = None\n",
    "            for line in file:\n",
    "                if line.startswith(\">\"):  # Identifiant de la levure\n",
    "                    current_yeast = line.strip().split()[0][1:]  # Retirer le \">\"\n",
    "                    sequences[current_yeast] = \"\"\n",
    "                else:\n",
    "                    sequences[current_yeast] += line.strip()\n",
    "        \n",
    "        # Transposer les séquences pour analyser position par position\n",
    "        yeast_ids = list(sequences.keys())\n",
    "        transposed_positions = zip(*sequences.values())  # Colonne par colonne\n",
    "        \n",
    "        # Identifier les mutations par rapport à l'acide aminé majoritaire\n",
    "        for idx, amino_acids in enumerate(transposed_positions, start=1):\n",
    "            aa_counts = Counter(amino_acids)\n",
    "            most_common_aa, _ = aa_counts.most_common(1)[0]  # Acide aminé majoritaire\n",
    "            \n",
    "            for yeast_id, aa in zip(yeast_ids, amino_acids):\n",
    "                if aa != most_common_aa:  # Mutation détectée\n",
    "                    mutations.append({\n",
    "                        \"Protein_ID\": protein_id,\n",
    "                        \"Yeast_ID\": yeast_id,\n",
    "                        \"Position\": idx,\n",
    "                        \"Reference_AA\": most_common_aa,\n",
    "                        \"Mutated_AA\": aa\n",
    "                    })\n",
    "\n",
    "# Convertir les mutations en DataFrame\n",
    "mutations_df = pd.DataFrame(mutations)"
   ]
  },
  {
   "cell_type": "code",
   "execution_count": 13,
   "metadata": {},
   "outputs": [
    {
     "name": "stdout",
     "output_type": "stream",
     "text": [
      "Mutations dataset saved to data/mutations_proteins_dataset.csv\n",
      "Phenotype dataset saved to data/phenotype_dataset.csv\n",
      "Copy number variation dataset saved to data/copy_number_variation_dataset.csv\n"
     ]
    }
   ],
   "source": [
    "# 4. Sauvegarder les datasets dans des fichiers CSV\n",
    "mutations_output_path = \"data/mutations_proteins_dataset.csv\"\n",
    "phenotype_output_path = \"data/phenotype_dataset.csv\"\n",
    "cnv_output_path = \"data/copy_number_variation_dataset.csv\"\n",
    "\n",
    "mutations_df.to_csv(mutations_output_path, index=False)\n",
    "phenotype_df.to_csv(phenotype_output_path, index=False)\n",
    "cnv_df.to_csv(cnv_output_path, index=False)\n",
    "\n",
    "print(f\"Mutations dataset saved to {mutations_output_path}\")\n",
    "print(f\"Phenotype dataset saved to {phenotype_output_path}\")\n",
    "print(f\"Copy number variation dataset saved to {cnv_output_path}\")"
   ]
  },
  {
   "cell_type": "code",
   "execution_count": null,
   "metadata": {},
   "outputs": [],
   "source": []
  }
 ],
 "metadata": {
  "kernelspec": {
   "display_name": "env_ml",
   "language": "python",
   "name": "python3"
  },
  "language_info": {
   "codemirror_mode": {
    "name": "ipython",
    "version": 3
   },
   "file_extension": ".py",
   "mimetype": "text/x-python",
   "name": "python",
   "nbconvert_exporter": "python",
   "pygments_lexer": "ipython3",
   "version": "3.12.4"
  }
 },
 "nbformat": 4,
 "nbformat_minor": 2
}
