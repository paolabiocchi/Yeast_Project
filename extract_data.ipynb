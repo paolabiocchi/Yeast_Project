{
 "cells": [
  {
   "cell_type": "code",
   "execution_count": 8,
   "metadata": {},
   "outputs": [],
   "source": [
    "import os\n",
    "import pandas as pd"
   ]
  },
  {
   "cell_type": "code",
   "execution_count": null,
   "metadata": {},
   "outputs": [
    {
     "name": "stdout",
     "output_type": "stream",
     "text": [
      "Proteome dataset saved to proteome_dataset.csv\n",
      "Phenotype dataset saved to phenotype_dataset.csv\n",
      "Copy number variation dataset saved to copy_number_variation_dataset.csv\n"
     ]
    }
   ],
   "source": [
    "\n",
    "# Chemins des fichiers et dossiers\n",
    "proteome_dir_path = \"data/Proteome_1011\"  # Dossier contenant les fichiers de séquences protéiques\n",
    "phenotype_data_path = \"data/Finalset_223phenotypes_1011.csv\"\n",
    "copy_number_variation_path = \"data/genesMatrix_CopyNumber.tab\"\n",
    "\n",
    "# Extraction des données protéiques\n",
    "proteome_data = {}\n",
    "for filename in os.listdir(proteome_dir_path):\n",
    "    if filename.endswith(\".fasta\"):\n",
    "        filepath = os.path.join(proteome_dir_path, filename)\n",
    "        with open(filepath, \"r\") as file:\n",
    "            protein_id = filename.split(\".\")[0]\n",
    "            sequence = \"\"\n",
    "            for line in file:\n",
    "                if not line.startswith(\">\"):\n",
    "                    sequence += line.strip()\n",
    "            proteome_data[protein_id] = sequence\n",
    "\n",
    "proteome_df = pd.DataFrame(list(proteome_data.items()), columns=[\"Protein_ID\", \"Sequence\"])\n",
    "\n",
    "# Chargement des données phénotypiques\n",
    "phenotype_df = pd.read_csv(phenotype_data_path)\n",
    "\n",
    "# Chargement des données de variation du nombre de copies\n",
    "cnv_df = pd.read_csv(copy_number_variation_path, sep=\"\\t\", index_col=0).T\n",
    "cnv_df.index.name = \"Standard_name\"\n",
    "\n",
    "# Sauvegarder les datasets dans des fichiers CSV\n",
    "proteome_output_path = \"data/proteome_dataset.csv\"\n",
    "phenotype_output_path = \"data/phenotype_dataset.csv\"\n",
    "cnv_output_path = \"data/copy_number_variation_dataset.csv\"\n",
    "\n",
    "proteome_df.to_csv(proteome_output_path, index=False)\n",
    "phenotype_df.to_csv(phenotype_output_path, index=False)\n",
    "cnv_df.to_csv(cnv_output_path)\n",
    "\n",
    "# Résultat\n",
    "print(f\"Proteome dataset saved to {proteome_output_path}\")\n",
    "print(f\"Phenotype dataset saved to {phenotype_output_path}\")\n",
    "print(f\"Copy number variation dataset saved to {cnv_output_path}\")"
   ]
  },
  {
   "cell_type": "code",
   "execution_count": null,
   "metadata": {},
   "outputs": [],
   "source": []
  }
 ],
 "metadata": {
  "kernelspec": {
   "display_name": "env_ml",
   "language": "python",
   "name": "python3"
  },
  "language_info": {
   "codemirror_mode": {
    "name": "ipython",
    "version": 3
   },
   "file_extension": ".py",
   "mimetype": "text/x-python",
   "name": "python",
   "nbconvert_exporter": "python",
   "pygments_lexer": "ipython3",
   "version": "3.12.4"
  }
 },
 "nbformat": 4,
 "nbformat_minor": 2
}
