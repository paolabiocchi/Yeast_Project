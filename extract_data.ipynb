{
 "cells": [
  {
   "cell_type": "code",
   "execution_count": null,
   "metadata": {},
   "outputs": [],
   "source": [
    "import os\n",
    "import re\n",
    "import pandas as pd\n",
    "from sklearn.feature_extraction.text import TfidfVectorizer\n",
    "from collections import Counter\n",
    "import dask.dataframe as dd\n",
    "import matplotlib.pyplot as plt"
   ]
  },
  {
   "cell_type": "markdown",
   "metadata": {},
   "source": [
    "# 1. Full phenotype"
   ]
  },
  {
   "cell_type": "code",
   "execution_count": 13,
   "metadata": {},
   "outputs": [],
   "source": [
    "# Chargement des données phénotypiques\n",
    "phenotype_data_path = \"data/Finalset_223phenotypes_1011.csv\"\n",
    "phenotype_df = pd.read_csv(phenotype_data_path)"
   ]
  },
  {
   "cell_type": "code",
   "execution_count": 14,
   "metadata": {},
   "outputs": [
    {
     "name": "stdout",
     "output_type": "stream",
     "text": [
      "Phenotype dataset saved to data/phenotype_dataset.csv\n"
     ]
    }
   ],
   "source": [
    "phenotype_output_path = \"data/phenotype_dataset.csv\"\n",
    "phenotype_df.to_csv(phenotype_output_path, index=False)\n",
    "print(f\"Phenotype dataset saved to {phenotype_output_path}\")"
   ]
  },
  {
   "cell_type": "markdown",
   "metadata": {},
   "source": [
    "# 2. Choose the phenotype"
   ]
  },
  {
   "cell_type": "code",
   "execution_count": 15,
   "metadata": {},
   "outputs": [],
   "source": [
    "#phenotype = \"YPD_doublingtime\"\n",
    "phenotype = \"YPDCUSO410MM_40h\""
   ]
  },
  {
   "cell_type": "markdown",
   "metadata": {},
   "source": [
    "# 3. Filtered phenotype (which will later be ordered)"
   ]
  },
  {
   "cell_type": "code",
   "execution_count": 16,
   "metadata": {},
   "outputs": [],
   "source": [
    "def filter_phenotype(phenotype):\n",
    "    phenotype_data = pd.read_csv(\"data/phenotype_dataset.csv\")\n",
    "    phenotype_data = phenotype_data.rename(columns={'Standard_name': 'Yeast_ID'})\n",
    "    columns_of_interest = ['Yeast_ID', phenotype]\n",
    "    modified_phenotype = phenotype_data[columns_of_interest]\n",
    "\n",
    "    # Separate the Yeast_IDs with missing values in YPD_doublingtime\n",
    "    missing_yeast_ids = modified_phenotype.loc[modified_phenotype[phenotype].isna(), \"Yeast_ID\"].tolist()\n",
    "\n",
    "    # Remove rows with missing values in YPD_doublingtime\n",
    "    filtered_phenotype = modified_phenotype.dropna(subset=[phenotype])\n",
    "    return missing_yeast_ids, filtered_phenotype\n",
    "\n",
    "missing_yeast_ids, filtered_phenotype = filter_phenotype(phenotype)"
   ]
  },
  {
   "cell_type": "markdown",
   "metadata": {},
   "source": [
    "# 4. Copy number variations dataset"
   ]
  },
  {
   "cell_type": "code",
   "execution_count": 5,
   "metadata": {},
   "outputs": [],
   "source": [
    "# Chargement des données de variation du nombre de copies\n",
    "copy_number_variation_path = \"data/genesMatrix_CopyNumber.tab\"\n",
    "cnv_df = pd.read_csv(copy_number_variation_path, sep=\"\\t\", index_col=0).T\n",
    "cnv_df.index.name = \"Standard_name\"\n",
    "cnv_df.reset_index(inplace=True)\n",
    "\n",
    "# Define the updated pattern (only checks the beginning of the string)\n",
    "pattern = r'^X\\d{1,4}\\.Y[A-Z]{2}\\d{3}[A-Z]'\n",
    "\n",
    "# Keep rows where 'Standard_name' begins with the pattern\n",
    "cnv_df = cnv_df[cnv_df['Standard_name'].str.match(pattern, na=False)]\n",
    "\n",
    "# Reset the index\n",
    "cnv_df = cnv_df.reset_index(drop=True)\n",
    "\n",
    "# Define regex patterns for the two cases\n",
    "pattern_case1 = r'Y[A-Z]{2}\\d{3}[A-Z]'  # For case 1: \"Y\" + 2 uppercase letters + 3 digits + 1 uppercase letter\n",
    "pattern_case2 = r'Y[A-Z]{2}\\d{3}[A-Z]\\.[A-Z]'  # For case 2: Same as case 1, but with \".X\" at the end\n",
    "\n",
    "# Function to extract the real name\n",
    "def extract_real_name(name):\n",
    "    import re\n",
    "    # Check case 2 first (more specific pattern)\n",
    "    match_case2 = re.search(pattern_case2, name)\n",
    "    if match_case2:\n",
    "        # Replace '.' with '-'\n",
    "        return match_case2.group().replace('.', '-')\n",
    "    # Check case 1\n",
    "    match_case1 = re.search(pattern_case1, name)\n",
    "    if match_case1:\n",
    "        return match_case1.group()\n",
    "    # Return None if no match\n",
    "    return None\n",
    "\n",
    "# Apply the function to extract real names\n",
    "cnv_df['Standard_name'] = cnv_df['Standard_name'].apply(extract_real_name)\n",
    "\n",
    "# Drop rows with no real name (optional)\n",
    "cnv_df = cnv_df.dropna(subset=['Standard_name']).reset_index(drop=True)\n",
    "\n",
    "# Fill missing values in columns except the first one with the median of that column directly in the original df\n",
    "cnv_df.iloc[:, 1:] = cnv_df.iloc[:, 1:].fillna(cnv_df.median(numeric_only=True))"
   ]
  },
  {
   "cell_type": "code",
   "execution_count": 6,
   "metadata": {},
   "outputs": [
    {
     "name": "stdout",
     "output_type": "stream",
     "text": [
      "Copy number variation dataset saved to data/copy_number_variation_dataset.csv\n"
     ]
    }
   ],
   "source": [
    "cnv_output_path = \"data/copy_number_variation_dataset.csv\"\n",
    "cnv_df.to_csv(cnv_output_path, index=False)\n",
    "print(f\"Copy number variation dataset saved to {cnv_output_path}\")"
   ]
  },
  {
   "cell_type": "markdown",
   "metadata": {},
   "source": [
    "# 5. Mutations of each yeast on each protein dataset"
   ]
  },
  {
   "cell_type": "code",
   "execution_count": null,
   "metadata": {},
   "outputs": [],
   "source": [
    "proteome_dir_path = \"data/Proteome_1011\"  # Dossier contenant les fichiers de séquences protéiques\n",
    "\n",
    "# Liste pour stocker les données de mutation\n",
    "mutations = []\n",
    "\n",
    "# Parcourir chaque fichier dans le dossier des protéines\n",
    "for filename in os.listdir(proteome_dir_path):\n",
    "    if filename.endswith(\".fasta\"):\n",
    "        filepath = os.path.join(proteome_dir_path, filename)\n",
    "        protein_id = filename.split(\".\")[0]  # Nom de la protéine\n",
    "        \n",
    "        # Lecture des séquences du fichier FASTA\n",
    "        sequences = {}\n",
    "        with open(filepath, \"r\") as file:\n",
    "            current_yeast = None\n",
    "            for line in file:\n",
    "                if line.startswith(\">\"):  # Identifiant de la levure\n",
    "                    header = line.strip().split()[0][1:]  # Retirer le \">\"\n",
    "                    # Extraire le nom de la levure avant le nom de la protéine\n",
    "                    current_yeast = header.split(f\"_{protein_id}\", 1)[0]\n",
    "                    \n",
    "                    sequences[current_yeast] = \"\"\n",
    "                else:\n",
    "                    sequences[current_yeast] += line.strip()\n",
    "        \n",
    "        # Transposer les séquences pour analyser position par position\n",
    "        yeast_ids = list(sequences.keys())\n",
    "        transposed_positions = zip(*sequences.values())  # Colonne par colonne\n",
    "        \n",
    "        # Identifier les mutations par rapport à l'acide aminé majoritaire\n",
    "        for idx, amino_acids in enumerate(transposed_positions, start=1):\n",
    "            aa_counts = Counter(amino_acids)\n",
    "            most_common_aa, _ = aa_counts.most_common(1)[0]  # Acide aminé majoritaire\n",
    "            \n",
    "            \n",
    "            for yeast_id, aa in zip(yeast_ids, amino_acids):\n",
    "                if aa != most_common_aa:  # Mutation détectée\n",
    "                    mutations.append({\n",
    "                        \"Protein_ID\": protein_id,\n",
    "                        \"Yeast_ID\": yeast_id,\n",
    "                        \"Position\": idx,\n",
    "                        \"Reference_AA\": most_common_aa,\n",
    "                        \"Mutated_AA\": aa\n",
    "                    })\n",
    "\n",
    "# Convertir les mutations en DataFrame\n",
    "mutations_df = pd.DataFrame(mutations)"
   ]
  },
  {
   "cell_type": "code",
   "execution_count": null,
   "metadata": {},
   "outputs": [
    {
     "ename": "NameError",
     "evalue": "name 'mutations_df' is not defined",
     "output_type": "error",
     "traceback": [
      "\u001b[0;31m---------------------------------------------------------------------------\u001b[0m",
      "\u001b[0;31mNameError\u001b[0m                                 Traceback (most recent call last)",
      "Cell \u001b[0;32mIn[36], line 2\u001b[0m\n\u001b[1;32m      1\u001b[0m mutations_output_path \u001b[38;5;241m=\u001b[39m \u001b[38;5;124m\"\u001b[39m\u001b[38;5;124mdata/mutations_dataset.csv\u001b[39m\u001b[38;5;124m\"\u001b[39m\n\u001b[0;32m----> 2\u001b[0m \u001b[43mmutations_df\u001b[49m\u001b[38;5;241m.\u001b[39mto_csv(mutations_output_path, index\u001b[38;5;241m=\u001b[39m\u001b[38;5;28;01mFalse\u001b[39;00m)\n\u001b[1;32m      3\u001b[0m \u001b[38;5;28mprint\u001b[39m(\u001b[38;5;124mf\u001b[39m\u001b[38;5;124m\"\u001b[39m\u001b[38;5;124mMutations dataset saved to \u001b[39m\u001b[38;5;132;01m{\u001b[39;00mmutations_output_path\u001b[38;5;132;01m}\u001b[39;00m\u001b[38;5;124m\"\u001b[39m)\n",
      "\u001b[0;31mNameError\u001b[0m: name 'mutations_df' is not defined"
     ]
    }
   ],
   "source": [
    "mutations_output_path = \"data/mutations_dataset.csv\"\n",
    "mutations_df.to_csv(mutations_output_path, index=False)\n",
    "print(f\"Mutations dataset saved to {mutations_output_path}\")"
   ]
  },
  {
   "cell_type": "markdown",
   "metadata": {},
   "source": [
    "# 6. Extended mutation matrix"
   ]
  },
  {
   "cell_type": "code",
   "execution_count": 11,
   "metadata": {},
   "outputs": [
    {
     "name": "stdout",
     "output_type": "stream",
     "text": [
      "Number of proteins before filtering: 570627\n",
      "Number of proteins after filtering: 368295\n"
     ]
    }
   ],
   "source": [
    "def create_mutation_matrix(df, min_mutations=2):\n",
    "    # Filter out rows with Yeast_IDs in the missing_yeast_ids list\n",
    "    df = df[~df['Yeast_ID'].isin(missing_yeast_ids)].copy()  # Use .copy() to avoid SettingWithCopyWarning\n",
    "\n",
    "    # Create mutation labels\n",
    "    df.loc[:, 'Mutation_Label'] = (\n",
    "        df['Protein_ID'] + '_' +\n",
    "        df['Position'].astype(str) + '_' +\n",
    "        df['Reference_AA'] + '->' + df['Mutated_AA']\n",
    "    )\n",
    "\n",
    "    # Drop duplicates to ensure each mutation appears only once per yeast\n",
    "    df = df.drop_duplicates(subset=['Yeast_ID', 'Mutation_Label'])\n",
    "    \n",
    "    # Pivot the data to create a matrix, use Yeast_ID as index and Mutation_Label as columns\n",
    "    mutation_matrix = df.pivot(index='Yeast_ID', \n",
    "                               columns='Mutation_Label', \n",
    "                               values='Mutation_Label')\n",
    "    \n",
    "    # Fill missing values with 0 and set the presence of mutation to 1\n",
    "    mutation_matrix = mutation_matrix.notnull().astype(int)\n",
    "    \n",
    "    # Number of proteins (mutation labels) before filtering\n",
    "    num_proteins_before = mutation_matrix.shape[1]\n",
    "    print(f\"Number of proteins before filtering: {num_proteins_before}\")\n",
    "    \n",
    "    # Filter out columns with less than min_mutations occurrences\n",
    "    mutation_matrix = mutation_matrix.loc[:, (mutation_matrix.sum(axis=0) >= min_mutations)]\n",
    "    \n",
    "    # Number of proteins (mutation labels) after filtering\n",
    "    num_proteins_after = mutation_matrix.shape[1]\n",
    "    print(f\"Number of proteins after filtering: {num_proteins_after}\")\n",
    "    \n",
    "    # Reset index to include Yeast_ID as a column\n",
    "    mutation_matrix.reset_index(inplace=True)\n",
    "    \n",
    "    return mutation_matrix\n",
    "\n",
    "\n",
    "dtype_dict = {\n",
    "    'Yeast_ID': str,          # Yeast_ID might be a string\n",
    "    'Protein_ID': str,        # Protein_ID might be a string\n",
    "    'Position': str,          # Position might be a string\n",
    "    'Reference_AA': str,      # Reference_AA might be a string\n",
    "    'Mutated_AA': str,        # Mutated_AA might be a string\n",
    "}\n",
    "\n",
    "mutations_data = pd.read_csv(\"data/mutations_dataset.csv\", dtype=dtype_dict)\n",
    "\n",
    "mutation_matrix = create_mutation_matrix(mutations_data)"
   ]
  },
  {
   "attachments": {
    "image.png": {
     "image/png": "[encoded data removed]"
    }
   },
   "cell_type": "markdown",
   "metadata": {},
   "source": [
    "![image.png](attachment:image.png)\n"
   ]
  },
  {
   "cell_type": "code",
   "execution_count": 18,
   "metadata": {},
   "outputs": [
    {
     "name": "stdout",
     "output_type": "stream",
     "text": [
      "Extended mutations dataset saved to data/extended_mutations_YPDCUSO410MM_40h.csv\n"
     ]
    }
   ],
   "source": [
    "extended_mutations_output_path = f\"data/extended_mutations_{phenotype}.csv\"\n",
    "mutation_matrix.to_csv(extended_mutations_output_path, index=False)\n",
    "print(f\"Extended mutations dataset saved to {extended_mutations_output_path}\")"
   ]
  },
  {
   "cell_type": "markdown",
   "metadata": {},
   "source": [
    "# 7. X matrix"
   ]
  },
  {
   "cell_type": "code",
   "execution_count": 19,
   "metadata": {},
   "outputs": [
    {
     "name": "stdout",
     "output_type": "stream",
     "text": [
      "Étape 1 : Chargement des données CNV avec Pandas...\n",
      "CNV data chargée avec succès.\n",
      "Utilisation de la matrice de mutations en mémoire...\n",
      "Étape 4 : Identification des protéines uniques dans la matrice de mutations...\n",
      "Nombre de protéines avec mutations uniques : 6474\n",
      "Nombre de protéines de CNV : 6051\n",
      "Étape 7 : Transposition des données CNV...\n",
      "Transposition CNV terminée.\n",
      "Étape 8 : Fusion des matrices de mutations et CNV...\n",
      "Fusion terminée. Dimensions de X_matrix : (971, 374347)\n"
     ]
    }
   ],
   "source": [
    "# Chemins des fichiers\n",
    "cnv_path = \"data/copy_number_variation_dataset.csv\"\n",
    "\n",
    "# Étape 1 : Charger les fichiers nécessaires\n",
    "print(\"Étape 1 : Chargement des données CNV avec Pandas...\")\n",
    "cnv_data = pd.read_csv(cnv_path)\n",
    "print(\"CNV data chargée avec succès.\")\n",
    "\n",
    "# Étape 2 : Utiliser directement la matrice de mutation en mémoire car moins long\n",
    "print(\"Utilisation de la matrice de mutations en mémoire...\")\n",
    "#mutation_matrix = pd.read_csv(f\"data/extend_mutations_{phenotype}.csv\")\n",
    "\n",
    "\n",
    "# Étape 3 : Identifier les protéines uniques dans la matrice de mutation\n",
    "print(\"Étape 4 : Identification des protéines uniques dans la matrice de mutations...\")\n",
    "mutation_column_names = mutation_matrix.columns[1:]  # Ignorer la colonne 'Yeast_ID'\n",
    "protein_columns = [col.split('_')[0] for col in mutation_column_names]\n",
    "unique_proteins = set(protein_columns)\n",
    "print(f\"Nombre de protéines avec mutations uniques : {len(unique_proteins)}\")\n",
    "\n",
    "\n",
    "# CETTE ÉTAPE EST POUR ENLEVER LES PROTEINES SANS MUTATION\n",
    "'''\n",
    "# Étape 4 : Filtrer CNV data pour inclure seulement les protéines uniques, qui ont minimum 1 (ou 2) mutation\n",
    "print(\"Étape 5 : Filtrage des données CNV...\")\n",
    "print(f\"Nombre de protéines de CNV : {cnv_data.shape[0]}\")\n",
    "filtered_cnv_data = cnv_data[cnv_data['Standard_name'].isin(unique_proteins)]\n",
    "print(f\"Filtrage CNV terminé, sans les protéines sans mutation. Nombre de protéines restantes : {filtered_cnv_data.shape[0]}\")\n",
    "'''\n",
    "\n",
    "# CETTE ÉTAPE EST POUR COMPLÉTER NOTRE CNV\n",
    "'''\n",
    "# Étape 5 : Calculer les valeurs médianes pour les protéines manquantes\n",
    "print(\"Étape 6 : Calcul des valeurs médianes pour les protéines avec mutations, manquantes chez CNV...\")\n",
    "missing_proteins = unique_proteins - set(filtered_cnv_data['Standard_name'])\n",
    "if missing_proteins:\n",
    "    print(f\"Nombre de protéines manquantes détectées : {len(missing_proteins)}\")\n",
    "    median_values = filtered_cnv_data.drop(columns=['Standard_name']).median()\n",
    "    print(\"Calcul des médianes terminé.\")\n",
    "\n",
    "    # Ajouter les protéines manquantes avec les valeurs médianes\n",
    "    for protein in missing_proteins:\n",
    "        new_row = pd.Series({'Standard_name': protein, **median_values})\n",
    "        filtered_cnv_data = pd.concat([filtered_cnv_data, new_row.to_frame().T], ignore_index=True)\n",
    "    print(\"Ajout des protéines manquantes terminé.\")\n",
    "else:\n",
    "    print(\"Aucune protéine manquante détectée.\")\n",
    "print(f\"Update CNV terminée, sans les protéines sans mutation, avec les protéines qu'il lui manquait. Nombre de protéines restantes : {filtered_cnv_data.shape[0]}\")\n",
    "'''\n",
    "print(f\"Nombre de protéines de CNV : {cnv_data.shape[0]}\")\n",
    "\n",
    "# Étape 6 : Transposer les données CNV filtrées\n",
    "print(\"Étape 7 : Transposition des données CNV...\")\n",
    "#filtered_cnv_transposed = filtered_cnv_data.set_index('Standard_name').transpose()\n",
    "filtered_cnv_transposed = cnv_data.set_index('Standard_name').transpose()\n",
    "print(\"Transposition CNV terminée.\")\n",
    "\n",
    "# Étape 7 : Fusionner mutation_matrix et filtered_cnv_transposed\n",
    "print(\"Étape 8 : Fusion des matrices de mutations et CNV...\")\n",
    "X_matrix = mutation_matrix.merge(\n",
    "    filtered_cnv_transposed, \n",
    "    left_on='Yeast_ID', \n",
    "    right_index=True, \n",
    "    how='left'\n",
    ")\n",
    "print(f\"Fusion terminée. Dimensions de X_matrix : {X_matrix.shape}\")"
   ]
  },
  {
   "cell_type": "code",
   "execution_count": null,
   "metadata": {},
   "outputs": [],
   "source": [
    "X_matrix_output_path = f\"data/X_matrix_{phenotype}.csv\"\n",
    "X_matrix.to_csv(X_matrix_output_path, index=False)\n",
    "print(f\"Combined matrix X saved to {X_matrix_output_path}\")"
   ]
  },
  {
   "cell_type": "markdown",
   "metadata": {},
   "source": [
    "# 8. y phenotype"
   ]
  },
  {
   "cell_type": "code",
   "execution_count": null,
   "metadata": {},
   "outputs": [],
   "source": [
    "# Order the phenotype\n",
    "y_phenotype = filtered_phenotype.set_index('Yeast_ID').reindex(X_matrix['Yeast_ID']).reset_index()"
   ]
  },
  {
   "cell_type": "code",
   "execution_count": null,
   "metadata": {},
   "outputs": [
    {
     "name": "stdout",
     "output_type": "stream",
     "text": [
      "Ordered phenotype saved to data/y_phenotype.csv\n"
     ]
    }
   ],
   "source": [
    "y_phenotype_output_path = f\"data/y_{phenotype}.csv\"\n",
    "y_phenotype.to_csv(y_phenotype_output_path, index=False)\n",
    "print(f\"Ordered phenotype saved to {y_phenotype_output_path}\")"
   ]
  },
  {
   "cell_type": "markdown",
   "metadata": {},
   "source": [
    "# 9. Plots"
   ]
  },
  {
   "cell_type": "code",
   "execution_count": null,
   "metadata": {},
   "outputs": [],
   "source": [
    "y_data = y_phenotype.drop(columns=[\"Yeast_ID\"])\n",
    "\n",
    "median_value = y_data['YPD_doublingtime'].median()\n",
    "print(f\"The median of the column is: {median_value}\")\n",
    "\n",
    "# Set the figure size\n",
    "plt.figure(figsize=(10, 6))\n",
    "\n",
    "# Plot histogram for the single column with KDE\n",
    "sns.histplot(y_data['YPD_doublingtime'], kde=True, bins=20, color='skyblue', alpha=0.6)\n",
    "\n",
    "# Calculate mean and median\n",
    "mean_val = y_data['YPD_doublingtime'].mean()\n",
    "median_val = y_data['YPD_doublingtime'].median()\n",
    "\n",
    "# Plot lines for mean and median\n",
    "plt.axvline(mean_val, color='red', linestyle='dashed', linewidth=2, label=f'Mean: {mean_val:.2f}')\n",
    "plt.axvline(median_val, color='blue', linestyle='dashed', linewidth=2, label=f'Median: {median_val:.2f}')\n",
    "\n",
    "# Add title and labels\n",
    "plt.title('Distribution with Mean and Median')\n",
    "plt.xlabel('Value')\n",
    "plt.ylabel('Frequency')\n",
    "\n",
    "# Add legend\n",
    "plt.legend()\n",
    "\n",
    "# Show the plot\n",
    "plt.show()"
   ]
  }
 ],
 "metadata": {
  "kernelspec": {
   "display_name": "ml",
   "language": "python",
   "name": "python3"
  },
  "language_info": {
   "codemirror_mode": {
    "name": "ipython",
    "version": 3
   },
   "file_extension": ".py",
   "mimetype": "text/x-python",
   "name": "python",
   "nbconvert_exporter": "python",
   "pygments_lexer": "ipython3",
   "version": "3.12.2"
  }
 },
 "nbformat": 4,
 "nbformat_minor": 2
}
