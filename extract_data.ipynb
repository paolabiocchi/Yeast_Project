{
 "cells": [
  {
   "cell_type": "code",
   "execution_count": 3,
   "metadata": {},
   "outputs": [],
   "source": [
    "import os\n",
    "import re\n",
    "import pandas as pd\n",
    "from sklearn.feature_extraction.text import TfidfVectorizer\n",
    "from collections import Counter\n"
   ]
  },
  {
   "cell_type": "code",
   "execution_count": 4,
   "metadata": {},
   "outputs": [],
   "source": [
    "# Chemins des fichiers et dossiers\n",
    "proteome_dir_path = \"data/Proteome_1011\"  # Dossier contenant les fichiers de séquences protéiques\n",
    "phenotype_data_path = \"data/Finalset_223phenotypes_1011.csv\"\n",
    "copy_number_variation_path = \"data/genesMatrix_CopyNumber.tab\""
   ]
  },
  {
   "cell_type": "markdown",
   "metadata": {},
   "source": [
    "# Pour les phénotypes et les copy variations"
   ]
  },
  {
   "cell_type": "code",
   "execution_count": 5,
   "metadata": {},
   "outputs": [],
   "source": [
    "# Chargement des données phénotypiques\n",
    "phenotype_df = pd.read_csv(phenotype_data_path)\n",
    "\n",
    "# Chargement des données de variation du nombre de copies\n",
    "cnv_df = pd.read_csv(copy_number_variation_path, sep=\"\\t\", index_col=0).T\n",
    "cnv_df.index.name = \"Standard_name\"\n",
    "\n",
    "# Correction des valeurs manquantes\n",
    "cnv_df.fillna(0, inplace=True)\n",
    "\n",
    "# Réindexation pour une compatibilité ultérieure\n",
    "cnv_df.reset_index(inplace=True)"
   ]
  },
  {
   "cell_type": "markdown",
   "metadata": {},
   "source": [
    "# Pour les mutations pour chaque proteine sur chaque yeast"
   ]
  },
  {
   "cell_type": "code",
   "execution_count": null,
   "metadata": {},
   "outputs": [],
   "source": [
    "# Liste pour stocker les données de mutation\n",
    "mutations = []\n",
    "\n",
    "# Parcourir chaque fichier dans le dossier des protéines\n",
    "for filename in os.listdir(proteome_dir_path):\n",
    "    if filename.endswith(\".fasta\"):\n",
    "        filepath = os.path.join(proteome_dir_path, filename)\n",
    "        protein_id = filename.split(\".\")[0]  # Nom de la protéine\n",
    "        \n",
    "        # Lecture des séquences du fichier FASTA\n",
    "        sequences = {}\n",
    "        with open(filepath, \"r\") as file:\n",
    "            current_yeast = None\n",
    "            for line in file:\n",
    "                if line.startswith(\">\"):  # Identifiant de la levure\n",
    "                    header = line.strip().split()[0][1:]  # Retirer le \">\"\n",
    "                    # Extraire le nom de la levure avant le nom de la protéine\n",
    "                    current_yeast = header.split(f\"_{protein_id}\", 1)[0]\n",
    "                    \n",
    "                    sequences[current_yeast] = \"\"\n",
    "                else:\n",
    "                    sequences[current_yeast] += line.strip()\n",
    "        \n",
    "        # Transposer les séquences pour analyser position par position\n",
    "        yeast_ids = list(sequences.keys())\n",
    "        transposed_positions = zip(*sequences.values())  # Colonne par colonne\n",
    "        \n",
    "        # Identifier les mutations par rapport à l'acide aminé majoritaire\n",
    "        for idx, amino_acids in enumerate(transposed_positions, start=1):\n",
    "            aa_counts = Counter(amino_acids)\n",
    "            most_common_aa, _ = aa_counts.most_common(1)[0]  # Acide aminé majoritaire\n",
    "            \n",
    "            \n",
    "            for yeast_id, aa in zip(yeast_ids, amino_acids):\n",
    "                if aa != most_common_aa:  # Mutation détectée\n",
    "                    mutations.append({\n",
    "                        \"Protein_ID\": protein_id,\n",
    "                        \"Yeast_ID\": yeast_id,\n",
    "                        \"Position\": idx,\n",
    "                        \"Reference_AA\": most_common_aa,\n",
    "                        \"Mutated_AA\": aa\n",
    "                    })\n",
    "\n",
    "\n",
    "            \n",
    "\n",
    "# Convertir les mutations en DataFrame\n",
    "mutations_df = pd.DataFrame(mutations)"
   ]
  },
  {
   "cell_type": "code",
   "execution_count": null,
   "metadata": {},
   "outputs": [],
   "source": [
    "# 4. Sauvegarder les datasets dans des fichiers CSV\n",
    "phenotype_output_path = \"data/phenotype_dataset.csv\"\n",
    "cnv_output_path = \"data/copy_number_variation_dataset.csv\"\n",
    "mutations_output_path = \"data/mutations_proteins_dataset.csv\"\n",
    "\n",
    "phenotype_df.to_csv(phenotype_output_path, index=False)\n",
    "cnv_df.to_csv(cnv_output_path, index=False)\n",
    "mutations_df.to_csv(mutations_output_path, index=False)\n",
    "\n",
    "print(f\"Phenotype dataset saved to {phenotype_output_path}\")\n",
    "print(f\"Copy number variation dataset saved to {cnv_output_path}\")\n",
    "print(f\"Mutations dataset saved to {mutations_output_path}\")"
   ]
  },
  {
   "cell_type": "markdown",
   "metadata": {},
   "source": [
    "# Merge les copy number avec les mutations"
   ]
  },
  {
   "cell_type": "code",
   "execution_count": null,
   "metadata": {},
   "outputs": [
    {
     "name": "stdout",
     "output_type": "stream",
     "text": [
      "Merged dataset saved to data/merged_mutations_dataset.csv\n"
     ]
    }
   ],
   "source": [
    "'''\n",
    "mutations_proteins_path = \"data/mutations_proteins_dataset.csv\"\n",
    "copy_number_variation_path = \"data/copy_number_variation_dataset.csv\"\n",
    "\n",
    "mutations_df = pd.read_csv(mutations_proteins_path)\n",
    "cnv_df = pd.read_csv(copy_number_variation_path)\n",
    "\n",
    "# Extraire uniquement le nom de la protéine dans copy_number_variation_dataset\n",
    "def extract_protein_id(standard_name):\n",
    "    match = re.match(r\".+\\.(Y[A-Z0-9]+)(?:_.*)?\", standard_name)\n",
    "    return match.group(1) if match else None\n",
    "\n",
    "cnv_df['Protein_ID'] = cnv_df['Standard_name'].apply(extract_protein_id)\n",
    "cnv_df = cnv_df.drop(columns=['Standard_name'])\n",
    "\n",
    "# Réorganiser copy_number_variation_dataset pour un merge par Protein_ID et Yeast_ID\n",
    "cnv_melted = cnv_df.melt(id_vars=[\"Protein_ID\"], var_name=\"Yeast_ID\", value_name=\"Copy_Number\")\n",
    "\n",
    "# Effectuer un merge avec mutations_proteins_dataset\n",
    "merged_df = mutations_df.merge(\n",
    "    cnv_melted,\n",
    "    how=\"left\",\n",
    "    on=[\"Protein_ID\", \"Yeast_ID\"]\n",
    ")\n",
    "\n",
    "# Sauvegarder le résultat dans un fichier CSV\n",
    "output_path = \"data/merged_mutations_dataset.csv\"\n",
    "merged_df.to_csv(output_path, index=False)\n",
    "\n",
    "# Résultat\n",
    "print(f\"Merged dataset saved to {output_path}\")\n",
    "'''"
   ]
  },
  {
   "cell_type": "markdown",
   "metadata": {},
   "source": [
    "# Create the (extended) mutation matrix X"
   ]
  },
  {
   "cell_type": "code",
   "execution_count": null,
   "metadata": {},
   "outputs": [],
   "source": [
    "def create_mutation_matrix(df):\n",
    "    # Create mutation labels\n",
    "    df['Mutation_Label'] = df['Protein_ID'] + '_' + df['Position'].astype(str) + '_' + df['Reference_AA'] + '->' + df['Mutated_AA']\n",
    "    \n",
    "    # Drop duplicates to ensure each mutation appears only once\n",
    "    df = df.drop_duplicates(subset=['Yeast_ID', 'Mutation_Label'])\n",
    "    \n",
    "    # Pivot the data to create a matrix, use Yeast_ID as index and Mutation_Label as columns\n",
    "    mutation_matrix = df.pivot(index='Yeast_ID', \n",
    "                               columns='Mutation_Label', \n",
    "                               values='Mutation_Label')\n",
    "    \n",
    "    # Fill missing values with 0 and set the presence of mutation to 1\n",
    "    mutation_matrix = mutation_matrix.notnull().astype(int)\n",
    "    \n",
    "    # Reset index to include Yeast_ID as a column\n",
    "    mutation_matrix.reset_index(inplace=True)\n",
    "    \n",
    "    return mutation_matrix\n",
    "\n",
    "\n",
    "dtype_dict = {\n",
    "    'Yeast_ID': str,          # Yeast_ID might be a string\n",
    "    'Protein_ID': str,        # Protein_ID might be a string\n",
    "    'Position': str,          # Position might be a string\n",
    "    'Reference_AA': str,      # Reference_AA might be a string\n",
    "    'Mutated_AA': str,        # Mutated_AA might be a string\n",
    "}\n",
    "\n",
    "mutations_data = pd.read_csv(\"data/mutations_proteins_dataset.csv\", dtype=dtype_dict)\n",
    "\n",
    "'''\n",
    "mutations_data = pd.DataFrame({\n",
    "    'Yeast_ID': ['APR', 'APR', 'APL', 'APL', 'BAH', 'BAH'],\n",
    "    'Protein_ID': ['YIL109C', 'YKL096W-A', 'YIL109C', 'YKL096W-A', 'YDR343C', 'YDR343C'],\n",
    "    'Position': [10, 12, 5, 6, 20, 21],\n",
    "    'Reference_AA': ['A', 'T', 'G', 'C', 'A', 'T'],\n",
    "    'Mutated_AA': ['G', 'A', 'C', 'A', 'G', 'C'],\n",
    "})\n",
    "'''\n",
    "mutation_matrix = create_mutation_matrix(mutations_data)"
   ]
  },
  {
   "cell_type": "code",
   "execution_count": 9,
   "metadata": {},
   "outputs": [
    {
     "name": "stdout",
     "output_type": "stream",
     "text": [
      "Extend mutations dataset saved to extend_mutations_dataset.csv\n"
     ]
    }
   ],
   "source": [
    "extend_mutations_output_path = \"extend_mutations_dataset.csv\"\n",
    "mutation_matrix.to_csv(extend_mutations_output_path, index=False)\n",
    "print(f\"Extend mutations dataset saved to {extend_mutations_output_path}\")"
   ]
  },
  {
   "cell_type": "code",
   "execution_count": null,
   "metadata": {},
   "outputs": [],
   "source": [
    "cnv_data = pd.read_csv(\"data/copy_number_variation_dataset.csv\")\n",
    "mutation_matrix = pd.read_csv(\"data/extend_mutations_dataset.csv\")\n",
    "\n",
    "# Extraire uniquement le nom de la protéine dans copy_number_variation_dataset\n",
    "def extract_protein_id(standard_name):\n",
    "    match = re.match(r\".+\\.(Y[A-Z0-9]+)(?:_.*)?\", standard_name)\n",
    "    return match.group(1) if match else None\n",
    "\n",
    "cnv_data['Standard_name'] = cnv_data['Standard_name'].apply(extract_protein_id)\n",
    "\n",
    "# Step 1: Extract the protein names from the mutation_matrix columns\n",
    "protein_columns = [col.split('_')[0] for col in mutation_matrix.columns if col != 'Yeast_ID']\n",
    "unique_proteins = set(protein_columns)\n",
    "\n",
    "# Step 2: Filter the rows of 'data' to include only proteins in the mutation_matrix\n",
    "filtered_data = cnv_data[cnv_data['Standard_name'].isin(unique_proteins)]\n",
    "\n",
    "# Step 3: Identify missing proteins and calculate their median values for each yeast ID\n",
    "missing_proteins = unique_proteins - set(filtered_data['Standard_name'])\n",
    "median_values = filtered_data.set_index('Standard_name').median(axis=0)\n",
    "\n",
    "# Step 4: Add rows for missing proteins with median values\n",
    "for protein in missing_proteins:\n",
    "    new_row = pd.DataFrame({protein: median_values}).transpose().reset_index()\n",
    "    new_row.columns = ['Standard_name'] + list(median_values.index)\n",
    "    filtered_data = pd.concat([filtered_data, new_row], ignore_index=True)\n",
    "\n",
    "# Step 5: Transpose the filtered data\n",
    "filtered_data_transposed = filtered_data.set_index('Standard_name').transpose()\n",
    "\n",
    "# Step 6: Rename the first column to Yeast_ID\n",
    "filtered_data_transposed.rename(columns={'index': 'Yeast_ID'}, inplace=True)\n",
    "\n",
    "# Step 7: Reset the index in the mutation_matrix\n",
    "mutation_matrix = mutation_matrix.reset_index(drop=True)\n",
    "\n",
    "# Step 8: Merge the mutation_matrix with the transposed filtered data on Yeast_ID\n",
    "X_matrix = pd.merge(\n",
    "    mutation_matrix, \n",
    "    filtered_data_transposed, \n",
    "    left_on='Yeast_ID', \n",
    "    right_index=True\n",
    ")"
   ]
  },
  {
   "cell_type": "code",
   "execution_count": null,
   "metadata": {},
   "outputs": [],
   "source": [
    "X_matrix_output_path = \"data/X_matrix.csv\"\n",
    "X_matrix.to_csv(X_matrix_output_path, index=False)\n",
    "print(f\"Combined_matrix X saved to {X_matrix_output_path}\")"
   ]
  },
  {
   "cell_type": "markdown",
   "metadata": {},
   "source": [
    "# Create the phenotype matrix "
   ]
  },
  {
   "cell_type": "code",
   "execution_count": null,
   "metadata": {},
   "outputs": [],
   "source": [
    "phenotype_data = pd.read_csv(\"data/phenotype_dataset.csv\")\n",
    "phenotype_data = phenotype_data.rename(columns={'Standard_name': 'Yeast_ID'})\n",
    "columns_of_interest = ['Yeast_ID', 'YPD_doublingtime']\n",
    "filtered_phenotype = phenotype_data[columns_of_interest]\n",
    "ordered_phenotype = filtered_phenotype.set_index('Yeast_ID').reindex(X_matrix['Yeast_ID']).reset_index()\n",
    "\n",
    "# If you want the final y, you have to only take the column[1] YPD_doublingtime of ordered_phenotype"
   ]
  },
  {
   "cell_type": "code",
   "execution_count": null,
   "metadata": {},
   "outputs": [],
   "source": [
    "ordered_phenotype_output_path = \"data/ordered_phenotype_dataset.csv\"\n",
    "ordered_phenotype.to_csv(ordered_phenotype_output_path, index=False)\n",
    "print(f\"Ordered phenotype saved to {ordered_phenotype_output_path}\")"
   ]
  }
 ],
 "metadata": {
  "kernelspec": {
   "display_name": "ml",
   "language": "python",
   "name": "python3"
  },
  "language_info": {
   "codemirror_mode": {
    "name": "ipython",
    "version": 3
   },
   "file_extension": ".py",
   "mimetype": "text/x-python",
   "name": "python",
   "nbconvert_exporter": "python",
   "pygments_lexer": "ipython3",
   "version": "3.12.4"
  }
 },
 "nbformat": 4,
 "nbformat_minor": 2
}
